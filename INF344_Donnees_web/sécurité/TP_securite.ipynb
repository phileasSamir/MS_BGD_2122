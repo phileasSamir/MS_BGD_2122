{
 "cells": [
  {
   "cell_type": "code",
   "execution_count": 2,
   "metadata": {},
   "outputs": [
    {
     "data": {
      "text/plain": [
       "'0123456789'"
      ]
     },
     "execution_count": 2,
     "metadata": {},
     "output_type": "execute_result"
    }
   ],
   "source": [
    "import string\n",
    "\n",
    "itertools.product(string.digits)"
   ]
  },
  {
   "cell_type": "code",
   "execution_count": 6,
   "metadata": {},
   "outputs": [
    {
     "data": {
      "text/plain": [
       "[('0', '0', '0'),\n",
       " ('0', '0', '1'),\n",
       " ('0', '1', '0'),\n",
       " ('0', '1', '1'),\n",
       " ('1', '0', '0'),\n",
       " ('1', '0', '1'),\n",
       " ('1', '1', '0'),\n",
       " ('1', '1', '1')]"
      ]
     },
     "execution_count": 6,
     "metadata": {},
     "output_type": "execute_result"
    }
   ],
   "source": [
    "import itertools\n",
    "\n",
    "list(itertools.product([\"0\",\"1\"],repeat=3))"
   ]
  },
  {
   "cell_type": "code",
   "execution_count": 42,
   "metadata": {},
   "outputs": [
    {
     "name": "stdout",
     "output_type": "stream",
     "text": [
      "t-he\n",
      "th-e\n",
      "th-e\n",
      "t-h-e\n"
     ]
    }
   ],
   "source": [
    "def dictionary_words_hyphen():\n",
    "    # Use the 10k most common English words (lowercase) with up to 3 randomly added hyphens inside the word, as in h-e-ll-o\n",
    "    # Passwords CANNOT begin or end with '-', and there CANNOT be two '-' in a row\n",
    "    # [10k most common English words]\n",
    "    # [3 passwords / 1 point]\n",
    "    for pw in open(\"google-10000-english.txt\",\"r\").read().split(\"\\n\"):\n",
    "        #self.check_password(pw)\n",
    "        for idx in range(1,len(pw)):\n",
    "            #self.check_password(pw[:idx]+\"-\"+pw[idx:])\n",
    "            print(pw[:idx]+\"-\"+pw[idx:])\n",
    "        \n",
    "        for idx in itertools.combinations(list(range(len(pw)-1, 0,-1)),2):\n",
    "            pwc = pw\n",
    "            for i in idx:\n",
    "                pwc = pwc[:i] +\"-\"+ pwc[i:] \n",
    "                print(pwc)\n",
    "\n",
    "        for idx in itertools.combinations(list(range(len(pw)-1, 0,-1)),3):\n",
    "            pwc = pw\n",
    "            for i in idx:\n",
    "                pwc = pwc[:i] +\"-\"+ pwc[i:] \n",
    "                print(pwc)\n",
    "        break\n",
    "    \n",
    "dictionary_words_hyphen()"
   ]
  },
  {
   "cell_type": "code",
   "execution_count": 23,
   "metadata": {},
   "outputs": [
    {
     "data": {
      "text/plain": [
       "[-1, -2]"
      ]
     },
     "execution_count": 23,
     "metadata": {},
     "output_type": "execute_result"
    }
   ],
   "source": [
    "list(range(-1,-len(\"idx\"),-1))"
   ]
  },
  {
   "cell_type": "code",
   "execution_count": 28,
   "metadata": {},
   "outputs": [
    {
     "data": {
      "text/plain": [
       "'id-x'"
      ]
     },
     "execution_count": 28,
     "metadata": {},
     "output_type": "execute_result"
    }
   ],
   "source": [
    "\"idx\"[:-1] + \"-\"+ \"idx\"[-1:]"
   ]
  },
  {
   "cell_type": "code",
   "execution_count": 37,
   "metadata": {},
   "outputs": [
    {
     "name": "stdout",
     "output_type": "stream",
     "text": [
      "th-e\n",
      "t-h-e\n"
     ]
    }
   ],
   "source": [
    "pw = \"the\"\n",
    "\n",
    "for idx in itertools.combinations(list(range(len(pw)-1, 0,-1)),2):\n",
    "    pwc = pw\n",
    "    for i in idx:\n",
    "        pwc = pwc[:i] +\"-\"+ pwc[i:] \n",
    "        print(pwc)"
   ]
  },
  {
   "cell_type": "code",
   "execution_count": null,
   "metadata": {},
   "outputs": [],
   "source": []
  }
 ],
 "metadata": {
  "interpreter": {
   "hash": "916dbcbb3f70747c44a77c7bcd40155683ae19c65e1c03b4aa3499c5328201f1"
  },
  "kernelspec": {
   "display_name": "Python 3.8.10 64-bit",
   "language": "python",
   "name": "python3"
  },
  "language_info": {
   "codemirror_mode": {
    "name": "ipython",
    "version": 3
   },
   "file_extension": ".py",
   "mimetype": "text/x-python",
   "name": "python",
   "nbconvert_exporter": "python",
   "pygments_lexer": "ipython3",
   "version": "3.8.10"
  },
  "orig_nbformat": 4
 },
 "nbformat": 4,
 "nbformat_minor": 2
}
