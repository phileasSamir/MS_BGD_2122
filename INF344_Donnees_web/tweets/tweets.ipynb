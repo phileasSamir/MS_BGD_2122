{
 "cells": [
  {
   "cell_type": "code",
   "execution_count": 146,
   "metadata": {},
   "outputs": [
    {
     "data": {
      "text/html": [
       "<div>\n",
       "<style scoped>\n",
       "    .dataframe tbody tr th:only-of-type {\n",
       "        vertical-align: middle;\n",
       "    }\n",
       "\n",
       "    .dataframe tbody tr th {\n",
       "        vertical-align: top;\n",
       "    }\n",
       "\n",
       "    .dataframe thead th {\n",
       "        text-align: right;\n",
       "    }\n",
       "</style>\n",
       "<table border=\"1\" class=\"dataframe\">\n",
       "  <thead>\n",
       "    <tr style=\"text-align: right;\">\n",
       "      <th></th>\n",
       "      <th>polarity</th>\n",
       "      <th>id</th>\n",
       "      <th>date</th>\n",
       "      <th>request</th>\n",
       "      <th>user</th>\n",
       "      <th>text</th>\n",
       "    </tr>\n",
       "  </thead>\n",
       "  <tbody>\n",
       "    <tr>\n",
       "      <th>0</th>\n",
       "      <td>4</td>\n",
       "      <td>3</td>\n",
       "      <td>Mon May 11 03:17:40 UTC 2009</td>\n",
       "      <td>kindle2</td>\n",
       "      <td>tpryan</td>\n",
       "      <td>@stellargirl I loooooooovvvvvveee my Kindle2. ...</td>\n",
       "    </tr>\n",
       "    <tr>\n",
       "      <th>1</th>\n",
       "      <td>4</td>\n",
       "      <td>4</td>\n",
       "      <td>Mon May 11 03:18:03 UTC 2009</td>\n",
       "      <td>kindle2</td>\n",
       "      <td>vcu451</td>\n",
       "      <td>Reading my kindle2...  Love it... Lee childs i...</td>\n",
       "    </tr>\n",
       "    <tr>\n",
       "      <th>2</th>\n",
       "      <td>4</td>\n",
       "      <td>5</td>\n",
       "      <td>Mon May 11 03:18:54 UTC 2009</td>\n",
       "      <td>kindle2</td>\n",
       "      <td>chadfu</td>\n",
       "      <td>Ok, first assesment of the #kindle2 ...it fuck...</td>\n",
       "    </tr>\n",
       "    <tr>\n",
       "      <th>3</th>\n",
       "      <td>4</td>\n",
       "      <td>6</td>\n",
       "      <td>Mon May 11 03:19:04 UTC 2009</td>\n",
       "      <td>kindle2</td>\n",
       "      <td>SIX15</td>\n",
       "      <td>@kenburbary You'll love your Kindle2. I've had...</td>\n",
       "    </tr>\n",
       "    <tr>\n",
       "      <th>4</th>\n",
       "      <td>4</td>\n",
       "      <td>7</td>\n",
       "      <td>Mon May 11 03:21:41 UTC 2009</td>\n",
       "      <td>kindle2</td>\n",
       "      <td>yamarama</td>\n",
       "      <td>@mikefish  Fair enough. But i have the Kindle2...</td>\n",
       "    </tr>\n",
       "  </tbody>\n",
       "</table>\n",
       "</div>"
      ],
      "text/plain": [
       "   polarity  id                          date  request      user  \\\n",
       "0         4   3  Mon May 11 03:17:40 UTC 2009  kindle2    tpryan   \n",
       "1         4   4  Mon May 11 03:18:03 UTC 2009  kindle2    vcu451   \n",
       "2         4   5  Mon May 11 03:18:54 UTC 2009  kindle2    chadfu   \n",
       "3         4   6  Mon May 11 03:19:04 UTC 2009  kindle2     SIX15   \n",
       "4         4   7  Mon May 11 03:21:41 UTC 2009  kindle2  yamarama   \n",
       "\n",
       "                                                text  \n",
       "0  @stellargirl I loooooooovvvvvveee my Kindle2. ...  \n",
       "1  Reading my kindle2...  Love it... Lee childs i...  \n",
       "2  Ok, first assesment of the #kindle2 ...it fuck...  \n",
       "3  @kenburbary You'll love your Kindle2. I've had...  \n",
       "4  @mikefish  Fair enough. But i have the Kindle2...  "
      ]
     },
     "execution_count": 146,
     "metadata": {},
     "output_type": "execute_result"
    }
   ],
   "source": [
    "import pandas as pd\n",
    "\n",
    "df = pd.read_csv(\"data/testdata.manual.2009.06.14.csv\", header=None)\n",
    "df.columns = [\"polarity\",\"id\",\"date\",\"request\",\"user\",\"text\"]\n",
    "df.head()"
   ]
  },
  {
   "cell_type": "code",
   "execution_count": 147,
   "metadata": {},
   "outputs": [
    {
     "name": "stdout",
     "output_type": "stream",
     "text": [
      "52\n"
     ]
    }
   ],
   "source": [
    "from nltk.tokenize import TweetTokenizer\n",
    "import re\n",
    "\n",
    "tk = TweetTokenizer()\n",
    "slang_dict = {x.split(\"\\t\")[0]:x.split(\"\\t\")[1] for x in open(\"data/SlangLookupTable.txt\",\"r\",encoding='windows-1252').read().split(\"\\n\") if x}\n",
    "hashtag_cnt = 0\n",
    "\n",
    "def pre_traitement(tweet):\n",
    "    # Segmenter\n",
    "    # tweet = tweet.lower().split()\n",
    "    tweet = tk.tokenize(tweet)\n",
    "    global hashtag_cnt\n",
    "    hashtag_cnt += sum([1 for x in tweet if x.startswith(\"#\")])\n",
    "    # Supprimer urls\n",
    "    tweet = [re.sub(r'http\\S+', '', x) for x in tweet]\n",
    "    # Nettoyer caractères inhérents\n",
    "    tweet = [x.strip(\"#@\") for x in tweet] # Nettoyer emojis ?\n",
    "    # Corriger slang\n",
    "    tweet = [slang_dict.get(x, x) for x in tweet]\n",
    "    return tweet\n",
    "\n",
    "df[\"pre_traite\"] = df[\"text\"].apply(pre_traitement)\n",
    "print(hashtag_cnt)"
   ]
  },
  {
   "cell_type": "code",
   "execution_count": 148,
   "metadata": {},
   "outputs": [
    {
     "name": "stdout",
     "output_type": "stream",
     "text": [
      "1107\n"
     ]
    }
   ],
   "source": [
    "import nltk\n",
    "from nltk.tag import map_tag\n",
    "\n",
    "verb_cnt = 0\n",
    "\n",
    "def postag(tweet):\n",
    "    global verb_cnt\n",
    "    tweet_pos = nltk.pos_tag(tweet)\n",
    "    tags = [(x, map_tag(\"en-ptb\", \"universal\", tag)) for x, tag in tweet_pos]\n",
    "    verb_cnt += sum([1 for _, tag in tags if tag==\"VERB\"])\n",
    "    return tags\n",
    "\n",
    "df[\"pos_tags\"] = df[\"pre_traite\"].apply(postag)\n",
    "print(verb_cnt)"
   ]
  },
  {
   "cell_type": "code",
   "execution_count": 149,
   "metadata": {},
   "outputs": [
    {
     "data": {
      "text/plain": [
       "0        (1.0, 0.125, 4)\n",
       "1          (1.0, 0.0, 4)\n",
       "2          (0.0, 0.0, 2)\n",
       "3      (1.125, 0.875, 4)\n",
       "4        (0.375, 0.0, 4)\n",
       "             ...        \n",
       "493        (0.0, 0.0, 2)\n",
       "494        (0.0, 3.5, 0)\n",
       "495        (0.0, 0.0, 2)\n",
       "496        (0.0, 0.0, 2)\n",
       "497      (0.25, 1.25, 0)\n",
       "Name: sentiwordnet, Length: 498, dtype: object"
      ]
     },
     "execution_count": 149,
     "metadata": {},
     "output_type": "execute_result"
    }
   ],
   "source": [
    "from nltk.corpus import wordnet as wn\n",
    "from nltk.corpus.reader import sentiwordnet as swn\n",
    "\n",
    "swn_dict = swn.SentiWordNetCorpusReader('', ['data/SentiWordNet_3.0.0_20130122.txt'])\n",
    "\n",
    "def sent_from_tweet(tweet):\n",
    "    posdict = {\"ADJ\":\"a\", \"VERB\":\"v\", \"NOUN\":\"n\", \"ADV\":\"r\"}\n",
    "    tweet_filter = [(x, posdict[tag]) for x, tag in tweet if tag in [\"ADJ\",\"VERB\",\"NOUN\",\"ADV\"]]\n",
    "    pos = 0\n",
    "    neg = 0\n",
    "    for x, tag in tweet_filter:\n",
    "        syns = wn.synsets(x, tag)\n",
    "        for syn in syns:\n",
    "            if syn.name().split(\".\")[0]==x:\n",
    "                pos += swn_dict.senti_synset(syn.name()).pos_score()\n",
    "                neg += swn_dict.senti_synset(syn.name()).neg_score()\n",
    "                break\n",
    "    if pos-neg<0:\n",
    "        sentiment = 0\n",
    "    elif pos-neg>0:\n",
    "        sentiment = 4\n",
    "    else:\n",
    "        sentiment = 2\n",
    "    return (pos,neg,sentiment)\n",
    "\n",
    "df[\"sentiwordnet\"] = df[\"pos_tags\"].apply(sent_from_tweet)\n",
    "df[\"sentiwordnet\"]"
   ]
  },
  {
   "cell_type": "code",
   "execution_count": 150,
   "metadata": {},
   "outputs": [
    {
     "name": "stdout",
     "output_type": "stream",
     "text": [
      "Accuracy: 0.5381526104417671\n",
      "F1: 0.5356474443273425\n"
     ]
    },
    {
     "data": {
      "image/png": "[encoded data removed]",
      "text/plain": [
       "<Figure size 576x432 with 2 Axes>"
      ]
     },
     "metadata": {
      "needs_background": "light"
     },
     "output_type": "display_data"
    }
   ],
   "source": [
    "from sklearn.metrics import confusion_matrix, accuracy_score, f1_score\n",
    "import matplotlib.pyplot as plt\n",
    "import seaborn as sns\n",
    "\n",
    "\n",
    "df[\"sentiwordnet_preds\"] = df[\"sentiwordnet\"].apply(lambda x: x[2])\n",
    "\n",
    "print(\"Accuracy:\",accuracy_score(df[\"polarity\"], df[\"sentiwordnet_preds\"]))\n",
    "print(\"F1:\", f1_score(df[\"polarity\"], df[\"sentiwordnet_preds\"], average=\"macro\"))\n",
    "\n",
    "classes = [\"Negative\",\"Neutral\",\"Positive\"]\n",
    "\n",
    "cm = confusion_matrix(df[\"polarity\"], df[\"sentiwordnet_preds\"])\n",
    "plt.figure(figsize=(8,6))\n",
    "sns.heatmap(cm, annot=True, fmt=\"d\", xticklabels=classes, yticklabels=classes)\n",
    "plt.show()"
   ]
  },
  {
   "cell_type": "code",
   "execution_count": 151,
   "metadata": {},
   "outputs": [
    {
     "name": "stdout",
     "output_type": "stream",
     "text": [
      "165\n"
     ]
    }
   ],
   "source": [
    "modifiers = [x.split(\"\\t\")[0] for x in open(\"data/BoosterWordList.txt\",\"r\").read().split(\"\\n\") if x]\n",
    "negating = [x.split(\"\\t\")[0] for x in open(\"data/NegatingWordList.txt\",\"r\").read().split(\"\\n\") if x]\n",
    "\n",
    "neg_in_pos_cnt = 0\n",
    "\n",
    "def sent_from_tweet2(tweet):\n",
    "    global neg_in_pos_cnt\n",
    "    posdict = {\"ADJ\":\"a\", \"VERB\":\"v\", \"NOUN\":\"n\", \"ADV\":\"r\"}\n",
    "    tweet_filter = [(x, posdict[tag]) for x, tag in tweet if tag in [\"ADJ\",\"VERB\",\"NOUN\",\"ADV\"]]\n",
    "    pos = 0\n",
    "    neg = 0\n",
    "    curr_cnt = 0\n",
    "    for i, (x, tag) in enumerate(tweet_filter):\n",
    "        syns = wn.synsets(x, tag)\n",
    "        for syn in syns:\n",
    "            if syn.name().split(\".\")[0]==x:\n",
    "                if i-1 > 0:\n",
    "                    if tweet_filter[i-1][0] in negating:\n",
    "                        neg += swn_dict.senti_synset(syn.name()).pos_score()\n",
    "                        pos += swn_dict.senti_synset(syn.name()).neg_score()\n",
    "                    elif tweet_filter[i-1][0] in modifiers:\n",
    "                        pos += 2*swn_dict.senti_synset(syn.name()).pos_score()\n",
    "                        neg += 2*swn_dict.senti_synset(syn.name()).neg_score()\n",
    "                    else:\n",
    "                        pos += swn_dict.senti_synset(syn.name()).pos_score()\n",
    "                        neg += swn_dict.senti_synset(syn.name()).neg_score()\n",
    "                else:\n",
    "                    pos += swn_dict.senti_synset(syn.name()).pos_score()\n",
    "                    neg += swn_dict.senti_synset(syn.name()).neg_score()\n",
    "                if swn_dict.senti_synset(syn.name()).neg_score() != 0:\n",
    "                    curr_cnt += 1\n",
    "                break\n",
    "    if pos-neg<0:\n",
    "        sentiment = 0\n",
    "        neg_in_pos_cnt += curr_cnt\n",
    "    elif pos-neg>0:\n",
    "        sentiment = 4\n",
    "    else:\n",
    "        sentiment = 2\n",
    "    return (pos,neg,sentiment)\n",
    "\n",
    "df[\"sentiwordnet2\"] = df[\"pos_tags\"].apply(sent_from_tweet2)\n",
    "print(neg_in_pos_cnt)"
   ]
  },
  {
   "cell_type": "code",
   "execution_count": 152,
   "metadata": {},
   "outputs": [
    {
     "name": "stdout",
     "output_type": "stream",
     "text": [
      "Accuracy: 0.536144578313253\n",
      "F1: 0.53387961729161\n"
     ]
    },
    {
     "data": {
      "image/png": "[encoded data removed]",
      "text/plain": [
       "<Figure size 576x432 with 2 Axes>"
      ]
     },
     "metadata": {
      "needs_background": "light"
     },
     "output_type": "display_data"
    }
   ],
   "source": [
    "df[\"sentiwordnet2_preds\"] = df[\"sentiwordnet2\"].apply(lambda x: x[2])\n",
    "\n",
    "classes = [\"Negative\",\"Neutral\",\"Positive\"]\n",
    "\n",
    "print(\"Accuracy:\",accuracy_score(df[\"polarity\"], df[\"sentiwordnet2_preds\"]))\n",
    "print(\"F1:\", f1_score(df[\"polarity\"], df[\"sentiwordnet2_preds\"], average=\"macro\"))\n",
    "\n",
    "cm = confusion_matrix(df[\"polarity\"], df[\"sentiwordnet2_preds\"])\n",
    "plt.figure(figsize=(8,6))\n",
    "sns.heatmap(cm, annot=True, fmt=\"d\", xticklabels=classes, yticklabels=classes)\n",
    "plt.show()"
   ]
  },
  {
   "cell_type": "code",
   "execution_count": 153,
   "metadata": {},
   "outputs": [
    {
     "name": "stdout",
     "output_type": "stream",
     "text": [
      "56\n"
     ]
    }
   ],
   "source": [
    "emotes = {x.split(\"\\t\")[0]:x.split(\"\\t\")[1] for x in open(\"data/EmoticonLookupTable.txt\",\"r\").read().split(\"\\n\") if x}\n",
    "\n",
    "emote_cnt = 0\n",
    "\n",
    "def sent_from_tweet3(tweet):\n",
    "    global emote_cnt\n",
    "    posdict = {\"ADJ\":\"a\", \"VERB\":\"v\", \"NOUN\":\"n\", \"ADV\":\"r\"}\n",
    "    tweet_filter = [(x, posdict[tag]) for x, tag in tweet if tag in [\"ADJ\",\"VERB\",\"NOUN\",\"ADV\"]]\n",
    "    pos = 0\n",
    "    neg = 0\n",
    "    for i, (x, tag) in enumerate(tweet_filter):\n",
    "        syns = wn.synsets(x, tag)\n",
    "        for syn in syns:\n",
    "            if syn.name().split(\".\")[0]==x:\n",
    "                if i-1 > 0:\n",
    "                    if tweet_filter[i-1][0] in negating:\n",
    "                        neg += swn_dict.senti_synset(syn.name()).pos_score()\n",
    "                        pos += swn_dict.senti_synset(syn.name()).neg_score()\n",
    "                    elif tweet_filter[i-1][0] in modifiers:\n",
    "                        pos += 2*swn_dict.senti_synset(syn.name()).pos_score()\n",
    "                        neg += 2*swn_dict.senti_synset(syn.name()).neg_score()\n",
    "                    else:\n",
    "                        pos += swn_dict.senti_synset(syn.name()).pos_score()\n",
    "                        neg += swn_dict.senti_synset(syn.name()).neg_score()\n",
    "                else:\n",
    "                    pos += swn_dict.senti_synset(syn.name()).pos_score()\n",
    "                    neg += swn_dict.senti_synset(syn.name()).neg_score()\n",
    "                break\n",
    "        if emotes.get(x, None):\n",
    "            emote_cnt += 1\n",
    "            if emotes.get(x) == \"1\":\n",
    "                pos += 1\n",
    "            else:\n",
    "                neg += 1\n",
    "    if pos-neg<0:\n",
    "        sentiment = 0\n",
    "    elif pos-neg>0:\n",
    "        sentiment = 4\n",
    "    else:\n",
    "        sentiment = 2\n",
    "    return (pos,neg,sentiment)\n",
    "\n",
    "df[\"sentiwordnet3\"] = df[\"pos_tags\"].apply(sent_from_tweet3)\n",
    "print(emote_cnt)"
   ]
  },
  {
   "cell_type": "code",
   "execution_count": 154,
   "metadata": {},
   "outputs": [
    {
     "name": "stdout",
     "output_type": "stream",
     "text": [
      "Accuracy: 0.570281124497992\n",
      "F1: 0.5678478842397227\n"
     ]
    },
    {
     "data": {
      "image/png": "[encoded data removed]",
      "text/plain": [
       "<Figure size 576x432 with 2 Axes>"
      ]
     },
     "metadata": {
      "needs_background": "light"
     },
     "output_type": "display_data"
    }
   ],
   "source": [
    "df[\"sentiwordnet3_preds\"] = df[\"sentiwordnet3\"].apply(lambda x: x[2])\n",
    "\n",
    "print(\"Accuracy:\",accuracy_score(df[\"polarity\"], df[\"sentiwordnet3_preds\"]))\n",
    "print(\"F1:\", f1_score(df[\"polarity\"], df[\"sentiwordnet3_preds\"], average=\"macro\"))\n",
    "\n",
    "classes = [\"Negative\",\"Neutral\",\"Positive\"]\n",
    "\n",
    "cm = confusion_matrix(df[\"polarity\"], df[\"sentiwordnet3_preds\"])\n",
    "plt.figure(figsize=(8,6))\n",
    "sns.heatmap(cm, annot=True, fmt=\"d\", xticklabels=classes, yticklabels=classes)\n",
    "plt.show()"
   ]
  },
  {
   "cell_type": "code",
   "execution_count": 155,
   "metadata": {},
   "outputs": [],
   "source": [
    "from nltk.sentiment.vader import SentimentIntensityAnalyzer\n",
    "\n",
    "sia = SentimentIntensityAnalyzer()\n",
    "def vader_pred(x):\n",
    "    polarity_dict = sia.polarity_scores(x)\n",
    "    if polarity_dict[\"pos\"]>polarity_dict[\"neg\"]:\n",
    "        return 4\n",
    "    elif polarity_dict[\"neg\"]>polarity_dict[\"pos\"]:\n",
    "        return 0\n",
    "    else:\n",
    "        return 2\n",
    "\n",
    "df[\"vader_pred\"] = df[\"text\"].apply(vader_pred)"
   ]
  },
  {
   "cell_type": "code",
   "execution_count": 156,
   "metadata": {},
   "outputs": [
    {
     "name": "stdout",
     "output_type": "stream",
     "text": [
      "Accuracy: 0.714859437751004\n",
      "F1: 0.712411754647385\n"
     ]
    },
    {
     "data": {
      "image/png": "[encoded data removed]",
      "text/plain": [
       "<Figure size 576x432 with 2 Axes>"
      ]
     },
     "metadata": {
      "needs_background": "light"
     },
     "output_type": "display_data"
    }
   ],
   "source": [
    "print(\"Accuracy:\",accuracy_score(df[\"polarity\"], df[\"vader_pred\"]))\n",
    "print(\"F1:\", f1_score(df[\"polarity\"], df[\"vader_pred\"], average=\"macro\"))\n",
    "\n",
    "cm = confusion_matrix(df[\"polarity\"], df[\"vader_pred\"])\n",
    "plt.figure(figsize=(8,6))\n",
    "sns.heatmap(cm, annot=True, fmt=\"d\", xticklabels=classes, yticklabels=classes)\n",
    "plt.show()"
   ]
  },
  {
   "cell_type": "code",
   "execution_count": null,
   "metadata": {},
   "outputs": [],
   "source": []
  }
 ],
 "metadata": {
  "interpreter": {
   "hash": "31f2aee4e71d21fbe5cf8b01ff0e069b9275f58929596ceb00d14d90e3e16cd6"
  },
  "kernelspec": {
   "display_name": "Python 3.8.10 64-bit",
   "language": "python",
   "name": "python3"
  },
  "language_info": {
   "codemirror_mode": {
    "name": "ipython",
    "version": 3
   },
   "file_extension": ".py",
   "mimetype": "text/x-python",
   "name": "python",
   "nbconvert_exporter": "python",
   "pygments_lexer": "ipython3",
   "version": "3.8.10"
  },
  "orig_nbformat": 4
 },
 "nbformat": 4,
 "nbformat_minor": 2
}
