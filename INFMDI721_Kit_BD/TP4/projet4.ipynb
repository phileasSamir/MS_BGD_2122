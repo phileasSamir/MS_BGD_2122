{
 "cells": [
  {
   "cell_type": "markdown",
   "metadata": {},
   "source": [
    "# Projet 4"
   ]
  },
  {
   "cell_type": "code",
   "execution_count": 8,
   "metadata": {},
   "outputs": [],
   "source": [
    "import requests\n",
    "from bs4 import BeautifulSoup"
   ]
  },
  {
   "cell_type": "markdown",
   "metadata": {},
   "source": [
    "Ecrire une fonction `get_prices_from_url()` qui extrait des informations à partir des 2 pages ci-dessous.\n",
    "\n",
    "Exemple `URL_PAGE2` doit retourner :\n",
    "\n",
    "<pre>{'Personal': {'price': '$5', 'storage': '1GB', 'databases': 1},\n",
    "  'Small Business': {'price': '$25', 'storage': '10GB', 'databases': 5},\n",
    "  'Enterprise': {'price': '$45', 'storage': '100GB', 'databases': 25}}\n",
    "</pre>"
   ]
  },
  {
   "cell_type": "code",
   "execution_count": 9,
   "metadata": {},
   "outputs": [
    {
     "name": "stdout",
     "output_type": "stream",
     "text": [
      "{'Personal': {'databases': 1, 'price': '$5', 'storage': '1GB'}, 'Small Business': {'databases': 5, 'price': '$25', 'storage': '10GB'}, 'Enterprise': {'databases': 25, 'price': '$45', 'storage': '100GB'}}\n",
      "{'Personal': {'databases': 1, 'price': '$5', 'storage': '1GB'}, 'Small Business': {'databases': 5, 'price': '$25', 'storage': '10GB'}, 'Enterprise': {'databases': 25, 'price': '$45', 'storage': '100GB'}, 'Privilege': {'databases': 100, 'price': '$99', 'storage': '1TB'}}\n"
     ]
    }
   ],
   "source": [
    "URL_PAGE2 = \"https://kim.fspot.org/cours/page2.html\"\n",
    "URL_PAGE3 = \"https://kim.fspot.org/cours/page3.html\"\n",
    "\n",
    "def get_prices_from_url(url):\n",
    "    soup = BeautifulSoup(requests.get(url).content.decode(\"utf-8\"))\n",
    "    prices = {h2.text: {'databases':int(h2.find_next(\"ul\").find_all(\"li\")[4].text.split()[0]),\n",
    "                        'price':h2.find_next().text.split()[0],\n",
    "                        'storage':h2.find_next(\"ul\").find_all(\"li\")[3].text.split()[0],\n",
    "                        } \n",
    "                        for h2 in soup.find_all(\"h2\")}\n",
    "    return prices\n",
    "\n",
    "print(get_prices_from_url(URL_PAGE2))\n",
    "print(get_prices_from_url(URL_PAGE3))"
   ]
  },
  {
   "cell_type": "markdown",
   "metadata": {},
   "source": [
    "Ecrire une fonction qui extrait des informations sur une bière de beowulf.\n",
    "\n",
    "Exemple d'URL: https://www.beerwulf.com/fr-fr/p/bieres/melusine-bio.33 \n",
    "\n",
    "La fonction doit retourner :\n",
    "<pre>\n",
    "{'name': 'Mélusine Bio', 'note': 70, 'price': 38.99, 'volume': 33}\n",
    "</pre>"
   ]
  },
  {
   "cell_type": "code",
   "execution_count": 10,
   "metadata": {},
   "outputs": [
    {
     "data": {
      "text/plain": [
       "{'name': 'Mélusine Bio', 'note': 70, 'price': 38.99, 'volume': 33}"
      ]
     },
     "execution_count": 10,
     "metadata": {},
     "output_type": "execute_result"
    }
   ],
   "source": [
    "url = \"https://www.beerwulf.com/fr-fr/p/bieres/melusine-bio.33\"\n",
    "\n",
    "def extract_beer_infos(url):\n",
    "    soup = BeautifulSoup(requests.get(url).content.decode(\"utf-8\"))\n",
    "    infos = {\n",
    "        'name': soup.find(\"h1\").text,\n",
    "        'note': int(soup.find(\"div\", {\"class\":\"stars\"}).attrs[\"data-percent\"]),\n",
    "        'price': float(soup.find(\"span\", {\"class\":\"price\"}).text.split()[0].replace(\",\",\".\")),\n",
    "        'volume': int(soup.find(\"dd\", {\"class\":\"small-6 medium-9 columns js-beer-volume\"}).attrs[\"data-volume\"].split()[0])\n",
    "    }\n",
    "    return infos\n",
    "\n",
    "extract_beer_infos(url)"
   ]
  },
  {
   "cell_type": "markdown",
   "metadata": {},
   "source": [
    "Cette URL retourne un JSON avec une liste de bières :"
   ]
  },
  {
   "cell_type": "code",
   "execution_count": 11,
   "metadata": {},
   "outputs": [],
   "source": [
    "URL_BEERLIST_FRANCE = \"https://www.beerwulf.com/fr-FR/api/search/searchProducts?country=France&container=Bouteille\"\n",
    "\n",
    "#open(\"beerlist.json\",\"w\").write(requests.get(URL_BEERLIST_FRANCE).content.decode(\"utf-8\"))"
   ]
  },
  {
   "cell_type": "markdown",
   "metadata": {},
   "source": [
    "Ecrire une fonction qui prend l'argument cet URL retourne les informations sur une liste de bière via l'API de beowulf.\n",
    "\n",
    "Cette fonction doit retourner la liste des informations obtenues par la fonction `extract_beer_infos()` définie ci-dessus.\n",
    "\n",
    "Chercher comment optimiser cette fonction en utilisant multiprocessing.Pool pour paralléliser les accès web.\n",
    "\n",
    "Exemple de retour :\n",
    "\n",
    "<pre>[{'name': 'Gallia East IPA', 'note': 80, 'price': 42.99, 'volume': 33},\n",
    "    {'name': 'La Lager Sans Gluten de Vézelay', 'note': 60, 'price': 38.99, 'volume': 25},\n",
    "    {'name': 'Brasserie De Sutter Brin de Folie', 'note': 70, 'price': 44.99, 'volume': 33},\n",
    "    {'name': 'La Cristal IPA du Mont Blanc', 'note': 70, 'price': 44.99, 'volume': 33},\n",
    "    {'name': 'Mélusine Bio', 'note': 70, 'price': 38.99, 'volume': 33},\n",
    "    {'name': 'La Parisienne Le Titi Parisien', 'note': 70, 'price': 38.99, 'volume': 33},\n",
    "    {'name': 'Gallia Session IPA', 'note': 70, 'price': 42.99, 'volume': 33},\n",
    "    {'name': 'Ninkasi Brut IPA', 'note': 70, 'price': 44.99, 'volume': 33},\n",
    "    {'name': 'Pietra', 'note': 60, 'price': 38.99, 'volume': 33},\n",
    "    {'name': 'Desperados', 'note': 60, 'price': 35.99, 'volume': 33},\n",
    "    {'name': 'Gallia West IPA', 'note': 70, 'price': 42.99, 'volume': 33}]\n",
    "</pre>"
   ]
  },
  {
   "cell_type": "code",
   "execution_count": 12,
   "metadata": {},
   "outputs": [
    {
     "data": {
      "text/plain": [
       "[{'name': 'Gallia East IPA', 'note': 80, 'price': 42.99, 'volume': 33},\n",
       " {'name': 'La Lager Sans Gluten de Vézelay',\n",
       "  'note': 60,\n",
       "  'price': 38.99,\n",
       "  'volume': 25},\n",
       " {'name': 'Brasserie De Sutter Brin de Folie',\n",
       "  'note': 70,\n",
       "  'price': 44.99,\n",
       "  'volume': 33},\n",
       " {'name': 'La Cristal IPA du Mont Blanc',\n",
       "  'note': 70,\n",
       "  'price': 44.99,\n",
       "  'volume': 33},\n",
       " {'name': 'Mélusine Bio', 'note': 70, 'price': 38.99, 'volume': 33},\n",
       " {'name': 'La Parisienne Le Titi Parisien',\n",
       "  'note': 70,\n",
       "  'price': 38.99,\n",
       "  'volume': 33},\n",
       " {'name': 'Gallia Session IPA', 'note': 70, 'price': 42.99, 'volume': 33},\n",
       " {'name': 'Ninkasi Brut IPA', 'note': 70, 'price': 44.99, 'volume': 33},\n",
       " {'name': 'Pietra', 'note': 60, 'price': 38.99, 'volume': 33},\n",
       " {'name': 'Desperados', 'note': 60, 'price': 35.99, 'volume': 33},\n",
       " {'name': 'Gallia West IPA', 'note': 70, 'price': 42.99, 'volume': 33}]"
      ]
     },
     "execution_count": 12,
     "metadata": {},
     "output_type": "execute_result"
    }
   ],
   "source": [
    "from multiprocessing import Pool\n",
    "import json\n",
    "\n",
    "def extract_beer_list_infos(url):\n",
    "    # Collecter les pages de bières à partir du JSON\n",
    "    r = requests.get(url).content.decode(\"utf-8\")\n",
    "    beer_pages = [\"https://www.beerwulf.com\" + item[\"contentReference\"] for item in json.loads(r)[\"items\"]]\n",
    "\n",
    "    # Sequential version (slow):\n",
    "    beers = []\n",
    "    for beer in beer_pages:\n",
    "        beers.append(extract_beer_infos(beer))\n",
    "\n",
    "    # Parallel version (faster):\n",
    "    \"\"\"p = Pool(len(beer_pages))\n",
    "    beers = p.map(extract_beer_infos, beer_pages)\"\"\"\n",
    "\n",
    "    return beers\n",
    "\n",
    "extract_beer_list_infos(URL_BEERLIST_FRANCE)"
   ]
  },
  {
   "cell_type": "code",
   "execution_count": 13,
   "metadata": {},
   "outputs": [],
   "source": [
    "import unittest\n",
    "\n",
    "class Lesson4Tests(unittest.TestCase):\n",
    "    def test_01_get_prices_from_url_page2(self):\n",
    "        prices = get_prices_from_url(URL_PAGE2)\n",
    "        # We should have found 3 products:\n",
    "        self.assertIsInstance(prices, dict)\n",
    "        self.assertEqual(len(prices), 3)\n",
    "        self.assertIn('Personal', prices)\n",
    "        self.assertIn('Small Business', prices)\n",
    "        self.assertIn('Enterprise', prices)\n",
    "        \n",
    "        personal = prices['Personal']\n",
    "        self.assertIn('price', personal)\n",
    "        self.assertIn('storage', personal)\n",
    "        self.assertIn('databases', personal)\n",
    "        self.assertEqual(personal['price'], '$5')\n",
    "        self.assertEqual(personal['storage'], '1GB')\n",
    "        self.assertEqual(personal['databases'], 1)\n",
    "        \n",
    "    def test_02_get_prices_from_url_page3(self):\n",
    "        prices = get_prices_from_url(URL_PAGE3)\n",
    "        self.assertIsInstance(prices, dict)\n",
    "        self.assertEqual(len(prices), 4)\n",
    "        self.assertEqual(\n",
    "            prices['Privilege'],\n",
    "            {'databases': 100, 'price': '$99', 'storage': '1TB'}\n",
    "        )\n",
    "    \n",
    "    def test_03_extract_beer_list_infos(self):\n",
    "        infos = extract_beer_list_infos(URL_BEERLIST_FRANCE)\n",
    "        # We should have 11 French beers:\n",
    "        self.assertIsInstance(infos, list)\n",
    "        self.assertEqual(len(infos), 11)\n",
    "        # All of them are 25cl or 33cl:\n",
    "        for beer in infos:\n",
    "            self.assertIn(beer['volume'], [25, 33])\n",
    "\n",
    "            \n",
    "def run_tests():\n",
    "    test_suite = unittest.makeSuite(Lesson4Tests)\n",
    "    runner = unittest.TextTestRunner(verbosity=2)\n",
    "    runner.run(test_suite)"
   ]
  },
  {
   "cell_type": "code",
   "execution_count": 14,
   "metadata": {},
   "outputs": [
    {
     "name": "stderr",
     "output_type": "stream",
     "text": [
      "test_01_get_prices_from_url_page2 (__main__.Lesson4Tests) ... ok\n",
      "test_02_get_prices_from_url_page3 (__main__.Lesson4Tests) ... ok\n",
      "test_03_extract_beer_list_infos (__main__.Lesson4Tests) ... ok\n",
      "\n",
      "----------------------------------------------------------------------\n",
      "Ran 3 tests in 3.754s\n",
      "\n",
      "OK\n"
     ]
    }
   ],
   "source": [
    "if __name__ == '__main__':\n",
    "    run_tests()"
   ]
  },
  {
   "cell_type": "code",
   "execution_count": null,
   "metadata": {},
   "outputs": [],
   "source": []
  }
 ],
 "metadata": {
  "interpreter": {
   "hash": "d6b1dc52de474ed9407c5637da8eff2160d69f380cceccb94e4d3d90e466dd58"
  },
  "kernelspec": {
   "display_name": "Python 3.8.8 64-bit ('base': conda)",
   "name": "python3"
  },
  "language_info": {
   "codemirror_mode": {
    "name": "ipython",
    "version": 3
   },
   "file_extension": ".py",
   "mimetype": "text/x-python",
   "name": "python",
   "nbconvert_exporter": "python",
   "pygments_lexer": "ipython3",
   "version": "3.8.8"
  }
 },
 "nbformat": 4,
 "nbformat_minor": 4
}
