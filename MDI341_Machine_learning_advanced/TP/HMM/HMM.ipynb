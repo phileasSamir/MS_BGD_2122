{
 "cells": [
  {
   "cell_type": "markdown",
   "metadata": {},
   "source": [
    "# I.2 Chaînes de Markov"
   ]
  },
  {
   "cell_type": "markdown",
   "metadata": {},
   "source": [
    "## I.2.a Matrices de transition"
   ]
  },
  {
   "cell_type": "code",
   "execution_count": 1,
   "metadata": {},
   "outputs": [],
   "source": [
    "import numpy as np\n",
    "\n",
    "# Chargement de la matrice de transition en anglais\n",
    "bigramenglish = np.loadtxt('bigramenglish.txt')"
   ]
  },
  {
   "cell_type": "code",
   "execution_count": 2,
   "metadata": {},
   "outputs": [],
   "source": [
    "# Création du dictionnaire\n",
    "dic={1:' ',\n",
    "    2:'a',\n",
    "    3 :'b',\n",
    "    4 :'c',\n",
    "    5 :'d',\n",
    "    6 :'e',\n",
    "    7 :'f',\n",
    "    8 :'g',\n",
    "    9 :'h',\n",
    "    10:'i',\n",
    "    11:'j',\n",
    "    12:'k',\n",
    "    13:'l',\n",
    "    14:'m',\n",
    "    15:'n',\n",
    "    16:'o',\n",
    "    17:'p',\n",
    "    18:'q',\n",
    "    19:'r',\n",
    "    20:'s',\n",
    "    21:'t',\n",
    "    22:'u',\n",
    "    23:'v',\n",
    "    24:'w',\n",
    "    25:'x',\n",
    "    26:'y',\n",
    "    27:'z',\n",
    "    28:' ',}\n",
    "\n",
    "dic_inv = {v: k for k, v in dic.items()}"
   ]
  },
  {
   "cell_type": "markdown",
   "metadata": {},
   "source": [
    "Les probabilités de la première ligne de la matrice de transition correspondent aux probabilités de passer aux 28 états à partir de l'état initial \"espace de début de mot\".  \n",
    "Les probabilités de la dernière colonne correspondent aux probabilités de transitionner depuis un état donné vers l'état final \"espace de fin de mot\"."
   ]
  },
  {
   "cell_type": "code",
   "execution_count": 3,
   "metadata": {},
   "outputs": [
    {
     "name": "stdout",
     "output_type": "stream",
     "text": [
      "Transition la plus fréquente depuis   : 20 soit t\n",
      "Transition la plus fréquente depuis a : 14 soit n\n",
      "Transition la plus fréquente depuis b : 5 soit e\n",
      "Transition la plus fréquente depuis c : 15 soit o\n",
      "Transition la plus fréquente depuis d : 27 soit  \n",
      "Transition la plus fréquente depuis e : 27 soit  \n",
      "Transition la plus fréquente depuis f : 27 soit  \n",
      "Transition la plus fréquente depuis g : 27 soit  \n",
      "Transition la plus fréquente depuis h : 5 soit e\n",
      "Transition la plus fréquente depuis i : 14 soit n\n",
      "Transition la plus fréquente depuis j : 15 soit o\n",
      "Transition la plus fréquente depuis k : 27 soit  \n",
      "Transition la plus fréquente depuis l : 5 soit e\n",
      "Transition la plus fréquente depuis m : 5 soit e\n",
      "Transition la plus fréquente depuis n : 27 soit  \n",
      "Transition la plus fréquente depuis o : 14 soit n\n",
      "Transition la plus fréquente depuis p : 5 soit e\n",
      "Transition la plus fréquente depuis q : 21 soit u\n",
      "Transition la plus fréquente depuis r : 5 soit e\n",
      "Transition la plus fréquente depuis s : 27 soit  \n",
      "Transition la plus fréquente depuis t : 8 soit h\n",
      "Transition la plus fréquente depuis u : 18 soit r\n",
      "Transition la plus fréquente depuis v : 5 soit e\n",
      "Transition la plus fréquente depuis w : 1 soit a\n",
      "Transition la plus fréquente depuis x : 20 soit t\n",
      "Transition la plus fréquente depuis y : 27 soit  \n",
      "Transition la plus fréquente depuis z : 5 soit e\n",
      "Transition la plus fréquente depuis   : 27 soit  \n"
     ]
    }
   ],
   "source": [
    "for i, val in enumerate(dic.values()):\n",
    "    print(f\"Transition la plus fréquente depuis {val} : {np.argmax(bigramenglish[i])} soit {dic[np.argmax(bigramenglish[i])+1]}\")"
   ]
  },
  {
   "cell_type": "markdown",
   "metadata": {},
   "source": [
    "## I.2.b Générer un mot"
   ]
  },
  {
   "cell_type": "code",
   "execution_count": 4,
   "metadata": {},
   "outputs": [
    {
     "data": {
      "text/plain": [
       "12"
      ]
     },
     "execution_count": 4,
     "metadata": {},
     "output_type": "execute_result"
    }
   ],
   "source": [
    "def etat_suivant(mat,state):\n",
    "    \"\"\"Génère un nouvel état à partir d'une matrice de transitions et d'un état courant\n",
    "    Arguments:\n",
    "    - mat: np.array\n",
    "    - state: int\n",
    "    Returns: \n",
    "    - int\"\"\"\n",
    "    # On crée la fonction de répartition à partir de la matrice \"mat\", pour l'état \"state\"\n",
    "    f_repartition = np.cumsum(mat[state]) \n",
    "    # On génère un nombre aléatoire entre 0 et 1 \n",
    "    rr = np.random.random() \n",
    "    # On cherche le premier index de la fonction de répartition duquel le nombre généré est inférieur : c'est l'état d'arrivée\n",
    "    next_state = np.where(rr<=f_repartition)[-1][0] \n",
    "    # On renvoie cet état\n",
    "    return next_state\n",
    "\n",
    "etat_suivant(bigramenglish, 1)"
   ]
  },
  {
   "cell_type": "code",
   "execution_count": 5,
   "metadata": {},
   "outputs": [
    {
     "data": {
      "image/png": "[encoded data removed]",
      "text/plain": [
       "<Figure size 720x576 with 1 Axes>"
      ]
     },
     "metadata": {
      "needs_background": "light"
     },
     "output_type": "display_data"
    }
   ],
   "source": [
    "import matplotlib.pyplot as plt\n",
    "\n",
    "plt.figure(figsize=(10,8))\n",
    "plt.plot(np.cumsum(bigramenglish[0]))\n",
    "plt.ylabel(\"Nombre aléatoire\")\n",
    "plt.xlabel(\"État à t+1\")\n",
    "plt.title(\"Fonction de répartition de la matrice des transitions en anglais à partir de l'état 0\")\n",
    "plt.show()"
   ]
  },
  {
   "cell_type": "markdown",
   "metadata": {},
   "source": [
    "L'abscisse de la courbe pour le nombre généré aléatoirement en ordonnée correspond à l'état d'arrivée dans notre fonction `etat_suivant`."
   ]
  },
  {
   "cell_type": "code",
   "execution_count": 6,
   "metadata": {},
   "outputs": [
    {
     "name": "stdout",
     "output_type": "stream",
     "text": [
      " tire \n",
      " sad \n",
      " ie \n",
      " cis \n",
      " ppubre \n"
     ]
    }
   ],
   "source": [
    "def generate_state_seq(mat):\n",
    "    \"\"\"Génère une séquence d'états à partir d'une matrice de transitions\n",
    "    Arguments:\n",
    "    - mat: np.array\n",
    "    Returns:\n",
    "    - list\"\"\"\n",
    "    # On initialise la séquence à l'état initial\n",
    "    states = [0]\n",
    "    # Tant que le dernier état généré n'est pas l'état final\n",
    "    while states[-1] != mat.shape[0]-1:\n",
    "        # On génère un nouvel état à partir du dernier état généré\n",
    "        state = etat_suivant(mat, states[-1])\n",
    "        # On l'ajoute à la liste des états générés\n",
    "        states.append(state)\n",
    "    # On renvoie la séquence générée\n",
    "    return states\n",
    "\n",
    "def display_seq(seq, dic):\n",
    "    \"\"\"Transforme une séquence d'états en séquence de strings\n",
    "    Arguments:\n",
    "    - seq: list\n",
    "    - dic: dict\n",
    "    Returns:\n",
    "    - string\"\"\"\n",
    "    # Pour chaque état dans la liste, on cherche la string correspondante dans le dictionnaire\n",
    "    # Puis on concatène toutes les strings\n",
    "    return \"\".join([dic[state+1] for state in seq])\n",
    "\n",
    "# On génère 5 exemples de mots\n",
    "for _ in range(5):\n",
    "    print(display_seq(generate_state_seq(bigramenglish), dic))"
   ]
  },
  {
   "cell_type": "code",
   "execution_count": 7,
   "metadata": {},
   "outputs": [
    {
     "data": {
      "text/plain": [
       "(29, 29)"
      ]
     },
     "execution_count": 7,
     "metadata": {},
     "output_type": "execute_result"
    }
   ],
   "source": [
    "def modifie_mat_dic(mat, dic):\n",
    "    \"\"\"Modifie une matrice de transitions et le dictionnaire associé pour ajouter un état final de phrase\n",
    "    Arguments:\n",
    "    - mat: np.array\n",
    "    - dic: dict\n",
    "    Returns:\n",
    "    - np.array, dict, dict\"\"\"\n",
    "    # On ajoute une colonne de zéros qui correspondra aux probabilités de transitionner vers l'état final de phrase\n",
    "    new_mat = np.concatenate((mat,np.zeros((mat.shape[0],1))), axis=1)\n",
    "    # On ajoute une ligne de zéros qui correspondra aux probabilités de transitionner depuis l'état final de phrase\n",
    "    new_mat = np.concatenate((new_mat, np.zeros((1,new_mat.shape[1]))))\n",
    "    # On passe la ligne correspondant à l'état final de mot à 0\n",
    "    new_mat[-2] = np.zeros_like(new_mat[-2])\n",
    "    # La probabilité de transitionner depuis l'état final de mot à l'état final de phrase est .1\n",
    "    new_mat[-2,-1] = .1\n",
    "    # La probabilité de transitionner depuis l'état final de mot à l'état initial de mot est .9\n",
    "    new_mat[-2, 0] = .9\n",
    "    # La probabilité de transitionner depuis l'état final de phrase vers lui-même est 1\n",
    "    new_mat[-1,-1] = 1\n",
    "    # On crée une copie du dictionnaire fourni\n",
    "    new_dic = dic.copy()\n",
    "    # On ajoute l'item correspondant à l'état final de phrase\n",
    "    new_dic[29] = \".\"\n",
    "    # On recrée le dictionnaire inverse\n",
    "    new_dic_inv = {v: k for k, v in new_dic.items()}\n",
    "    # On renvoie la nouvelle matrice de transitions, le nouveau dictionnaire et le nouveau dictionnaire inversé\n",
    "    return new_mat, new_dic, new_dic_inv\n",
    "\n",
    "# On utilise la fonction\n",
    "new_bigramenglish, new_dic, new_dic_inv = modifie_mat_dic(bigramenglish, dic)\n",
    "# On vérifie que la shape de la nouvelle matrice est correcte\n",
    "new_bigramenglish.shape"
   ]
  },
  {
   "cell_type": "code",
   "execution_count": 8,
   "metadata": {},
   "outputs": [
    {
     "name": "stdout",
     "output_type": "stream",
     "text": [
      " dine  g  wan  unan  chiane  epe  mngembum .\n",
      " ro  re  to  ctofight  ad  be  dendosntouced  ianco  ththhorappout  de  whagexch  k  wof  tinore  card  howivam  dongued  atreeathe  ngr  thersof  tyomaticherco  ieyly  ld  geng .\n",
      " d  amecofo  tof .\n",
      " ond  vis  the  tis  ty  cured  tor  e  merofolvis  pichaviouffidean  nthestherey  hand  itus .\n",
      " goler  othinily  d  hansed  ios  nas  s .\n"
     ]
    }
   ],
   "source": [
    "# On crée 5 exemples de séquences (phrases) à partir de cette matrice de transitions avec le même procédé que pour les mots\n",
    "for _ in range(5):\n",
    "    print(display_seq(generate_state_seq(new_bigramenglish), new_dic))"
   ]
  },
  {
   "cell_type": "markdown",
   "metadata": {},
   "source": [
    "## I.3 Reconnaissance de la langue"
   ]
  },
  {
   "cell_type": "code",
   "execution_count": 9,
   "metadata": {},
   "outputs": [
    {
     "data": {
      "text/plain": [
       "array([0.0000000e+00, 7.6216533e-02, 1.1725620e-02, 7.0353723e-02,\n",
       "       2.0617549e-01, 6.7422318e-02, 2.1496971e-02, 1.0748485e-02,\n",
       "       9.7713504e-04, 1.9542701e-02, 2.9314051e-03, 9.7713504e-05,\n",
       "       1.7490717e-01, 1.6611296e-02, 6.5468048e-02, 1.8565566e-02,\n",
       "       7.7193668e-02, 2.0519836e-02, 2.2474106e-02, 6.0582372e-02,\n",
       "       1.3679891e-02, 3.4199726e-02, 6.8399453e-03, 9.7713504e-05,\n",
       "       9.7713504e-05, 9.7713504e-05, 9.7713504e-04, 0.0000000e+00])"
      ]
     },
     "execution_count": 9,
     "metadata": {},
     "output_type": "execute_result"
    }
   ],
   "source": [
    "# On charge la matrice des transitions en français\n",
    "bigramfrench = np.loadtxt(\"bigramfrancais.txt\")\n",
    "# On visualise les probabilités de transition depuis l'état initial\n",
    "bigramfrench[0]"
   ]
  },
  {
   "cell_type": "code",
   "execution_count": 10,
   "metadata": {},
   "outputs": [],
   "source": [
    "# On utilise la fonction modifie_mat_dic pour mettre à jour la matrice de transitions et le dictionnaire\n",
    "# Remarque : on a ici remplacé l'espace de début et de fin de mot par - et + respectivement\n",
    "dic_ll = dic.copy()\n",
    "dic_ll[1] = \"-\"\n",
    "dic_ll[28] = \"+\"\n",
    "new_bigramfrench, dic_ll, dic_ll_inv = modifie_mat_dic(bigramfrench, dic_ll)"
   ]
  },
  {
   "cell_type": "code",
   "execution_count": 11,
   "metadata": {},
   "outputs": [
    {
     "name": "stdout",
     "output_type": "stream",
     "text": [
      "Vraisemblance de 'to be or not to be' en anglais : 8.112892227809415e-20\n",
      "Vraisemblance de 'to be or not to be' en français : 5.9602081018686406e-30\n",
      "Vraisemblance de 'etre ou ne pas etre' en anglais : 4.462288711775253e-24\n",
      "Vraisemblance de 'etre ou ne pas etre' en français : 1.145706887234789e-19\n"
     ]
    }
   ],
   "source": [
    "def calc_vraisemblance(seq, mat):\n",
    "    \"\"\"Calcule la vraisemblance d'une séquence à partir d'une matrice de transitions\n",
    "    Arguments:\n",
    "    - seq: string\n",
    "    - mat: np.array\n",
    "    Returns:\n",
    "    - float\"\"\"\n",
    "    # On fixe la probabilité de l'état initial à 1\n",
    "    prob = 1\n",
    "    # Pour chaque caractère dans la string, on multiplie la probabilité par la probabilité de transition de l'état t-1 vers l'état t\n",
    "    for i, char in enumerate(seq[1:]):\n",
    "        prob *= mat[dic_ll_inv[seq[i]]-1,dic_ll_inv[char]-1]\n",
    "    # On renvoie la vraisemblance de la séquence\n",
    "    return prob\n",
    "\n",
    "print(f\"Vraisemblance de 'to be or not to be' en anglais : {calc_vraisemblance('-to+-be+-or+-not+-to+-be+.', new_bigramenglish)}\")\n",
    "print(f\"Vraisemblance de 'to be or not to be' en français : {calc_vraisemblance('-to+-be+-or+-not+-to+-be+.', new_bigramfrench)}\")\n",
    "print(f\"Vraisemblance de 'etre ou ne pas etre' en anglais : {calc_vraisemblance('-etre+-ou+-ne+-pas+-etre+.', new_bigramenglish)}\")\n",
    "print(f\"Vraisemblance de 'etre ou ne pas etre' en français : {calc_vraisemblance('-etre+-ou+-ne+-pas+-etre+.', new_bigramfrench)}\")"
   ]
  },
  {
   "cell_type": "markdown",
   "metadata": {},
   "source": [
    "On remarque que la vraisemblance est cohérente avec la langue de ces phrases."
   ]
  },
  {
   "cell_type": "markdown",
   "metadata": {},
   "source": [
    "# II.2 Génération de séquences d'observation"
   ]
  },
  {
   "cell_type": "code",
   "execution_count": 12,
   "metadata": {},
   "outputs": [
    {
     "data": {
      "text/plain": [
       "array([[ 0.84178118,  0.15821882, -0.        , -0.        , -0.        ],\n",
       "       [-0.        ,  0.7886163 ,  0.2113837 , -0.        , -0.        ],\n",
       "       [-0.        , -0.        ,  0.86339743,  0.13660257, -0.        ],\n",
       "       [-0.        , -0.        , -0.        ,  0.79150194,  0.20849806],\n",
       "       [-0.        , -0.        , -0.        , -0.        ,  1.        ]])"
      ]
     },
     "execution_count": 12,
     "metadata": {},
     "output_type": "execute_result"
    }
   ],
   "source": [
    "# Chargement des matrices\n",
    "import numpy as np\n",
    "v = np.loadtxt(\"data_txt_compact\\matrice_symboles.txt\")\n",
    "A0 = np.loadtxt(\"data_txt_compact\\A0.txt\")\n",
    "A1 = np.loadtxt(\"data_txt_compact\\A1.txt\")\n",
    "A7 = np.loadtxt(\"data_txt_compact\\A7.txt\")\n",
    "B0 = np.loadtxt(\"data_txt_compact\\B0.txt\")\n",
    "B1 = np.loadtxt(\"data_txt_compact\\B1.txt\")\n",
    "B7 = np.loadtxt(\"data_txt_compact\\B7.txt\")\n",
    "p0 = np.loadtxt(r\"data_txt_compact\\vect_pi0.txt\")\n",
    "p1 = np.loadtxt(r\"data_txt_compact\\vect_pi1.txt\")\n",
    "p7 = np.loadtxt(r\"data_txt_compact\\vect_pi7.txt\")\n",
    "A0"
   ]
  },
  {
   "cell_type": "markdown",
   "metadata": {},
   "source": [
    "## II.2.1\n",
    "Les zéros de la matrice B correspondent à des probabilités nulles qu'un état caché corresponde à un état observé.  \n",
    "Les zéros de la matrice A correspondent à des probabilités de transition nulles entre deux états cachés.  \n",
    "Les zéros du vecteur $\\pi$ correspondent à des probabilités de transition nulles de l'état initial vers un état caché."
   ]
  },
  {
   "cell_type": "markdown",
   "metadata": {},
   "source": [
    "## II.2.2"
   ]
  },
  {
   "cell_type": "code",
   "execution_count": 13,
   "metadata": {},
   "outputs": [
    {
     "name": "stdout",
     "output_type": "stream",
     "text": [
      "Fonction de répartition de la ligne 0 de A0 : [0.84178118 1.         1.         1.         1.        ]\n"
     ]
    },
    {
     "data": {
      "image/png": "[encoded data removed]",
      "text/plain": [
       "<Figure size 720x576 with 1 Axes>"
      ]
     },
     "metadata": {
      "needs_background": "light"
     },
     "output_type": "display_data"
    }
   ],
   "source": [
    "def etat_suivant(mat,state):\n",
    "    \"\"\"Génère un nouvel état à partir d'une matrice de transitions et d'un état courant\n",
    "    Arguments:\n",
    "    - mat: np.array\n",
    "    - state: int\n",
    "    Returns: \n",
    "    - int\"\"\"\n",
    "    # On crée la fonction de répartition à partir de la matrice \"mat\", pour l'état \"state\"\n",
    "    f_repartition = np.cumsum(mat[state]) \n",
    "    # On génère un nombre aléatoire entre 0 et 1 \n",
    "    rr = np.random.random() \n",
    "    # On cherche le premier index de la fonction de répartitionduquel le nombre généré est inférieur : c'est l'état d'arrivée\n",
    "    next_state = np.where(rr<=f_repartition)[-1][0] \n",
    "    # On renvoie cet état\n",
    "    return next_state\n",
    "\n",
    "print(\"Fonction de répartition de la ligne 0 de A0 :\", np.cumsum(A0[0]))\n",
    "\n",
    "plt.figure(figsize=(10,8))\n",
    "plt.plot(np.cumsum(A0[0]))\n",
    "plt.ylabel(\"Nombre aléatoire\")\n",
    "plt.xlabel(\"État à t+1\")\n",
    "plt.title(\"Fonction de répartition de la matrice des transitions de la classe 0 à partir de l'état 0\")\n",
    "plt.show()\n"
   ]
  },
  {
   "cell_type": "markdown",
   "metadata": {},
   "source": [
    "Ci-dessus, on a la fonction de répartition de l'état caché 0 vers les autres états cachés. On génère un nombre aléatoire entre 0 et 1, et on trouve le premier nombre de la fonction de répartition duquel le nombre généré est inférieur. Cela nous donne l'index de l'état suivant.  \n",
    "Exemples d'après la fonction affichée ci-dessus :\n",
    "- On tire 0.457. L'index du premier nombre dont on est inférieur est 0. L'état t+1 est donc 0.\n",
    "- On tire 0.952. L'index du premier nombre dont on est inférieur est 1. L'état t+1 est donc 1."
   ]
  },
  {
   "cell_type": "markdown",
   "metadata": {},
   "source": [
    "## II.2.3 - II.2.4"
   ]
  },
  {
   "cell_type": "code",
   "execution_count": 14,
   "metadata": {},
   "outputs": [
    {
     "data": {
      "image/png": "[encoded data removed]",
      "text/plain": [
       "<Figure size 432x288 with 1 Axes>"
      ]
     },
     "metadata": {
      "needs_background": "light"
     },
     "output_type": "display_data"
    }
   ],
   "source": [
    "# On crée une liste vide d'observations\n",
    "obs = list()\n",
    "# On trouve le premier état grâce à la fonction de répartition de pi\n",
    "state = np.where(np.random.random()<=np.cumsum(p0))[-1][0]\n",
    "# On génère une observation pour cet état grâce à la matrice de transitions B et le dictionnaire de correspondances v\n",
    "obs.append(v.T[etat_suivant(B0.T,state)])\n",
    "# Tant que le dernier état généré ne correspond pas à l'état final\n",
    "while state != A0.shape[1]-1:\n",
    "    # On génère un nouvel état\n",
    "    state = etat_suivant(A0, state)\n",
    "    # On génère une observation à partir de cet état\n",
    "    obs.append(v.T[etat_suivant(B0.T,state)])\n",
    "\n",
    "# On visualise l'image de la séquence générée\n",
    "obs = np.array(obs)\n",
    "\n",
    "fig = plt.figure()\n",
    "ax = fig.add_subplot(111)\n",
    "ax.imshow(obs.T)\n",
    "ax.set_aspect('auto')\n",
    "plt.title(\"Generated 0\")\n",
    "plt.show()"
   ]
  },
  {
   "cell_type": "code",
   "execution_count": 15,
   "metadata": {},
   "outputs": [
    {
     "data": {
      "image/png": "[encoded data removed]",
      "text/plain": [
       "<Figure size 432x288 with 1 Axes>"
      ]
     },
     "metadata": {
      "needs_background": "light"
     },
     "output_type": "display_data"
    }
   ],
   "source": [
    "# Même procédé pour générer un 1\n",
    "obs = list()\n",
    "state = np.where(np.random.random()<=np.cumsum(p1))[-1][0]\n",
    "obs.append(v.T[etat_suivant(B1.T,state)])\n",
    "while state != A1.shape[1]-1:\n",
    "    state = etat_suivant(A1, state)\n",
    "    obs.append(v.T[etat_suivant(B1.T,state)])\n",
    "\n",
    "\n",
    "obs = np.array(obs)\n",
    "\n",
    "fig = plt.figure()\n",
    "ax = fig.add_subplot(111)\n",
    "ax.imshow(obs.T)\n",
    "ax.set_aspect('auto')\n",
    "plt.title(\"Generated 1\")\n",
    "plt.show()"
   ]
  },
  {
   "cell_type": "code",
   "execution_count": 16,
   "metadata": {},
   "outputs": [
    {
     "data": {
      "image/png": "[encoded data removed]",
      "text/plain": [
       "<Figure size 432x288 with 1 Axes>"
      ]
     },
     "metadata": {
      "needs_background": "light"
     },
     "output_type": "display_data"
    }
   ],
   "source": [
    "# Même procédé pour générer un 7\n",
    "obs = list()\n",
    "state = np.where(np.random.random()<=np.cumsum(p7))[-1][0]\n",
    "obs.append(v.T[etat_suivant(B7.T,state)])\n",
    "while state != A7.shape[1]-1:\n",
    "    state = etat_suivant(A7, state)\n",
    "    obs.append(v.T[etat_suivant(B7.T,state)])\n",
    "    \n",
    "    \n",
    "obs = np.array(obs)\n",
    "\n",
    "fig = plt.figure()\n",
    "ax = fig.add_subplot(111)\n",
    "ax.imshow(obs.T)\n",
    "ax.set_aspect('auto')\n",
    "plt.title(\"Generated 7\")\n",
    "plt.show()"
   ]
  },
  {
   "cell_type": "markdown",
   "metadata": {},
   "source": [
    "## II.3 Calcul de la vraisemblance de séquences d'observations"
   ]
  },
  {
   "cell_type": "code",
   "execution_count": 17,
   "metadata": {},
   "outputs": [],
   "source": [
    "# Chargement des observations\n",
    "test0 = np.loadtxt(\"data_txt_compact/SeqTest0.txt\")\n",
    "test1 = np.loadtxt(\"data_txt_compact/SeqTest1.txt\")\n",
    "test7 = np.loadtxt(\"data_txt_compact/SeqTest7.txt\")"
   ]
  },
  {
   "cell_type": "code",
   "execution_count": 18,
   "metadata": {},
   "outputs": [],
   "source": [
    "# On génère un jeu de données sous la forme X (features), y (targets)\n",
    "# Cela facilitera la classification par la suite\n",
    "X = np.concatenate((test0, test1, test7))\n",
    "y = [0 for _ in range(len(test0))] + [1 for _ in range(len(test1))] + [7 for _ in range(len(test7))]"
   ]
  },
  {
   "cell_type": "code",
   "execution_count": 19,
   "metadata": {},
   "outputs": [
    {
     "data": {
      "image/png": "[encoded data removed]",
      "text/plain": [
       "<Figure size 1440x1152 with 30 Axes>"
      ]
     },
     "metadata": {},
     "output_type": "display_data"
    }
   ],
   "source": [
    "# On visualise les données\n",
    "fig = plt.figure(figsize=(20,16))\n",
    "for i, row in enumerate(X):\n",
    "    obs = v.T[row.astype(int)-1]\n",
    "    ax = fig.add_subplot(5,6,i+1)\n",
    "    ax.imshow(obs.T)\n",
    "    ax.set_aspect('auto')\n",
    "    ax.set_xticks([])\n",
    "    ax.set_yticks([])\n",
    "    ax.set_title(y[i])\n",
    "plt.show()"
   ]
  },
  {
   "cell_type": "code",
   "execution_count": 20,
   "metadata": {},
   "outputs": [
    {
     "name": "stderr",
     "output_type": "stream",
     "text": [
      "<ipython-input-20-0c7fcdc3f4e0>:2: RuntimeWarning: divide by zero encountered in log\n",
      "  A0_log = np.log(A0)\n",
      "<ipython-input-20-0c7fcdc3f4e0>:3: RuntimeWarning: divide by zero encountered in log\n",
      "  A1_log = np.log(A1)\n",
      "<ipython-input-20-0c7fcdc3f4e0>:4: RuntimeWarning: divide by zero encountered in log\n",
      "  A7_log = np.log(A7)\n",
      "<ipython-input-20-0c7fcdc3f4e0>:5: RuntimeWarning: divide by zero encountered in log\n",
      "  B0_log = np.log(B0)\n",
      "<ipython-input-20-0c7fcdc3f4e0>:6: RuntimeWarning: divide by zero encountered in log\n",
      "  B1_log = np.log(B1)\n",
      "<ipython-input-20-0c7fcdc3f4e0>:7: RuntimeWarning: divide by zero encountered in log\n",
      "  B7_log = np.log(B7)\n",
      "<ipython-input-20-0c7fcdc3f4e0>:8: RuntimeWarning: divide by zero encountered in log\n",
      "  p0_log = np.log(p0)\n",
      "<ipython-input-20-0c7fcdc3f4e0>:9: RuntimeWarning: divide by zero encountered in log\n",
      "  p1_log = np.log(p1)\n",
      "<ipython-input-20-0c7fcdc3f4e0>:10: RuntimeWarning: divide by zero encountered in log\n",
      "  p7_log = np.log(p7)\n"
     ]
    }
   ],
   "source": [
    "# On transforme les matrices de transitions et le vecteur pi en logarithmes\n",
    "A0_log = np.log(A0)\n",
    "A1_log = np.log(A1)\n",
    "A7_log = np.log(A7)\n",
    "B0_log = np.log(B0)\n",
    "B1_log = np.log(B1)\n",
    "B7_log = np.log(B7)\n",
    "p0_log = np.log(p0)\n",
    "p1_log = np.log(p1)\n",
    "p7_log = np.log(p7)"
   ]
  },
  {
   "cell_type": "code",
   "execution_count": 21,
   "metadata": {},
   "outputs": [],
   "source": [
    "def viterbi(y, pi, A, B, log=True):\n",
    "    \"\"\"Calcule la vraisemblance selon viterbi et la séquence la plus probable d'états cachés\n",
    "    Arguments:\n",
    "    - y: np.array of ints\n",
    "    - pi: np.array\n",
    "    - A: np.array\n",
    "    - B: np.array\n",
    "    - log: bool\n",
    "    Returns:\n",
    "    - float, np.array\"\"\"\n",
    "\n",
    "    # On génère les matrices T1 et T2 vides\n",
    "    T1 = np.empty((A.shape[0], y.shape[0]))\n",
    "    T2 = np.empty((A.shape[0], y.shape[0]))\n",
    "\n",
    "    # Si les matrices sont en log\n",
    "    if log:\n",
    "        # On calcule la probabilité de la première observation\n",
    "        T1[:, 0] = pi + B[y[0]-1,:]\n",
    "        # L'état initial est forcément 0\n",
    "        T2[:, 0] = 0\n",
    "        # Pour chaque observation dans la séquence\n",
    "        for j in range(1,y.shape[0]):\n",
    "            # Pour chaque état possible\n",
    "            for i in range(A.shape[0]):\n",
    "                # On calcule la probabilité maximale de chaque état caché d'après les probabilités antérieures\n",
    "                T1[i, j] = np.max(T1[:,j-1] + A[:,i] + B[y[j]-1,i])\n",
    "                # On calcule l'état correspondant à ces probabilités maximales\n",
    "                T2[i, j] = np.argmax(T1[:,j-1] + A[:,i] + B[y[j]-1,i])\n",
    "\n",
    "    # Même procédé si les matrices ne sont pas en log, on multiplie plutôt que d'additionner\n",
    "    else:\n",
    "        T1[:, 0] = pi * B[y[0]-1,:]\n",
    "        T2[:, 0] = 0\n",
    "        for j in range(1,y.shape[0]):\n",
    "            for i in range(A.shape[0]):\n",
    "                T1[i, j] = np.max(T1[:,j-1] * A[:,i] * B[y[j]-1,i])\n",
    "                T2[i, j] = np.argmax(T1[:,j-1] * A[:,i] * B[y[j]-1,i])     \n",
    "\n",
    "    # On initialise la séquence la plus vraisemblable\n",
    "    z = np.empty(y.shape[0])\n",
    "    # Le dernier état correspond au dernier état le plus probable\n",
    "    z[-1] = np.argmax(T1[:,-1])\n",
    "    # On backtracke\n",
    "    for j in range(y.shape[0]-1,-1,-1):\n",
    "        z[j-1] = T2[z[j].astype(int),j]\n",
    "    \n",
    "    # La probabilité de la séquence correspond au maximum des probabilités de la dernière observation\n",
    "    return np.max(T1[:,-1]), z"
   ]
  },
  {
   "cell_type": "code",
   "execution_count": 22,
   "metadata": {},
   "outputs": [
    {
     "name": "stdout",
     "output_type": "stream",
     "text": [
      "[0 0 0 0 0 0 0 0 0 0 1 1 1 1 1 1 1 1 1 1 7 7 1 7 7 7 7 7 7 7]\n"
     ]
    }
   ],
   "source": [
    "islog = True\n",
    "\n",
    "# On initialise les listes de probabilités\n",
    "probs_zero = list()\n",
    "probs_one = list()\n",
    "probs_seven = list()\n",
    "\n",
    "# Pour chaque observation dans X, on calcule la vraisemblance d'appartenir à chaque classe\n",
    "for obs in X:\n",
    "    probs_zero.append(viterbi(obs.astype(int), p0_log, A0_log, B0_log, islog)[0])\n",
    "    probs_one.append(viterbi(obs.astype(int), p1_log, A1_log, B1_log, islog)[0])\n",
    "    probs_seven.append(viterbi(obs.astype(int), p7_log, A7_log, B7_log, islog)[0])\n",
    "\n",
    "# On concatène les probabilités\n",
    "# Puis on considère que l'argmax des probabilités correspond à la prédiction du modèle\n",
    "preds = np.concatenate(([probs_zero], [probs_one], [probs_seven]), axis=0)\n",
    "preds = np.argmax(preds, axis=0)\n",
    "preds[preds==2] = 7\n",
    "print(preds)"
   ]
  },
  {
   "cell_type": "code",
   "execution_count": 23,
   "metadata": {},
   "outputs": [
    {
     "data": {
      "image/png": "[encoded data removed]",
      "text/plain": [
       "<Figure size 576x432 with 1 Axes>"
      ]
     },
     "metadata": {
      "needs_background": "light"
     },
     "output_type": "display_data"
    },
    {
     "name": "stdout",
     "output_type": "stream",
     "text": [
      "Accuracy : 0.9666666666666667\n"
     ]
    }
   ],
   "source": [
    "from sklearn.metrics import accuracy_score, confusion_matrix\n",
    "import seaborn as sns\n",
    "\n",
    "plt.figure(figsize=(8,6))\n",
    "sns.heatmap(confusion_matrix(y, preds, normalize=\"true\"), annot=True, cbar=False, square=True)\n",
    "plt.show()\n",
    "print(\"Accuracy :\", accuracy_score(y,preds))"
   ]
  },
  {
   "cell_type": "code",
   "execution_count": 24,
   "metadata": {},
   "outputs": [
    {
     "name": "stdout",
     "output_type": "stream",
     "text": [
      "[0 0 0 0 0 0 0 0 0 0 1 1 1 1 1 1 1 1 1 1 7 7 1 7 7 7 7 7 7 7]\n"
     ]
    }
   ],
   "source": [
    "# Même procédé sans utiliser le log\n",
    "islog = False\n",
    "\n",
    "# On initialise les listes de probabilités\n",
    "probs_zero = list()\n",
    "probs_one = list()\n",
    "probs_seven = list()\n",
    "\n",
    "# Pour chaque observation dans X, on calcule la vraisemblance d'appartenir à chaque classe\n",
    "for obs in X:\n",
    "    probs_zero.append(viterbi(obs.astype(int), p0, A0, B0, islog)[0])\n",
    "    probs_one.append(viterbi(obs.astype(int), p1, A1, B1, islog)[0])\n",
    "    probs_seven.append(viterbi(obs.astype(int), p7, A7, B7, islog)[0])\n",
    "\n",
    "# On concatène les probabilités\n",
    "# Puis on considère que l'argmax des probabilités correspond à la prédiction du modèle\n",
    "preds = np.concatenate(([probs_zero], [probs_one], [probs_seven]), axis=0)\n",
    "preds = np.argmax(preds, axis=0)\n",
    "preds[preds==2] = 7\n",
    "print(preds)"
   ]
  },
  {
   "cell_type": "code",
   "execution_count": 25,
   "metadata": {},
   "outputs": [
    {
     "data": {
      "image/png": "[encoded data removed]",
      "text/plain": [
       "<Figure size 576x432 with 1 Axes>"
      ]
     },
     "metadata": {
      "needs_background": "light"
     },
     "output_type": "display_data"
    },
    {
     "name": "stdout",
     "output_type": "stream",
     "text": [
      "Accuracy : 0.9666666666666667\n"
     ]
    }
   ],
   "source": [
    "from sklearn.metrics import accuracy_score, confusion_matrix\n",
    "import seaborn as sns\n",
    "\n",
    "plt.figure(figsize=(8,6))\n",
    "sns.heatmap(confusion_matrix(y, preds, normalize=\"true\"), annot=True, cbar=False, square=True)\n",
    "plt.show()\n",
    "print(\"Accuracy :\", accuracy_score(y,preds))"
   ]
  },
  {
   "cell_type": "markdown",
   "metadata": {},
   "source": [
    "On peut comparer notre classifieur avec un classifieur simple, par exemple une régression logistique."
   ]
  },
  {
   "cell_type": "code",
   "execution_count": 39,
   "metadata": {},
   "outputs": [
    {
     "data": {
      "image/png": "[encoded data removed]",
      "text/plain": [
       "<Figure size 576x432 with 1 Axes>"
      ]
     },
     "metadata": {
      "needs_background": "light"
     },
     "output_type": "display_data"
    },
    {
     "name": "stdout",
     "output_type": "stream",
     "text": [
      "Accuracy : 1.0\n"
     ]
    }
   ],
   "source": [
    "from sklearn.linear_model import LogisticRegression\n",
    "from sklearn.model_selection import train_test_split\n",
    "\n",
    "# On aplatit les images\n",
    "X_logreg = list()\n",
    "for row in X:\n",
    "    X_logreg.append(v.T[row.astype(int)-1].flatten())\n",
    "    \n",
    "# On sépare les données en train et test\n",
    "X_train, X_test, y_train, y_test = train_test_split(X_logreg, y, test_size=.3, stratify=y)\n",
    "\n",
    "# On entraîne le modèle sur le train, on prédit sur le test\n",
    "model = LogisticRegression()\n",
    "model.fit(X_train, y_train)\n",
    "preds = model.predict(X_test)\n",
    "\n",
    "# On évalue le modèle \n",
    "plt.figure(figsize=(8,6))\n",
    "sns.heatmap(confusion_matrix(y_test, preds, normalize=\"true\"), annot=True, cbar=False, square=True)\n",
    "plt.show()\n",
    "print(\"Accuracy :\", accuracy_score(y_test,preds))"
   ]
  },
  {
   "cell_type": "code",
   "execution_count": null,
   "metadata": {},
   "outputs": [],
   "source": []
  }
 ],
 "metadata": {
  "interpreter": {
   "hash": "d6b1dc52de474ed9407c5637da8eff2160d69f380cceccb94e4d3d90e466dd58"
  },
  "kernelspec": {
   "display_name": "Python 3.8.8 ('base')",
   "language": "python",
   "name": "python3"
  },
  "language_info": {
   "codemirror_mode": {
    "name": "ipython",
    "version": 3
   },
   "file_extension": ".py",
   "mimetype": "text/x-python",
   "name": "python",
   "nbconvert_exporter": "python",
   "pygments_lexer": "ipython3",
   "version": "3.8.8"
  },
  "orig_nbformat": 4
 },
 "nbformat": 4,
 "nbformat_minor": 2
}
