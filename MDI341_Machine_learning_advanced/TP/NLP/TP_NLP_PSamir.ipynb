{
  "cells": [
    {
      "cell_type": "markdown",
      "metadata": {
        "id": "JfkpXKBIthcS"
      },
      "source": [
        "# Text classification with Pytorch\n",
        "\n",
        "The goal of this TP is double: an introduction to using Pytorch for treating textual data, and implementing neural classification models that we can apply to the same dataset as before - **here, 20 newsgroup** - and then compare to models implemented in the previous TP. "
      ]
    },
    {
      "cell_type": "code",
      "execution_count": 1,
      "metadata": {
        "id": "FH7c_eMyte-D"
      },
      "outputs": [],
      "source": [
        "import torch\n",
        "import torch.nn as nn"
      ]
    },
    {
      "cell_type": "markdown",
      "metadata": {
        "id": "TG1Tv5TLtpjP"
      },
      "source": [
        "### A (very small) introduction to pytorch\n",
        "\n",
        "Pytorch Tensors are very similar to Numpy arrays, with the added benefit of being usable on GPU. For a short tutorial on various methods to create tensors of particular types, see [this link](https://pytorch.org/tutorials/beginner/blitz/tensor_tutorial.html#sphx-glr-beginner-blitz-tensor-tutorial-py).\n",
        "The important things to note are that Tensors can be created empty, from lists, and it is very easy to convert a numpy array into a pytorch tensor, and inversely."
      ]
    },
    {
      "cell_type": "code",
      "execution_count": 2,
      "metadata": {
        "id": "Mb3h3-OEtuHz",
        "colab": {
          "base_uri": "https://localhost:8080/"
        },
        "outputId": "0fc1cfdc-0087-4037-c4e5-290a355b2882"
      },
      "outputs": [
        {
          "output_type": "stream",
          "name": "stdout",
          "text": [
            "tensor([     94070833551104,                  27,      94072668684287,\n",
            "        4908972153413002606, 7214836307739637349])\n",
            "tensor([5])\n"
          ]
        }
      ],
      "source": [
        "a = torch.LongTensor(5)\n",
        "b = torch.LongTensor([5])\n",
        "\n",
        "print(a)\n",
        "print(b)"
      ]
    },
    {
      "cell_type": "code",
      "execution_count": 3,
      "metadata": {
        "id": "EohavgcYtv6f",
        "colab": {
          "base_uri": "https://localhost:8080/"
        },
        "outputId": "9c33c527-96c1-4180-cd86-0ab8a0a1d0c3"
      },
      "outputs": [
        {
          "output_type": "stream",
          "name": "stdout",
          "text": [
            "tensor([5.])\n"
          ]
        }
      ],
      "source": [
        "a = torch.FloatTensor([2])\n",
        "b = torch.FloatTensor([3])\n",
        "\n",
        "print(a + b)"
      ]
    },
    {
      "cell_type": "markdown",
      "metadata": {
        "id": "AJ7gaHMpt0fV"
      },
      "source": [
        "The main interest in us using Pytorch is the ```autograd``` package. ```torch.Tensor```objects have an attribute ```.requires_grad```; if set as True, it starts to track all operations on it. When you finish your computation, can call ```.backward()``` and all the gradients are computed automatically (and stored in the ```.grad``` attribute).\n",
        "\n",
        "One way to easily cut a tensor from the computational once it is not needed anymore is to use ```.detach()```.\n",
        "More info on automatic differentiation in pytorch on [this link](https://pytorch.org/tutorials/beginner/blitz/autograd_tutorial.html#sphx-glr-beginner-blitz-autograd-tutorial-py).\n"
      ]
    },
    {
      "cell_type": "code",
      "execution_count": 4,
      "metadata": {
        "id": "DGHcybvEty-E",
        "colab": {
          "base_uri": "https://localhost:8080/"
        },
        "outputId": "7f0d20e4-b1c3-43d1-d946-35129ce2b211"
      },
      "outputs": [
        {
          "output_type": "stream",
          "name": "stdout",
          "text": [
            "tensor(2.)\n",
            "tensor(1.)\n",
            "tensor(1.)\n"
          ]
        }
      ],
      "source": [
        "x = torch.tensor(1., requires_grad=True)\n",
        "w = torch.tensor(2., requires_grad=True)\n",
        "b = torch.tensor(3., requires_grad=True)\n",
        "\n",
        "# Build a computational graph.\n",
        "y = w * x + b    # y = 2 * x + 3\n",
        "\n",
        "# Compute gradients.\n",
        "y.backward()\n",
        "\n",
        "# Print out the gradients.\n",
        "print(x.grad)    # x.grad = 2 \n",
        "print(w.grad)    # w.grad = 1 \n",
        "print(b.grad)    # b.grad = 1 "
      ]
    },
    {
      "cell_type": "code",
      "execution_count": 5,
      "metadata": {
        "id": "6b2WNPUetzA-",
        "colab": {
          "base_uri": "https://localhost:8080/"
        },
        "outputId": "7e02b77f-f8dc-4198-94ce-743a9f1708b8"
      },
      "outputs": [
        {
          "output_type": "stream",
          "name": "stdout",
          "text": [
            "weight\n",
            "Parameter containing:\n",
            "tensor([[ 0.3824,  0.2367, -0.2485],\n",
            "        [-0.4835, -0.4065, -0.3474]], requires_grad=True)\n",
            "bias\n",
            "Parameter containing:\n",
            "tensor([-0.1811, -0.2656], requires_grad=True)\n",
            "Initial loss:  2.365093469619751\n",
            "dL/dw:  tensor([[ 0.0288,  0.4257, -0.0016],\n",
            "        [-0.8818, -0.8004, -0.7250]])\n",
            "dL/db:  tensor([ 0.1366, -0.7181])\n"
          ]
        }
      ],
      "source": [
        "x = torch.randn(10, 3)\n",
        "y = torch.randn(10, 2)\n",
        "\n",
        "# Build a fully connected layer.\n",
        "linear = nn.Linear(3, 2)\n",
        "for name, p in linear.named_parameters():\n",
        "    print(name)\n",
        "    print(p)\n",
        "\n",
        "# Build loss function - Mean Square Error\n",
        "criterion = nn.MSELoss()\n",
        "\n",
        "# Forward pass.\n",
        "pred = linear(x)\n",
        "\n",
        "# Compute loss.\n",
        "loss = criterion(pred, y)\n",
        "print('Initial loss: ', loss.item())\n",
        "\n",
        "# Backward pass.\n",
        "loss.backward()\n",
        "\n",
        "# Print out the gradients.\n",
        "print ('dL/dw: ', linear.weight.grad) \n",
        "print ('dL/db: ', linear.bias.grad)"
      ]
    },
    {
      "cell_type": "code",
      "execution_count": 6,
      "metadata": {
        "id": "aCZynIQFtzD0",
        "colab": {
          "base_uri": "https://localhost:8080/"
        },
        "outputId": "3dcff8ff-60fa-4760-f61f-f00794e1ae62"
      },
      "outputs": [
        {
          "output_type": "stream",
          "name": "stdout",
          "text": [
            "Loss after one update:  2.3386130332946777\n"
          ]
        }
      ],
      "source": [
        "# You can perform gradient descent manually, with an in-place update ...\n",
        "linear.weight.data.sub_(0.01 * linear.weight.grad.data)\n",
        "linear.bias.data.sub_(0.01 * linear.bias.grad.data)\n",
        "\n",
        "# Print out the loss after 1-step gradient descent.\n",
        "pred = linear(x)\n",
        "loss = criterion(pred, y)\n",
        "print('Loss after one update: ', loss.item())"
      ]
    },
    {
      "cell_type": "code",
      "execution_count": 7,
      "metadata": {
        "id": "RXaI-9Z9tzGt",
        "colab": {
          "base_uri": "https://localhost:8080/"
        },
        "outputId": "30ddc0f6-7cd0-4239-ff48-ef1a6cd35889"
      },
      "outputs": [
        {
          "output_type": "stream",
          "name": "stdout",
          "text": [
            "Loss after two updates:  2.312615394592285\n"
          ]
        }
      ],
      "source": [
        "# Use the optim package to define an Optimizer that will update the weights of the model.\n",
        "optimizer = torch.optim.SGD(linear.parameters(), lr=0.01)\n",
        "\n",
        "# By default, gradients are accumulated in buffers( i.e, not overwritten) whenever .backward()\n",
        "# is called. Before the backward pass, we need to use the optimizer object to zero all of the\n",
        "# gradients.\n",
        "optimizer.zero_grad()\n",
        "loss.backward()\n",
        "\n",
        "# Calling the step function on an Optimizer makes an update to its parameters\n",
        "optimizer.step()\n",
        "\n",
        "# Print out the loss after the second step of gradient descent.\n",
        "pred = linear(x)\n",
        "loss = criterion(pred, y)\n",
        "print('Loss after two updates: ', loss.item())"
      ]
    },
    {
      "cell_type": "markdown",
      "metadata": {
        "id": "xjcyC09ct9Nn"
      },
      "source": [
        "### Tools for data processing \n",
        "\n",
        "```torch.utils.data.Dataset``` is an abstract class representing a dataset. Your custom dataset should inherit ```Dataset``` and override the following methods:\n",
        "- ```__len__``` so that ```len(dataset)``` returns the size of the dataset.\n",
        "- ```__getitem__``` to support the indexing such that ```dataset[i]``` can be used to get the i-th sample\n",
        "\n",
        "Here is a toy example: "
      ]
    },
    {
      "cell_type": "code",
      "execution_count": 8,
      "metadata": {
        "id": "OAZi4yvpuAyG"
      },
      "outputs": [],
      "source": [
        "toy_corpus = ['I walked down down the boulevard',\n",
        "              'I walked down the avenue',\n",
        "              'I ran down the boulevard',\n",
        "              'I walk down the city',\n",
        "              'I walk down the the avenue']\n",
        "\n",
        "toy_categories = [0, 0, 1, 0, 0]"
      ]
    },
    {
      "cell_type": "code",
      "execution_count": 9,
      "metadata": {
        "id": "I0s6D6VOuCNc"
      },
      "outputs": [],
      "source": [
        "from torch.utils.data import Dataset, DataLoader\n",
        "\n",
        "class CustomDataset(Dataset):\n",
        "    # A pytorch dataset class for holding data for a text classification task.\n",
        "    def __init__(self, data, categories):\n",
        "        # Upon creating the Dataset object, store the data in an attribute\n",
        "        # Split the text data and labels from each other\n",
        "        self.X, self.Y = [], []\n",
        "        for x, y in zip(data, categories):\n",
        "            # We will propably need to preprocess the data - have it done in a separate method\n",
        "            # We do it here because we might need corpus-wide info to do the preprocessing \n",
        "            # For example, cutting all examples to the same length\n",
        "            self.X.append(self.preprocess(x))\n",
        "            self.Y.append(y)\n",
        "                \n",
        "    # Method allowing you to preprocess data                      \n",
        "    def preprocess(self, text):\n",
        "        text_pp = text.lower().strip()\n",
        "        return text_pp\n",
        "    \n",
        "    # Overriding the method __len__ so that len(CustomDatasetName) returns the number of data samples                     \n",
        "    def __len__(self):\n",
        "        return len(self.Y)\n",
        "   \n",
        "    # Overriding the method __getitem__ so that CustomDatasetName[i] returns the i-th sample of the dataset                      \n",
        "    def __getitem__(self, idx):\n",
        "           return self.X[idx], self.Y[idx]"
      ]
    },
    {
      "cell_type": "code",
      "execution_count": 10,
      "metadata": {
        "id": "cmjsfRZPuCQc"
      },
      "outputs": [],
      "source": [
        "toy_dataset = CustomDataset(toy_corpus, toy_categories)"
      ]
    },
    {
      "cell_type": "code",
      "execution_count": 11,
      "metadata": {
        "id": "pxyTBFp6uGaL",
        "colab": {
          "base_uri": "https://localhost:8080/"
        },
        "outputId": "9698853d-b40f-4224-acd9-582aae798432"
      },
      "outputs": [
        {
          "output_type": "stream",
          "name": "stdout",
          "text": [
            "5\n",
            "('i walked down down the boulevard', 0)\n",
            "('i walked down the avenue', 0)\n",
            "('i ran down the boulevard', 1)\n",
            "('i walk down the city', 0)\n",
            "('i walk down the the avenue', 0)\n"
          ]
        }
      ],
      "source": [
        "print(len(toy_dataset))\n",
        "for i in range(len(toy_dataset)):\n",
        "    print(toy_dataset[i])"
      ]
    },
    {
      "cell_type": "markdown",
      "metadata": {
        "id": "BdtlHKpJuKwY"
      },
      "source": [
        "```torch.utils.data.DataLoader``` is what we call an iterator, which provides very useful features:\n",
        "- Batching the data\n",
        "- Shuffling the data\n",
        "- Load the data in parallel using multiprocessing workers.\n",
        "and can be created very simply from a ```Dataset```. Continuing on our simple example: "
      ]
    },
    {
      "cell_type": "code",
      "execution_count": 12,
      "metadata": {
        "id": "WAk7_20auGdJ"
      },
      "outputs": [],
      "source": [
        "toy_dataloader = DataLoader(toy_dataset, batch_size = 2, shuffle = True)"
      ]
    },
    {
      "cell_type": "code",
      "execution_count": 13,
      "metadata": {
        "id": "oTvn7nmZuGgE",
        "colab": {
          "base_uri": "https://localhost:8080/"
        },
        "outputId": "347095cf-89ea-4b7c-f8db-668afce05d26"
      },
      "outputs": [
        {
          "output_type": "stream",
          "name": "stdout",
          "text": [
            "Epoch:0\n",
            "Batch: ('i walk down the the avenue', 'i walked down the avenue'); labels: tensor([0, 0])\n",
            "Batch: ('i walked down down the boulevard', 'i walk down the city'); labels: tensor([0, 0])\n",
            "Batch: ('i ran down the boulevard',); labels: tensor([1])\n",
            "Epoch:1\n",
            "Batch: ('i walk down the the avenue', 'i walked down down the boulevard'); labels: tensor([0, 0])\n",
            "Batch: ('i walk down the city', 'i walked down the avenue'); labels: tensor([0, 0])\n",
            "Batch: ('i ran down the boulevard',); labels: tensor([1])\n",
            "Epoch:2\n",
            "Batch: ('i walk down the city', 'i walk down the the avenue'); labels: tensor([0, 0])\n",
            "Batch: ('i walked down down the boulevard', 'i ran down the boulevard'); labels: tensor([0, 1])\n",
            "Batch: ('i walked down the avenue',); labels: tensor([0])\n"
          ]
        }
      ],
      "source": [
        "for e in range(3):\n",
        "    print(\"Epoch:\" + str(e))\n",
        "    for x, y in toy_dataloader:\n",
        "        print(\"Batch: \" + str(x) + \"; labels: \" + str(y))  "
      ]
    },
    {
      "cell_type": "markdown",
      "metadata": {
        "id": "7lgbEZpbuQLN"
      },
      "source": [
        "### Data processing of a text dataset\n",
        "\n",
        "Now, we would like to apply what we saw to our case, and **create a specific class** ```TextClassificationDataset``` **inheriting** ```Dataset``` that will:\n",
        "- Create a vocabulary from the data (use what we saw in the previous TP)\n",
        "- Preprocess the data using this vocabulary, adding whatever we need for our pytorch model\n",
        "- Have a ```__getitem__``` method that allows us to use the class with a ```Dataloader``` to easily build batches."
      ]
    },
    {
      "cell_type": "code",
      "execution_count": 14,
      "metadata": {
        "id": "LXMyhHSfuGl4"
      },
      "outputs": [],
      "source": [
        "import os\n",
        "import sys\n",
        "import os.path as op\n",
        "from torch.nn import functional as F\n",
        "import numpy as np\n",
        "import random\n",
        "\n",
        "from torch.nn.utils.rnn import pad_sequence"
      ]
    },
    {
      "cell_type": "markdown",
      "metadata": {
        "id": "brvWrFAHvfzX"
      },
      "source": [
        "First, we get the data: "
      ]
    },
    {
      "cell_type": "code",
      "execution_count": 15,
      "metadata": {
        "id": "WWrPRszpuGoY"
      },
      "outputs": [],
      "source": [
        "from sklearn.datasets import fetch_20newsgroups\n",
        "newsgroups_train = fetch_20newsgroups(subset='train')\n",
        "newsgroups_test = fetch_20newsgroups(subset='test')"
      ]
    },
    {
      "cell_type": "markdown",
      "metadata": {
        "id": "g2F1biXNv62G"
      },
      "source": [
        "Example of one document:"
      ]
    },
    {
      "cell_type": "code",
      "execution_count": 16,
      "metadata": {
        "id": "2XL0ZBz_uCTX",
        "colab": {
          "base_uri": "https://localhost:8080/"
        },
        "outputId": "dc2f31d4-8d79-41e0-8a2f-9bb141d75532"
      },
      "outputs": [
        {
          "output_type": "stream",
          "name": "stdout",
          "text": [
            "From: lerxst@wam.umd.edu (where's my thing)\n",
            "Subject: WHAT car is this!?\n",
            "Nntp-Posting-Host: rac3.wam.umd.edu\n",
            "Organization: University of Maryland, College Park\n",
            "Lines: 15\n",
            "\n",
            " I was wondering if anyone out there could enlighten me on this car I saw\n",
            "the other day. It was a 2-door sports car, looked to be from the late 60s/\n",
            "early 70s. It was called a Bricklin. The doors were really small. In addition,\n",
            "the front bumper was separate from the rest of the body. This is \n",
            "all I know. If anyone can tellme a model name, engine specs, years\n",
            "of production, where this car is made, history, or whatever info you\n",
            "have on this funky looking car, please e-mail.\n",
            "\n",
            "Thanks,\n",
            "- IL\n",
            "   ---- brought to you by your neighborhood Lerxst ----\n",
            "\n",
            "\n",
            "\n",
            "\n",
            "\n",
            "7\n",
            "rec.autos\n"
          ]
        }
      ],
      "source": [
        "print(newsgroups_train['data'][0])\n",
        "print(newsgroups_train['target'][0])\n",
        "print(newsgroups_train.target_names[newsgroups_train['target'][0]])"
      ]
    },
    {
      "cell_type": "markdown",
      "metadata": {
        "id": "fTuq86F_w38k"
      },
      "source": [
        "We can now implement our ```TextClassificationDataset``` class, that we will build from:\n",
        "- A list of texts in the dataset: ```data```\n",
        "- A list of the corresponding categories: ```categories```\n",
        "We will add three optional arguments:\n",
        "- First, a way to input a vocabulary (so that we can re-use the training vocabulary on the testing  ```TextClassificationDataset```). By default, the value of the argument is ```None```.\n",
        "- In order to work with batches, we will need to have sequences of the same size. That can be done via **padding** but we will still need to limit the size of documents (to avoid having batches of huge sequences that are mostly empty because of one very long documents) to a ```max_length```. Let's put it to 200 by default.\n",
        "- Lastly, a ```voc_threshold``` that indicates the number of words to be taken in the vocabulary. "
      ]
    },
    {
      "cell_type": "markdown",
      "metadata": {
        "id": "uEv4BW4ow6Qe"
      },
      "source": [
        "The idea behind **padding** is to transform a list of pytorch tensors (of maybe different length) into a two dimensional tensor - which we can see as a batch. The size of the first dimension is the one of the longest tensor - and other are **padded** with a chosen symbol: here, we choose 0. "
      ]
    },
    {
      "cell_type": "code",
      "execution_count": 17,
      "metadata": {
        "id": "5HvjckX8wW_Y"
      },
      "outputs": [],
      "source": [
        "tensor_1 = torch.LongTensor([1, 4, 5])\n",
        "tensor_2 = torch.LongTensor([2])\n",
        "tensor_3 = torch.LongTensor([6, 7])"
      ]
    },
    {
      "cell_type": "code",
      "execution_count": 18,
      "metadata": {
        "id": "1TkfZxx6w9E-",
        "colab": {
          "base_uri": "https://localhost:8080/"
        },
        "outputId": "907305dc-5fe3-40ae-a06f-6bce0e86ec4e"
      },
      "outputs": [
        {
          "output_type": "stream",
          "name": "stdout",
          "text": [
            "tensor([[1, 4, 5],\n",
            "        [2, 0, 0],\n",
            "        [6, 7, 0]])\n"
          ]
        }
      ],
      "source": [
        "tensor_padded = pad_sequence([tensor_1, tensor_2, tensor_3], batch_first=True, padding_value = 0)\n",
        "print(tensor_padded)"
      ]
    },
    {
      "cell_type": "code",
      "source": [
        "import re\n",
        "def clean_and_tokenize(text):    \n",
        "    # Lowercase\n",
        "    text = text.lower()\n",
        "    # Remove anything but letters\n",
        "    text = re.sub(r\"[^a-z]+\", \" \", text)\n",
        "    \n",
        "    tokens = text.split()        \n",
        "    return tokens"
      ],
      "metadata": {
        "id": "Fl2qH7nEwCyv"
      },
      "execution_count": 19,
      "outputs": []
    },
    {
      "cell_type": "code",
      "execution_count": 20,
      "metadata": {
        "id": "o1n5H6RUw9H2"
      },
      "outputs": [],
      "source": [
        "from collections import Counter\n",
        "import itertools\n",
        "class TextClassificationDataset(Dataset):\n",
        "    def __init__(self, data, categories, vocab = None, max_length = 200, voc_threshold = 5000):\n",
        "        self.data = data      \n",
        "        # Set the maximum length we will keep for the sequences\n",
        "        self.max_length = max_length\n",
        "        \n",
        "        # Allow to import a vocabulary (for valid/test datasets, that will use the training vocabulary)\n",
        "        if vocab is not None:\n",
        "            self.word2idx, self.idx2word = vocab\n",
        "        else:\n",
        "            # If no vocabulary imported, build it (and reverse)\n",
        "            self.word2idx, self.idx2word = self.build_vocab(self.data, voc_threshold)\n",
        "        \n",
        "        # We then need to tokenize the data .. \n",
        "        tokenized_data = [clean_and_tokenize(text) for text in data] # To complete\n",
        "        # Transform words into lists of indexes ... (use the .get() method to redirect unknown words to the UNK token)\n",
        "        indexed_data = [[self.word2idx.get(token, self.word2idx[\"UNK\"]) for token in text] for text in tokenized_data] # To complete\n",
        "        # And transform this list of lists into a list of Pytorch LongTensors\n",
        "        tensor_data = [torch.LongTensor(indexes) for indexes in indexed_data] # To complete\n",
        "        # And the categories into a LongTensor\n",
        "        tensor_y = torch.LongTensor(categories) # To complete\n",
        "        # To finally cut it when it's above the maximum length\n",
        "        cut_tensor_data = [tensor[:max_length] for tensor in tensor_data] # To complete\n",
        "        \n",
        "        # Now, we need to use the pad_sequence function to have the whole dataset represented as one tensor,\n",
        "        # containing sequences of the same length. We choose the padding_value to be 0, the we want the\n",
        "        # batch dimension to be the first dimension \n",
        "        self.tensor_data = pad_sequence(cut_tensor_data, batch_first=True, padding_value = 0) # To complete\n",
        "        self.tensor_y = tensor_y\n",
        "        \n",
        "    def __len__(self):\n",
        "        return len(self.data)\n",
        "\n",
        "    def __getitem__(self, idx):\n",
        "        # The iterator just gets one particular example with its category\n",
        "        # The dataloader will take care of the shuffling and batching\n",
        "        if torch.is_tensor(idx):\n",
        "            idx = idx.tolist()\n",
        "        return self.tensor_data[idx], self.tensor_y[idx] \n",
        "    \n",
        "    def build_vocab(self, corpus, voc_threshold):\n",
        "        \"\"\"\n",
        "        Same as in the previous TP: we want to output word_index, a dictionary containing words \n",
        "        and their corresponding indexes as {word : indexes} \n",
        "        But we also want the reverse, which is a dictionary {indexes: word}\n",
        "        Don't forget to add a UNK token that we need when encountering unknown words\n",
        "        We also choose '0' to represent the padding index, so begin the vocabulary index at 1 ! \n",
        "        \"\"\"\n",
        "        # To complete\n",
        "        if isinstance(corpus[0],list):\n",
        "            word_counts = Counter(clean_and_tokenize(\" \".join(itertools.chain.from_iterable(corpus))))\n",
        "        else:\n",
        "            word_counts = Counter(clean_and_tokenize(\" \".join(corpus)))\n",
        "        # The use of a Counter object allows us to easily incorporate the threshold\n",
        "        word_counts = Counter({word[0]: word[1] for word in word_counts.most_common(voc_threshold)})\n",
        "        # We then add the UNK token to the counter\n",
        "        word_counts.update({\"UNK\":1})\n",
        "        # And create the word_index dictionary\n",
        "        word_index = {word[0]: i+1 for i, word in enumerate(word_counts.most_common())}\n",
        "        idx_word = {value:key for key, value in word_index.items()}\n",
        "        return word_index, idx_word\n",
        "    \n",
        "    def get_vocab(self):\n",
        "        # A simple way to get the training vocab when building the valid/test \n",
        "        return self.word2idx, self.idx2word"
      ]
    },
    {
      "cell_type": "code",
      "execution_count": 21,
      "metadata": {
        "id": "QwA5Jxm3w9Kw"
      },
      "outputs": [],
      "source": [
        "training_dataset = TextClassificationDataset(newsgroups_train['data'], newsgroups_train['target'])\n",
        "training_word2idx, training_idx2word = training_dataset.get_vocab()"
      ]
    },
    {
      "cell_type": "code",
      "execution_count": 22,
      "metadata": {
        "id": "n3ei2xd6JnvS"
      },
      "outputs": [],
      "source": [
        "test_dataset = TextClassificationDataset(newsgroups_test['data'], newsgroups_test['target'], (training_word2idx, training_idx2word))"
      ]
    },
    {
      "cell_type": "code",
      "execution_count": 23,
      "metadata": {
        "id": "FvWlJpbRw9Pt"
      },
      "outputs": [],
      "source": [
        "training_dataloader = DataLoader(training_dataset, batch_size = 200, shuffle=True)\n",
        "test_dataloader = DataLoader(test_dataset, batch_size = 25)"
      ]
    },
    {
      "cell_type": "code",
      "execution_count": 24,
      "metadata": {
        "id": "LidGZUp-w9SN",
        "colab": {
          "base_uri": "https://localhost:8080/"
        },
        "outputId": "6b1aaaf8-4d9e-4cdb-85d1-13171179c857"
      },
      "outputs": [
        {
          "output_type": "stream",
          "name": "stdout",
          "text": [
            "(tensor([  16, 1998, 1995, 1998, 1686, 4188,   17,   34,   32,  770,   38,   83,\n",
            "          71,   35,  145,  147,   99,   85,   97,  607,  153, 1968, 5001,   71,\n",
            "        5001,    7,   25,   22, 2831,   36,   46,   24,    1,  829,    3,  117,\n",
            "          32,  770, 5001,   30,  163, 1743,   98,    8,   72, 1246, 5001,    7,\n",
            "         151,  223,    2,  132,   98,    6,  352,  139,   49,    3,   44,  207,\n",
            "           7,  151,  223, 5001,  625,   18,   44, 2693,  511,   77, 2775, 5001,\n",
            "          32, 4903,    6,    7,  151, 3078,    2, 3792, 1831, 5001,  168,   30,\n",
            "         129,   10,    7,   25,  355,   12,   98,    7,   37,   15,  430,    2,\n",
            "         189,   70,   32,  770,   14,    8, 5001,  204, 5001,  120,   13,   51,\n",
            "          13,  171,  335,   71,   65,   32,  770, 3659,    7,   94,    7,  190,\n",
            "         263,   96,    4,  243, 5001,   30,    7,   37, 1512,   11,    7,  489,\n",
            "        1998, 1995, 1998, 1686, 4188,   17, 5001, 5001,  980, 4549,  123, 5001,\n",
            "        5001,  335,    4, 5001,   96,   49,  179, 5001, 5001, 5001, 4795, 5001,\n",
            "        5001, 1998, 1995, 5001, 5001, 5001,  206,    0,    0,    0,    0,    0,\n",
            "           0,    0,    0,    0,    0,    0,    0,    0,    0,    0,    0,    0,\n",
            "           0,    0,    0,    0,    0,    0,    0,    0,    0,    0,    0,    0,\n",
            "           0,    0,    0,    0,    0,    0,    0,    0]), tensor(5))\n"
          ]
        }
      ],
      "source": [
        "print(test_dataset[1])"
      ]
    },
    {
      "cell_type": "code",
      "execution_count": 25,
      "metadata": {
        "id": "891JXUwPw9Ux",
        "colab": {
          "base_uri": "https://localhost:8080/"
        },
        "outputId": "3f68d7cd-b018-4bf0-fdb2-f0e7b9f25354"
      },
      "outputs": [
        {
          "output_type": "stream",
          "name": "stdout",
          "text": [
            "torch.Size([200, 200])\n",
            "torch.Size([200])\n"
          ]
        }
      ],
      "source": [
        "example_batch = next(iter(training_dataloader))\n",
        "print(example_batch[0].size())\n",
        "print(example_batch[1].size())"
      ]
    },
    {
      "cell_type": "markdown",
      "metadata": {
        "id": "7n9XkuTs0GKT"
      },
      "source": [
        "### A simple averaging model\n",
        "\n",
        "Now, we will implement in Pytorch what we did in the previous TP: a simple averaging model. For each model we will implement, we need to create a class which inherits from ```nn.Module``` and redifine the ```__init__``` method as well as the ```forward``` method."
      ]
    },
    {
      "cell_type": "code",
      "execution_count": 26,
      "metadata": {
        "id": "wCmyWWQq0LDS"
      },
      "outputs": [],
      "source": [
        "# Models are usually implemented as custom nn.Module subclass\n",
        "# We need to redefine the __init__ method, which creates the object\n",
        "# We also need to redefine the forward method, which transform the input into outputs\n",
        "\n",
        "class AveragingModel(nn.Module):    \n",
        "    def __init__(self, embedding_dim, vocabulary_size, nb_classes):\n",
        "        super().__init__()\n",
        "        # Create an embedding object. Be careful to padding - you need to increase the vocabulary size by one !\n",
        "        # Look into the arguments of the nn.Embedding class\n",
        "        self.embeddings = nn.Embedding(num_embeddings=vocabulary_size+1, embedding_dim=embedding_dim, padding_idx=0) # To complete\n",
        "        # Create a linear layer that will transform the mean of the embeddings into a classification score\n",
        "        self.linear = nn.Linear(embedding_dim, nb_classes) # To complete\n",
        "        \n",
        "        # No need for sigmoid, it will be into the criterion ! \n",
        "        \n",
        "    def forward(self, inputs):\n",
        "        # Remember: the inpts are written as Batch_size * seq_length * embedding_dim\n",
        "        # First, take the mean of the embeddings of the document\n",
        "        x = torch.mean(self.embeddings(inputs), dim=1) # To complete\n",
        "        # Then make it go through the linear layer and remove the extra dimension with the method .squeeze()\n",
        "        o = self.linear(x).squeeze() # To complete\n",
        "        return o"
      ]
    },
    {
      "cell_type": "code",
      "execution_count": 27,
      "metadata": {
        "id": "5VH2C2rE0FR_"
      },
      "outputs": [],
      "source": [
        "import torch.optim as optim"
      ]
    },
    {
      "cell_type": "code",
      "execution_count": 28,
      "metadata": {
        "id": "wZp4RDMW0LGX"
      },
      "outputs": [],
      "source": [
        "model = AveragingModel(300, len(training_word2idx), len(newsgroups_train.target_names))\n",
        "# Create an optimizer\n",
        "opt = optim.Adam(model.parameters(), lr=0.025, betas=(0.9, 0.999))\n",
        "# The criterion is a cross entropy loss based on logits - meaning that the softmax is integrated into the criterion\n",
        "criterion = nn.CrossEntropyLoss()"
      ]
    },
    {
      "cell_type": "code",
      "execution_count": 29,
      "metadata": {
        "id": "JM9MFRVQ0LJh"
      },
      "outputs": [],
      "source": [
        "# Implement a training function, which will train the model with the corresponding optimizer and criterion,\n",
        "# with the appropriate dataloader, for one epoch.\n",
        "\n",
        "def train_epoch(model, opt, criterion, dataloader):\n",
        "    model.train()\n",
        "    losses = []\n",
        "    for i, (x, y) in enumerate(dataloader):\n",
        "        opt.zero_grad()\n",
        "        # (1) Forward\n",
        "        pred = model(x) # To complete\n",
        "        # (2) Compute the loss \n",
        "        loss = criterion(pred,y) # To complete\n",
        "        # (3) Compute gradients with the criterion\n",
        "        loss.backward()\n",
        "        # (4) Update weights with the optimizer\n",
        "        opt.step()   \n",
        "        losses.append(loss.item())\n",
        "        # Count the number of correct predictions in the batch - here, you'll need to use the sigmoid\n",
        "        num_corrects = torch.sum(torch.argmax(pred, dim=1) == y) # To complete\n",
        "        acc = 100.0 * num_corrects/len(y)\n",
        "        \n",
        "        if (i%20 == 0):\n",
        "            print(\"Batch \" + str(i) + \" : training loss = \" + str(loss.item()) + \"; training acc = \" + str(acc.item()))\n",
        "    return losses"
      ]
    },
    {
      "cell_type": "code",
      "execution_count": 30,
      "metadata": {
        "id": "vz82AFmL0LMx"
      },
      "outputs": [],
      "source": [
        "# Same for the evaluation ! We don't need the optimizer here. \n",
        "def eval_model(model, criterion, evalloader):\n",
        "    model.eval()\n",
        "    total_epoch_loss = 0\n",
        "    total_epoch_acc = 0\n",
        "    with torch.no_grad():\n",
        "        for i, (x, y) in enumerate(evalloader):\n",
        "            # (1) Forward\n",
        "            pred = model(x) # To complete\n",
        "            # (2) Compute the loss \n",
        "            loss = criterion(pred,y) # To complete\n",
        "            num_corrects = torch.sum(torch.argmax(pred, dim=1) == y) # To complete\n",
        "            acc = 100.0 * num_corrects/len(y)\n",
        "            total_epoch_loss += loss.item()\n",
        "            total_epoch_acc += acc.item()\n",
        "\n",
        "    return total_epoch_loss/(i+1), total_epoch_acc/(i+1)"
      ]
    },
    {
      "cell_type": "code",
      "execution_count": 31,
      "metadata": {
        "id": "J8grPth70ZyO"
      },
      "outputs": [],
      "source": [
        "# A function which will help you execute experiments rapidly - with a early_stopping option when necessary. \n",
        "def experiment(model, opt, criterion, num_epochs = 5, early_stopping = True):\n",
        "    train_losses = []\n",
        "    test_losses = []\n",
        "    \n",
        "    if early_stopping: \n",
        "        best_valid_loss = 100000. \n",
        "    print(\"Beginning training...\")\n",
        "    for e in range(num_epochs):\n",
        "        print(\"Epoch \" + str(e+1) + \":\")\n",
        "        train_losses += train_epoch(model, opt, criterion, training_dataloader)\n",
        "        valid_loss, valid_acc = eval_model(model, criterion, test_dataloader)\n",
        "        test_losses.append(valid_loss)\n",
        "        print(\"Epoch \" + str(e+1) + \" : Validation loss = \" + str(valid_loss) + \"; Validation acc = \" + str(valid_acc))\n",
        "        if early_stopping:\n",
        "            if valid_loss < best_valid_loss:\n",
        "                best_valid_loss = valid_loss\n",
        "            else:\n",
        "                print(\"Early stopping.\")\n",
        "                break  \n",
        "    test_loss, test_acc = eval_model(model, criterion, test_dataloader)\n",
        "    print(\"Epoch \" + str(e+1) + \" : Test loss = \" + str(test_loss) + \"; Test acc = \" + str(test_acc))\n",
        "    # We choose to also return the test loss in order to assess overfitting in our experiments\n",
        "    return train_losses, test_losses"
      ]
    },
    {
      "cell_type": "code",
      "execution_count": 32,
      "metadata": {
        "id": "UZvgnfo10Z1i",
        "colab": {
          "base_uri": "https://localhost:8080/"
        },
        "outputId": "052b3d0c-916d-4c07-804f-5638227eb38b"
      },
      "outputs": [
        {
          "output_type": "stream",
          "name": "stdout",
          "text": [
            "Beginning training...\n",
            "Epoch 1:\n",
            "Batch 0 : training loss = 2.9910526275634766; training acc = 4.0\n",
            "Batch 20 : training loss = 1.863439679145813; training acc = 55.0\n",
            "Batch 40 : training loss = 0.9068602919578552; training acc = 79.5\n",
            "Epoch 1 : Validation loss = 0.9356578168095342; Validation acc = 73.20340587287549\n",
            "Epoch 2:\n",
            "Batch 0 : training loss = 0.3699581027030945; training acc = 93.5\n",
            "Batch 20 : training loss = 0.38799750804901123; training acc = 90.5\n",
            "Batch 40 : training loss = 0.28740817308425903; training acc = 92.0\n",
            "Epoch 2 : Validation loss = 0.7593362382705638; Validation acc = 78.05676442582086\n",
            "Epoch 3:\n",
            "Batch 0 : training loss = 0.1632966548204422; training acc = 95.5\n",
            "Batch 20 : training loss = 0.24370542168617249; training acc = 94.5\n",
            "Batch 40 : training loss = 0.1535671353340149; training acc = 96.0\n",
            "Epoch 3 : Validation loss = 0.7516317658175696; Validation acc = 79.21665090598808\n",
            "Epoch 4:\n",
            "Batch 0 : training loss = 0.06405588239431381; training acc = 99.5\n",
            "Batch 20 : training loss = 0.08667111396789551; training acc = 98.5\n",
            "Batch 40 : training loss = 0.11631518602371216; training acc = 98.5\n",
            "Epoch 4 : Validation loss = 0.7803737148149124; Validation acc = 79.29612110466357\n",
            "Epoch 5:\n",
            "Batch 0 : training loss = 0.028266971930861473; training acc = 100.0\n",
            "Batch 20 : training loss = 0.05343974009156227; training acc = 99.5\n",
            "Batch 40 : training loss = 0.028371918946504593; training acc = 100.0\n",
            "Epoch 5 : Validation loss = 0.8232843655821503; Validation acc = 78.46736045231093\n",
            "Epoch 5 : Test loss = 0.8232843655821503; Test acc = 78.46736045231093\n"
          ]
        }
      ],
      "source": [
        "model = AveragingModel(300, len(training_word2idx), len(newsgroups_train.target_names))\n",
        "# Create an optimizer\n",
        "opt = optim.Adam(model.parameters(), lr=0.025, betas=(0.9, 0.999))\n",
        "# The criterion is a cross entropy loss based on logits - meaning that the softmax is integrated into the criterion\n",
        "criterion = nn.CrossEntropyLoss()\n",
        "train_losses, test_losses = experiment(model, opt, criterion, early_stopping=False) # We remove early_stopping (in this case, we found it to be very strict)"
      ]
    },
    {
      "cell_type": "code",
      "execution_count": 33,
      "metadata": {
        "id": "m-CIwDga0Z7q",
        "colab": {
          "base_uri": "https://localhost:8080/",
          "height": 54
        },
        "outputId": "0f5d4173-c3d3-420f-c92c-256edc70bf47"
      },
      "outputs": [
        {
          "output_type": "display_data",
          "data": {
            "text/plain": [
              "<Figure size 864x576 with 1 Axes>"
            ],
            "image/png": "[encoded data removed]"
          },
          "metadata": {
            "needs_background": "light"
          }
        }
      ],
      "source": [
        "import matplotlib.pyplot as plt\n",
        "plt.figure(figsize=(12,8))\n",
        "plt.plot(range(len(train_losses)), train_losses, label=\"Train\")\n",
        "plt.plot(np.array(range(1,len(test_losses)+1))*len(train_losses)/len(test_losses), test_losses, label=\"Test\")\n",
        "plt.legend()\n",
        "plt.xlabel(\"Epoch\")\n",
        "plt.ylabel(\"Loss (CE)\")\n",
        "plt.title(\"Losses over epochs\")\n",
        "plt.show()"
      ]
    },
    {
      "cell_type": "markdown",
      "metadata": {
        "id": "kp8d-0N7JPlR"
      },
      "source": [
        "### With Glove embeddings: \n",
        "\n",
        "Now, we would like to integrate pre-trained word embeddings into our model ! Let's use again the functions that we used in the previous TP:"
      ]
    },
    {
      "cell_type": "code",
      "execution_count": 34,
      "metadata": {
        "id": "RUa7xjDv0Z-0",
        "colab": {
          "base_uri": "https://localhost:8080/"
        },
        "outputId": "0044ee9c-81d0-450b-9a1e-62fb53b9a022"
      },
      "outputs": [
        {
          "output_type": "stream",
          "name": "stdout",
          "text": [
            "[==================================================] 100.0% 376.1/376.1MB downloaded\n"
          ]
        }
      ],
      "source": [
        "import gensim.downloader as api\n",
        "loaded_glove_model = api.load(\"glove-wiki-gigaword-300\")\n",
        "loaded_glove_embeddings = loaded_glove_model.vectors"
      ]
    },
    {
      "cell_type": "code",
      "execution_count": 35,
      "metadata": {
        "id": "unwB2-4r0aBg"
      },
      "outputs": [],
      "source": [
        "def get_glove_adapted_embeddings(glove_model, input_voc):\n",
        "    keys = {i: glove_model.vocab.get(w, None) for w, i in input_voc.items()}\n",
        "    index_dict = {i: key.index for i, key in keys.items() if key is not None}\n",
        "    embeddings = np.zeros((len(input_voc)+1,glove_model.vectors.shape[1]))\n",
        "    for i, ind in index_dict.items():\n",
        "        embeddings[i] = glove_model.vectors[ind]\n",
        "    return embeddings\n",
        "\n",
        "GloveEmbeddings = get_glove_adapted_embeddings(loaded_glove_model, training_word2idx)"
      ]
    },
    {
      "cell_type": "code",
      "execution_count": 36,
      "metadata": {
        "id": "dhoS6NH20aEU",
        "colab": {
          "base_uri": "https://localhost:8080/"
        },
        "outputId": "d9a06a85-02c9-4135-a211-21d9f5b415ad"
      },
      "outputs": [
        {
          "output_type": "stream",
          "name": "stdout",
          "text": [
            "(5002, 300)\n",
            "[0. 0. 0. 0. 0. 0. 0. 0. 0. 0. 0. 0. 0. 0. 0. 0. 0. 0. 0. 0. 0. 0. 0. 0.\n",
            " 0. 0. 0. 0. 0. 0. 0. 0. 0. 0. 0. 0. 0. 0. 0. 0. 0. 0. 0. 0. 0. 0. 0. 0.\n",
            " 0. 0. 0. 0. 0. 0. 0. 0. 0. 0. 0. 0. 0. 0. 0. 0. 0. 0. 0. 0. 0. 0. 0. 0.\n",
            " 0. 0. 0. 0. 0. 0. 0. 0. 0. 0. 0. 0. 0. 0. 0. 0. 0. 0. 0. 0. 0. 0. 0. 0.\n",
            " 0. 0. 0. 0. 0. 0. 0. 0. 0. 0. 0. 0. 0. 0. 0. 0. 0. 0. 0. 0. 0. 0. 0. 0.\n",
            " 0. 0. 0. 0. 0. 0. 0. 0. 0. 0. 0. 0. 0. 0. 0. 0. 0. 0. 0. 0. 0. 0. 0. 0.\n",
            " 0. 0. 0. 0. 0. 0. 0. 0. 0. 0. 0. 0. 0. 0. 0. 0. 0. 0. 0. 0. 0. 0. 0. 0.\n",
            " 0. 0. 0. 0. 0. 0. 0. 0. 0. 0. 0. 0. 0. 0. 0. 0. 0. 0. 0. 0. 0. 0. 0. 0.\n",
            " 0. 0. 0. 0. 0. 0. 0. 0. 0. 0. 0. 0. 0. 0. 0. 0. 0. 0. 0. 0. 0. 0. 0. 0.\n",
            " 0. 0. 0. 0. 0. 0. 0. 0. 0. 0. 0. 0. 0. 0. 0. 0. 0. 0. 0. 0. 0. 0. 0. 0.\n",
            " 0. 0. 0. 0. 0. 0. 0. 0. 0. 0. 0. 0. 0. 0. 0. 0. 0. 0. 0. 0. 0. 0. 0. 0.\n",
            " 0. 0. 0. 0. 0. 0. 0. 0. 0. 0. 0. 0. 0. 0. 0. 0. 0. 0. 0. 0. 0. 0. 0. 0.\n",
            " 0. 0. 0. 0. 0. 0. 0. 0. 0. 0. 0. 0.]\n"
          ]
        }
      ],
      "source": [
        "print(GloveEmbeddings.shape)\n",
        "# We should check that the \"padding\" vector is at zero\n",
        "print(GloveEmbeddings[0])"
      ]
    },
    {
      "cell_type": "markdown",
      "metadata": {
        "id": "SpkmUwA4LjT0"
      },
      "source": [
        "Here, implement a ```PretrainedAveragingModel``` very similar to the previous model, using the ```nn.Embedding``` method ```from_pretrained()``` to initialize the embeddings from a numpy array. Use the ```requires_grad_``` method to specify if the model must fine-tune the embeddings or not ! "
      ]
    },
    {
      "cell_type": "code",
      "execution_count": 37,
      "metadata": {
        "id": "aVh4fz39Lg5c"
      },
      "outputs": [],
      "source": [
        "class PretrainedAveragingModel(nn.Module):\n",
        "    def __init__(self, embedding_dim, vocabulary_size, nb_classes, pretrained=None, finetune=False):\n",
        "        super().__init__()\n",
        "        # Create an embedding object. Be careful to padding - you need to increase the vocabulary size by one !\n",
        "        # Look into the arguments of the nn.Embedding class\n",
        "        self.embeddings = nn.Embedding(num_embeddings=vocabulary_size+1, embedding_dim=embedding_dim, padding_idx=0) # To complete\n",
        "        if pretrained != None:\n",
        "            self.embeddings = self.embeddings.from_pretrained(pretrained, freeze=False)\n",
        "            self.embeddings.requires_grad_(finetune)\n",
        "        # Create a linear layer that will transform the mean of the embeddings into a classification score\n",
        "        self.linear = nn.Linear(embedding_dim, nb_classes) # To complete\n",
        "        \n",
        "        # No need for sigmoid, it will be into the criterion ! \n",
        "        \n",
        "    def forward(self, inputs):\n",
        "        # Remember: the inpts are written as Batch_size * seq_length * embedding_dim\n",
        "        # First, take the mean of the embeddings of the document\n",
        "        x = self.embeddings(inputs)\n",
        "        x = torch.mean(x, dim=1) # To complete\n",
        "        # Then make it go through the linear layer and remove the extra dimension with the method .squeeze()\n",
        "        o = self.linear(x).squeeze() # To complete\n",
        "        return o"
      ]
    },
    {
      "cell_type": "markdown",
      "metadata": {
        "id": "rmQUbBVxLtwa"
      },
      "source": [
        "### Questions: \n",
        "- What are the results **with and without fine-tuning of embeddings imported from GloVe** ?\n",
        "- Make hypothesis based on your intuition and the class on how the size of the vocabulary (change the minimum frequency of words to be taken in the vocabular) will impact results, in the three cases (No pre-training, pre-training without fine-tuning, pretraining with fine-tuning).\n",
        "- Verify experiments and analyze your results !"
      ]
    },
    {
      "cell_type": "markdown",
      "source": [
        "We think that using glove embeddings without fine-tuning will have the worst performance, that using no pre-trained embeddings will be second best, and that pre-training with fine-tuning will be the best. We are indeed training for a specific task : preventing fine-tuning is very likely to degrade performance, as GloVe embeddings were not trained for our task. However, if fine-tuning is allowed, embeddings trained for a more general purpose (for instance, skip-grams or CBOW) will give the model a \"headstart\". The embeddings will benefit from previous knowledge, that we can then fine-tune for our specific task.  \n",
        "We also think that a larger vocabulary will give better results, with diminishing returns. When the vocabulary gets larger, we start training on very rare words. This can lead to overfitting rather than good generalization."
      ],
      "metadata": {
        "id": "tAOjE8T-v0zj"
      }
    },
    {
      "cell_type": "code",
      "source": [
        "def experiment_train(embedding_dim, vocabulary_size, nb_classes, pretrained=None, finetune=False):\n",
        "  model_pre_trained = PretrainedAveragingModel(embedding_dim, vocabulary_size, nb_classes, pretrained=pretrained, finetune=finetune)\n",
        "  opt_pre_trained = optim.Adam(model_pre_trained.parameters(), lr=.05, betas=(0.9, 0.999))\n",
        "  train_losses, test_losses = experiment(model_pre_trained, opt_pre_trained, criterion, early_stopping=False)\n",
        "  return train_losses, test_losses"
      ],
      "metadata": {
        "id": "U0LRkm3MM1uN"
      },
      "execution_count": 38,
      "outputs": []
    },
    {
      "cell_type": "markdown",
      "source": [
        "#### 5K Vocabulary"
      ],
      "metadata": {
        "id": "nzSLSFI8r9kI"
      }
    },
    {
      "cell_type": "markdown",
      "source": [
        "##### No pre-training"
      ],
      "metadata": {
        "id": "KVJ5wrmKr9hh"
      }
    },
    {
      "cell_type": "code",
      "execution_count": 39,
      "metadata": {
        "colab": {
          "base_uri": "https://localhost:8080/"
        },
        "outputId": "626f06ef-8b8d-4553-bb41-c29a92f817e3",
        "id": "IRLurgseMwZa"
      },
      "outputs": [
        {
          "output_type": "stream",
          "name": "stdout",
          "text": [
            "Beginning training...\n",
            "Epoch 1:\n",
            "Batch 0 : training loss = 2.9897661209106445; training acc = 6.5\n",
            "Batch 20 : training loss = 1.0791385173797607; training acc = 69.0\n",
            "Batch 40 : training loss = 0.6699889898300171; training acc = 80.5\n",
            "Epoch 1 : Validation loss = 0.7991730900888412; Validation acc = 77.14285714105264\n",
            "Epoch 2:\n",
            "Batch 0 : training loss = 0.15702252089977264; training acc = 98.0\n",
            "Batch 20 : training loss = 0.14331242442131042; training acc = 96.5\n",
            "Batch 40 : training loss = 0.1935388743877411; training acc = 95.0\n",
            "Epoch 2 : Validation loss = 0.828248940260205; Validation acc = 78.00378429337053\n",
            "Epoch 3:\n",
            "Batch 0 : training loss = 0.07582393288612366; training acc = 98.0\n",
            "Batch 20 : training loss = 0.06230264529585838; training acc = 99.5\n",
            "Batch 40 : training loss = 0.05543306842446327; training acc = 98.5\n",
            "Epoch 3 : Validation loss = 0.8990441172673608; Validation acc = 78.24787133576854\n",
            "Epoch 4:\n",
            "Batch 0 : training loss = 0.059549666941165924; training acc = 98.5\n",
            "Batch 20 : training loss = 0.012949743308126926; training acc = 100.0\n",
            "Batch 40 : training loss = 0.012016050517559052; training acc = 100.0\n",
            "Epoch 4 : Validation loss = 0.9393504881947641; Validation acc = 78.06244087219238\n",
            "Epoch 5:\n",
            "Batch 0 : training loss = 0.009960349649190903; training acc = 100.0\n",
            "Batch 20 : training loss = 0.0071542044170200825; training acc = 100.0\n",
            "Batch 40 : training loss = 0.12491334229707718; training acc = 99.0\n",
            "Epoch 5 : Validation loss = 0.9741275095633718; Validation acc = 78.24787133576854\n",
            "Epoch 5 : Test loss = 0.9741275095633718; Test acc = 78.24787133576854\n"
          ]
        }
      ],
      "source": [
        "train_losses_5K_nopre, test_losses_5K_nopre = experiment_train(300, len(training_word2idx), len(newsgroups_train.target_names))"
      ]
    },
    {
      "cell_type": "markdown",
      "source": [
        "##### Pre-training without fine-tuning"
      ],
      "metadata": {
        "id": "KXXHdFaLoOzP"
      }
    },
    {
      "cell_type": "code",
      "execution_count": 40,
      "metadata": {
        "colab": {
          "base_uri": "https://localhost:8080/"
        },
        "outputId": "d800d2a9-da51-40d4-d8f0-d3c964cbdb44",
        "id": "WPmMwRKWoNYD"
      },
      "outputs": [
        {
          "output_type": "stream",
          "name": "stdout",
          "text": [
            "Beginning training...\n",
            "Epoch 1:\n",
            "Batch 0 : training loss = 3.0009067058563232; training acc = 7.5\n",
            "Batch 20 : training loss = 2.087541341781616; training acc = 42.5\n",
            "Batch 40 : training loss = 1.6427125930786133; training acc = 58.5\n",
            "Epoch 1 : Validation loss = 1.645466546349178; Validation acc = 56.10217597153013\n",
            "Epoch 2:\n",
            "Batch 0 : training loss = 1.5618391036987305; training acc = 57.5\n",
            "Batch 20 : training loss = 1.4555507898330688; training acc = 61.5\n",
            "Batch 40 : training loss = 1.2996562719345093; training acc = 62.0\n",
            "Epoch 2 : Validation loss = 1.4115676129890593; Validation acc = 60.38599810695017\n",
            "Epoch 3:\n",
            "Batch 0 : training loss = 1.1948812007904053; training acc = 76.5\n",
            "Batch 20 : training loss = 1.2336890697479248; training acc = 60.5\n",
            "Batch 40 : training loss = 1.1636568307876587; training acc = 69.0\n",
            "Epoch 3 : Validation loss = 1.2991320980305703; Validation acc = 63.307473984775164\n",
            "Epoch 4:\n",
            "Batch 0 : training loss = 1.1734585762023926; training acc = 68.5\n",
            "Batch 20 : training loss = 0.9577612280845642; training acc = 75.5\n",
            "Batch 40 : training loss = 0.966093122959137; training acc = 76.5\n",
            "Epoch 4 : Validation loss = 1.242092498090883; Validation acc = 64.1948912033182\n",
            "Epoch 5:\n",
            "Batch 0 : training loss = 0.9302300810813904; training acc = 75.0\n",
            "Batch 20 : training loss = 0.9306013584136963; training acc = 75.0\n",
            "Batch 40 : training loss = 1.0560059547424316; training acc = 69.0\n",
            "Epoch 5 : Validation loss = 1.191548412209315; Validation acc = 65.8051087966818\n",
            "Epoch 5 : Test loss = 1.191548412209315; Test acc = 65.8051087966818\n"
          ]
        }
      ],
      "source": [
        "train_losses_5K_False, test_losses_5K_False = experiment_train(300, len(training_word2idx), len(newsgroups_train.target_names), torch.FloatTensor(GloveEmbeddings), False)"
      ]
    },
    {
      "cell_type": "markdown",
      "source": [
        "##### Pre-training with fine-tuning"
      ],
      "metadata": {
        "id": "9fO_j_FFoSdn"
      }
    },
    {
      "cell_type": "code",
      "execution_count": 41,
      "metadata": {
        "id": "kzgSTvT5LiqC",
        "colab": {
          "base_uri": "https://localhost:8080/"
        },
        "outputId": "9229ec16-77f0-45f1-f229-38df9eb91bba"
      },
      "outputs": [
        {
          "output_type": "stream",
          "name": "stdout",
          "text": [
            "Beginning training...\n",
            "Epoch 1:\n",
            "Batch 0 : training loss = 2.9958536624908447; training acc = 1.5\n",
            "Batch 20 : training loss = 0.9067810773849487; training acc = 77.0\n",
            "Batch 40 : training loss = 0.5174518823623657; training acc = 85.0\n",
            "Epoch 1 : Validation loss = 0.7674109812406514; Validation acc = 77.88457899535729\n",
            "Epoch 2:\n",
            "Batch 0 : training loss = 0.22440169751644135; training acc = 94.0\n",
            "Batch 20 : training loss = 0.23318853974342346; training acc = 92.0\n",
            "Batch 40 : training loss = 0.2676600217819214; training acc = 95.0\n",
            "Epoch 2 : Validation loss = 0.8111259005963802; Validation acc = 78.14380322386887\n",
            "Epoch 3:\n",
            "Batch 0 : training loss = 0.058882612735033035; training acc = 99.0\n",
            "Batch 20 : training loss = 0.05627557262778282; training acc = 98.5\n",
            "Batch 40 : training loss = 0.039704330265522; training acc = 99.5\n",
            "Epoch 3 : Validation loss = 0.8920696734000515; Validation acc = 78.2743614019937\n",
            "Epoch 4:\n",
            "Batch 0 : training loss = 0.010098803788423538; training acc = 100.0\n",
            "Batch 20 : training loss = 0.029530595988035202; training acc = 99.5\n",
            "Batch 40 : training loss = 0.012268103659152985; training acc = 100.0\n",
            "Epoch 4 : Validation loss = 0.9253150187432766; Validation acc = 78.53926206424536\n",
            "Epoch 5:\n",
            "Batch 0 : training loss = 0.016562847420573235; training acc = 99.5\n",
            "Batch 20 : training loss = 0.022873707115650177; training acc = 99.5\n",
            "Batch 40 : training loss = 0.03671032190322876; training acc = 99.0\n",
            "Epoch 5 : Validation loss = 0.9899240470929256; Validation acc = 78.64522232914602\n",
            "Epoch 5 : Test loss = 0.9899240470929256; Test acc = 78.64522232914602\n"
          ]
        }
      ],
      "source": [
        "train_losses_5K_True, test_losses_5K_True = experiment_train(300, len(training_word2idx), len(newsgroups_train.target_names), torch.FloatTensor(GloveEmbeddings), True)"
      ]
    },
    {
      "cell_type": "markdown",
      "source": [
        "#### 20k vocabulary"
      ],
      "metadata": {
        "id": "XRuq4e50oeUE"
      }
    },
    {
      "cell_type": "code",
      "execution_count": 42,
      "metadata": {
        "id": "CYg0joeGoKCu"
      },
      "outputs": [],
      "source": [
        "training_dataset_20 = TextClassificationDataset(newsgroups_train['data'], newsgroups_train['target'], voc_threshold = 20000)\n",
        "training_word2idx_20, training_idx2word_20 = training_dataset.get_vocab()"
      ]
    },
    {
      "cell_type": "code",
      "execution_count": 43,
      "metadata": {
        "id": "va91ZkhsoKCv"
      },
      "outputs": [],
      "source": [
        "test_dataset_20 = TextClassificationDataset(newsgroups_test['data'], newsgroups_test['target'], (training_word2idx, training_idx2word))"
      ]
    },
    {
      "cell_type": "code",
      "execution_count": 44,
      "metadata": {
        "id": "TpNVnWy9oKCw"
      },
      "outputs": [],
      "source": [
        "training_dataloader_20 = DataLoader(training_dataset, batch_size = 200, shuffle=True)\n",
        "test_dataloader_20 = DataLoader(test_dataset, batch_size = 25)"
      ]
    },
    {
      "cell_type": "code",
      "execution_count": 45,
      "metadata": {
        "id": "M24XnpjfrI7g"
      },
      "outputs": [],
      "source": [
        "def get_glove_adapted_embeddings(glove_model, input_voc):\n",
        "    keys = {i: glove_model.vocab.get(w, None) for w, i in input_voc.items()}\n",
        "    index_dict = {i: key.index for i, key in keys.items() if key is not None}\n",
        "    embeddings = np.zeros((len(input_voc)+1,glove_model.vectors.shape[1]))\n",
        "    for i, ind in index_dict.items():\n",
        "        embeddings[i] = glove_model.vectors[ind]\n",
        "    return embeddings\n",
        "\n",
        "GloveEmbeddings_20 = get_glove_adapted_embeddings(loaded_glove_model, training_word2idx_20)"
      ]
    },
    {
      "cell_type": "markdown",
      "source": [
        "##### No pre-training"
      ],
      "metadata": {
        "id": "O4xQEOgVo0Og"
      }
    },
    {
      "cell_type": "code",
      "source": [
        "train_losses_20K_nopre, test_losses_20K_nopre = experiment_train(300, len(training_word2idx_20), len(newsgroups_train.target_names))"
      ],
      "metadata": {
        "colab": {
          "base_uri": "https://localhost:8080/"
        },
        "id": "8PWESq5do6Ju",
        "outputId": "8f365edf-f58e-4907-da85-6f953b8e5f99"
      },
      "execution_count": 46,
      "outputs": [
        {
          "output_type": "stream",
          "name": "stdout",
          "text": [
            "Beginning training...\n",
            "Epoch 1:\n",
            "Batch 0 : training loss = 2.996387004852295; training acc = 9.0\n",
            "Batch 20 : training loss = 1.0842682123184204; training acc = 74.0\n",
            "Batch 40 : training loss = 0.5286743640899658; training acc = 87.0\n",
            "Epoch 1 : Validation loss = 0.832328356259706; Validation acc = 76.22327342254437\n",
            "Epoch 2:\n",
            "Batch 0 : training loss = 0.2248370349407196; training acc = 93.0\n",
            "Batch 20 : training loss = 0.21596817672252655; training acc = 95.5\n",
            "Batch 40 : training loss = 0.19656208157539368; training acc = 94.0\n",
            "Epoch 2 : Validation loss = 0.83791134506464; Validation acc = 77.51371806820497\n",
            "Epoch 3:\n",
            "Batch 0 : training loss = 0.055707626044750214; training acc = 99.0\n",
            "Batch 20 : training loss = 0.07265695929527283; training acc = 99.0\n",
            "Batch 40 : training loss = 0.030415290966629982; training acc = 100.0\n",
            "Epoch 3 : Validation loss = 0.882529852726799; Validation acc = 77.97161779340529\n",
            "Epoch 4:\n",
            "Batch 0 : training loss = 0.036477528512477875; training acc = 99.5\n",
            "Batch 20 : training loss = 0.0235139187425375; training acc = 100.0\n",
            "Batch 40 : training loss = 0.014303091913461685; training acc = 100.0\n",
            "Epoch 4 : Validation loss = 0.9378739102243983; Validation acc = 78.26300852188211\n",
            "Epoch 5:\n",
            "Batch 0 : training loss = 0.01530958991497755; training acc = 100.0\n",
            "Batch 20 : training loss = 0.011622464284300804; training acc = 100.0\n",
            "Batch 40 : training loss = 0.004341491963714361; training acc = 100.0\n",
            "Epoch 5 : Validation loss = 0.9733976615432477; Validation acc = 78.09082309141854\n",
            "Epoch 5 : Test loss = 0.9733976615432477; Test acc = 78.09082309141854\n"
          ]
        }
      ]
    },
    {
      "cell_type": "markdown",
      "source": [
        "##### Pre-training without fine-tuning"
      ],
      "metadata": {
        "id": "4CgINQxgo6kb"
      }
    },
    {
      "cell_type": "code",
      "execution_count": 47,
      "metadata": {
        "colab": {
          "base_uri": "https://localhost:8080/"
        },
        "outputId": "2c3c24e7-a209-45b2-ce81-2d8f5c594f74",
        "id": "eza0HssSphrP"
      },
      "outputs": [
        {
          "output_type": "stream",
          "name": "stdout",
          "text": [
            "Beginning training...\n",
            "Epoch 1:\n",
            "Batch 0 : training loss = 2.9918956756591797; training acc = 3.5\n",
            "Batch 20 : training loss = 2.180598258972168; training acc = 40.5\n",
            "Batch 40 : training loss = 1.7630691528320312; training acc = 53.0\n",
            "Epoch 1 : Validation loss = 1.6472102218116356; Validation acc = 57.082308421861256\n",
            "Epoch 2:\n",
            "Batch 0 : training loss = 1.5475589036941528; training acc = 62.0\n",
            "Batch 20 : training loss = 1.4387699365615845; training acc = 59.5\n",
            "Batch 40 : training loss = 1.3125454187393188; training acc = 60.5\n",
            "Epoch 2 : Validation loss = 1.4212381377914884; Validation acc = 60.69820246159636\n",
            "Epoch 3:\n",
            "Batch 0 : training loss = 1.2516530752182007; training acc = 65.5\n",
            "Batch 20 : training loss = 1.1601473093032837; training acc = 70.5\n",
            "Batch 40 : training loss = 1.0172982215881348; training acc = 75.5\n",
            "Epoch 3 : Validation loss = 1.3012921180551416; Validation acc = 63.71807001126523\n",
            "Epoch 4:\n",
            "Batch 0 : training loss = 1.0174150466918945; training acc = 72.5\n",
            "Batch 20 : training loss = 1.1076223850250244; training acc = 70.0\n",
            "Batch 40 : training loss = 1.1484193801879883; training acc = 65.0\n",
            "Epoch 4 : Validation loss = 1.2348461843879017; Validation acc = 64.47303689868245\n",
            "Epoch 5:\n",
            "Batch 0 : training loss = 0.9081979393959045; training acc = 76.5\n",
            "Batch 20 : training loss = 0.974592924118042; training acc = 75.5\n",
            "Batch 40 : training loss = 1.0790742635726929; training acc = 66.0\n",
            "Epoch 5 : Validation loss = 1.177065596477875; Validation acc = 66.10217597153013\n",
            "Epoch 5 : Test loss = 1.177065596477875; Test acc = 66.10217597153013\n"
          ]
        }
      ],
      "source": [
        "train_losses_20K_False, test_losses_20K_False = experiment_train(300, len(training_word2idx_20), len(newsgroups_train.target_names), torch.FloatTensor(GloveEmbeddings_20), False)"
      ]
    },
    {
      "cell_type": "markdown",
      "source": [
        "##### Pre-training with fine-tuning"
      ],
      "metadata": {
        "id": "48Pmdd9Ao7XR"
      }
    },
    {
      "cell_type": "code",
      "execution_count": 48,
      "metadata": {
        "colab": {
          "base_uri": "https://localhost:8080/"
        },
        "id": "6uBqUEUgrmF-",
        "outputId": "391b9d2a-b954-4fac-e384-9f293e6ca02c"
      },
      "outputs": [
        {
          "output_type": "stream",
          "name": "stdout",
          "text": [
            "Beginning training...\n",
            "Epoch 1:\n",
            "Batch 0 : training loss = 2.996785879135132; training acc = 5.0\n",
            "Batch 20 : training loss = 0.9974758625030518; training acc = 72.0\n",
            "Batch 40 : training loss = 0.6107787489891052; training acc = 80.5\n",
            "Epoch 1 : Validation loss = 0.8330860273628835; Validation acc = 76.54115421724636\n",
            "Epoch 2:\n",
            "Batch 0 : training loss = 0.14512337744235992; training acc = 96.5\n",
            "Batch 20 : training loss = 0.3252655863761902; training acc = 90.5\n",
            "Batch 40 : training loss = 0.2082514762878418; training acc = 94.5\n",
            "Epoch 2 : Validation loss = 0.8562474658355018; Validation acc = 77.45506150201456\n",
            "Epoch 3:\n",
            "Batch 0 : training loss = 0.13186751306056976; training acc = 96.5\n",
            "Batch 20 : training loss = 0.06359067559242249; training acc = 99.0\n",
            "Batch 40 : training loss = 0.053653568029403687; training acc = 98.5\n",
            "Epoch 3 : Validation loss = 0.9096681879746993; Validation acc = 78.42005676623212\n",
            "Epoch 4:\n",
            "Batch 0 : training loss = 0.0761394277215004; training acc = 99.0\n",
            "Batch 20 : training loss = 0.04645274579524994; training acc = 99.0\n",
            "Batch 40 : training loss = 0.02474009059369564; training acc = 99.5\n",
            "Epoch 4 : Validation loss = 0.9686274519991993; Validation acc = 78.01702932648311\n",
            "Epoch 5:\n",
            "Batch 0 : training loss = 0.02024383470416069; training acc = 99.5\n",
            "Batch 20 : training loss = 0.010924488306045532; training acc = 100.0\n",
            "Batch 40 : training loss = 0.009791254997253418; training acc = 100.0\n",
            "Epoch 5 : Validation loss = 1.006647301652771; Validation acc = 78.04351939270828\n",
            "Epoch 5 : Test loss = 1.006647301652771; Test acc = 78.04351939270828\n"
          ]
        }
      ],
      "source": [
        "train_losses_20K_True, test_losses_20K_True = experiment_train(300, len(training_word2idx_20), len(newsgroups_train.target_names), torch.FloatTensor(GloveEmbeddings_20), True)"
      ]
    },
    {
      "cell_type": "markdown",
      "source": [
        "#### Evaluation"
      ],
      "metadata": {
        "id": "xaXDv830sfMx"
      }
    },
    {
      "cell_type": "code",
      "source": [
        "plt.figure(figsize=(12,8))\n",
        "plt.plot(train_losses_5K_nopre, label=\"5K, no pretrain\")\n",
        "plt.plot(train_losses_5K_False, label=\"5K, pretrain\")\n",
        "plt.plot(train_losses_5K_True, label=\"5K, pretrain, finetune\")\n",
        "plt.plot(train_losses_20K_nopre, label=\"20K, no pretrain\")\n",
        "plt.plot(train_losses_20K_False, label=\"20K, pretrain\")\n",
        "plt.plot(train_losses_20K_True, label=\"20K, pretrain, finetune\")\n",
        "plt.legend()\n",
        "plt.xlabel(\"Epoch\")\n",
        "plt.ylabel(\"Loss (CE)\")\n",
        "plt.title(\"Train losses over epochs\")\n",
        "plt.show()"
      ],
      "metadata": {
        "colab": {
          "base_uri": "https://localhost:8080/",
          "height": 513
        },
        "id": "TMKEbHdxsimk",
        "outputId": "6fa0d382-e2e7-47e0-ae96-d4a6d3ace944"
      },
      "execution_count": 49,
      "outputs": [
        {
          "output_type": "display_data",
          "data": {
            "text/plain": [
              "<Figure size 864x576 with 1 Axes>"
            ],
            "image/png": "[encoded data removed]"
          },
          "metadata": {
            "needs_background": "light"
          }
        }
      ]
    },
    {
      "cell_type": "code",
      "source": [
        "plt.figure(figsize=(12,8))\n",
        "plt.plot(test_losses_5K_nopre, label=\"5K, no pretrain\")\n",
        "plt.plot(test_losses_5K_False, label=\"5K, pretrain\")\n",
        "plt.plot(test_losses_5K_True, label=\"5K, pretrain, finetune\")\n",
        "plt.plot(test_losses_20K_nopre, label=\"20K, no pretrain\")\n",
        "plt.plot(test_losses_20K_False, label=\"20K, pretrain\")\n",
        "plt.plot(test_losses_20K_True, label=\"20K, pretrain, finetune\")\n",
        "plt.legend()\n",
        "plt.xlabel(\"Epoch\")\n",
        "plt.ylabel(\"Loss (CE)\")\n",
        "plt.title(\"Test losses over epochs\")\n",
        "plt.show()"
      ],
      "metadata": {
        "colab": {
          "base_uri": "https://localhost:8080/",
          "height": 513
        },
        "id": "OVvvYALfKClz",
        "outputId": "b2ff5d47-9aca-4212-d6a1-bcf14bd67ab4"
      },
      "execution_count": 50,
      "outputs": [
        {
          "output_type": "display_data",
          "data": {
            "text/plain": [
              "<Figure size 864x576 with 1 Axes>"
            ],
            "image/png": "[encoded data removed]"
          },
          "metadata": {
            "needs_background": "light"
          }
        }
      ]
    },
    {
      "cell_type": "markdown",
      "source": [
        "The results are in line with our previous statements."
      ],
      "metadata": {
        "id": "wSs1J2wiw9U4"
      }
    },
    {
      "cell_type": "markdown",
      "metadata": {
        "id": "KTl3gbSUMBLw"
      },
      "source": [
        "### LSTM Cells in pytorch"
      ]
    },
    {
      "cell_type": "code",
      "execution_count": 51,
      "metadata": {
        "id": "8yaj6nLJMDR4",
        "colab": {
          "base_uri": "https://localhost:8080/"
        },
        "outputId": "fa31290a-8e3e-44fe-fd50-ee9b71ed0139"
      },
      "outputs": [
        {
          "output_type": "stream",
          "name": "stdout",
          "text": [
            "tensor([[[ 2.0223e-02, -8.7944e-02, -3.1408e-01]],\n",
            "\n",
            "        [[-3.4109e-02, -9.8597e-02, -4.2165e-01]],\n",
            "\n",
            "        [[-1.8471e-02, -1.0387e-01, -1.9008e-01]],\n",
            "\n",
            "        [[-3.3814e-02, -9.2571e-02, -1.6050e-01]],\n",
            "\n",
            "        [[-2.4771e-02, -2.1275e-04, -3.0755e-01]]], grad_fn=<StackBackward0>)\n",
            "(tensor([[[-2.4771e-02, -2.1275e-04, -3.0755e-01]]], grad_fn=<StackBackward0>), tensor([[[-0.0767, -0.0012, -0.3710]]], grad_fn=<StackBackward0>))\n"
          ]
        }
      ],
      "source": [
        "# Create a toy example of LSTM: \n",
        "lstm = nn.LSTM(3, 3)  # Input dim is 3, output dim is 3\n",
        "inputs = [torch.randn(1, 3) for _ in range(5)]  # make a sequence of length 5\n",
        "\n",
        "# LSTMs expect inputs having 3 dimensions:\n",
        "# - The first dimension is the temporal dimension, along which we (in our case) have the different words\n",
        "# - The second dimension is the batch dimension, along which we stack the independant batches\n",
        "# - The third dimension is the feature dimension, along which are the features of the vector representing the words\n",
        "\n",
        "# In our toy case, we have inputs and outputs containing 3 features (third dimension !)\n",
        "# We created a sequence of 5 different inputs (first dimension !)\n",
        "# We don't use batch (the second dimension will have one lement)\n",
        "\n",
        "# We need an initial hidden state, of the right sizes for dimension 2/3, but with only one temporal element:\n",
        "# Here, it is:\n",
        "hidden = (torch.randn(1, 1, 3),\n",
        "          torch.randn(1, 1, 3))\n",
        "# Why do we create a tuple of two tensors ? Because we use LSTMs: remember that they use two sets of weights,\n",
        "# and two hidden states (Hidden state, and Cell state).\n",
        "# If you don't remember, read: https://colah.github.io/posts/2015-08-Understanding-LSTMs/\n",
        "# If we used a classic RNN, we would simply have:\n",
        "# hidden = torch.randn(1, 1, 3)\n",
        "\n",
        "# The naive way of applying a lstm to inputs is to apply it one step at a time, and loop through the sequence\n",
        "for i in inputs:\n",
        "    # After each step, hidden contains the hidden states (remember, it's a tuple of two states).\n",
        "    out, hidden = lstm(i.view(1, 1, -1), hidden)\n",
        "    \n",
        "# Alternatively, we can do the entire sequence all at once.\n",
        "# The first value returned by LSTM is all of the Hidden states throughout the sequence.\n",
        "# The second is just the most recent Hidden state and Cell state (you can compare the values)\n",
        "# The reason for this is that:\n",
        "# \"out\" will give you access to all hidden states in the sequence, for each temporal step\n",
        "# \"hidden\" will allow you to continue the sequence and backpropagate later, with another sequence\n",
        "inputs = torch.cat(inputs).view(len(inputs), 1, -1)\n",
        "hidden = (torch.randn(1, 1, 3), torch.randn(1, 1, 3))  # Re-initialize\n",
        "out, hidden = lstm(inputs, hidden)\n",
        "print(out)\n",
        "print(hidden)"
      ]
    },
    {
      "cell_type": "markdown",
      "metadata": {
        "id": "QxCCoIVwMEoX"
      },
      "source": [
        "### Creating our own LSTM Model\n",
        "\n",
        "We'll implement now a LSTM model, taking the same inputs and also outputing a score for the sentence."
      ]
    },
    {
      "cell_type": "code",
      "execution_count": 52,
      "metadata": {
        "id": "7obmINvlMGCB"
      },
      "outputs": [],
      "source": [
        "# Models are usually implemented as custom nn.Module subclass\n",
        "# We need to redefine the __init__ method, which creates the object\n",
        "# We also need to redefine the forward method, which transform the input into outputs\n",
        "\n",
        "class LSTMModel(nn.Module):\n",
        "    def __init__(self, embedding_dim, vocabulary_size, hidden_dim, nb_classes,  pretrained=None, finetune=False):\n",
        "        # To complete \n",
        "        # You will need to create the LSTM layer before the linear layer : use nn.LSTM and be careful with the dimensions !  \n",
        "        super().__init__()\n",
        "        # Create an embedding object. Be careful to padding - you need to increase the vocabulary size by one !\n",
        "        # Look into the arguments of the nn.Embedding class\n",
        "        self.embeddings = nn.Embedding(num_embeddings=vocabulary_size+1, embedding_dim=embedding_dim, padding_idx=0) # To complete\n",
        "        if pretrained != None:\n",
        "            self.embeddings = self.embeddings.from_pretrained(pretrained, freeze=False)\n",
        "            self.embeddings.requires_grad_(finetune)\n",
        "        # Create a linear layer that will transform the mean of the embeddings into a classification score\n",
        "        self.lstm = nn.LSTM(input_size=embedding_dim, hidden_size=hidden_dim, batch_first=True)\n",
        "        self.linear = nn.Linear(hidden_dim, nb_classes) # To complete  \n",
        "\n",
        "    def forward(self, inputs):\n",
        "        # To complete \n",
        "        # Process the input and apply the LSTM\n",
        "        # The output will have three dimensions (batch, temporal, nb_classes) - there is one that we won't entirely keep, since this is a many-to-one network\n",
        "        # Remember: the inpts are written as Batch_size * seq_length * embedding_dim\n",
        "        # First, take the mean of the embeddings of the document\n",
        "        x, _ = self.lstm(self.embeddings(inputs)) # To complete\n",
        "        x = x[:,-1,:]\n",
        "        # Then make it go through the linear layer and remove the extra dimension with the method .squeeze()\n",
        "        o = self.linear(x).squeeze() # To complete\n",
        "        return o\n"
      ]
    },
    {
      "cell_type": "markdown",
      "metadata": {
        "id": "55yoCnZCMMzh"
      },
      "source": [
        "### Questions: \n",
        "- What do you see with a simple application of LSTM models ? (Again, try with the three possible settings !) What are possible reasons for this ? (these could be linked to the data, the way it is pre-processed, the architecture, and the training procedure). "
      ]
    },
    {
      "cell_type": "code",
      "source": [
        "def experiment_lstm(embedding_dim, vocabulary_size, hidden_dim, nb_classes, pretrained=None, finetune=False):\n",
        "  model_pre_trained = LSTMModel(embedding_dim, vocabulary_size, hidden_dim, nb_classes, pretrained=pretrained, finetune=finetune)\n",
        "  opt_pre_trained = optim.Adam(model_pre_trained.parameters(), lr=.05, betas=(0.9, 0.999))\n",
        "  train_losses, test_losses = experiment(model_pre_trained, opt_pre_trained, criterion, early_stopping=False)\n",
        "  return train_losses, test_losses"
      ],
      "metadata": {
        "id": "I8jwsHIAPlzA"
      },
      "execution_count": 53,
      "outputs": []
    },
    {
      "cell_type": "code",
      "execution_count": 54,
      "metadata": {
        "colab": {
          "base_uri": "https://localhost:8080/"
        },
        "outputId": "7fc76938-732c-49db-f997-09508a892171",
        "id": "OiRUtGeruWVd"
      },
      "outputs": [
        {
          "output_type": "stream",
          "name": "stdout",
          "text": [
            "Beginning training...\n",
            "Epoch 1:\n",
            "Batch 0 : training loss = 2.9963266849517822; training acc = 4.0\n",
            "Batch 20 : training loss = 2.976375102996826; training acc = 6.0\n",
            "Batch 40 : training loss = 2.99884033203125; training acc = 6.0\n",
            "Epoch 1 : Validation loss = 3.043836048896739; Validation acc = 7.046357615894039\n",
            "Epoch 2:\n",
            "Batch 0 : training loss = 2.815897226333618; training acc = 15.0\n",
            "Batch 20 : training loss = 2.880830764770508; training acc = 14.0\n",
            "Batch 40 : training loss = 2.8422303199768066; training acc = 9.5\n",
            "Epoch 2 : Validation loss = 3.1417460631061074; Validation acc = 7.000946073342633\n",
            "Epoch 3:\n",
            "Batch 0 : training loss = 2.5715558528900146; training acc = 22.5\n",
            "Batch 20 : training loss = 2.879890203475952; training acc = 13.5\n",
            "Batch 40 : training loss = 2.9304261207580566; training acc = 11.5\n",
            "Epoch 3 : Validation loss = 3.1869962539104435; Validation acc = 8.026490066225165\n",
            "Epoch 4:\n",
            "Batch 0 : training loss = 2.4548850059509277; training acc = 25.0\n",
            "Batch 20 : training loss = 2.8761022090911865; training acc = 10.0\n",
            "Batch 40 : training loss = 2.7786307334899902; training acc = 13.0\n",
            "Epoch 4 : Validation loss = 3.26810266403173; Validation acc = 6.529801324503311\n",
            "Epoch 5:\n",
            "Batch 0 : training loss = 2.543741226196289; training acc = 20.0\n",
            "Batch 20 : training loss = 2.691404342651367; training acc = 21.0\n",
            "Batch 40 : training loss = 2.8793222904205322; training acc = 11.5\n",
            "Epoch 5 : Validation loss = 3.287770387352697; Validation acc = 7.610217596521441\n",
            "Epoch 5 : Test loss = 3.287770387352697; Test acc = 7.610217596521441\n"
          ]
        }
      ],
      "source": [
        "LSTM_5K_nopre, LSTM_test_5K_nopre = experiment_lstm(300, len(training_word2idx), 100, len(newsgroups_train.target_names))"
      ]
    },
    {
      "cell_type": "code",
      "execution_count": 55,
      "metadata": {
        "id": "KIUt1MPUuSOD",
        "colab": {
          "base_uri": "https://localhost:8080/"
        },
        "outputId": "68b28469-bbaa-4839-88f5-f56b57a5b54a"
      },
      "outputs": [
        {
          "output_type": "stream",
          "name": "stdout",
          "text": [
            "Beginning training...\n",
            "Epoch 1:\n",
            "Batch 0 : training loss = 3.0076632499694824; training acc = 5.0\n",
            "Batch 20 : training loss = 2.776240348815918; training acc = 10.5\n",
            "Batch 40 : training loss = 2.729414701461792; training acc = 16.0\n",
            "Epoch 1 : Validation loss = 2.515830034451769; Validation acc = 16.298959318375747\n",
            "Epoch 2:\n",
            "Batch 0 : training loss = 2.3837342262268066; training acc = 20.5\n",
            "Batch 20 : training loss = 2.0647385120391846; training acc = 28.0\n",
            "Batch 40 : training loss = 1.89408540725708; training acc = 38.0\n",
            "Epoch 2 : Validation loss = 1.8492614883460745; Validation acc = 35.366130557281295\n",
            "Epoch 3:\n",
            "Batch 0 : training loss = 1.6008247137069702; training acc = 44.5\n",
            "Batch 20 : training loss = 1.6869609355926514; training acc = 40.0\n",
            "Batch 40 : training loss = 1.5321992635726929; training acc = 50.0\n",
            "Epoch 3 : Validation loss = 1.6432480703521248; Validation acc = 46.798486280125495\n",
            "Epoch 4:\n",
            "Batch 0 : training loss = 1.313511610031128; training acc = 56.0\n",
            "Batch 20 : training loss = 1.3665783405303955; training acc = 53.5\n",
            "Batch 40 : training loss = 1.0711296796798706; training acc = 65.5\n",
            "Epoch 4 : Validation loss = 1.469418110831684; Validation acc = 53.19583727350298\n",
            "Epoch 5:\n",
            "Batch 0 : training loss = 0.995938241481781; training acc = 68.0\n",
            "Batch 20 : training loss = 1.0179667472839355; training acc = 71.0\n",
            "Batch 40 : training loss = 1.068985939025879; training acc = 64.5\n",
            "Epoch 5 : Validation loss = 1.4557421347558104; Validation acc = 55.28855250529106\n",
            "Epoch 5 : Test loss = 1.4557421347558104; Test acc = 55.28855250529106\n"
          ]
        }
      ],
      "source": [
        "LSTM_5K_False, LSTM_test_5K_False = experiment_lstm(300, len(training_word2idx), 100, len(newsgroups_train.target_names), torch.FloatTensor(GloveEmbeddings), False)"
      ]
    },
    {
      "cell_type": "code",
      "execution_count": 56,
      "metadata": {
        "id": "IS6apFUyMTdE",
        "colab": {
          "base_uri": "https://localhost:8080/"
        },
        "outputId": "f797f628-0845-427c-b95e-dc20dd345e04"
      },
      "outputs": [
        {
          "output_type": "stream",
          "name": "stdout",
          "text": [
            "Beginning training...\n",
            "Epoch 1:\n",
            "Batch 0 : training loss = 2.9967031478881836; training acc = 4.5\n",
            "Batch 20 : training loss = 2.9050703048706055; training acc = 13.5\n",
            "Batch 40 : training loss = 2.728327989578247; training acc = 16.5\n",
            "Epoch 1 : Validation loss = 2.798100661757766; Validation acc = 12.404919583276408\n",
            "Epoch 2:\n",
            "Batch 0 : training loss = 2.5547449588775635; training acc = 20.0\n",
            "Batch 20 : training loss = 2.504699945449829; training acc = 25.5\n",
            "Batch 40 : training loss = 2.505413770675659; training acc = 17.0\n",
            "Epoch 2 : Validation loss = 2.6542606993226814; Validation acc = 16.31220435148833\n",
            "Epoch 3:\n",
            "Batch 0 : training loss = 2.414893388748169; training acc = 20.0\n",
            "Batch 20 : training loss = 2.431255578994751; training acc = 24.0\n",
            "Batch 40 : training loss = 2.4422595500946045; training acc = 19.5\n",
            "Epoch 3 : Validation loss = 2.6170103190750478; Validation acc = 18.327341534444038\n",
            "Epoch 4:\n",
            "Batch 0 : training loss = 2.1397268772125244; training acc = 29.5\n",
            "Batch 20 : training loss = 2.4001517295837402; training acc = 27.0\n",
            "Batch 40 : training loss = 2.3189899921417236; training acc = 24.5\n",
            "Epoch 4 : Validation loss = 2.6036072582598555; Validation acc = 18.155156103980463\n",
            "Epoch 5:\n",
            "Batch 0 : training loss = 2.1193506717681885; training acc = 29.5\n",
            "Batch 20 : training loss = 2.3910088539123535; training acc = 23.5\n",
            "Batch 40 : training loss = 2.3812804222106934; training acc = 24.0\n",
            "Epoch 5 : Validation loss = 2.624781638186499; Validation acc = 19.008514663241556\n",
            "Epoch 5 : Test loss = 2.624781638186499; Test acc = 19.008514663241556\n"
          ]
        }
      ],
      "source": [
        "LSTM_5K_True, LSTM_test_5K_True = experiment_lstm(300, len(training_word2idx), 100, len(newsgroups_train.target_names), torch.FloatTensor(GloveEmbeddings), True)"
      ]
    },
    {
      "cell_type": "code",
      "source": [
        "plt.figure(figsize=(12,8))\n",
        "plt.plot(LSTM_5K_nopre, label=\"5K, no pretrain\")\n",
        "plt.plot(LSTM_5K_False, label=\"5K, pretrain\")\n",
        "plt.plot(LSTM_5K_True, label=\"5K, pretrain, finetune\")\n",
        "plt.legend()\n",
        "plt.xlabel(\"Epoch\")\n",
        "plt.ylabel(\"Loss (CE)\")\n",
        "plt.title(\"Train loss over epochs\")\n",
        "plt.show()"
      ],
      "metadata": {
        "id": "LhekYKt1uiAv",
        "colab": {
          "base_uri": "https://localhost:8080/",
          "height": 513
        },
        "outputId": "7eff642f-3c02-4ed2-f480-1c229c07787d"
      },
      "execution_count": 57,
      "outputs": [
        {
          "output_type": "display_data",
          "data": {
            "text/plain": [
              "<Figure size 864x576 with 1 Axes>"
            ],
            "image/png": "[encoded data removed]"
          },
          "metadata": {
            "needs_background": "light"
          }
        }
      ]
    },
    {
      "cell_type": "code",
      "source": [
        "plt.figure(figsize=(12,8))\n",
        "plt.plot(LSTM_test_5K_nopre, label=\"5K, no pretrain\")\n",
        "plt.plot(LSTM_test_5K_False, label=\"5K, pretrain\")\n",
        "plt.plot(LSTM_test_5K_True, label=\"5K, pretrain, finetune\")\n",
        "plt.legend()\n",
        "plt.xlabel(\"Epoch\")\n",
        "plt.ylabel(\"Loss (CE)\")\n",
        "plt.title(\"Test loss over epochs\")\n",
        "plt.show()"
      ],
      "metadata": {
        "id": "UE7NbZVKK3Cv",
        "colab": {
          "base_uri": "https://localhost:8080/",
          "height": 513
        },
        "outputId": "6a55d5d3-592e-4782-ed75-a07072940d8f"
      },
      "execution_count": 58,
      "outputs": [
        {
          "output_type": "display_data",
          "data": {
            "text/plain": [
              "<Figure size 864x576 with 1 Axes>"
            ],
            "image/png": "[encoded data removed]"
          },
          "metadata": {
            "needs_background": "light"
          }
        }
      ]
    },
    {
      "cell_type": "markdown",
      "source": [
        "Our LSTM model does not give better results than our simple averaging model.\n",
        "In this instance, the sequentiality of the data might not capture more information than an average of the embeddings of the words. We are trying to compute the topic of a document. This information can most likely be captured through the overall meaning of words contained in the document. Possible applications where the sequentiality of the data can have an importance could be translation, POS tagging, etc.\n",
        "We are also witnessing massive overfitting, and in this case, no finetuning seems to lead to less overfitting. This is not surprising, as avoiding the backpropagation to the embedding layer, we make sure that specific layer will never overfit. The reason of the overfitting might be that the hidden dimension is too big, and our model is too complex given the training task (we have a lot of parameters, and this can be felt even during training : it takes a lot more time to train the LSTM models than our averaging models)."
      ],
      "metadata": {
        "id": "ZxiWtJmRxNro"
      }
    },
    {
      "cell_type": "markdown",
      "metadata": {
        "id": "RsPQtHgBRiVl"
      },
      "source": [
        "# Fine-tuning a Bert model\n",
        "\n",
        "Fine-tune the lightest BERT model available on the data and compare it with previous results ! The code given here comes from the following tutorial, slightly adapted to our data:\n",
        "https://huggingface.co/transformers/custom_datasets.html#seq-imdb"
      ]
    },
    {
      "cell_type": "markdown",
      "source": [
        "We re-trained this model but an unfortunate \"Run all\" ruined it. It obviously gave way better results than all previous models."
      ],
      "metadata": {
        "id": "0Q8hafwnxv2a"
      }
    },
    {
      "cell_type": "code",
      "execution_count": 59,
      "metadata": {
        "id": "TNG_DFckXKu5",
        "colab": {
          "base_uri": "https://localhost:8080/"
        },
        "outputId": "fcda4e56-f7ca-46a6-e2c2-58cec59d222c"
      },
      "outputs": [
        {
          "output_type": "stream",
          "name": "stdout",
          "text": [
            "Collecting transformers\n",
            "  Downloading transformers-4.18.0-py3-none-any.whl (4.0 MB)\n",
            "\u001b[K     |████████████████████████████████| 4.0 MB 5.1 MB/s \n",
            "\u001b[?25hRequirement already satisfied: packaging>=20.0 in /usr/local/lib/python3.7/dist-packages (from transformers) (21.3)\n",
            "Collecting sacremoses\n",
            "  Downloading sacremoses-0.0.49-py3-none-any.whl (895 kB)\n",
            "\u001b[K     |████████████████████████████████| 895 kB 44.3 MB/s \n",
            "\u001b[?25hRequirement already satisfied: filelock in /usr/local/lib/python3.7/dist-packages (from transformers) (3.6.0)\n",
            "Collecting tokenizers!=0.11.3,<0.13,>=0.11.1\n",
            "  Downloading tokenizers-0.11.6-cp37-cp37m-manylinux_2_12_x86_64.manylinux2010_x86_64.whl (6.5 MB)\n",
            "\u001b[K     |████████████████████████████████| 6.5 MB 56.5 MB/s \n",
            "\u001b[?25hRequirement already satisfied: importlib-metadata in /usr/local/lib/python3.7/dist-packages (from transformers) (4.11.3)\n",
            "Collecting pyyaml>=5.1\n",
            "  Downloading PyYAML-6.0-cp37-cp37m-manylinux_2_5_x86_64.manylinux1_x86_64.manylinux_2_12_x86_64.manylinux2010_x86_64.whl (596 kB)\n",
            "\u001b[K     |████████████████████████████████| 596 kB 60.5 MB/s \n",
            "\u001b[?25hRequirement already satisfied: numpy>=1.17 in /usr/local/lib/python3.7/dist-packages (from transformers) (1.21.5)\n",
            "Requirement already satisfied: regex!=2019.12.17 in /usr/local/lib/python3.7/dist-packages (from transformers) (2019.12.20)\n",
            "Requirement already satisfied: tqdm>=4.27 in /usr/local/lib/python3.7/dist-packages (from transformers) (4.63.0)\n",
            "Requirement already satisfied: requests in /usr/local/lib/python3.7/dist-packages (from transformers) (2.23.0)\n",
            "Collecting huggingface-hub<1.0,>=0.1.0\n",
            "  Downloading huggingface_hub-0.5.1-py3-none-any.whl (77 kB)\n",
            "\u001b[K     |████████████████████████████████| 77 kB 8.3 MB/s \n",
            "\u001b[?25hRequirement already satisfied: typing-extensions>=3.7.4.3 in /usr/local/lib/python3.7/dist-packages (from huggingface-hub<1.0,>=0.1.0->transformers) (3.10.0.2)\n",
            "Requirement already satisfied: pyparsing!=3.0.5,>=2.0.2 in /usr/local/lib/python3.7/dist-packages (from packaging>=20.0->transformers) (3.0.7)\n",
            "Requirement already satisfied: zipp>=0.5 in /usr/local/lib/python3.7/dist-packages (from importlib-metadata->transformers) (3.7.0)\n",
            "Requirement already satisfied: idna<3,>=2.5 in /usr/local/lib/python3.7/dist-packages (from requests->transformers) (2.10)\n",
            "Requirement already satisfied: certifi>=2017.4.17 in /usr/local/lib/python3.7/dist-packages (from requests->transformers) (2021.10.8)\n",
            "Requirement already satisfied: urllib3!=1.25.0,!=1.25.1,<1.26,>=1.21.1 in /usr/local/lib/python3.7/dist-packages (from requests->transformers) (1.24.3)\n",
            "Requirement already satisfied: chardet<4,>=3.0.2 in /usr/local/lib/python3.7/dist-packages (from requests->transformers) (3.0.4)\n",
            "Requirement already satisfied: click in /usr/local/lib/python3.7/dist-packages (from sacremoses->transformers) (7.1.2)\n",
            "Requirement already satisfied: joblib in /usr/local/lib/python3.7/dist-packages (from sacremoses->transformers) (1.1.0)\n",
            "Requirement already satisfied: six in /usr/local/lib/python3.7/dist-packages (from sacremoses->transformers) (1.15.0)\n",
            "Installing collected packages: pyyaml, tokenizers, sacremoses, huggingface-hub, transformers\n",
            "  Attempting uninstall: pyyaml\n",
            "    Found existing installation: PyYAML 3.13\n",
            "    Uninstalling PyYAML-3.13:\n",
            "      Successfully uninstalled PyYAML-3.13\n",
            "Successfully installed huggingface-hub-0.5.1 pyyaml-6.0 sacremoses-0.0.49 tokenizers-0.11.6 transformers-4.18.0\n"
          ]
        }
      ],
      "source": [
        "!pip install transformers\n",
        "import transformers"
      ]
    },
    {
      "cell_type": "code",
      "execution_count": 60,
      "metadata": {
        "id": "gatlD4VTYDTZ",
        "colab": {
          "base_uri": "https://localhost:8080/",
          "height": 145,
          "referenced_widgets": [
            "22357a637f4942a68557b9266c85dd7e",
            "4b47d2d19b514fc0918382b14fefadce",
            "61afd6195dbe444aa9f76803cc0acbc8",
            "e8c73404db014bac866013588257cd26",
            "809559aef3964cb0abe278944ab9cd15",
            "a96e68ca61ae4b719987809afbc737ea",
            "11b663f7e0694171a32201d9cb76ebc2",
            "61cc5c8fd07843769f6387db0d22f5cc",
            "658780e2a53b413ba8c7a0c3f125b764",
            "b3dc9838d82b46929bbfebaf3e6a4c8b",
            "b0280b1ea06f442dad1bfe2aa0e4e581",
            "2a748a933dbd4b8787890c61579d37c5",
            "09fcbd73b91f40aabffeb4a678cd5f35",
            "8eb94d46b16841b29e83c9721ed41fac",
            "20e8d7f182dc492ab42dfa42c6051594",
            "b10dbc5d73384b5eb54d3580100b9d36",
            "2ef65f6c1e7444ef871ea2443dd29e2d",
            "c7bbad5748234b16988062b76a1af07e",
            "cf87c1c7598a4128960208242d756062",
            "d3147686f78840aabc732393cd1f25f6",
            "5a1e43e4d39f40d288a1fe5fa88a653d",
            "b15ade09d0674ac7a6a8a5e108868594",
            "25f2c1423ff4421abc565d7da275d90c",
            "57072053f40840c7b3b99f09b4ed9d8d",
            "46fd6e2686df46f0882569d332bc428c",
            "7909a70d51ad4d3db157074e4bd39e3b",
            "ce23c7504cce49709cab90955ed2f924",
            "e7c199a80f6348348653e67a1887e001",
            "c22f2efb6b26486199650790877af25f",
            "6e1167d9ddca4474a1047a03bed33590",
            "6036be9bf05440e7a7c359704f3bc4a6",
            "8278286ab818420389ebc10b3e378d2e",
            "6a3eb2532db246e0825915d8b93548a1",
            "e2120a5ae73b4f8b92f278fd85177a20",
            "256f8c07e296489286ffeadbcbcf629a",
            "4c97a3e31d184821a3b2128ebded3e95",
            "40473d16c5c2473e87fbe1f48ae72c2a",
            "3beec41464f5456db8fe122d425dc9da",
            "07a489bb16a240a8adaafbc84ed032ce",
            "b6eb26c247a64d2b918915bfce359f86",
            "25af917669d94fcb9327314c2fac46ae",
            "db044dfb600446d98c643d3e1a946584",
            "144bef015baf499da4e7ffb468db68a3",
            "e06707a192eb44d8b7e94d050dd001d2"
          ]
        },
        "outputId": "6999e88b-0e0c-485f-d1d4-5c5d826ce7c7"
      },
      "outputs": [
        {
          "output_type": "display_data",
          "data": {
            "text/plain": [
              "Downloading:   0%|          | 0.00/28.0 [00:00<?, ?B/s]"
            ],
            "application/vnd.jupyter.widget-view+json": {
              "version_major": 2,
              "version_minor": 0,
              "model_id": "22357a637f4942a68557b9266c85dd7e"
            }
          },
          "metadata": {}
        },
        {
          "output_type": "display_data",
          "data": {
            "text/plain": [
              "Downloading:   0%|          | 0.00/226k [00:00<?, ?B/s]"
            ],
            "application/vnd.jupyter.widget-view+json": {
              "version_major": 2,
              "version_minor": 0,
              "model_id": "2a748a933dbd4b8787890c61579d37c5"
            }
          },
          "metadata": {}
        },
        {
          "output_type": "display_data",
          "data": {
            "text/plain": [
              "Downloading:   0%|          | 0.00/455k [00:00<?, ?B/s]"
            ],
            "application/vnd.jupyter.widget-view+json": {
              "version_major": 2,
              "version_minor": 0,
              "model_id": "25f2c1423ff4421abc565d7da275d90c"
            }
          },
          "metadata": {}
        },
        {
          "output_type": "display_data",
          "data": {
            "text/plain": [
              "Downloading:   0%|          | 0.00/483 [00:00<?, ?B/s]"
            ],
            "application/vnd.jupyter.widget-view+json": {
              "version_major": 2,
              "version_minor": 0,
              "model_id": "e2120a5ae73b4f8b92f278fd85177a20"
            }
          },
          "metadata": {}
        }
      ],
      "source": [
        "from transformers import DistilBertTokenizerFast\n",
        "tokenizer = DistilBertTokenizerFast.from_pretrained('distilbert-base-uncased')"
      ]
    },
    {
      "cell_type": "code",
      "source": [
        "train_encodings = tokenizer(newsgroups_train['data'], truncation=True, padding=True)\n",
        "test_encodings = tokenizer(newsgroups_test['data'], truncation=True, padding=True)"
      ],
      "metadata": {
        "id": "xPnqQxQMyQNe",
        "colab": {
          "base_uri": "https://localhost:8080/",
          "height": 895
        },
        "outputId": "876160f0-6153-43b9-fbc9-888fe4266142"
      },
      "execution_count": 61,
      "outputs": [
        {
          "output_type": "stream",
          "name": "stderr",
          "text": [
            "ERROR:root:Internal Python error in the inspect module.\n",
            "Below is the traceback from this internal error.\n",
            "\n"
          ]
        },
        {
          "output_type": "stream",
          "name": "stdout",
          "text": [
            "Traceback (most recent call last):\n",
            "  File \"/usr/local/lib/python3.7/dist-packages/IPython/core/interactiveshell.py\", line 2882, in run_code\n",
            "    exec(code_obj, self.user_global_ns, self.user_ns)\n",
            "  File \"<ipython-input-61-2115e60750e7>\", line 1, in <module>\n",
            "    train_encodings = tokenizer(newsgroups_train['data'], truncation=True, padding=True)\n",
            "  File \"/usr/local/lib/python3.7/dist-packages/transformers/tokenization_utils_base.py\", line 2472, in __call__\n",
            "    **kwargs,\n",
            "  File \"/usr/local/lib/python3.7/dist-packages/transformers/tokenization_utils_base.py\", line 2663, in batch_encode_plus\n",
            "    **kwargs,\n",
            "  File \"/usr/local/lib/python3.7/dist-packages/transformers/tokenization_utils_fast.py\", line 428, in _batch_encode_plus\n",
            "    is_pretokenized=is_split_into_words,\n",
            "KeyboardInterrupt\n",
            "\n",
            "During handling of the above exception, another exception occurred:\n",
            "\n",
            "Traceback (most recent call last):\n",
            "  File \"/usr/local/lib/python3.7/dist-packages/IPython/core/interactiveshell.py\", line 1823, in showtraceback\n",
            "    stb = value._render_traceback_()\n",
            "AttributeError: 'KeyboardInterrupt' object has no attribute '_render_traceback_'\n",
            "\n",
            "During handling of the above exception, another exception occurred:\n",
            "\n",
            "Traceback (most recent call last):\n",
            "  File \"/usr/local/lib/python3.7/dist-packages/IPython/core/ultratb.py\", line 1132, in get_records\n",
            "    return _fixed_getinnerframes(etb, number_of_lines_of_context, tb_offset)\n",
            "  File \"/usr/local/lib/python3.7/dist-packages/IPython/core/ultratb.py\", line 313, in wrapped\n",
            "    return f(*args, **kwargs)\n",
            "  File \"/usr/local/lib/python3.7/dist-packages/IPython/core/ultratb.py\", line 358, in _fixed_getinnerframes\n",
            "    records = fix_frame_records_filenames(inspect.getinnerframes(etb, context))\n",
            "  File \"/usr/lib/python3.7/inspect.py\", line 1502, in getinnerframes\n",
            "    frameinfo = (tb.tb_frame,) + getframeinfo(tb, context)\n",
            "  File \"/usr/lib/python3.7/inspect.py\", line 1460, in getframeinfo\n",
            "    filename = getsourcefile(frame) or getfile(frame)\n",
            "  File \"/usr/lib/python3.7/inspect.py\", line 696, in getsourcefile\n",
            "    if getattr(getmodule(object, filename), '__loader__', None) is not None:\n",
            "  File \"/usr/lib/python3.7/inspect.py\", line 742, in getmodule\n",
            "    os.path.realpath(f)] = module.__name__\n",
            "  File \"/usr/lib/python3.7/posixpath.py\", line 395, in realpath\n",
            "    path, ok = _joinrealpath(filename[:0], filename, {})\n",
            "  File \"/usr/lib/python3.7/posixpath.py\", line 429, in _joinrealpath\n",
            "    if not islink(newpath):\n",
            "  File \"/usr/lib/python3.7/posixpath.py\", line 171, in islink\n",
            "    st = os.lstat(path)\n",
            "KeyboardInterrupt\n"
          ]
        },
        {
          "output_type": "error",
          "ename": "KeyboardInterrupt",
          "evalue": "ignored",
          "traceback": [
            "\u001b[0;31m---------------------------------------------------------------------------\u001b[0m"
          ]
        }
      ]
    },
    {
      "cell_type": "code",
      "source": [
        "class ClassificationDataset(torch.utils.data.Dataset):\n",
        "    def __init__(self, encodings, labels):\n",
        "        self.encodings = encodings\n",
        "        self.labels = labels\n",
        "\n",
        "    def __getitem__(self, idx):\n",
        "        item = {key: torch.tensor(val[idx]) for key, val in self.encodings.items()}\n",
        "        item['labels'] = torch.tensor(self.labels[idx])\n",
        "        return item\n",
        "\n",
        "    def __len__(self):\n",
        "        return len(self.labels)\n",
        "\n",
        "train_dataset = ClassificationDataset(train_encodings, newsgroups_train['target'])\n",
        "test_dataset = ClassificationDataset(test_encodings, newsgroups_test['target'])"
      ],
      "metadata": {
        "id": "9GUjp1MWyQ_i"
      },
      "execution_count": null,
      "outputs": []
    },
    {
      "cell_type": "code",
      "source": [
        "from transformers import TrainingArguments\n",
        "from sklearn.metrics import accuracy_score  "
      ],
      "metadata": {
        "id": "UmKC3RWJyRF0"
      },
      "execution_count": null,
      "outputs": []
    },
    {
      "cell_type": "code",
      "source": [
        "def compute_metrics(pred):\n",
        "  labels = pred.label_ids\n",
        "  preds = pred.predictions.argmax(-1)\n",
        "  acc = accuracy_score(labels, preds)\n",
        "  return {\n",
        "      'accuracy': acc,\n",
        "  }"
      ],
      "metadata": {
        "id": "vX5rJkzTyRPp"
      },
      "execution_count": null,
      "outputs": []
    },
    {
      "cell_type": "code",
      "source": [
        "training_args = TrainingArguments(\n",
        "    output_dir='./results',          \n",
        "    num_train_epochs=1,              \n",
        "    per_device_train_batch_size=16,  \n",
        "    per_device_eval_batch_size=64,   \n",
        "    warmup_steps=500,                \n",
        "    weight_decay=0.01,               \n",
        "    logging_dir='./logs',            \n",
        "    logging_steps=250,\n",
        ")"
      ],
      "metadata": {
        "id": "gGQdbihnyXgl"
      },
      "execution_count": null,
      "outputs": []
    },
    {
      "cell_type": "code",
      "source": [
        "from transformers import DistilBertForSequenceClassification, Trainer"
      ],
      "metadata": {
        "id": "BAY9PvXEyXoO"
      },
      "execution_count": null,
      "outputs": []
    },
    {
      "cell_type": "code",
      "source": [
        "model = DistilBertForSequenceClassification.from_pretrained(\"distilbert-base-uncased\", num_labels = len(newsgroups_train.target_names))"
      ],
      "metadata": {
        "id": "SrfzyW_9yXvg"
      },
      "execution_count": null,
      "outputs": []
    },
    {
      "cell_type": "code",
      "source": [
        "trainer = Trainer(\n",
        "    model=model,                         \n",
        "    args=training_args,                  \n",
        "    train_dataset=train_dataset,         \n",
        "    eval_dataset=test_dataset,           \n",
        "    compute_metrics=compute_metrics             \n",
        ")"
      ],
      "metadata": {
        "id": "uh9Rmwhlycq6"
      },
      "execution_count": null,
      "outputs": []
    },
    {
      "cell_type": "code",
      "source": [
        "trainer.train()"
      ],
      "metadata": {
        "id": "AxZC0uszycz4"
      },
      "execution_count": null,
      "outputs": []
    },
    {
      "cell_type": "code",
      "source": [
        "trainer.evaluate()"
      ],
      "metadata": {
        "id": "rvfFTMENygzU"
      },
      "execution_count": null,
      "outputs": []
    },
    {
      "cell_type": "code",
      "source": [
        ""
      ],
      "metadata": {
        "id": "0ga4jeKFJfJT"
      },
      "execution_count": null,
      "outputs": []
    }
  ],
  "metadata": {
    "colab": {
      "collapsed_sections": [
        "xjcyC09ct9Nn",
        "7n9XkuTs0GKT",
        "RsPQtHgBRiVl"
      ],
      "name": "TP_PT_NLP.ipynb",
      "provenance": []
    },
    "kernelspec": {
      "display_name": "Python 3",
      "language": "python",
      "name": "python3"
    },
    "language_info": {
      "codemirror_mode": {
        "name": "ipython",
        "version": 3
      },
      "file_extension": ".py",
      "mimetype": "text/x-python",
      "name": "python",
      "nbconvert_exporter": "python",
      "pygments_lexer": "ipython3",
      "version": "3.7.10"
    },
    "widgets": {
      "application/vnd.jupyter.widget-state+json": {
        "22357a637f4942a68557b9266c85dd7e": {
          "model_module": "@jupyter-widgets/controls",
          "model_name": "HBoxModel",
          "model_module_version": "1.5.0",
          "state": {
            "_dom_classes": [],
            "_model_module": "@jupyter-widgets/controls",
            "_model_module_version": "1.5.0",
            "_model_name": "HBoxModel",
            "_view_count": null,
            "_view_module": "@jupyter-widgets/controls",
            "_view_module_version": "1.5.0",
            "_view_name": "HBoxView",
            "box_style": "",
            "children": [
              "IPY_MODEL_4b47d2d19b514fc0918382b14fefadce",
              "IPY_MODEL_61afd6195dbe444aa9f76803cc0acbc8",
              "IPY_MODEL_e8c73404db014bac866013588257cd26"
            ],
            "layout": "IPY_MODEL_809559aef3964cb0abe278944ab9cd15"
          }
        },
        "4b47d2d19b514fc0918382b14fefadce": {
          "model_module": "@jupyter-widgets/controls",
          "model_name": "HTMLModel",
          "model_module_version": "1.5.0",
          "state": {
            "_dom_classes": [],
            "_model_module": "@jupyter-widgets/controls",
            "_model_module_version": "1.5.0",
            "_model_name": "HTMLModel",
            "_view_count": null,
            "_view_module": "@jupyter-widgets/controls",
            "_view_module_version": "1.5.0",
            "_view_name": "HTMLView",
            "description": "",
            "description_tooltip": null,
            "layout": "IPY_MODEL_a96e68ca61ae4b719987809afbc737ea",
            "placeholder": "​",
            "style": "IPY_MODEL_11b663f7e0694171a32201d9cb76ebc2",
            "value": "Downloading: 100%"
          }
        },
        "61afd6195dbe444aa9f76803cc0acbc8": {
          "model_module": "@jupyter-widgets/controls",
          "model_name": "FloatProgressModel",
          "model_module_version": "1.5.0",
          "state": {
            "_dom_classes": [],
            "_model_module": "@jupyter-widgets/controls",
            "_model_module_version": "1.5.0",
            "_model_name": "FloatProgressModel",
            "_view_count": null,
            "_view_module": "@jupyter-widgets/controls",
            "_view_module_version": "1.5.0",
            "_view_name": "ProgressView",
            "bar_style": "success",
            "description": "",
            "description_tooltip": null,
            "layout": "IPY_MODEL_61cc5c8fd07843769f6387db0d22f5cc",
            "max": 28,
            "min": 0,
            "orientation": "horizontal",
            "style": "IPY_MODEL_658780e2a53b413ba8c7a0c3f125b764",
            "value": 28
          }
        },
        "e8c73404db014bac866013588257cd26": {
          "model_module": "@jupyter-widgets/controls",
          "model_name": "HTMLModel",
          "model_module_version": "1.5.0",
          "state": {
            "_dom_classes": [],
            "_model_module": "@jupyter-widgets/controls",
            "_model_module_version": "1.5.0",
            "_model_name": "HTMLModel",
            "_view_count": null,
            "_view_module": "@jupyter-widgets/controls",
            "_view_module_version": "1.5.0",
            "_view_name": "HTMLView",
            "description": "",
            "description_tooltip": null,
            "layout": "IPY_MODEL_b3dc9838d82b46929bbfebaf3e6a4c8b",
            "placeholder": "​",
            "style": "IPY_MODEL_b0280b1ea06f442dad1bfe2aa0e4e581",
            "value": " 28.0/28.0 [00:00&lt;00:00, 801B/s]"
          }
        },
        "809559aef3964cb0abe278944ab9cd15": {
          "model_module": "@jupyter-widgets/base",
          "model_name": "LayoutModel",
          "model_module_version": "1.2.0",
          "state": {
            "_model_module": "@jupyter-widgets/base",
            "_model_module_version": "1.2.0",
            "_model_name": "LayoutModel",
            "_view_count": null,
            "_view_module": "@jupyter-widgets/base",
            "_view_module_version": "1.2.0",
            "_view_name": "LayoutView",
            "align_content": null,
            "align_items": null,
            "align_self": null,
            "border": null,
            "bottom": null,
            "display": null,
            "flex": null,
            "flex_flow": null,
            "grid_area": null,
            "grid_auto_columns": null,
            "grid_auto_flow": null,
            "grid_auto_rows": null,
            "grid_column": null,
            "grid_gap": null,
            "grid_row": null,
            "grid_template_areas": null,
            "grid_template_columns": null,
            "grid_template_rows": null,
            "height": null,
            "justify_content": null,
            "justify_items": null,
            "left": null,
            "margin": null,
            "max_height": null,
            "max_width": null,
            "min_height": null,
            "min_width": null,
            "object_fit": null,
            "object_position": null,
            "order": null,
            "overflow": null,
            "overflow_x": null,
            "overflow_y": null,
            "padding": null,
            "right": null,
            "top": null,
            "visibility": null,
            "width": null
          }
        },
        "a96e68ca61ae4b719987809afbc737ea": {
          "model_module": "@jupyter-widgets/base",
          "model_name": "LayoutModel",
          "model_module_version": "1.2.0",
          "state": {
            "_model_module": "@jupyter-widgets/base",
            "_model_module_version": "1.2.0",
            "_model_name": "LayoutModel",
            "_view_count": null,
            "_view_module": "@jupyter-widgets/base",
            "_view_module_version": "1.2.0",
            "_view_name": "LayoutView",
            "align_content": null,
            "align_items": null,
            "align_self": null,
            "border": null,
            "bottom": null,
            "display": null,
            "flex": null,
            "flex_flow": null,
            "grid_area": null,
            "grid_auto_columns": null,
            "grid_auto_flow": null,
            "grid_auto_rows": null,
            "grid_column": null,
            "grid_gap": null,
            "grid_row": null,
            "grid_template_areas": null,
            "grid_template_columns": null,
            "grid_template_rows": null,
            "height": null,
            "justify_content": null,
            "justify_items": null,
            "left": null,
            "margin": null,
            "max_height": null,
            "max_width": null,
            "min_height": null,
            "min_width": null,
            "object_fit": null,
            "object_position": null,
            "order": null,
            "overflow": null,
            "overflow_x": null,
            "overflow_y": null,
            "padding": null,
            "right": null,
            "top": null,
            "visibility": null,
            "width": null
          }
        },
        "11b663f7e0694171a32201d9cb76ebc2": {
          "model_module": "@jupyter-widgets/controls",
          "model_name": "DescriptionStyleModel",
          "model_module_version": "1.5.0",
          "state": {
            "_model_module": "@jupyter-widgets/controls",
            "_model_module_version": "1.5.0",
            "_model_name": "DescriptionStyleModel",
            "_view_count": null,
            "_view_module": "@jupyter-widgets/base",
            "_view_module_version": "1.2.0",
            "_view_name": "StyleView",
            "description_width": ""
          }
        },
        "61cc5c8fd07843769f6387db0d22f5cc": {
          "model_module": "@jupyter-widgets/base",
          "model_name": "LayoutModel",
          "model_module_version": "1.2.0",
          "state": {
            "_model_module": "@jupyter-widgets/base",
            "_model_module_version": "1.2.0",
            "_model_name": "LayoutModel",
            "_view_count": null,
            "_view_module": "@jupyter-widgets/base",
            "_view_module_version": "1.2.0",
            "_view_name": "LayoutView",
            "align_content": null,
            "align_items": null,
            "align_self": null,
            "border": null,
            "bottom": null,
            "display": null,
            "flex": null,
            "flex_flow": null,
            "grid_area": null,
            "grid_auto_columns": null,
            "grid_auto_flow": null,
            "grid_auto_rows": null,
            "grid_column": null,
            "grid_gap": null,
            "grid_row": null,
            "grid_template_areas": null,
            "grid_template_columns": null,
            "grid_template_rows": null,
            "height": null,
            "justify_content": null,
            "justify_items": null,
            "left": null,
            "margin": null,
            "max_height": null,
            "max_width": null,
            "min_height": null,
            "min_width": null,
            "object_fit": null,
            "object_position": null,
            "order": null,
            "overflow": null,
            "overflow_x": null,
            "overflow_y": null,
            "padding": null,
            "right": null,
            "top": null,
            "visibility": null,
            "width": null
          }
        },
        "658780e2a53b413ba8c7a0c3f125b764": {
          "model_module": "@jupyter-widgets/controls",
          "model_name": "ProgressStyleModel",
          "model_module_version": "1.5.0",
          "state": {
            "_model_module": "@jupyter-widgets/controls",
            "_model_module_version": "1.5.0",
            "_model_name": "ProgressStyleModel",
            "_view_count": null,
            "_view_module": "@jupyter-widgets/base",
            "_view_module_version": "1.2.0",
            "_view_name": "StyleView",
            "bar_color": null,
            "description_width": ""
          }
        },
        "b3dc9838d82b46929bbfebaf3e6a4c8b": {
          "model_module": "@jupyter-widgets/base",
          "model_name": "LayoutModel",
          "model_module_version": "1.2.0",
          "state": {
            "_model_module": "@jupyter-widgets/base",
            "_model_module_version": "1.2.0",
            "_model_name": "LayoutModel",
            "_view_count": null,
            "_view_module": "@jupyter-widgets/base",
            "_view_module_version": "1.2.0",
            "_view_name": "LayoutView",
            "align_content": null,
            "align_items": null,
            "align_self": null,
            "border": null,
            "bottom": null,
            "display": null,
            "flex": null,
            "flex_flow": null,
            "grid_area": null,
            "grid_auto_columns": null,
            "grid_auto_flow": null,
            "grid_auto_rows": null,
            "grid_column": null,
            "grid_gap": null,
            "grid_row": null,
            "grid_template_areas": null,
            "grid_template_columns": null,
            "grid_template_rows": null,
            "height": null,
            "justify_content": null,
            "justify_items": null,
            "left": null,
            "margin": null,
            "max_height": null,
            "max_width": null,
            "min_height": null,
            "min_width": null,
            "object_fit": null,
            "object_position": null,
            "order": null,
            "overflow": null,
            "overflow_x": null,
            "overflow_y": null,
            "padding": null,
            "right": null,
            "top": null,
            "visibility": null,
            "width": null
          }
        },
        "b0280b1ea06f442dad1bfe2aa0e4e581": {
          "model_module": "@jupyter-widgets/controls",
          "model_name": "DescriptionStyleModel",
          "model_module_version": "1.5.0",
          "state": {
            "_model_module": "@jupyter-widgets/controls",
            "_model_module_version": "1.5.0",
            "_model_name": "DescriptionStyleModel",
            "_view_count": null,
            "_view_module": "@jupyter-widgets/base",
            "_view_module_version": "1.2.0",
            "_view_name": "StyleView",
            "description_width": ""
          }
        },
        "2a748a933dbd4b8787890c61579d37c5": {
          "model_module": "@jupyter-widgets/controls",
          "model_name": "HBoxModel",
          "model_module_version": "1.5.0",
          "state": {
            "_dom_classes": [],
            "_model_module": "@jupyter-widgets/controls",
            "_model_module_version": "1.5.0",
            "_model_name": "HBoxModel",
            "_view_count": null,
            "_view_module": "@jupyter-widgets/controls",
            "_view_module_version": "1.5.0",
            "_view_name": "HBoxView",
            "box_style": "",
            "children": [
              "IPY_MODEL_09fcbd73b91f40aabffeb4a678cd5f35",
              "IPY_MODEL_8eb94d46b16841b29e83c9721ed41fac",
              "IPY_MODEL_20e8d7f182dc492ab42dfa42c6051594"
            ],
            "layout": "IPY_MODEL_b10dbc5d73384b5eb54d3580100b9d36"
          }
        },
        "09fcbd73b91f40aabffeb4a678cd5f35": {
          "model_module": "@jupyter-widgets/controls",
          "model_name": "HTMLModel",
          "model_module_version": "1.5.0",
          "state": {
            "_dom_classes": [],
            "_model_module": "@jupyter-widgets/controls",
            "_model_module_version": "1.5.0",
            "_model_name": "HTMLModel",
            "_view_count": null,
            "_view_module": "@jupyter-widgets/controls",
            "_view_module_version": "1.5.0",
            "_view_name": "HTMLView",
            "description": "",
            "description_tooltip": null,
            "layout": "IPY_MODEL_2ef65f6c1e7444ef871ea2443dd29e2d",
            "placeholder": "​",
            "style": "IPY_MODEL_c7bbad5748234b16988062b76a1af07e",
            "value": "Downloading: 100%"
          }
        },
        "8eb94d46b16841b29e83c9721ed41fac": {
          "model_module": "@jupyter-widgets/controls",
          "model_name": "FloatProgressModel",
          "model_module_version": "1.5.0",
          "state": {
            "_dom_classes": [],
            "_model_module": "@jupyter-widgets/controls",
            "_model_module_version": "1.5.0",
            "_model_name": "FloatProgressModel",
            "_view_count": null,
            "_view_module": "@jupyter-widgets/controls",
            "_view_module_version": "1.5.0",
            "_view_name": "ProgressView",
            "bar_style": "success",
            "description": "",
            "description_tooltip": null,
            "layout": "IPY_MODEL_cf87c1c7598a4128960208242d756062",
            "max": 231508,
            "min": 0,
            "orientation": "horizontal",
            "style": "IPY_MODEL_d3147686f78840aabc732393cd1f25f6",
            "value": 231508
          }
        },
        "20e8d7f182dc492ab42dfa42c6051594": {
          "model_module": "@jupyter-widgets/controls",
          "model_name": "HTMLModel",
          "model_module_version": "1.5.0",
          "state": {
            "_dom_classes": [],
            "_model_module": "@jupyter-widgets/controls",
            "_model_module_version": "1.5.0",
            "_model_name": "HTMLModel",
            "_view_count": null,
            "_view_module": "@jupyter-widgets/controls",
            "_view_module_version": "1.5.0",
            "_view_name": "HTMLView",
            "description": "",
            "description_tooltip": null,
            "layout": "IPY_MODEL_5a1e43e4d39f40d288a1fe5fa88a653d",
            "placeholder": "​",
            "style": "IPY_MODEL_b15ade09d0674ac7a6a8a5e108868594",
            "value": " 226k/226k [00:00&lt;00:00, 2.93MB/s]"
          }
        },
        "b10dbc5d73384b5eb54d3580100b9d36": {
          "model_module": "@jupyter-widgets/base",
          "model_name": "LayoutModel",
          "model_module_version": "1.2.0",
          "state": {
            "_model_module": "@jupyter-widgets/base",
            "_model_module_version": "1.2.0",
            "_model_name": "LayoutModel",
            "_view_count": null,
            "_view_module": "@jupyter-widgets/base",
            "_view_module_version": "1.2.0",
            "_view_name": "LayoutView",
            "align_content": null,
            "align_items": null,
            "align_self": null,
            "border": null,
            "bottom": null,
            "display": null,
            "flex": null,
            "flex_flow": null,
            "grid_area": null,
            "grid_auto_columns": null,
            "grid_auto_flow": null,
            "grid_auto_rows": null,
            "grid_column": null,
            "grid_gap": null,
            "grid_row": null,
            "grid_template_areas": null,
            "grid_template_columns": null,
            "grid_template_rows": null,
            "height": null,
            "justify_content": null,
            "justify_items": null,
            "left": null,
            "margin": null,
            "max_height": null,
            "max_width": null,
            "min_height": null,
            "min_width": null,
            "object_fit": null,
            "object_position": null,
            "order": null,
            "overflow": null,
            "overflow_x": null,
            "overflow_y": null,
            "padding": null,
            "right": null,
            "top": null,
            "visibility": null,
            "width": null
          }
        },
        "2ef65f6c1e7444ef871ea2443dd29e2d": {
          "model_module": "@jupyter-widgets/base",
          "model_name": "LayoutModel",
          "model_module_version": "1.2.0",
          "state": {
            "_model_module": "@jupyter-widgets/base",
            "_model_module_version": "1.2.0",
            "_model_name": "LayoutModel",
            "_view_count": null,
            "_view_module": "@jupyter-widgets/base",
            "_view_module_version": "1.2.0",
            "_view_name": "LayoutView",
            "align_content": null,
            "align_items": null,
            "align_self": null,
            "border": null,
            "bottom": null,
            "display": null,
            "flex": null,
            "flex_flow": null,
            "grid_area": null,
            "grid_auto_columns": null,
            "grid_auto_flow": null,
            "grid_auto_rows": null,
            "grid_column": null,
            "grid_gap": null,
            "grid_row": null,
            "grid_template_areas": null,
            "grid_template_columns": null,
            "grid_template_rows": null,
            "height": null,
            "justify_content": null,
            "justify_items": null,
            "left": null,
            "margin": null,
            "max_height": null,
            "max_width": null,
            "min_height": null,
            "min_width": null,
            "object_fit": null,
            "object_position": null,
            "order": null,
            "overflow": null,
            "overflow_x": null,
            "overflow_y": null,
            "padding": null,
            "right": null,
            "top": null,
            "visibility": null,
            "width": null
          }
        },
        "c7bbad5748234b16988062b76a1af07e": {
          "model_module": "@jupyter-widgets/controls",
          "model_name": "DescriptionStyleModel",
          "model_module_version": "1.5.0",
          "state": {
            "_model_module": "@jupyter-widgets/controls",
            "_model_module_version": "1.5.0",
            "_model_name": "DescriptionStyleModel",
            "_view_count": null,
            "_view_module": "@jupyter-widgets/base",
            "_view_module_version": "1.2.0",
            "_view_name": "StyleView",
            "description_width": ""
          }
        },
        "cf87c1c7598a4128960208242d756062": {
          "model_module": "@jupyter-widgets/base",
          "model_name": "LayoutModel",
          "model_module_version": "1.2.0",
          "state": {
            "_model_module": "@jupyter-widgets/base",
            "_model_module_version": "1.2.0",
            "_model_name": "LayoutModel",
            "_view_count": null,
            "_view_module": "@jupyter-widgets/base",
            "_view_module_version": "1.2.0",
            "_view_name": "LayoutView",
            "align_content": null,
            "align_items": null,
            "align_self": null,
            "border": null,
            "bottom": null,
            "display": null,
            "flex": null,
            "flex_flow": null,
            "grid_area": null,
            "grid_auto_columns": null,
            "grid_auto_flow": null,
            "grid_auto_rows": null,
            "grid_column": null,
            "grid_gap": null,
            "grid_row": null,
            "grid_template_areas": null,
            "grid_template_columns": null,
            "grid_template_rows": null,
            "height": null,
            "justify_content": null,
            "justify_items": null,
            "left": null,
            "margin": null,
            "max_height": null,
            "max_width": null,
            "min_height": null,
            "min_width": null,
            "object_fit": null,
            "object_position": null,
            "order": null,
            "overflow": null,
            "overflow_x": null,
            "overflow_y": null,
            "padding": null,
            "right": null,
            "top": null,
            "visibility": null,
            "width": null
          }
        },
        "d3147686f78840aabc732393cd1f25f6": {
          "model_module": "@jupyter-widgets/controls",
          "model_name": "ProgressStyleModel",
          "model_module_version": "1.5.0",
          "state": {
            "_model_module": "@jupyter-widgets/controls",
            "_model_module_version": "1.5.0",
            "_model_name": "ProgressStyleModel",
            "_view_count": null,
            "_view_module": "@jupyter-widgets/base",
            "_view_module_version": "1.2.0",
            "_view_name": "StyleView",
            "bar_color": null,
            "description_width": ""
          }
        },
        "5a1e43e4d39f40d288a1fe5fa88a653d": {
          "model_module": "@jupyter-widgets/base",
          "model_name": "LayoutModel",
          "model_module_version": "1.2.0",
          "state": {
            "_model_module": "@jupyter-widgets/base",
            "_model_module_version": "1.2.0",
            "_model_name": "LayoutModel",
            "_view_count": null,
            "_view_module": "@jupyter-widgets/base",
            "_view_module_version": "1.2.0",
            "_view_name": "LayoutView",
            "align_content": null,
            "align_items": null,
            "align_self": null,
            "border": null,
            "bottom": null,
            "display": null,
            "flex": null,
            "flex_flow": null,
            "grid_area": null,
            "grid_auto_columns": null,
            "grid_auto_flow": null,
            "grid_auto_rows": null,
            "grid_column": null,
            "grid_gap": null,
            "grid_row": null,
            "grid_template_areas": null,
            "grid_template_columns": null,
            "grid_template_rows": null,
            "height": null,
            "justify_content": null,
            "justify_items": null,
            "left": null,
            "margin": null,
            "max_height": null,
            "max_width": null,
            "min_height": null,
            "min_width": null,
            "object_fit": null,
            "object_position": null,
            "order": null,
            "overflow": null,
            "overflow_x": null,
            "overflow_y": null,
            "padding": null,
            "right": null,
            "top": null,
            "visibility": null,
            "width": null
          }
        },
        "b15ade09d0674ac7a6a8a5e108868594": {
          "model_module": "@jupyter-widgets/controls",
          "model_name": "DescriptionStyleModel",
          "model_module_version": "1.5.0",
          "state": {
            "_model_module": "@jupyter-widgets/controls",
            "_model_module_version": "1.5.0",
            "_model_name": "DescriptionStyleModel",
            "_view_count": null,
            "_view_module": "@jupyter-widgets/base",
            "_view_module_version": "1.2.0",
            "_view_name": "StyleView",
            "description_width": ""
          }
        },
        "25f2c1423ff4421abc565d7da275d90c": {
          "model_module": "@jupyter-widgets/controls",
          "model_name": "HBoxModel",
          "model_module_version": "1.5.0",
          "state": {
            "_dom_classes": [],
            "_model_module": "@jupyter-widgets/controls",
            "_model_module_version": "1.5.0",
            "_model_name": "HBoxModel",
            "_view_count": null,
            "_view_module": "@jupyter-widgets/controls",
            "_view_module_version": "1.5.0",
            "_view_name": "HBoxView",
            "box_style": "",
            "children": [
              "IPY_MODEL_57072053f40840c7b3b99f09b4ed9d8d",
              "IPY_MODEL_46fd6e2686df46f0882569d332bc428c",
              "IPY_MODEL_7909a70d51ad4d3db157074e4bd39e3b"
            ],
            "layout": "IPY_MODEL_ce23c7504cce49709cab90955ed2f924"
          }
        },
        "57072053f40840c7b3b99f09b4ed9d8d": {
          "model_module": "@jupyter-widgets/controls",
          "model_name": "HTMLModel",
          "model_module_version": "1.5.0",
          "state": {
            "_dom_classes": [],
            "_model_module": "@jupyter-widgets/controls",
            "_model_module_version": "1.5.0",
            "_model_name": "HTMLModel",
            "_view_count": null,
            "_view_module": "@jupyter-widgets/controls",
            "_view_module_version": "1.5.0",
            "_view_name": "HTMLView",
            "description": "",
            "description_tooltip": null,
            "layout": "IPY_MODEL_e7c199a80f6348348653e67a1887e001",
            "placeholder": "​",
            "style": "IPY_MODEL_c22f2efb6b26486199650790877af25f",
            "value": "Downloading: 100%"
          }
        },
        "46fd6e2686df46f0882569d332bc428c": {
          "model_module": "@jupyter-widgets/controls",
          "model_name": "FloatProgressModel",
          "model_module_version": "1.5.0",
          "state": {
            "_dom_classes": [],
            "_model_module": "@jupyter-widgets/controls",
            "_model_module_version": "1.5.0",
            "_model_name": "FloatProgressModel",
            "_view_count": null,
            "_view_module": "@jupyter-widgets/controls",
            "_view_module_version": "1.5.0",
            "_view_name": "ProgressView",
            "bar_style": "success",
            "description": "",
            "description_tooltip": null,
            "layout": "IPY_MODEL_6e1167d9ddca4474a1047a03bed33590",
            "max": 466062,
            "min": 0,
            "orientation": "horizontal",
            "style": "IPY_MODEL_6036be9bf05440e7a7c359704f3bc4a6",
            "value": 466062
          }
        },
        "7909a70d51ad4d3db157074e4bd39e3b": {
          "model_module": "@jupyter-widgets/controls",
          "model_name": "HTMLModel",
          "model_module_version": "1.5.0",
          "state": {
            "_dom_classes": [],
            "_model_module": "@jupyter-widgets/controls",
            "_model_module_version": "1.5.0",
            "_model_name": "HTMLModel",
            "_view_count": null,
            "_view_module": "@jupyter-widgets/controls",
            "_view_module_version": "1.5.0",
            "_view_name": "HTMLView",
            "description": "",
            "description_tooltip": null,
            "layout": "IPY_MODEL_8278286ab818420389ebc10b3e378d2e",
            "placeholder": "​",
            "style": "IPY_MODEL_6a3eb2532db246e0825915d8b93548a1",
            "value": " 455k/455k [00:00&lt;00:00, 1.37MB/s]"
          }
        },
        "ce23c7504cce49709cab90955ed2f924": {
          "model_module": "@jupyter-widgets/base",
          "model_name": "LayoutModel",
          "model_module_version": "1.2.0",
          "state": {
            "_model_module": "@jupyter-widgets/base",
            "_model_module_version": "1.2.0",
            "_model_name": "LayoutModel",
            "_view_count": null,
            "_view_module": "@jupyter-widgets/base",
            "_view_module_version": "1.2.0",
            "_view_name": "LayoutView",
            "align_content": null,
            "align_items": null,
            "align_self": null,
            "border": null,
            "bottom": null,
            "display": null,
            "flex": null,
            "flex_flow": null,
            "grid_area": null,
            "grid_auto_columns": null,
            "grid_auto_flow": null,
            "grid_auto_rows": null,
            "grid_column": null,
            "grid_gap": null,
            "grid_row": null,
            "grid_template_areas": null,
            "grid_template_columns": null,
            "grid_template_rows": null,
            "height": null,
            "justify_content": null,
            "justify_items": null,
            "left": null,
            "margin": null,
            "max_height": null,
            "max_width": null,
            "min_height": null,
            "min_width": null,
            "object_fit": null,
            "object_position": null,
            "order": null,
            "overflow": null,
            "overflow_x": null,
            "overflow_y": null,
            "padding": null,
            "right": null,
            "top": null,
            "visibility": null,
            "width": null
          }
        },
        "e7c199a80f6348348653e67a1887e001": {
          "model_module": "@jupyter-widgets/base",
          "model_name": "LayoutModel",
          "model_module_version": "1.2.0",
          "state": {
            "_model_module": "@jupyter-widgets/base",
            "_model_module_version": "1.2.0",
            "_model_name": "LayoutModel",
            "_view_count": null,
            "_view_module": "@jupyter-widgets/base",
            "_view_module_version": "1.2.0",
            "_view_name": "LayoutView",
            "align_content": null,
            "align_items": null,
            "align_self": null,
            "border": null,
            "bottom": null,
            "display": null,
            "flex": null,
            "flex_flow": null,
            "grid_area": null,
            "grid_auto_columns": null,
            "grid_auto_flow": null,
            "grid_auto_rows": null,
            "grid_column": null,
            "grid_gap": null,
            "grid_row": null,
            "grid_template_areas": null,
            "grid_template_columns": null,
            "grid_template_rows": null,
            "height": null,
            "justify_content": null,
            "justify_items": null,
            "left": null,
            "margin": null,
            "max_height": null,
            "max_width": null,
            "min_height": null,
            "min_width": null,
            "object_fit": null,
            "object_position": null,
            "order": null,
            "overflow": null,
            "overflow_x": null,
            "overflow_y": null,
            "padding": null,
            "right": null,
            "top": null,
            "visibility": null,
            "width": null
          }
        },
        "c22f2efb6b26486199650790877af25f": {
          "model_module": "@jupyter-widgets/controls",
          "model_name": "DescriptionStyleModel",
          "model_module_version": "1.5.0",
          "state": {
            "_model_module": "@jupyter-widgets/controls",
            "_model_module_version": "1.5.0",
            "_model_name": "DescriptionStyleModel",
            "_view_count": null,
            "_view_module": "@jupyter-widgets/base",
            "_view_module_version": "1.2.0",
            "_view_name": "StyleView",
            "description_width": ""
          }
        },
        "6e1167d9ddca4474a1047a03bed33590": {
          "model_module": "@jupyter-widgets/base",
          "model_name": "LayoutModel",
          "model_module_version": "1.2.0",
          "state": {
            "_model_module": "@jupyter-widgets/base",
            "_model_module_version": "1.2.0",
            "_model_name": "LayoutModel",
            "_view_count": null,
            "_view_module": "@jupyter-widgets/base",
            "_view_module_version": "1.2.0",
            "_view_name": "LayoutView",
            "align_content": null,
            "align_items": null,
            "align_self": null,
            "border": null,
            "bottom": null,
            "display": null,
            "flex": null,
            "flex_flow": null,
            "grid_area": null,
            "grid_auto_columns": null,
            "grid_auto_flow": null,
            "grid_auto_rows": null,
            "grid_column": null,
            "grid_gap": null,
            "grid_row": null,
            "grid_template_areas": null,
            "grid_template_columns": null,
            "grid_template_rows": null,
            "height": null,
            "justify_content": null,
            "justify_items": null,
            "left": null,
            "margin": null,
            "max_height": null,
            "max_width": null,
            "min_height": null,
            "min_width": null,
            "object_fit": null,
            "object_position": null,
            "order": null,
            "overflow": null,
            "overflow_x": null,
            "overflow_y": null,
            "padding": null,
            "right": null,
            "top": null,
            "visibility": null,
            "width": null
          }
        },
        "6036be9bf05440e7a7c359704f3bc4a6": {
          "model_module": "@jupyter-widgets/controls",
          "model_name": "ProgressStyleModel",
          "model_module_version": "1.5.0",
          "state": {
            "_model_module": "@jupyter-widgets/controls",
            "_model_module_version": "1.5.0",
            "_model_name": "ProgressStyleModel",
            "_view_count": null,
            "_view_module": "@jupyter-widgets/base",
            "_view_module_version": "1.2.0",
            "_view_name": "StyleView",
            "bar_color": null,
            "description_width": ""
          }
        },
        "8278286ab818420389ebc10b3e378d2e": {
          "model_module": "@jupyter-widgets/base",
          "model_name": "LayoutModel",
          "model_module_version": "1.2.0",
          "state": {
            "_model_module": "@jupyter-widgets/base",
            "_model_module_version": "1.2.0",
            "_model_name": "LayoutModel",
            "_view_count": null,
            "_view_module": "@jupyter-widgets/base",
            "_view_module_version": "1.2.0",
            "_view_name": "LayoutView",
            "align_content": null,
            "align_items": null,
            "align_self": null,
            "border": null,
            "bottom": null,
            "display": null,
            "flex": null,
            "flex_flow": null,
            "grid_area": null,
            "grid_auto_columns": null,
            "grid_auto_flow": null,
            "grid_auto_rows": null,
            "grid_column": null,
            "grid_gap": null,
            "grid_row": null,
            "grid_template_areas": null,
            "grid_template_columns": null,
            "grid_template_rows": null,
            "height": null,
            "justify_content": null,
            "justify_items": null,
            "left": null,
            "margin": null,
            "max_height": null,
            "max_width": null,
            "min_height": null,
            "min_width": null,
            "object_fit": null,
            "object_position": null,
            "order": null,
            "overflow": null,
            "overflow_x": null,
            "overflow_y": null,
            "padding": null,
            "right": null,
            "top": null,
            "visibility": null,
            "width": null
          }
        },
        "6a3eb2532db246e0825915d8b93548a1": {
          "model_module": "@jupyter-widgets/controls",
          "model_name": "DescriptionStyleModel",
          "model_module_version": "1.5.0",
          "state": {
            "_model_module": "@jupyter-widgets/controls",
            "_model_module_version": "1.5.0",
            "_model_name": "DescriptionStyleModel",
            "_view_count": null,
            "_view_module": "@jupyter-widgets/base",
            "_view_module_version": "1.2.0",
            "_view_name": "StyleView",
            "description_width": ""
          }
        },
        "e2120a5ae73b4f8b92f278fd85177a20": {
          "model_module": "@jupyter-widgets/controls",
          "model_name": "HBoxModel",
          "model_module_version": "1.5.0",
          "state": {
            "_dom_classes": [],
            "_model_module": "@jupyter-widgets/controls",
            "_model_module_version": "1.5.0",
            "_model_name": "HBoxModel",
            "_view_count": null,
            "_view_module": "@jupyter-widgets/controls",
            "_view_module_version": "1.5.0",
            "_view_name": "HBoxView",
            "box_style": "",
            "children": [
              "IPY_MODEL_256f8c07e296489286ffeadbcbcf629a",
              "IPY_MODEL_4c97a3e31d184821a3b2128ebded3e95",
              "IPY_MODEL_40473d16c5c2473e87fbe1f48ae72c2a"
            ],
            "layout": "IPY_MODEL_3beec41464f5456db8fe122d425dc9da"
          }
        },
        "256f8c07e296489286ffeadbcbcf629a": {
          "model_module": "@jupyter-widgets/controls",
          "model_name": "HTMLModel",
          "model_module_version": "1.5.0",
          "state": {
            "_dom_classes": [],
            "_model_module": "@jupyter-widgets/controls",
            "_model_module_version": "1.5.0",
            "_model_name": "HTMLModel",
            "_view_count": null,
            "_view_module": "@jupyter-widgets/controls",
            "_view_module_version": "1.5.0",
            "_view_name": "HTMLView",
            "description": "",
            "description_tooltip": null,
            "layout": "IPY_MODEL_07a489bb16a240a8adaafbc84ed032ce",
            "placeholder": "​",
            "style": "IPY_MODEL_b6eb26c247a64d2b918915bfce359f86",
            "value": "Downloading: 100%"
          }
        },
        "4c97a3e31d184821a3b2128ebded3e95": {
          "model_module": "@jupyter-widgets/controls",
          "model_name": "FloatProgressModel",
          "model_module_version": "1.5.0",
          "state": {
            "_dom_classes": [],
            "_model_module": "@jupyter-widgets/controls",
            "_model_module_version": "1.5.0",
            "_model_name": "FloatProgressModel",
            "_view_count": null,
            "_view_module": "@jupyter-widgets/controls",
            "_view_module_version": "1.5.0",
            "_view_name": "ProgressView",
            "bar_style": "success",
            "description": "",
            "description_tooltip": null,
            "layout": "IPY_MODEL_25af917669d94fcb9327314c2fac46ae",
            "max": 483,
            "min": 0,
            "orientation": "horizontal",
            "style": "IPY_MODEL_db044dfb600446d98c643d3e1a946584",
            "value": 483
          }
        },
        "40473d16c5c2473e87fbe1f48ae72c2a": {
          "model_module": "@jupyter-widgets/controls",
          "model_name": "HTMLModel",
          "model_module_version": "1.5.0",
          "state": {
            "_dom_classes": [],
            "_model_module": "@jupyter-widgets/controls",
            "_model_module_version": "1.5.0",
            "_model_name": "HTMLModel",
            "_view_count": null,
            "_view_module": "@jupyter-widgets/controls",
            "_view_module_version": "1.5.0",
            "_view_name": "HTMLView",
            "description": "",
            "description_tooltip": null,
            "layout": "IPY_MODEL_144bef015baf499da4e7ffb468db68a3",
            "placeholder": "​",
            "style": "IPY_MODEL_e06707a192eb44d8b7e94d050dd001d2",
            "value": " 483/483 [00:00&lt;00:00, 15.6kB/s]"
          }
        },
        "3beec41464f5456db8fe122d425dc9da": {
          "model_module": "@jupyter-widgets/base",
          "model_name": "LayoutModel",
          "model_module_version": "1.2.0",
          "state": {
            "_model_module": "@jupyter-widgets/base",
            "_model_module_version": "1.2.0",
            "_model_name": "LayoutModel",
            "_view_count": null,
            "_view_module": "@jupyter-widgets/base",
            "_view_module_version": "1.2.0",
            "_view_name": "LayoutView",
            "align_content": null,
            "align_items": null,
            "align_self": null,
            "border": null,
            "bottom": null,
            "display": null,
            "flex": null,
            "flex_flow": null,
            "grid_area": null,
            "grid_auto_columns": null,
            "grid_auto_flow": null,
            "grid_auto_rows": null,
            "grid_column": null,
            "grid_gap": null,
            "grid_row": null,
            "grid_template_areas": null,
            "grid_template_columns": null,
            "grid_template_rows": null,
            "height": null,
            "justify_content": null,
            "justify_items": null,
            "left": null,
            "margin": null,
            "max_height": null,
            "max_width": null,
            "min_height": null,
            "min_width": null,
            "object_fit": null,
            "object_position": null,
            "order": null,
            "overflow": null,
            "overflow_x": null,
            "overflow_y": null,
            "padding": null,
            "right": null,
            "top": null,
            "visibility": null,
            "width": null
          }
        },
        "07a489bb16a240a8adaafbc84ed032ce": {
          "model_module": "@jupyter-widgets/base",
          "model_name": "LayoutModel",
          "model_module_version": "1.2.0",
          "state": {
            "_model_module": "@jupyter-widgets/base",
            "_model_module_version": "1.2.0",
            "_model_name": "LayoutModel",
            "_view_count": null,
            "_view_module": "@jupyter-widgets/base",
            "_view_module_version": "1.2.0",
            "_view_name": "LayoutView",
            "align_content": null,
            "align_items": null,
            "align_self": null,
            "border": null,
            "bottom": null,
            "display": null,
            "flex": null,
            "flex_flow": null,
            "grid_area": null,
            "grid_auto_columns": null,
            "grid_auto_flow": null,
            "grid_auto_rows": null,
            "grid_column": null,
            "grid_gap": null,
            "grid_row": null,
            "grid_template_areas": null,
            "grid_template_columns": null,
            "grid_template_rows": null,
            "height": null,
            "justify_content": null,
            "justify_items": null,
            "left": null,
            "margin": null,
            "max_height": null,
            "max_width": null,
            "min_height": null,
            "min_width": null,
            "object_fit": null,
            "object_position": null,
            "order": null,
            "overflow": null,
            "overflow_x": null,
            "overflow_y": null,
            "padding": null,
            "right": null,
            "top": null,
            "visibility": null,
            "width": null
          }
        },
        "b6eb26c247a64d2b918915bfce359f86": {
          "model_module": "@jupyter-widgets/controls",
          "model_name": "DescriptionStyleModel",
          "model_module_version": "1.5.0",
          "state": {
            "_model_module": "@jupyter-widgets/controls",
            "_model_module_version": "1.5.0",
            "_model_name": "DescriptionStyleModel",
            "_view_count": null,
            "_view_module": "@jupyter-widgets/base",
            "_view_module_version": "1.2.0",
            "_view_name": "StyleView",
            "description_width": ""
          }
        },
        "25af917669d94fcb9327314c2fac46ae": {
          "model_module": "@jupyter-widgets/base",
          "model_name": "LayoutModel",
          "model_module_version": "1.2.0",
          "state": {
            "_model_module": "@jupyter-widgets/base",
            "_model_module_version": "1.2.0",
            "_model_name": "LayoutModel",
            "_view_count": null,
            "_view_module": "@jupyter-widgets/base",
            "_view_module_version": "1.2.0",
            "_view_name": "LayoutView",
            "align_content": null,
            "align_items": null,
            "align_self": null,
            "border": null,
            "bottom": null,
            "display": null,
            "flex": null,
            "flex_flow": null,
            "grid_area": null,
            "grid_auto_columns": null,
            "grid_auto_flow": null,
            "grid_auto_rows": null,
            "grid_column": null,
            "grid_gap": null,
            "grid_row": null,
            "grid_template_areas": null,
            "grid_template_columns": null,
            "grid_template_rows": null,
            "height": null,
            "justify_content": null,
            "justify_items": null,
            "left": null,
            "margin": null,
            "max_height": null,
            "max_width": null,
            "min_height": null,
            "min_width": null,
            "object_fit": null,
            "object_position": null,
            "order": null,
            "overflow": null,
            "overflow_x": null,
            "overflow_y": null,
            "padding": null,
            "right": null,
            "top": null,
            "visibility": null,
            "width": null
          }
        },
        "db044dfb600446d98c643d3e1a946584": {
          "model_module": "@jupyter-widgets/controls",
          "model_name": "ProgressStyleModel",
          "model_module_version": "1.5.0",
          "state": {
            "_model_module": "@jupyter-widgets/controls",
            "_model_module_version": "1.5.0",
            "_model_name": "ProgressStyleModel",
            "_view_count": null,
            "_view_module": "@jupyter-widgets/base",
            "_view_module_version": "1.2.0",
            "_view_name": "StyleView",
            "bar_color": null,
            "description_width": ""
          }
        },
        "144bef015baf499da4e7ffb468db68a3": {
          "model_module": "@jupyter-widgets/base",
          "model_name": "LayoutModel",
          "model_module_version": "1.2.0",
          "state": {
            "_model_module": "@jupyter-widgets/base",
            "_model_module_version": "1.2.0",
            "_model_name": "LayoutModel",
            "_view_count": null,
            "_view_module": "@jupyter-widgets/base",
            "_view_module_version": "1.2.0",
            "_view_name": "LayoutView",
            "align_content": null,
            "align_items": null,
            "align_self": null,
            "border": null,
            "bottom": null,
            "display": null,
            "flex": null,
            "flex_flow": null,
            "grid_area": null,
            "grid_auto_columns": null,
            "grid_auto_flow": null,
            "grid_auto_rows": null,
            "grid_column": null,
            "grid_gap": null,
            "grid_row": null,
            "grid_template_areas": null,
            "grid_template_columns": null,
            "grid_template_rows": null,
            "height": null,
            "justify_content": null,
            "justify_items": null,
            "left": null,
            "margin": null,
            "max_height": null,
            "max_width": null,
            "min_height": null,
            "min_width": null,
            "object_fit": null,
            "object_position": null,
            "order": null,
            "overflow": null,
            "overflow_x": null,
            "overflow_y": null,
            "padding": null,
            "right": null,
            "top": null,
            "visibility": null,
            "width": null
          }
        },
        "e06707a192eb44d8b7e94d050dd001d2": {
          "model_module": "@jupyter-widgets/controls",
          "model_name": "DescriptionStyleModel",
          "model_module_version": "1.5.0",
          "state": {
            "_model_module": "@jupyter-widgets/controls",
            "_model_module_version": "1.5.0",
            "_model_name": "DescriptionStyleModel",
            "_view_count": null,
            "_view_module": "@jupyter-widgets/base",
            "_view_module_version": "1.2.0",
            "_view_name": "StyleView",
            "description_width": ""
          }
        }
      }
    },
    "accelerator": "GPU"
  },
  "nbformat": 4,
  "nbformat_minor": 0
}