{
 "cells": [
  {
   "cell_type": "markdown",
   "metadata": {},
   "source": [
    "# Reinforcement Learning\n",
    "\n",
    "# Q-Learning\n",
    "\n",
    "This notebook presents online control by **Q-learning**."
   ]
  },
  {
   "cell_type": "code",
   "execution_count": 1,
   "metadata": {},
   "outputs": [],
   "source": [
    "import numpy as np\n",
    "from copy import deepcopy"
   ]
  },
  {
   "cell_type": "code",
   "execution_count": 2,
   "metadata": {},
   "outputs": [],
   "source": [
    "from model import Walk, Maze, TicTacToe, Nim, ConnectFour\n",
    "from agent import Agent, OnlineControl"
   ]
  },
  {
   "cell_type": "markdown",
   "metadata": {},
   "source": [
    "## Q-learning"
   ]
  },
  {
   "cell_type": "code",
   "execution_count": 56,
   "metadata": {},
   "outputs": [],
   "source": [
    "class QLearning(OnlineControl):\n",
    "    \"\"\"Online control by Q-learning.\"\"\"\n",
    "        \n",
    "    def update_values(self):\n",
    "        \"\"\"Learn the state-action value online.\"\"\"\n",
    "        self.environment.reinit_state()\n",
    "        state = self.environment.state\n",
    "        for t in range(self.n_steps):\n",
    "            state_code = self.environment.encode(state)\n",
    "            action = self.get_best_action_randomized(state)\n",
    "            self.add_action(state, action)\n",
    "            self.action_count[state_code][action] += 1\n",
    "            reward, stop = self.environment.step(action)\n",
    "            if stop:\n",
    "                gain = reward\n",
    "            else:\n",
    "                new_state = self.environment.state\n",
    "                # to be modified\n",
    "                new_action = self.get_best_action_randomized(new_state)\n",
    "                self.add_action(new_state, new_action)\n",
    "                gain = reward + self.gamma*np.max(list(self.action_value[self.environment.encode(new_state)].values()))\n",
    "            td = gain - self.action_value[state_code][action]\n",
    "            self.action_value[state_code][action] += td / self.action_count[state_code][action]\n",
    "            state = deepcopy(new_state)\n",
    "            if stop:\n",
    "                break"
   ]
  },
  {
   "cell_type": "markdown",
   "metadata": {},
   "source": [
    "## To do\n",
    "\n",
    "Update the function ``update_values`` and test your code on various environments."
   ]
  },
  {
   "cell_type": "markdown",
   "metadata": {},
   "source": [
    "## Walk"
   ]
  },
  {
   "cell_type": "code",
   "execution_count": 57,
   "metadata": {},
   "outputs": [],
   "source": [
    "walk = Walk()"
   ]
  },
  {
   "cell_type": "code",
   "execution_count": 58,
   "metadata": {},
   "outputs": [],
   "source": [
    "# random policy\n",
    "agent = Agent(walk)"
   ]
  },
  {
   "cell_type": "code",
   "execution_count": 59,
   "metadata": {},
   "outputs": [],
   "source": [
    "stop, states, rewards = agent.get_episode(n_steps=10)"
   ]
  },
  {
   "cell_type": "code",
   "execution_count": 60,
   "metadata": {},
   "outputs": [
    {
     "data": {
      "image/png": "[encoded data removed]",
      "text/plain": [
       "<Figure size 432x288 with 1 Axes>"
      ]
     },
     "metadata": {
      "needs_background": "light"
     },
     "output_type": "display_data"
    }
   ],
   "source": [
    "animation = walk.display(states)"
   ]
  },
  {
   "cell_type": "code",
   "execution_count": 61,
   "metadata": {},
   "outputs": [
    {
     "data": {
      "text/html": [
       "\n",
       "<link rel=\"stylesheet\"\n",
       "href=\"https://maxcdn.bootstrapcdn.com/font-awesome/4.4.0/css/font-awesome.min.css\">\n",
       "<script language=\"javascript\">\n",
       "  function isInternetExplorer() {\n",
       "    ua = navigator.userAgent;\n",
       "    /* MSIE used to detect old browsers and Trident used to newer ones*/\n",
       "    return ua.indexOf(\"MSIE \") > -1 || ua.indexOf(\"Trident/\") > -1;\n",
       "  }\n",
       "\n",
       "  /* Define the Animation class */\n",
       "  function Animation(frames, img_id, slider_id, interval, loop_select_id){\n",
       "    this.img_id = img_id;\n",
       "    this.slider_id = slider_id;\n",
       "    this.loop_select_id = loop_select_id;\n",
       "    this.interval = interval;\n",
       "    this.current_frame = 0;\n",
       "    this.direction = 0;\n",
       "    this.timer = null;\n",
       "    this.frames = new Array(frames.length);\n",
       "\n",
       "    for (var i=0; i<frames.length; i++)\n",
       "    {\n",
       "     this.frames[i] = new Image();\n",
       "     this.frames[i].src = frames[i];\n",
       "    }\n",
       "    var slider = document.getElementById(this.slider_id);\n",
       "    slider.max = this.frames.length - 1;\n",
       "    if (isInternetExplorer()) {\n",
       "        // switch from oninput to onchange because IE <= 11 does not conform\n",
       "        // with W3C specification. It ignores oninput and onchange behaves\n",
       "        // like oninput. In contrast, Microsoft Edge behaves correctly.\n",
       "        slider.setAttribute('onchange', slider.getAttribute('oninput'));\n",
       "        slider.setAttribute('oninput', null);\n",
       "    }\n",
       "    this.set_frame(this.current_frame);\n",
       "  }\n",
       "\n",
       "  Animation.prototype.get_loop_state = function(){\n",
       "    var button_group = document[this.loop_select_id].state;\n",
       "    for (var i = 0; i < button_group.length; i++) {\n",
       "        var button = button_group[i];\n",
       "        if (button.checked) {\n",
       "            return button.value;\n",
       "        }\n",
       "    }\n",
       "    return undefined;\n",
       "  }\n",
       "\n",
       "  Animation.prototype.set_frame = function(frame){\n",
       "    this.current_frame = frame;\n",
       "    document.getElementById(this.img_id).src =\n",
       "            this.frames[this.current_frame].src;\n",
       "    document.getElementById(this.slider_id).value = this.current_frame;\n",
       "  }\n",
       "\n",
       "  Animation.prototype.next_frame = function()\n",
       "  {\n",
       "    this.set_frame(Math.min(this.frames.length - 1, this.current_frame + 1));\n",
       "  }\n",
       "\n",
       "  Animation.prototype.previous_frame = function()\n",
       "  {\n",
       "    this.set_frame(Math.max(0, this.current_frame - 1));\n",
       "  }\n",
       "\n",
       "  Animation.prototype.first_frame = function()\n",
       "  {\n",
       "    this.set_frame(0);\n",
       "  }\n",
       "\n",
       "  Animation.prototype.last_frame = function()\n",
       "  {\n",
       "    this.set_frame(this.frames.length - 1);\n",
       "  }\n",
       "\n",
       "  Animation.prototype.slower = function()\n",
       "  {\n",
       "    this.interval /= 0.7;\n",
       "    if(this.direction > 0){this.play_animation();}\n",
       "    else if(this.direction < 0){this.reverse_animation();}\n",
       "  }\n",
       "\n",
       "  Animation.prototype.faster = function()\n",
       "  {\n",
       "    this.interval *= 0.7;\n",
       "    if(this.direction > 0){this.play_animation();}\n",
       "    else if(this.direction < 0){this.reverse_animation();}\n",
       "  }\n",
       "\n",
       "  Animation.prototype.anim_step_forward = function()\n",
       "  {\n",
       "    this.current_frame += 1;\n",
       "    if(this.current_frame < this.frames.length){\n",
       "      this.set_frame(this.current_frame);\n",
       "    }else{\n",
       "      var loop_state = this.get_loop_state();\n",
       "      if(loop_state == \"loop\"){\n",
       "        this.first_frame();\n",
       "      }else if(loop_state == \"reflect\"){\n",
       "        this.last_frame();\n",
       "        this.reverse_animation();\n",
       "      }else{\n",
       "        this.pause_animation();\n",
       "        this.last_frame();\n",
       "      }\n",
       "    }\n",
       "  }\n",
       "\n",
       "  Animation.prototype.anim_step_reverse = function()\n",
       "  {\n",
       "    this.current_frame -= 1;\n",
       "    if(this.current_frame >= 0){\n",
       "      this.set_frame(this.current_frame);\n",
       "    }else{\n",
       "      var loop_state = this.get_loop_state();\n",
       "      if(loop_state == \"loop\"){\n",
       "        this.last_frame();\n",
       "      }else if(loop_state == \"reflect\"){\n",
       "        this.first_frame();\n",
       "        this.play_animation();\n",
       "      }else{\n",
       "        this.pause_animation();\n",
       "        this.first_frame();\n",
       "      }\n",
       "    }\n",
       "  }\n",
       "\n",
       "  Animation.prototype.pause_animation = function()\n",
       "  {\n",
       "    this.direction = 0;\n",
       "    if (this.timer){\n",
       "      clearInterval(this.timer);\n",
       "      this.timer = null;\n",
       "    }\n",
       "  }\n",
       "\n",
       "  Animation.prototype.play_animation = function()\n",
       "  {\n",
       "    this.pause_animation();\n",
       "    this.direction = 1;\n",
       "    var t = this;\n",
       "    if (!this.timer) this.timer = setInterval(function() {\n",
       "        t.anim_step_forward();\n",
       "    }, this.interval);\n",
       "  }\n",
       "\n",
       "  Animation.prototype.reverse_animation = function()\n",
       "  {\n",
       "    this.pause_animation();\n",
       "    this.direction = -1;\n",
       "    var t = this;\n",
       "    if (!this.timer) this.timer = setInterval(function() {\n",
       "        t.anim_step_reverse();\n",
       "    }, this.interval);\n",
       "  }\n",
       "</script>\n",
       "\n",
       "<style>\n",
       ".animation {\n",
       "    display: inline-block;\n",
       "    text-align: center;\n",
       "}\n",
       "input[type=range].anim-slider {\n",
       "    width: 374px;\n",
       "    margin-left: auto;\n",
       "    margin-right: auto;\n",
       "}\n",
       ".anim-buttons {\n",
       "    margin: 8px 0px;\n",
       "}\n",
       ".anim-buttons button {\n",
       "    padding: 0;\n",
       "    width: 36px;\n",
       "}\n",
       ".anim-state label {\n",
       "    margin-right: 8px;\n",
       "}\n",
       ".anim-state input {\n",
       "    margin: 0;\n",
       "    vertical-align: middle;\n",
       "}\n",
       "</style>\n",
       "\n",
       "<div class=\"animation\">\n",
       "  <img id=\"_anim_img15ad7c59296148f087c42c621ab5cc6b\">\n",
       "  <div class=\"anim-controls\">\n",
       "    <input id=\"_anim_slider15ad7c59296148f087c42c621ab5cc6b\" type=\"range\" class=\"anim-slider\"\n",
       "           name=\"points\" min=\"0\" max=\"1\" step=\"1\" value=\"0\"\n",
       "           oninput=\"anim15ad7c59296148f087c42c621ab5cc6b.set_frame(parseInt(this.value));\"></input>\n",
       "    <div class=\"anim-buttons\">\n",
       "      <button title=\"Decrease speed\" aria-label=\"Decrease speed\" onclick=\"anim15ad7c59296148f087c42c621ab5cc6b.slower()\">\n",
       "          <i class=\"fa fa-minus\"></i></button>\n",
       "      <button title=\"First frame\" aria-label=\"First frame\" onclick=\"anim15ad7c59296148f087c42c621ab5cc6b.first_frame()\">\n",
       "        <i class=\"fa fa-fast-backward\"></i></button>\n",
       "      <button title=\"Previous frame\" aria-label=\"Previous frame\" onclick=\"anim15ad7c59296148f087c42c621ab5cc6b.previous_frame()\">\n",
       "          <i class=\"fa fa-step-backward\"></i></button>\n",
       "      <button title=\"Play backwards\" aria-label=\"Play backwards\" onclick=\"anim15ad7c59296148f087c42c621ab5cc6b.reverse_animation()\">\n",
       "          <i class=\"fa fa-play fa-flip-horizontal\"></i></button>\n",
       "      <button title=\"Pause\" aria-label=\"Pause\" onclick=\"anim15ad7c59296148f087c42c621ab5cc6b.pause_animation()\">\n",
       "          <i class=\"fa fa-pause\"></i></button>\n",
       "      <button title=\"Play\" aria-label=\"Play\" onclick=\"anim15ad7c59296148f087c42c621ab5cc6b.play_animation()\">\n",
       "          <i class=\"fa fa-play\"></i></button>\n",
       "      <button title=\"Next frame\" aria-label=\"Next frame\" onclick=\"anim15ad7c59296148f087c42c621ab5cc6b.next_frame()\">\n",
       "          <i class=\"fa fa-step-forward\"></i></button>\n",
       "      <button title=\"Last frame\" aria-label=\"Last frame\" onclick=\"anim15ad7c59296148f087c42c621ab5cc6b.last_frame()\">\n",
       "          <i class=\"fa fa-fast-forward\"></i></button>\n",
       "      <button title=\"Increase speed\" aria-label=\"Increase speed\" onclick=\"anim15ad7c59296148f087c42c621ab5cc6b.faster()\">\n",
       "          <i class=\"fa fa-plus\"></i></button>\n",
       "    </div>\n",
       "    <form title=\"Repetition mode\" aria-label=\"Repetition mode\" action=\"#n\" name=\"_anim_loop_select15ad7c59296148f087c42c621ab5cc6b\"\n",
       "          class=\"anim-state\">\n",
       "      <input type=\"radio\" name=\"state\" value=\"once\" id=\"_anim_radio1_15ad7c59296148f087c42c621ab5cc6b\"\n",
       "             checked>\n",
       "      <label for=\"_anim_radio1_15ad7c59296148f087c42c621ab5cc6b\">Once</label>\n",
       "      <input type=\"radio\" name=\"state\" value=\"loop\" id=\"_anim_radio2_15ad7c59296148f087c42c621ab5cc6b\"\n",
       "             >\n",
       "      <label for=\"_anim_radio2_15ad7c59296148f087c42c621ab5cc6b\">Loop</label>\n",
       "      <input type=\"radio\" name=\"state\" value=\"reflect\" id=\"_anim_radio3_15ad7c59296148f087c42c621ab5cc6b\"\n",
       "             >\n",
       "      <label for=\"_anim_radio3_15ad7c59296148f087c42c621ab5cc6b\">Reflect</label>\n",
       "    </form>\n",
       "  </div>\n",
       "</div>\n",
       "\n",
       "\n",
       "<script language=\"javascript\">\n",
       "  /* Instantiate the Animation class. */\n",
       "  /* The IDs given should match those used in the template above. */\n",
       "  (function() {\n",
       "    var img_id = \"_anim_img15ad7c59296148f087c42c621ab5cc6b\";\n",
       "    var slider_id = \"_anim_slider15ad7c59296148f087c42c621ab5cc6b\";\n",
       "    var loop_select_id = \"_anim_loop_select15ad7c59296148f087c42c621ab5cc6b\";\n",
       "    var frames = new Array(11);\n",
       "    \n",
       "  frames[0] = \"data:image/png;base64,iVBORw0KGgoAAAANSUhEUgAAAbAAAAEgCAYAAADVKCZpAAAAOXRFWHRTb2Z0d2FyZQBNYXRwbG90\\\n",
       "bGliIHZlcnNpb24zLjUuMSwgaHR0cHM6Ly9tYXRwbG90bGliLm9yZy/YYfK9AAAACXBIWXMAAAsT\\\n",
       "AAALEwEAmpwYAAAGXUlEQVR4nO3csW5TZxiA4d89KcKhYmBkSxdEbiA7XAe9gHahd5KJC4BbYIU9\\\n",
       "UyeomLIxMqASo5CDO1QdUFspSWPcN32e2Uf6JMt6z2cf/4v1ej0AoOabbQ8AAJchYAAkCRgASQIG\\\n",
       "QJKAAZAkYAAkCRgASQIGQJKAAZAkYAAkCRgASQIGQJKAAZAkYAAkCRgASQIGQJKAAZAkYAAkCRgA\\\n",
       "SQIGQJKAAZAkYAAkCRgASQIGQJKAAZAkYAAkCRgASQIGQJKAAZAkYAAkCRgASQIGQJKAAZAkYAAk\\\n",
       "7Wx7AP69o6Oj9bZngOvu4OBgse0Z+JINDIAkAQMgScAASBIwAJIEDIAkAQMgScAASBIwAJIEDIAk\\\n",
       "AQMgScAASBIwAJIEDIAkAQMgScAASBIwAJIEDIAkAQMgScAASBIwAJIEDIAkAQMgScAASBIwAJIE\\\n",
       "DIAkAQMgScAASBIwAJIEDIAkAQMgScAASBIwAJIEDIAkAQMgScAASBIwAJIEDIAkAQMgScAASBIw\\\n",
       "AJIEDIAkAQMgScAASBIwAJIEDIAkAQMgScAASBIwAJIEDIAkAQMgScAASBIwAJIEDIAkAQMgScAA\\\n",
       "SBIwAJIEDIAkAQMgScAASBIwAJIEDIAkAQMgScAASBIwAJIEDIAkAQMgScAASBIwAJIEDIAkAQMg\\\n",
       "ScAASBIwAJIEDIAkAQMgScAASBIwAJIEDIAkAQMgScAASBIwAJIEDIAkAQMgScAASBIwAJIEDIAk\\\n",
       "AQMgScAASBIwAJIEDIAkAQMgScAASBIwAJIEDIAkAQMgScAASBIwAJIEDIAkAQMgScAASBIwAJIE\\\n",
       "DIAkAQMgScAASBIwAJIEDIAkAQMgScAASBIwAJIEDIAkAQMgScAASBIwAJIEDIAkAQMgScAASBIw\\\n",
       "AJIEDIAkAQMgScAASBIwAJIEDIAkAQMgScAASBIwAJIEDIAkAQMgScAASBIwAJIEDIAkAQMgScDg\\\n",
       "Kzo7G+O336Yxz9ueBPp2tj0AXHenp4vx4sWd8ezZ3XF8vBzTtB7zvBh7e6vx6NHb8fDhu3Hjxnrb\\\n",
       "Y0LOYr32wak7OjryJv5HvXp1a/z8871xdrYYJyd/vV/c3Z3Hzs7ncXj4Zuzvf9jChJzXwcHBYtsz\\\n",
       "8CVfIcKGvH59a/z00/3x/v23fxuvMcY4OZnG+/ffjh9/vD9ev771lSeENgGDDTg9XYzHj++Njx+n\\\n",
       "c73+48dpPH58b5yeusmH8xIw2IAXL+6Ms7OLfbw+ffpmvHx5Z0MTwfUjYLABz57dHScn59u+/rRa\\\n",
       "TePp07sbmgiuHwGDKzbPYxwfLy917fHx0iP2cE4CBldstZrGNF3uwdBpWo/V6mKbG/xfCRhcseVy\\\n",
       "HvN8uYcx5nkxlksrGJyHgMEVm6Yx9vZWl7p2b281JgsYnIuAwQY8evR27O5ebJPa3Z3HDz+83dBE\\\n",
       "cP0IGGzAw4fvxs7O5wtds7PzeTx48G5DE8H1I2CwATdurMfh4Ztx8+b5trCbN+dxePjGmYhwAQIG\\\n",
       "G7K//2E8efLruH370z9+nbi7O4/btz+NJ09+dRYiXJDT6GGD9vc/jOfPfxkvX94ZT59+eRr999//\\\n",
       "cRr9gwdOo4fLcBr9NeA0+o55/uN/Ysvl7GnDGKfR//fYwOArmqYxvvvO/7zgKvgNDIAkAQMgScAA\\\n",
       "SBIwAJIEDIAkAQMgScAASBIwAJIEDIAkAQMgScAASBIwAJIEDIAkAQMgScAASBIwAJIEDIAkAQMg\\\n",
       "ScAASBIwAJIEDIAkAQMgScAASBIwAJIEDIAkAQMgScAASBIwAJIEDIAkAQMgScAASBIwAJIEDIAk\\\n",
       "AQMgScAASBIwAJIEDIAkAQMgScAASBIwAJIEDIAkAQMgScAASBIwAJIEDIAkAQMgScAASBIwAJIE\\\n",
       "DIAkAQMgScAASBIwAJIEDIAkAQMgScAASBIwAJIEDIAkAQMgScAASBIwAJIEDIAkAQMgScAASBIw\\\n",
       "AJIEDIAkAQMgScAASBIwAJIW6/V62zMAwIXZwABIEjAAkgQMgCQBAyBJwABIEjAAkgQMgCQBAyBJ\\\n",
       "wABIEjAAkgQMgCQBAyBJwABIEjAAkgQMgCQBAyBJwABIEjAAkgQMgCQBAyBJwABIEjAAkgQMgCQB\\\n",
       "AyBJwABIEjAAkgQMgCQBAyBJwABIEjAAkgQMgCQBAyBJwABIEjAAkgQMgKTfASPhqb/TexJpAAAA\\\n",
       "AElFTkSuQmCC\\\n",
       "\"\n",
       "  frames[1] = \"data:image/png;base64,iVBORw0KGgoAAAANSUhEUgAAAbAAAAEgCAYAAADVKCZpAAAAOXRFWHRTb2Z0d2FyZQBNYXRwbG90\\\n",
       "bGliIHZlcnNpb24zLjUuMSwgaHR0cHM6Ly9tYXRwbG90bGliLm9yZy/YYfK9AAAACXBIWXMAAAsT\\\n",
       "AAALEwEAmpwYAAAGXUlEQVR4nO3csW5TZxiA4d89KcKhYmBkSxdEbiA7XAe9gHahd5KJC4BbYIU9\\\n",
       "UyeomLIxMqASo5CDO1QdUFspSWPcN32e2Uf6JMt6z2cf/4v1ej0AoOabbQ8AAJchYAAkCRgASQIG\\\n",
       "QJKAAZAkYAAkCRgASQIGQJKAAZAkYAAkCRgASQIGQJKAAZAkYAAkCRgASQIGQJKAAZAkYAAkCRgA\\\n",
       "SQIGQJKAAZAkYAAkCRgASQIGQJKAAZAkYAAkCRgASQIGQJKAAZAkYAAkCRgASQIGQJKAAZAkYAAk\\\n",
       "7Wx7AP69o6Oj9bZngOvu4OBgse0Z+JINDIAkAQMgScAASBIwAJIEDIAkAQMgScAASBIwAJIEDIAk\\\n",
       "AQMgScAASBIwAJIEDIAkAQMgScAASBIwAJIEDIAkAQMgScAASBIwAJIEDIAkAQMgScAASBIwAJIE\\\n",
       "DIAkAQMgScAASBIwAJIEDIAkAQMgScAASBIwAJIEDIAkAQMgScAASBIwAJIEDIAkAQMgScAASBIw\\\n",
       "AJIEDIAkAQMgScAASBIwAJIEDIAkAQMgScAASBIwAJIEDIAkAQMgScAASBIwAJIEDIAkAQMgScAA\\\n",
       "SBIwAJIEDIAkAQMgScAASBIwAJIEDIAkAQMgScAASBIwAJIEDIAkAQMgScAASBIwAJIEDIAkAQMg\\\n",
       "ScAASBIwAJIEDIAkAQMgScAASBIwAJIEDIAkAQMgScAASBIwAJIEDIAkAQMgScAASBIwAJIEDIAk\\\n",
       "AQMgScAASBIwAJIEDIAkAQMgScAASBIwAJIEDIAkAQMgScAASBIwAJIEDIAkAQMgScAASBIw+IrO\\\n",
       "zsb47bdpzPO2J4G+nW0PANfd6elivHhxZzx7dnccHy/HNK3HPC/G3t5qPHr0djx8+G7cuLHe9piQ\\\n",
       "s1ivfXDqjo6OvIn/Ua9e3Ro//3xvnJ0txsnJX+8Xd3fnsbPzeRwevhn7+x+2MCHndXBwsNj2DHzJ\\\n",
       "V4iwIa9f3xo//XR/vH//7d/Ga4wxTk6m8f79t+PHH++P169vfeUJoU3AYANOTxfj8eN74+PH6Vyv\\\n",
       "//hxGo8f3xunp27y4bwEDDbgxYs74+zsYh+vT5++GS9f3tnQRHD9CBhswLNnd8fJyfm2rz+tVtN4\\\n",
       "+vTuhiaC60fA4IrN8xjHx8tLXXt8vPSIPZyTgMEVW62mMU2XezB0mtZjtbrY5gb/VwIGV2y5nMc8\\\n",
       "X+5hjHlejOXSCgbnIWBwxaZpjL291aWu3dtbjckCBuciYLABjx69Hbu7F9ukdnfn8cMPbzc0EVw/\\\n",
       "AgYb8PDhu7Gz8/lC1+zsfB4PHrzb0ERw/QgYbMCNG+txePhm3Lx5vi3s5s15HB6+cSYiXICAwYbs\\\n",
       "738YT578Om7f/vSPXyfu7s7j9u1P48mTX52FCBfkNHrYoP39D+P581/Gy5d3xtOnX55G//33f5xG\\\n",
       "/+CB0+jhMpxGfw04jb5jnv/4n9hyOXvaMMZp9P89NjD4iqZpjO++8z8vuAp+AwMgScAASBIwAJIE\\\n",
       "DIAkAQMgScAASBIwAJIEDIAkAQMgScAASBIwAJIEDIAkAQMgScAASBIwAJIEDIAkAQMgScAASBIw\\\n",
       "AJIEDIAkAQMgScAASBIwAJIEDIAkAQMgScAASBIwAJIEDIAkAQMgScAASBIwAJIEDIAkAQMgScAA\\\n",
       "SBIwAJIEDIAkAQMgScAASBIwAJIEDIAkAQMgScAASBIwAJIEDIAkAQMgScAASBIwAJIEDIAkAQMg\\\n",
       "ScAASBIwAJIEDIAkAQMgScAASBIwAJIEDIAkAQMgScAASBIwAJIEDIAkAQMgScAASBIwAJIEDIAk\\\n",
       "AQMgScAASBIwAJIEDIAkAQMgScAASBIwAJIEDIAkAQMgScAASBIwAJIEDIAkAQMgScAASBIwAJIE\\\n",
       "DIAkAQMgScAASBIwAJIEDIAkAQMgScAASBIwAJIEDIAkAQMgScAASBIwAJIEDIAkAQMgScAASBIw\\\n",
       "AJIEDIAkAQMgScAASBIwAJIW6/V62zMAwIXZwABIEjAAkgQMgCQBAyBJwABIEjAAkgQMgCQBAyBJ\\\n",
       "wABIEjAAkgQMgCQBAyBJwABIEjAAkgQMgCQBAyBJwABIEjAAkgQMgCQBAyBJwABIEjAAkgQMgCQB\\\n",
       "AyBJwABIEjAAkgQMgCQBAyBJwABIEjAAkgQMgCQBAyBJwABIEjAAkgQMgKTfAeijqb88dCtJAAAA\\\n",
       "AElFTkSuQmCC\\\n",
       "\"\n",
       "  frames[2] = \"data:image/png;base64,iVBORw0KGgoAAAANSUhEUgAAAbAAAAEgCAYAAADVKCZpAAAAOXRFWHRTb2Z0d2FyZQBNYXRwbG90\\\n",
       "bGliIHZlcnNpb24zLjUuMSwgaHR0cHM6Ly9tYXRwbG90bGliLm9yZy/YYfK9AAAACXBIWXMAAAsT\\\n",
       "AAALEwEAmpwYAAAGXElEQVR4nO3cvW6TZxiA4df9AsKhYmBkCwtqTiA7HAc9gLLQM8nEAcApsMKe\\\n",
       "qRMgpmyMDKjEKOTDHaoOqD8i4cfc7nXN/qRHsq3bj/35XazX6wEANT9segAAuAgBAyBJwABIEjAA\\\n",
       "kgQMgCQBAyBJwABIEjAAkgQMgCQBAyBJwABIEjAAkgQMgCQBAyBJwABIEjAAkgQMgCQBAyBJwABI\\\n",
       "EjAAkgQMgCQBAyBJwABIEjAAkgQMgCQBAyBJwABIEjAAkgQMgCQBAyBJwABIEjAAkgQMgCQBAyBp\\\n",
       "Z9MD8PmOjo7Wm54Btt3BwcFi0zPwMRsYAEkCBkCSgAGQJGAAJAkYAEkCBkCSgAGQJGAAJAkYAEkC\\\n",
       "BkCSgAGQJGAAJAkYAEkCBkCSgAGQJGAAJAkYAEkCBkCSgAGQJGAAJAkYAEkCBkCSgAGQJGAAJAkY\\\n",
       "AEkCBkCSgAGQJGAAJAkYAEkCBkCSgAGQJGAAJAkYAEkCBkCSgAGQJGAAJAkYAEkCBkCSgAGQJGAA\\\n",
       "JAkYAEkCBkCSgAGQJGAAJAkYAEkCBkCSgAGQJGAAJAkYAEkCBkCSgAGQJGAAJAkYAEkCBkCSgAGQ\\\n",
       "JGAAJAkYAEkCBkCSgAGQJGAAJAkYAEkCBkCSgAGQJGAAJAkYAEkCBkCSgAGQJGAAJAkYAEkCBkCS\\\n",
       "gAGQJGAAJAkYAEkCBkCSgAGQJGAAJAkYAEkCBkCSgAGQJGAAJAkYAEkCBkCSgAGQJGAAJAkYAEkC\\\n",
       "BkCSgAGQJGAAJAkYAEkCBkCSgAGQJGAAJAkYAEkCBkCSgAGQJGAAJAkYAEkCBkCSgAGQJGD875yd\\\n",
       "jfH779OY501PAnyOnU0PAN/C6eliPHlyfTx6dGMcHy/HNK3HPC/G3t5q3L37aty583pcvrze9JjA\\\n",
       "OSzWa2/auqOjI0/if3j27Or49ddb4+xsMU5O/v6ZbXd3Hjs7H8bh4cuxv/92AxNScHBwsNj0DHzM\\\n",
       "V4hstefPr457934ab95c+sd4jTHGyck03ry5NH755afx/PnVbzwhcFECxtY6PV2M+/dvjXfvpk96\\\n",
       "/Lt307h//9Y4PfVBGwoEjK315Mn1cXZ2vpf4+/c/jKdPr3+liYAvScDYWo8e3RgnJ5+2ff1ltZrG\\\n",
       "w4c3vtJEwJckYGyleR7j+Hh5oWuPj5dusYcAAWMrrVbTmKaL3Zw5TeuxWp1vcwO+PQFjKy2X85jn\\\n",
       "i92MMc+LsVxaweB7J2BspWkaY29vdaFr9/ZWY7KAwXdPwNhad+++Gru759ukdnfn8fPPr77SRMCX\\\n",
       "JGBsrTt3Xo+dnQ/numZn58O4ffv1V5oI+JIEjK11+fJ6HB6+HFeufNoWduXKPA4PXzoTESIEjK22\\\n",
       "v/92PHjwYly79v5fv07c3Z3HtWvvx4MHL5yFCCFOo2fr7e+/HY8f/zaePr0+Hj78+DT6mzf/PI3+\\\n",
       "9m2n0UON0+i3gNPoz2ee//yf2HI5u9uQT+Y0+u+PDYz/nWka48cf/c8L6vwGBkCSgAGQJGAAJAkY\\\n",
       "AEkCBkCSgAGQJGAAJAkYAEkCBkCSgAGQJGAAJAkYAEkCBkCSgAGQJGAAJAkYAEkCBkCSgAGQJGAA\\\n",
       "JAkYAEkCBkCSgAGQJGAAJAkYAEkCBkCSgAGQJGAAJAkYAEkCBkCSgAGQJGAAJAkYAEkCBkCSgAGQ\\\n",
       "JGAAJAkYAEkCBkCSgAGQJGAAJAkYAEkCBkCSgAGQJGAAJAkYAEkCBkCSgAGQJGAAJAkYAEkCBkCS\\\n",
       "gAGQJGAAJAkYAEkCBkCSgAGQJGAAJAkYAEkCBkCSgAGQJGAAJAkYAEkCBkCSgAGQJGAAJAkYAEkC\\\n",
       "BkCSgAGQJGAAJAkYAEkCBkCSgAGQJGAAJAkYAEkCBkCSgAGQJGAAJAkYAEkCBkCSgAGQJGAAJAkY\\\n",
       "AEkCBkCSgAGQJGAAJAkYAEkCBkCSgAGQJGAAJAkYAEkCBkCSgAGQJGAAJAkYAEkCBkCSgAGQJGAA\\\n",
       "JAkYAEkCBkCSgAGQJGAAJC3W6/WmZwCAc7OBAZAkYAAkCRgASQIGQJKAAZAkYAAkCRgASQIGQJKA\\\n",
       "AZAkYAAkCRgASQIGQJKAAZAkYAAkCRgASQIGQJKAAZAkYAAkCRgASQIGQJKAAZAkYAAkCRgASQIG\\\n",
       "QJKAAZAkYAAkCRgASQIGQJKAAZAkYAAkCRgASQIGQJKAAZAkYAAkCRgASX8AcaWpv/f0SUMAAAAA\\\n",
       "SUVORK5CYII=\\\n",
       "\"\n",
       "  frames[3] = \"data:image/png;base64,iVBORw0KGgoAAAANSUhEUgAAAbAAAAEgCAYAAADVKCZpAAAAOXRFWHRTb2Z0d2FyZQBNYXRwbG90\\\n",
       "bGliIHZlcnNpb24zLjUuMSwgaHR0cHM6Ly9tYXRwbG90bGliLm9yZy/YYfK9AAAACXBIWXMAAAsT\\\n",
       "AAALEwEAmpwYAAAGXElEQVR4nO3cvW6TZxiA4df9AsKhYmBkCwtqTiA7HAc9gLLQM8nEAcApsMKe\\\n",
       "qRMgpmyMDKjEKOTDHaoOqD8i4cfc7nXN/qRHsq3bj/35XazX6wEANT9segAAuAgBAyBJwABIEjAA\\\n",
       "kgQMgCQBAyBJwABIEjAAkgQMgCQBAyBJwABIEjAAkgQMgCQBAyBJwABIEjAAkgQMgCQBAyBJwABI\\\n",
       "EjAAkgQMgCQBAyBJwABIEjAAkgQMgCQBAyBJwABIEjAAkgQMgCQBAyBJwABIEjAAkgQMgCQBAyBp\\\n",
       "Z9MD8PmOjo7Wm54Btt3BwcFi0zPwMRsYAEkCBkCSgAGQJGAAJAkYAEkCBkCSgAGQJGAAJAkYAEkC\\\n",
       "BkCSgAGQJGAAJAkYAEkCBkCSgAGQJGAAJAkYAEkCBkCSgAGQJGAAJAkYAEkCBkCSgAGQJGAAJAkY\\\n",
       "AEkCBkCSgAGQJGAAJAkYAEkCBkCSgAGQJGAAJAkYAEkCBkCSgAGQJGAAJAkYAEkCBkCSgAGQJGAA\\\n",
       "JAkYAEkCBkCSgAGQJGAAJAkYAEkCBkCSgAGQJGAAJAkYAEkCBkCSgAGQJGAAJAkYAEkCBkCSgAGQ\\\n",
       "JGAAJAkYAEkCBkCSgAGQJGAAJAkYAEkCBkCSgAGQJGAAJAkYAEkCBkCSgAGQJGAAJAkY/ztnZ2P8\\\n",
       "/vs05nnTkwCfY2fTA8C3cHq6GE+eXB+PHt0Yx8fLMU3rMc+Lsbe3Gnfvvhp37rwely+vNz0mcA6L\\\n",
       "9dqbtu7o6MiT+B+ePbs6fv311jg7W4yTk79/ZtvdncfOzodxePhy7O+/3cCEFBwcHCw2PQMf8xUi\\\n",
       "W+3586vj3r2fxps3l/4xXmOMcXIyjTdvLo1ffvlpPH9+9RtPCFyUgLG1Tk8X4/79W+Pdu+mTHv/u\\\n",
       "3TTu3781Tk990IYCAWNrPXlyfZydne8l/v79D+Pp0+tfaSLgSxIwttajRzfGycmnbV9/Wa2m8fDh\\\n",
       "ja80EfAlCRhbaZ7HOD5eXuja4+OlW+whQMDYSqvVNKbpYjdnTtN6rFbn29yAb0/A2ErL5Tzm+WI3\\\n",
       "Y8zzYiyXVjD43gkYW2maxtjbW13o2r291ZgsYPDdEzC21t27r8bu7vk2qd3defz886uvNBHwJQkY\\\n",
       "W+vOnddjZ+fDua7Z2fkwbt9+/ZUmAr4kAWNrXb68HoeHL8eVK5+2hV25Mo/Dw5fORIQIAWOr7e+/\\\n",
       "HQ8evBjXrr3/168Td3fnce3a+/HgwQtnIUKI0+jZevv7b8fjx7+Np0+vj4cPPz6N/ubNP0+jv33b\\\n",
       "afRQ4zT6LeA0+vOZ5z//J7Zczu425JM5jf77YwPjf2eaxvjxR//zgjq/gQGQJGAAJAkYAEkCBkCS\\\n",
       "gAGQJGAAJAkYAEkCBkCSgAGQJGAAJAkYAEkCBkCSgAGQJGAAJAkYAEkCBkCSgAGQJGAAJAkYAEkC\\\n",
       "BkCSgAGQJGAAJAkYAEkCBkCSgAGQJGAAJAkYAEkCBkCSgAGQJGAAJAkYAEkCBkCSgAGQJGAAJAkY\\\n",
       "AEkCBkCSgAGQJGAAJAkYAEkCBkCSgAGQJGAAJAkYAEkCBkCSgAGQJGAAJAkYAEkCBkCSgAGQJGAA\\\n",
       "JAkYAEkCBkCSgAGQJGAAJAkYAEkCBkCSgAGQJGAAJAkYAEkCBkCSgAGQJGAAJAkYAEkCBkCSgAGQ\\\n",
       "JGAAJAkYAEkCBkCSgAGQJGAAJAkYAEkCBkCSgAGQJGAAJAkYAEkCBkCSgAGQJGAAJAkYAEkCBkCS\\\n",
       "gAGQJGAAJAkYAEkCBkCSgAGQJGAAJAkYAEkCBkCSgAGQJGAAJAkYAEkCBkCSgAGQJGAAJAkYAEkC\\\n",
       "BkCSgAGQJGAAJAkYAEkCBkCSgAGQJGAAJAkYAEkCBkCSgAGQJGAAJAkYAEkCBkCSgAGQJGAAJAkY\\\n",
       "AEkCBkCSgAGQJGAAJAkYAEkCBkCSgAGQJGAAJAkYAEkCBkCSgAGQJGAAJAkYAEkCBkCSgAGQJGAA\\\n",
       "JAkYAEkCBkCSgAGQJGAAJC3W6/WmZwCAc7OBAZAkYAAkCRgASQIGQJKAAZAkYAAkCRgASQIGQJKA\\\n",
       "AZAkYAAkCRgASQIGQJKAAZAkYAAkCRgASQIGQJKAAZAkYAAkCRgASQIGQJKAAZAkYAAkCRgASQIG\\\n",
       "QJKAAZAkYAAkCRgASQIGQJKAAZAkYAAkCRgASQIGQJKAAZAkYAAkCRgASX8ANnapv+5OikEAAAAA\\\n",
       "SUVORK5CYII=\\\n",
       "\"\n",
       "  frames[4] = \"data:image/png;base64,iVBORw0KGgoAAAANSUhEUgAAAbAAAAEgCAYAAADVKCZpAAAAOXRFWHRTb2Z0d2FyZQBNYXRwbG90\\\n",
       "bGliIHZlcnNpb24zLjUuMSwgaHR0cHM6Ly9tYXRwbG90bGliLm9yZy/YYfK9AAAACXBIWXMAAAsT\\\n",
       "AAALEwEAmpwYAAAGXUlEQVR4nO3csW5TZxiA4d89KcKhYmBkSxdEbiA7XAe9gHahd5KJC4BbYIU9\\\n",
       "UyeomLIxMqASo5CDO1QdUFspSWPcN32e2Uf6JMt6z2cf/4v1ej0AoOabbQ8AAJchYAAkCRgASQIG\\\n",
       "QJKAAZAkYAAkCRgASQIGQJKAAZAkYAAkCRgASQIGQJKAAZAkYAAkCRgASQIGQJKAAZAkYAAkCRgA\\\n",
       "SQIGQJKAAZAkYAAkCRgASQIGQJKAAZAkYAAkCRgASQIGQJKAAZAkYAAkCRgASQIGQJKAAZAkYAAk\\\n",
       "7Wx7AP69o6Oj9bZngOvu4OBgse0Z+JINDIAkAQMgScAASBIwAJIEDIAkAQMgScAASBIwAJIEDIAk\\\n",
       "AQMgScAASBIwAJIEDIAkAQMgScAASBIwAJIEDIAkAQMgScAASBIwAJIEDIAkAQMgScAASBIwAJIE\\\n",
       "DIAkAQMgScAASBIwAJIEDIAkAQMgScAASBIwAJIEDIAkAQMgScAASBIwAJIEDIAkAQMgScAASBIw\\\n",
       "AJIEDIAkAQMgScAASBIwAJIEDIAkAQMgScAASBIwAJIEDIAkAQMgScAASBIwAJIEDIAkAQMgScAA\\\n",
       "SBIwAJIEDIAkAQMgScAASBIwAJIEDIAkAQMgScAASBIwAJIEDIAkAQMgScAASBIwAJIEDL6is7Mx\\\n",
       "fvttGvO87Umgb2fbA8B1d3q6GC9e3BnPnt0dx8fLMU3rMc+Lsbe3Go8evR0PH74bN26stz0m5CzW\\\n",
       "ax+cuqOjI2/if9SrV7fGzz/fG2dni3Fy8tf7xd3deezsfB6Hh2/G/v6HLUzIeR0cHCy2PQNf8hUi\\\n",
       "bMjr17fGTz/dH+/ff/u38RpjjJOTabx//+348cf74/XrW195QmgTMNiA09PFePz43vj4cTrX6z9+\\\n",
       "nMbjx/fG6ambfDgvAYMNePHizjg7u9jH69Onb8bLl3c2NBFcPwIGG/Ds2d1xcnK+7etPq9U0nj69\\\n",
       "u6GJ4PoRMLhi8zzG8fHyUtceHy89Yg/nJGBwxVaraUzT5R4Mnab1WK0utrnB/5WAwRVbLucxz5d7\\\n",
       "GGOeF2O5tILBeQgYXLFpGmNvb3Wpa/f2VmOygMG5CBhswKNHb8fu7sU2qd3defzww9sNTQTXj4DB\\\n",
       "Bjx8+G7s7Hy+0DU7O5/HgwfvNjQRXD8CBhtw48Z6HB6+GTdvnm8Lu3lzHoeHb5yJCBcgYLAh+/sf\\\n",
       "xpMnv47btz/949eJu7vzuH3703jy5FdnIcIFOY0eNmh//8N4/vyX8fLlnfH06Zen0X///R+n0T94\\\n",
       "4DR6uAyn0V8DTqPvmOc//ie2XM6eNoxxGv1/jw0MvqJpGuO77/zPC66C38AASBIwAJIEDIAkAQMg\\\n",
       "ScAASBIwAJIEDIAkAQMgScAASBIwAJIEDIAkAQMgScAASBIwAJIEDIAkAQMgScAASBIwAJIEDIAk\\\n",
       "AQMgScAASBIwAJIEDIAkAQMgScAASBIwAJIEDIAkAQMgScAASBIwAJIEDIAkAQMgScAASBIwAJIE\\\n",
       "DIAkAQMgScAASBIwAJIEDIAkAQMgScAASBIwAJIEDIAkAQMgScAASBIwAJIEDIAkAQMgScAASBIw\\\n",
       "AJIEDIAkAQMgScAASBIwAJIEDIAkAQMgScAASBIwAJIEDIAkAQMgScAASBIwAJIEDIAkAQMgScAA\\\n",
       "SBIwAJIEDIAkAQMgScAASBIwAJIEDIAkAQMgScAASBIwAJIEDIAkAQMgScAASBIwAJIEDIAkAQMg\\\n",
       "ScAASBIwAJIEDIAkAQMgScAASBIwAJIEDIAkAQMgScAASBIwAJIEDIAkAQMgScAASBIwAJIEDIAk\\\n",
       "AQMgScAASBIwAJIEDIAkAQMgScAASBIwAJIEDIAkAQMgScAASBIwAJIEDIAkAQMgScAASBIwAJIE\\\n",
       "DIAkAQMgScAASBIwAJIEDIAkAQMgScAASBIwAJIEDIAkAQMgScAASBIwAJIEDIAkAQMgScAASBIw\\\n",
       "AJIEDIAkAQMgScAASBIwAJIW6/V62zMAwIXZwABIEjAAkgQMgCQBAyBJwABIEjAAkgQMgCQBAyBJ\\\n",
       "wABIEjAAkgQMgCQBAyBJwABIEjAAkgQMgCQBAyBJwABIEjAAkgQMgCQBAyBJwABIEjAAkgQMgCQB\\\n",
       "AyBJwABIEjAAkgQMgCQBAyBJwABIEjAAkgQMgCQBAyBJwABIEjAAkgQMgKTfAa10qb+nolTBAAAA\\\n",
       "AElFTkSuQmCC\\\n",
       "\"\n",
       "  frames[5] = \"data:image/png;base64,iVBORw0KGgoAAAANSUhEUgAAAbAAAAEgCAYAAADVKCZpAAAAOXRFWHRTb2Z0d2FyZQBNYXRwbG90\\\n",
       "bGliIHZlcnNpb24zLjUuMSwgaHR0cHM6Ly9tYXRwbG90bGliLm9yZy/YYfK9AAAACXBIWXMAAAsT\\\n",
       "AAALEwEAmpwYAAAGXElEQVR4nO3cvW6TZxiA4df9AsKhYmBkCwtqTiA7HAc9gLLQM8nEAcApsMKe\\\n",
       "qRMgpmyMDKjEKOTDHaoOqD8i4cfc7nXN/qRHsq3bj/35XazX6wEANT9segAAuAgBAyBJwABIEjAA\\\n",
       "kgQMgCQBAyBJwABIEjAAkgQMgCQBAyBJwABIEjAAkgQMgCQBAyBJwABIEjAAkgQMgCQBAyBJwABI\\\n",
       "EjAAkgQMgCQBAyBJwABIEjAAkgQMgCQBAyBJwABIEjAAkgQMgCQBAyBJwABIEjAAkgQMgCQBAyBp\\\n",
       "Z9MD8PmOjo7Wm54Btt3BwcFi0zPwMRsYAEkCBkCSgAGQJGAAJAkYAEkCBkCSgAGQJGAAJAkYAEkC\\\n",
       "BkCSgAGQJGAAJAkYAEkCBkCSgAGQJGAAJAkYAEkCBkCSgAGQJGAAJAkYAEkCBkCSgAGQJGAAJAkY\\\n",
       "AEkCBkCSgAGQJGAAJAkYAEkCBkCSgAGQJGAAJAkYAEkCBkCSgAGQJGAAJAkYAEkCBkCSgAGQJGAA\\\n",
       "JAkYAEkCBkCSgAGQJGAAJAkYAEkCBkCSgAGQJGAAJAkYAEkCBkCSgAGQJGAAJAkYAEkCBkCSgAGQ\\\n",
       "JGAAJAkYAEkCBkCSgAGQJGAAJAkYAEkCBkCSgAGQJGAAJAkYAEkCBkCSgAGQJGAAJAkY/ztnZ2P8\\\n",
       "/vs05nnTkwCfY2fTA8C3cHq6GE+eXB+PHt0Yx8fLMU3rMc+Lsbe3Gnfvvhp37rwely+vNz0mcA6L\\\n",
       "9dqbtu7o6MiT+B+ePbs6fv311jg7W4yTk79/ZtvdncfOzodxePhy7O+/3cCEFBwcHCw2PQMf8xUi\\\n",
       "W+3586vj3r2fxps3l/4xXmOMcXIyjTdvLo1ffvlpPH9+9RtPCFyUgLG1Tk8X4/79W+Pdu+mTHv/u\\\n",
       "3TTu3781Tk990IYCAWNrPXlyfZydne8l/v79D+Pp0+tfaSLgSxIwttajRzfGycmnbV9/Wa2m8fDh\\\n",
       "ja80EfAlCRhbaZ7HOD5eXuja4+OlW+whQMDYSqvVNKbpYjdnTtN6rFbn29yAb0/A2ErL5Tzm+WI3\\\n",
       "Y8zzYiyXVjD43gkYW2maxtjbW13o2r291ZgsYPDdEzC21t27r8bu7vk2qd3defz886uvNBHwJQkY\\\n",
       "W+vOnddjZ+fDua7Z2fkwbt9+/ZUmAr4kAWNrXb68HoeHL8eVK5+2hV25Mo/Dw5fORIQIAWOr7e+/\\\n",
       "HQ8evBjXrr3/168Td3fnce3a+/HgwQtnIUKI0+jZevv7b8fjx7+Np0+vj4cPPz6N/ubNP0+jv33b\\\n",
       "afRQ4zT6LeA0+vOZ5z//J7Zczu425JM5jf77YwPjf2eaxvjxR//zgjq/gQGQJGAAJAkYAEkCBkCS\\\n",
       "gAGQJGAAJAkYAEkCBkCSgAGQJGAAJAkYAEkCBkCSgAGQJGAAJAkYAEkCBkCSgAGQJGAAJAkYAEkC\\\n",
       "BkCSgAGQJGAAJAkYAEkCBkCSgAGQJGAAJAkYAEkCBkCSgAGQJGAAJAkYAEkCBkCSgAGQJGAAJAkY\\\n",
       "AEkCBkCSgAGQJGAAJAkYAEkCBkCSgAGQJGAAJAkYAEkCBkCSgAGQJGAAJAkYAEkCBkCSgAGQJGAA\\\n",
       "JAkYAEkCBkCSgAGQJGAAJAkYAEkCBkCSgAGQJGAAJAkYAEkCBkCSgAGQJGAAJAkYAEkCBkCSgAGQ\\\n",
       "JGAAJAkYAEkCBkCSgAGQJGAAJAkYAEkCBkCSgAGQJGAAJAkYAEkCBkCSgAGQJGAAJAkYAEkCBkCS\\\n",
       "gAGQJGAAJAkYAEkCBkCSgAGQJGAAJAkYAEkCBkCSgAGQJGAAJAkYAEkCBkCSgAGQJGAAJAkYAEkC\\\n",
       "BkCSgAGQJGAAJAkYAEkCBkCSgAGQJGAAJAkYAEkCBkCSgAGQJGAAJAkYAEkCBkCSgAGQJGAAJAkY\\\n",
       "AEkCBkCSgAGQJGAAJAkYAEkCBkCSgAGQJGAAJAkYAEkCBkCSgAGQJGAAJAkYAEkCBkCSgAGQJGAA\\\n",
       "JAkYAEkCBkCSgAGQJGAAJC3W6/WmZwCAc7OBAZAkYAAkCRgASQIGQJKAAZAkYAAkCRgASQIGQJKA\\\n",
       "AZAkYAAkCRgASQIGQJKAAZAkYAAkCRgASQIGQJKAAZAkYAAkCRgASQIGQJKAAZAkYAAkCRgASQIG\\\n",
       "QJKAAZAkYAAkCRgASQIGQJKAAZAkYAAkCRgASQIGQJKAAZAkYAAkCRgASX8ANnapv+5OikEAAAAA\\\n",
       "SUVORK5CYII=\\\n",
       "\"\n",
       "  frames[6] = \"data:image/png;base64,iVBORw0KGgoAAAANSUhEUgAAAbAAAAEgCAYAAADVKCZpAAAAOXRFWHRTb2Z0d2FyZQBNYXRwbG90\\\n",
       "bGliIHZlcnNpb24zLjUuMSwgaHR0cHM6Ly9tYXRwbG90bGliLm9yZy/YYfK9AAAACXBIWXMAAAsT\\\n",
       "AAALEwEAmpwYAAAGXElEQVR4nO3cvW6TZxiA4df9AsKhYmBkCwtqTiA7HAc9gLLQM8nEAcApsMKe\\\n",
       "qRMgpmyMDKjEKOTDHaoOqD8i4cfc7nXN/qRHsq3bj/35XazX6wEANT9segAAuAgBAyBJwABIEjAA\\\n",
       "kgQMgCQBAyBJwABIEjAAkgQMgCQBAyBJwABIEjAAkgQMgCQBAyBJwABIEjAAkgQMgCQBAyBJwABI\\\n",
       "EjAAkgQMgCQBAyBJwABIEjAAkgQMgCQBAyBJwABIEjAAkgQMgCQBAyBJwABIEjAAkgQMgCQBAyBp\\\n",
       "Z9MD8PmOjo7Wm54Btt3BwcFi0zPwMRsYAEkCBkCSgAGQJGAAJAkYAEkCBkCSgAGQJGAAJAkYAEkC\\\n",
       "BkCSgAGQJGAAJAkYAEkCBkCSgAGQJGAAJAkYAEkCBkCSgAGQJGAAJAkYAEkCBkCSgAGQJGAAJAkY\\\n",
       "AEkCBkCSgAGQJGAAJAkYAEkCBkCSgAGQJGAAJAkYAEkCBkCSgAGQJGAAJAkYAEkCxv/O2dkYv/8+\\\n",
       "jXne9CTA59jZ9ADwLZyeLsaTJ9fHo0c3xvHxckzTeszzYuztrcbdu6/GnTuvx+XL602PCZzDYr32\\\n",
       "pq07OjryJP6HZ8+ujl9/vTXOzhbj5OTvn9l2d+exs/NhHB6+HPv7bzcwIQUHBweLTc/Ax3yFyFZ7\\\n",
       "/vzquHfvp/HmzaV/jNcYY5ycTOPNm0vjl19+Gs+fX/3GEwIXJWBsrdPTxbh//9Z49276pMe/ezeN\\\n",
       "+/dvjdNTH7ShQMDYWk+eXB9nZ+d7ib9//8N4+vT6V5oI+JIEjK316NGNcXLyadvXX1araTx8eOMr\\\n",
       "TQR8SQLGVprnMY6Plxe69vh46RZ7CBAwttJqNY1putjNmdO0HqvV+TY34NsTMLbScjmPeb7YzRjz\\\n",
       "vBjLpRUMvncCxlaapjH29lYXunZvbzUmCxh89wSMrXX37quxu3u+TWp3dx4///zqK00EfEkCxta6\\\n",
       "c+f12Nn5cK5rdnY+jNu3X3+liYAvScDYWpcvr8fh4ctx5cqnbWFXrszj8PClMxEhQsDYavv7b8eD\\\n",
       "By/GtWvv//XrxN3deVy79n48ePDCWYgQ4jR6tt7+/tvx+PFv4+nT6+Phw49Po79588/T6G/fdho9\\\n",
       "1DiNfgs4jf585vnP/4ktl7O7DflkTqP//tjA+N+ZpjF+/NH/vKDOb2AAJAkYAEkCBkCSgAGQJGAA\\\n",
       "JAkYAEkCBkCSgAGQJGAAJAkYAEkCBkCSgAGQJGAAJAkYAEkCBkCSgAGQJGAAJAkYAEkCBkCSgAGQ\\\n",
       "JGAAJAkYAEkCBkCSgAGQJGAAJAkYAEkCBkCSgAGQJGAAJAkYAEkCBkCSgAGQJGAAJAkYAEkCBkCS\\\n",
       "gAGQJGAAJAkYAEkCBkCSgAGQJGAAJAkYAEkCBkCSgAGQJGAAJAkYAEkCBkCSgAGQJGAAJAkYAEkC\\\n",
       "BkCSgAGQJGAAJAkYAEkCBkCSgAGQJGAAJAkYAEkCBkCSgAGQJGAAJAkYAEkCBkCSgAGQJGAAJAkY\\\n",
       "AEkCBkCSgAGQJGAAJAkYAEkCBkCSgAGQJGAAJAkYAEkCBkCSgAGQJGAAJAkYAEkCBkCSgAGQJGAA\\\n",
       "JAkYAEkCBkCSgAGQJGAAJAkYAEkCBkCSgAGQJGAAJAkYAEkCBkCSgAGQJGAAJAkYAEkCBkCSgAGQ\\\n",
       "JGAAJAkYAEkCBkCSgAGQJGAAJAkYAEkCBkCSgAGQJGAAJAkYAEkCBkCSgAGQJGAAJAkYAEkCBkCS\\\n",
       "gAGQJGAAJAkYAEkCBkCSgAGQJGAAJAkYAEkCBkCSgAGQJGAAJAkYAEkCBkCSgAGQJGAAJAkYAEkC\\\n",
       "BkCSgAGQJGAAJAkYAEkCBkCSgAGQJGAAJAkYAEkCBkCSgAGQJGAAJAkYAEkCBkCSgAGQJGAAJAkY\\\n",
       "AEkCBkCSgAGQJGAAJAkYAEkCBkCSgAGQJGAAJAkYAEkCBkCSgAGQJGAAJAkYAEkCBkCSgAGQJGAA\\\n",
       "JAkYAEkCBkCSgAGQJGAAJC3W6/WmZwCAc7OBAZAkYAAkCRgASQIGQJKAAZAkYAAkCRgASQIGQJKA\\\n",
       "AZAkYAAkCRgASQIGQJKAAZAkYAAkCRgASQIGQJKAAZAkYAAkCRgASQIGQJKAAZAkYAAkCRgASQIG\\\n",
       "QJKAAZAkYAAkCRgASQIGQJKAAZAkYAAkCRgASQIGQJKAAZAkYAAkCRgASX8A+zipvzFyHBEAAAAA\\\n",
       "SUVORK5CYII=\\\n",
       "\"\n",
       "  frames[7] = \"data:image/png;base64,iVBORw0KGgoAAAANSUhEUgAAAbAAAAEgCAYAAADVKCZpAAAAOXRFWHRTb2Z0d2FyZQBNYXRwbG90\\\n",
       "bGliIHZlcnNpb24zLjUuMSwgaHR0cHM6Ly9tYXRwbG90bGliLm9yZy/YYfK9AAAACXBIWXMAAAsT\\\n",
       "AAALEwEAmpwYAAAGXUlEQVR4nO3csW5TZxiA4d89KcKhYmBkSxdEbiA7XAe9gHahd5KJC4BbYIU9\\\n",
       "UyeomLIxMqASo5CDO1QdUFspSWPcN32e2Uf6JMt6z2cf/4v1ej0AoOabbQ8AAJchYAAkCRgASQIG\\\n",
       "QJKAAZAkYAAkCRgASQIGQJKAAZAkYAAkCRgASQIGQJKAAZAkYAAkCRgASQIGQJKAAZAkYAAkCRgA\\\n",
       "SQIGQJKAAZAkYAAkCRgASQIGQJKAAZAkYAAkCRgASQIGQJKAAZAkYAAkCRgASQIGQJKAAZAkYAAk\\\n",
       "7Wx7AP69o6Oj9bZngOvu4OBgse0Z+JINDIAkAQMgScAASBIwAJIEDIAkAQMgScAASBIwAJIEDIAk\\\n",
       "AQMgScAASBIwAJIEDIAkAQMgScAASBIwAJIEDIAkAQMgScAASBIwAJIEDIAkAQMgScAASBIwAJIE\\\n",
       "DIAkAQMgScAASBIwAJIEDIAkAQMgScAASBIwAJIEDIAkAQMgScAASBIwAJIEDIAkAYOv6OxsjN9+\\\n",
       "m8Y8b3sS6NvZ9gBw3Z2eLsaLF3fGs2d3x/HxckzTeszzYuztrcajR2/Hw4fvxo0b622PCTmL9doH\\\n",
       "p+7o6Mib+B/16tWt8fPP98bZ2WKcnPz1fnF3dx47O5/H4eGbsb//YQsTcl4HBweLbc/Al3yFCBvy\\\n",
       "+vWt8dNP98f799/+bbzGGOPkZBrv3387fvzx/nj9+tZXnhDaBAw24PR0MR4/vjc+fpzO9fqPH6fx\\\n",
       "+PG9cXrqJh/OS8BgA168uDPOzi728fr06Zvx8uWdDU0E14+AwQY8e3Z3nJycb/v602o1jadP725o\\\n",
       "Irh+BAyu2DyPcXy8vNS1x8dLj9jDOQkYXLHVahrTdLkHQ6dpPVari21u8H8lYHDFlst5zPPlHsaY\\\n",
       "58VYLq1gcB4CBldsmsbY21td6tq9vdWYLGBwLgIGG/Do0duxu3uxTWp3dx4//PB2QxPB9SNgsAEP\\\n",
       "H74bOzufL3TNzs7n8eDBuw1NBNePgMEG3LixHoeHb8bNm+fbwm7enMfh4RtnIsIFCBhsyP7+h/Hk\\\n",
       "ya/j9u1P//h14u7uPG7f/jSePPnVWYhwQU6jhw3a3/8wnj//Zbx8eWc8ffrlafTff//HafQPHjiN\\\n",
       "Hi7DafTXgNPoO+b5j/+JLZezpw1jnEb/32MDg69omsb47jv/84Kr4DcwAJIEDIAkAQMgScAASBIw\\\n",
       "AJIEDIAkAQMgScAASBIwAJIEDIAkAQMgScAASBIwAJIEDIAkAQMgScAASBIwAJIEDIAkAQMgScAA\\\n",
       "SBIwAJIEDIAkAQMgScAASBIwAJIEDIAkAQMgScAASBIwAJIEDIAkAQMgScAASBIwAJIEDIAkAQMg\\\n",
       "ScAASBIwAJIEDIAkAQMgScAASBIwAJIEDIAkAQMgScAASBIwAJIEDIAkAQMgScAASBIwAJIEDIAk\\\n",
       "AQMgScAASBIwAJIEDIAkAQMgScAASBIwAJIEDIAkAQMgScAASBIwAJIEDIAkAQMgScAASBIwAJIE\\\n",
       "DIAkAQMgScAASBIwAJIEDIAkAQMgScAASBIwAJIEDIAkAQMgScAASBIwAJIEDIAkAQMgScAASBIw\\\n",
       "AJIEDIAkAQMgScAASBIwAJIEDIAkAQMgScAASBIwAJIEDIAkAQMgScAASBIwAJIEDIAkAQMgScAA\\\n",
       "SBIwAJIEDIAkAQMgScAASBIwAJIEDIAkAQMgScAASBIwAJIEDIAkAQMgScAASBIwAJIEDIAkAQMg\\\n",
       "ScAASBIwAJIEDIAkAQMgScAASBIwAJIEDIAkAQMgScAASBIwAJIEDIAkAQMgScAASBIwAJIEDIAk\\\n",
       "AQMgScAASBIwAJIEDIAkAQMgScAASBIwAJIEDIAkAQMgScAASBIwAJIEDIAkAQMgScAASBIwAJIE\\\n",
       "DIAkAQMgScAASBIwAJIEDIAkAQMgScAASBIwAJIEDIAkAQMgScAASBIwAJIEDIAkAQMgScAASBIw\\\n",
       "AJIEDIAkAQMgScAASBIwAJIW6/V62zMAwIXZwABIEjAAkgQMgCQBAyBJwABIEjAAkgQMgCQBAyBJ\\\n",
       "wABIEjAAkgQMgCQBAyBJwABIEjAAkgQMgCQBAyBJwABIEjAAkgQMgCQBAyBJwABIEjAAkgQMgCQB\\\n",
       "AyBJwABIEjAAkgQMgCQBAyBJwABIEjAAkgQMgCQBAyBJwABIEjAAkgQMgKTfAXJFqb8TVutFAAAA\\\n",
       "AElFTkSuQmCC\\\n",
       "\"\n",
       "  frames[8] = \"data:image/png;base64,iVBORw0KGgoAAAANSUhEUgAAAbAAAAEgCAYAAADVKCZpAAAAOXRFWHRTb2Z0d2FyZQBNYXRwbG90\\\n",
       "bGliIHZlcnNpb24zLjUuMSwgaHR0cHM6Ly9tYXRwbG90bGliLm9yZy/YYfK9AAAACXBIWXMAAAsT\\\n",
       "AAALEwEAmpwYAAAGXUlEQVR4nO3csW5TZxiA4d89KcKhYmBkSxdEbiA7XAe9gHahd5KJC4BbYIU9\\\n",
       "UyeomLIxMqASo5CDO1QdUFspSWPcN32e2Uf6JMt6z2cf/4v1ej0AoOabbQ8AAJchYAAkCRgASQIG\\\n",
       "QJKAAZAkYAAkCRgASQIGQJKAAZAkYAAkCRgASQIGQJKAAZAkYAAkCRgASQIGQJKAAZAkYAAkCRgA\\\n",
       "SQIGQJKAAZAkYAAkCRgASQIGQJKAAZAkYAAkCRgASQIGQJKAAZAkYAAkCRgASQIGQJKAAZAkYAAk\\\n",
       "7Wx7AP69o6Oj9bZngOvu4OBgse0Z+JINDIAkAQMgScAASBIwAJIEDIAkAQMgScAASBIwAJIEDIAk\\\n",
       "AQMgScAASBIwAJIEDIAkAQMgScAASBIwAJIEDIAkAQMgScAASBIwAJIEDIAkAQMgScAASBIwAJIE\\\n",
       "DIAkAQMgScAASBIwAJIEDIAkAQMgScAASBIwAJIEDIAkAQMgScAASBIwAJIEDIAkAQMgScAASBIw\\\n",
       "AJIEDIAkAQMgScAASBIwAJIEDIAkAQMgScAASBIwAJIEDIAkAQMgScAASBIwAJIEDIAkAQMgScAA\\\n",
       "SBIwAJIEDIAkAQMgScAASBIwAJIEDIAkAQMgScAASBIwAJIEDIAkAQMgScAASBIwAJIEDL6is7Mx\\\n",
       "fvttGvO87Umgb2fbA8B1d3q6GC9e3BnPnt0dx8fLMU3rMc+Lsbe3Go8evR0PH74bN26stz0m5CzW\\\n",
       "ax+cuqOjI2/if9SrV7fGzz/fG2dni3Fy8tf7xd3deezsfB6Hh2/G/v6HLUzIeR0cHCy2PQNf8hUi\\\n",
       "bMjr17fGTz/dH+/ff/u38RpjjJOTabx//+348cf74/XrW195QmgTMNiA09PFePz43vj4cTrX6z9+\\\n",
       "nMbjx/fG6ambfDgvAYMNePHizjg7u9jH69Onb8bLl3c2NBFcPwIGG/Ds2d1xcnK+7etPq9U0nj69\\\n",
       "u6GJ4PoRMLhi8zzG8fHyUtceHy89Yg/nJGBwxVaraUzT5R4Mnab1WK0utrnB/5WAwRVbLucxz5d7\\\n",
       "GGOeF2O5tILBeQgYXLFpGmNvb3Wpa/f2VmOygMG5CBhswKNHb8fu7sU2qd3defzww9sNTQTXj4DB\\\n",
       "Bjx8+G7s7Hy+0DU7O5/HgwfvNjQRXD8CBhtw48Z6HB6+GTdvnm8Lu3lzHoeHb5yJCBcgYLAh+/sf\\\n",
       "xpMnv47btz/949eJu7vzuH3703jy5FdnIcIFOY0eNmh//8N4/vyX8fLlnfH06Zen0X///R+n0T94\\\n",
       "4DR6uAyn0V8DTqPvmOc//ie2XM6eNoxxGv1/jw0MvqJpGuO77/zPC66C38AASBIwAJIEDIAkAQMg\\\n",
       "ScAASBIwAJIEDIAkAQMgScAASBIwAJIEDIAkAQMgScAASBIwAJIEDIAkAQMgScAASBIwAJIEDIAk\\\n",
       "AQMgScAASBIwAJIEDIAkAQMgScAASBIwAJIEDIAkAQMgScAASBIwAJIEDIAkAQMgScAASBIwAJIE\\\n",
       "DIAkAQMgScAASBIwAJIEDIAkAQMgScAASBIwAJIEDIAkAQMgScAASBIwAJIEDIAkAQMgScAASBIw\\\n",
       "AJIEDIAkAQMgScAASBIwAJIEDIAkAQMgScAASBIwAJIEDIAkAQMgScAASBIwAJIEDIAkAQMgScAA\\\n",
       "SBIwAJIEDIAkAQMgScAASBIwAJIEDIAkAQMgScAASBIwAJIEDIAkAQMgScAASBIwAJIEDIAkAQMg\\\n",
       "ScAASBIwAJIEDIAkAQMgScAASBIwAJIEDIAkAQMgScAASBIwAJIEDIAkAQMgScAASBIwAJIEDIAk\\\n",
       "AQMgScAASBIwAJIEDIAkAQMgScAASBIwAJIEDIAkAQMgScAASBIwAJIEDIAkAQMgScAASBIwAJIE\\\n",
       "DIAkAQMgScAASBIwAJIEDIAkAQMgScAASBIwAJIEDIAkAQMgScAASBIwAJIEDIAkAQMgScAASBIw\\\n",
       "AJIEDIAkAQMgScAASBIwAJIW6/V62zMAwIXZwABIEjAAkgQMgCQBAyBJwABIEjAAkgQMgCQBAyBJ\\\n",
       "wABIEjAAkgQMgCQBAyBJwABIEjAAkgQMgCQBAyBJwABIEjAAkgQMgCQBAyBJwABIEjAAkgQMgCQB\\\n",
       "AyBJwABIEjAAkgQMgCQBAyBJwABIEjAAkgQMgCQBAyBJwABIEjAAkgQMgKTfAa10qb+nolTBAAAA\\\n",
       "AElFTkSuQmCC\\\n",
       "\"\n",
       "  frames[9] = \"data:image/png;base64,iVBORw0KGgoAAAANSUhEUgAAAbAAAAEgCAYAAADVKCZpAAAAOXRFWHRTb2Z0d2FyZQBNYXRwbG90\\\n",
       "bGliIHZlcnNpb24zLjUuMSwgaHR0cHM6Ly9tYXRwbG90bGliLm9yZy/YYfK9AAAACXBIWXMAAAsT\\\n",
       "AAALEwEAmpwYAAAGXElEQVR4nO3cvW6TZxiA4df9AsKhYmBkCwtqTiA7HAc9gLLQM8nEAcApsMKe\\\n",
       "qRMgpmyMDKjEKOTDHaoOqD8i4cfc7nXN/qRHsq3bj/35XazX6wEANT9segAAuAgBAyBJwABIEjAA\\\n",
       "kgQMgCQBAyBJwABIEjAAkgQMgCQBAyBJwABIEjAAkgQMgCQBAyBJwABIEjAAkgQMgCQBAyBJwABI\\\n",
       "EjAAkgQMgCQBAyBJwABIEjAAkgQMgCQBAyBJwABIEjAAkgQMgCQBAyBJwABIEjAAkgQMgCQBAyBp\\\n",
       "Z9MD8PmOjo7Wm54Btt3BwcFi0zPwMRsYAEkCBkCSgAGQJGAAJAkYAEkCBkCSgAGQJGAAJAkYAEkC\\\n",
       "BkCSgAGQJGAAJAkYAEkCBkCSgAGQJGAAJAkYAEkCBkCSgAGQJGAAJAkYAEkCBkCSgAGQJGAAJAkY\\\n",
       "AEkCBkCSgAGQJGAAJAkYAEkCBkCSgAGQJGAAJAkYAEkCBkCSgAGQJGAAJAkYAEkCBkCSgAGQJGAA\\\n",
       "JAkYAEkCBkCSgAGQJGAAJAkYAEkCBkCSgAGQJGAAJAkYAEkCBkCSgAGQJGAAJAkYAEkCBkCSgAGQ\\\n",
       "JGAAJAkYAEkCBkCSgAGQJGAAJAkYAEkCBkCSgAGQJGAAJAkYAEkCBkCSgAGQJGAAJAkY/ztnZ2P8\\\n",
       "/vs05nnTkwCfY2fTA8C3cHq6GE+eXB+PHt0Yx8fLMU3rMc+Lsbe3Gnfvvhp37rwely+vNz0mcA6L\\\n",
       "9dqbtu7o6MiT+B+ePbs6fv311jg7W4yTk79/ZtvdncfOzodxePhy7O+/3cCEFBwcHCw2PQMf8xUi\\\n",
       "W+3586vj3r2fxps3l/4xXmOMcXIyjTdvLo1ffvlpPH9+9RtPCFyUgLG1Tk8X4/79W+Pdu+mTHv/u\\\n",
       "3TTu3781Tk990IYCAWNrPXlyfZydne8l/v79D+Pp0+tfaSLgSxIwttajRzfGycmnbV9/Wa2m8fDh\\\n",
       "ja80EfAlCRhbaZ7HOD5eXuja4+OlW+whQMDYSqvVNKbpYjdnTtN6rFbn29yAb0/A2ErL5Tzm+WI3\\\n",
       "Y8zzYiyXVjD43gkYW2maxtjbW13o2r291ZgsYPDdEzC21t27r8bu7vk2qd3defz886uvNBHwJQkY\\\n",
       "W+vOnddjZ+fDua7Z2fkwbt9+/ZUmAr4kAWNrXb68HoeHL8eVK5+2hV25Mo/Dw5fORIQIAWOr7e+/\\\n",
       "HQ8evBjXrr3/168Td3fnce3a+/HgwQtnIUKI0+jZevv7b8fjx7+Np0+vj4cPPz6N/ubNP0+jv33b\\\n",
       "afRQ4zT6LeA0+vOZ5z//J7Zczu425JM5jf77YwPjf2eaxvjxR//zgjq/gQGQJGAAJAkYAEkCBkCS\\\n",
       "gAGQJGAAJAkYAEkCBkCSgAGQJGAAJAkYAEkCBkCSgAGQJGAAJAkYAEkCBkCSgAGQJGAAJAkYAEkC\\\n",
       "BkCSgAGQJGAAJAkYAEkCBkCSgAGQJGAAJAkYAEkCBkCSgAGQJGAAJAkYAEkCBkCSgAGQJGAAJAkY\\\n",
       "AEkCBkCSgAGQJGAAJAkYAEkCBkCSgAGQJGAAJAkYAEkCBkCSgAGQJGAAJAkYAEkCBkCSgAGQJGAA\\\n",
       "JAkYAEkCBkCSgAGQJGAAJAkYAEkCBkCSgAGQJGAAJAkYAEkCBkCSgAGQJGAAJAkYAEkCBkCSgAGQ\\\n",
       "JGAAJAkYAEkCBkCSgAGQJGAAJAkYAEkCBkCSgAGQJGAAJAkYAEkCBkCSgAGQJGAAJAkYAEkCBkCS\\\n",
       "gAGQJGAAJAkYAEkCBkCSgAGQJGAAJAkYAEkCBkCSgAGQJGAAJAkYAEkCBkCSgAGQJGAAJAkYAEkC\\\n",
       "BkCSgAGQJGAAJAkYAEkCBkCSgAGQJGAAJAkYAEkCBkCSgAGQJGAAJAkYAEkCBkCSgAGQJGAAJAkY\\\n",
       "AEkCBkCSgAGQJGAAJAkYAEkCBkCSgAGQJGAAJAkYAEkCBkCSgAGQJGAAJAkYAEkCBkCSgAGQJGAA\\\n",
       "JAkYAEkCBkCSgAGQJGAAJC3W6/WmZwCAc7OBAZAkYAAkCRgASQIGQJKAAZAkYAAkCRgASQIGQJKA\\\n",
       "AZAkYAAkCRgASQIGQJKAAZAkYAAkCRgASQIGQJKAAZAkYAAkCRgASQIGQJKAAZAkYAAkCRgASQIG\\\n",
       "QJKAAZAkYAAkCRgASQIGQJKAAZAkYAAkCRgASQIGQJKAAZAkYAAkCRgASX8ANnapv+5OikEAAAAA\\\n",
       "SUVORK5CYII=\\\n",
       "\"\n",
       "  frames[10] = \"data:image/png;base64,iVBORw0KGgoAAAANSUhEUgAAAbAAAAEgCAYAAADVKCZpAAAAOXRFWHRTb2Z0d2FyZQBNYXRwbG90\\\n",
       "bGliIHZlcnNpb24zLjUuMSwgaHR0cHM6Ly9tYXRwbG90bGliLm9yZy/YYfK9AAAACXBIWXMAAAsT\\\n",
       "AAALEwEAmpwYAAAGXElEQVR4nO3cvW6TZxiA4df9AsKhYmBkCwtqTiA7HAc9gLLQM8nEAcApsMKe\\\n",
       "qRMgpmyMDKjEKOTDHaoOqD8i4cfc7nXN/qRHsq3bj/35XazX6wEANT9segAAuAgBAyBJwABIEjAA\\\n",
       "kgQMgCQBAyBJwABIEjAAkgQMgCQBAyBJwABIEjAAkgQMgCQBAyBJwABIEjAAkgQMgCQBAyBJwABI\\\n",
       "EjAAkgQMgCQBAyBJwABIEjAAkgQMgCQBAyBJwABIEjAAkgQMgCQBAyBJwABIEjAAkgQMgCQBAyBp\\\n",
       "Z9MD8PmOjo7Wm54Btt3BwcFi0zPwMRsYAEkCBkCSgAGQJGAAJAkYAEkCBkCSgAGQJGAAJAkYAEkC\\\n",
       "BkCSgAGQJGAAJAkYAEkCBkCSgAGQJGAAJAkYAEkCBkCSgAGQJGAAJAkYAEkCBkCSgAGQJGAAJAkY\\\n",
       "AEkCBkCSgAGQJGAAJAkYAEkCBkCSgAGQJGAAJAkYAEkCBkCSgAGQJGAAJAkYAEkCxv/O2dkYv/8+\\\n",
       "jXne9CTA59jZ9ADwLZyeLsaTJ9fHo0c3xvHxckzTeszzYuztrcbdu6/GnTuvx+XL602PCZzDYr32\\\n",
       "pq07OjryJP6HZ8+ujl9/vTXOzhbj5OTvn9l2d+exs/NhHB6+HPv7bzcwIQUHBweLTc/Ax3yFyFZ7\\\n",
       "/vzquHfvp/HmzaV/jNcYY5ycTOPNm0vjl19+Gs+fX/3GEwIXJWBsrdPTxbh//9Z49276pMe/ezeN\\\n",
       "+/dvjdNTH7ShQMDYWk+eXB9nZ+d7ib9//8N4+vT6V5oI+JIEjK316NGNcXLyadvXX1araTx8eOMr\\\n",
       "TQR8SQLGVprnMY6Plxe69vh46RZ7CBAwttJqNY1putjNmdO0HqvV+TY34NsTMLbScjmPeb7YzRjz\\\n",
       "vBjLpRUMvncCxlaapjH29lYXunZvbzUmCxh89wSMrXX37quxu3u+TWp3dx4///zqK00EfEkCxta6\\\n",
       "c+f12Nn5cK5rdnY+jNu3X3+liYAvScDYWpcvr8fh4ctx5cqnbWFXrszj8PClMxEhQsDYavv7b8eD\\\n",
       "By/GtWvv//XrxN3deVy79n48ePDCWYgQ4jR6tt7+/tvx+PFv4+nT6+Phw49Po79588/T6G/fdho9\\\n",
       "1DiNfgs4jf585vnP/4ktl7O7DflkTqP//tjA+N+ZpjF+/NH/vKDOb2AAJAkYAEkCBkCSgAGQJGAA\\\n",
       "JAkYAEkCBkCSgAGQJGAAJAkYAEkCBkCSgAGQJGAAJAkYAEkCBkCSgAGQJGAAJAkYAEkCBkCSgAGQ\\\n",
       "JGAAJAkYAEkCBkCSgAGQJGAAJAkYAEkCBkCSgAGQJGAAJAkYAEkCBkCSgAGQJGAAJAkYAEkCBkCS\\\n",
       "gAGQJGAAJAkYAEkCBkCSgAGQJGAAJAkYAEkCBkCSgAGQJGAAJAkYAEkCBkCSgAGQJGAAJAkYAEkC\\\n",
       "BkCSgAGQJGAAJAkYAEkCBkCSgAGQJGAAJAkYAEkCBkCSgAGQJGAAJAkYAEkCBkCSgAGQJGAAJAkY\\\n",
       "AEkCBkCSgAGQJGAAJAkYAEkCBkCSgAGQJGAAJAkYAEkCBkCSgAGQJGAAJAkYAEkCBkCSgAGQJGAA\\\n",
       "JAkYAEkCBkCSgAGQJGAAJAkYAEkCBkCSgAGQJGAAJAkYAEkCBkCSgAGQJGAAJAkYAEkCBkCSgAGQ\\\n",
       "JGAAJAkYAEkCBkCSgAGQJGAAJAkYAEkCBkCSgAGQJGAAJAkYAEkCBkCSgAGQJGAAJAkYAEkCBkCS\\\n",
       "gAGQJGAAJAkYAEkCBkCSgAGQJGAAJAkYAEkCBkCSgAGQJGAAJAkYAEkCBkCSgAGQJGAAJAkYAEkC\\\n",
       "BkCSgAGQJGAAJAkYAEkCBkCSgAGQJGAAJAkYAEkCBkCSgAGQJGAAJAkYAEkCBkCSgAGQJGAAJAkY\\\n",
       "AEkCBkCSgAGQJGAAJAkYAEkCBkCSgAGQJGAAJAkYAEkCBkCSgAGQJGAAJAkYAEkCBkCSgAGQJGAA\\\n",
       "JAkYAEkCBkCSgAGQJGAAJC3W6/WmZwCAc7OBAZAkYAAkCRgASQIGQJKAAZAkYAAkCRgASQIGQJKA\\\n",
       "AZAkYAAkCRgASQIGQJKAAZAkYAAkCRgASQIGQJKAAZAkYAAkCRgASQIGQJKAAZAkYAAkCRgASQIG\\\n",
       "QJKAAZAkYAAkCRgASQIGQJKAAZAkYAAkCRgASQIGQJKAAZAkYAAkCRgASX8A+zipvzFyHBEAAAAA\\\n",
       "SUVORK5CYII=\\\n",
       "\"\n",
       "\n",
       "\n",
       "    /* set a timeout to make sure all the above elements are created before\n",
       "       the object is initialized. */\n",
       "    setTimeout(function() {\n",
       "        anim15ad7c59296148f087c42c621ab5cc6b = new Animation(frames, img_id, slider_id, 200.0,\n",
       "                                 loop_select_id);\n",
       "    }, 0);\n",
       "  })()\n",
       "</script>\n"
      ],
      "text/plain": [
       "<matplotlib.animation.FuncAnimation at 0x1eee13c1250>"
      ]
     },
     "execution_count": 61,
     "metadata": {},
     "output_type": "execute_result"
    }
   ],
   "source": [
    "animation"
   ]
  },
  {
   "cell_type": "code",
   "execution_count": 62,
   "metadata": {},
   "outputs": [],
   "source": [
    "algo = QLearning(walk, gamma=0.9, eps=0.5, n_steps=10000)"
   ]
  },
  {
   "cell_type": "code",
   "execution_count": 63,
   "metadata": {},
   "outputs": [],
   "source": [
    "for _ in range(100):\n",
    "    algo.update_values()"
   ]
  },
  {
   "cell_type": "code",
   "execution_count": 64,
   "metadata": {},
   "outputs": [],
   "source": [
    "policy = algo.get_policy()"
   ]
  },
  {
   "cell_type": "code",
   "execution_count": 65,
   "metadata": {},
   "outputs": [
    {
     "data": {
      "image/png": "[encoded data removed]",
      "text/plain": [
       "<Figure size 432x288 with 1 Axes>"
      ]
     },
     "metadata": {
      "needs_background": "light"
     },
     "output_type": "display_data"
    }
   ],
   "source": [
    "walk.display_policy(policy)"
   ]
  },
  {
   "cell_type": "markdown",
   "metadata": {},
   "source": [
    "## Maze"
   ]
  },
  {
   "cell_type": "code",
   "execution_count": 66,
   "metadata": {},
   "outputs": [],
   "source": [
    "maze = Maze()\n",
    "# set parameters\n",
    "maze_map = np.load('maze_small.npy')\n",
    "maze.set_parameters(maze_map, (1, 0), [(3, 8)])\n",
    "# init\n",
    "maze = Maze()"
   ]
  },
  {
   "cell_type": "code",
   "execution_count": 67,
   "metadata": {},
   "outputs": [
    {
     "data": {
      "image/png": "[encoded data removed]",
      "text/plain": [
       "<Figure size 432x288 with 1 Axes>"
      ]
     },
     "metadata": {
      "needs_background": "light"
     },
     "output_type": "display_data"
    }
   ],
   "source": [
    "maze.display()"
   ]
  },
  {
   "cell_type": "code",
   "execution_count": 68,
   "metadata": {},
   "outputs": [],
   "source": [
    "algo = QLearning(maze, eps=0.5, n_steps=10000)"
   ]
  },
  {
   "cell_type": "code",
   "execution_count": 69,
   "metadata": {},
   "outputs": [],
   "source": [
    "for t in range(100):\n",
    "    algo.update_values()"
   ]
  },
  {
   "cell_type": "code",
   "execution_count": 70,
   "metadata": {},
   "outputs": [
    {
     "data": {
      "image/png": "[encoded data removed]",
      "text/plain": [
       "<Figure size 432x288 with 1 Axes>"
      ]
     },
     "metadata": {
      "needs_background": "light"
     },
     "output_type": "display_data"
    }
   ],
   "source": [
    "policy = algo.get_policy()\n",
    "maze.display_policy(policy)"
   ]
  },
  {
   "cell_type": "markdown",
   "metadata": {},
   "source": [
    "## Tic-Tac-Toe"
   ]
  },
  {
   "cell_type": "code",
   "execution_count": 71,
   "metadata": {},
   "outputs": [],
   "source": [
    "Game = TicTacToe"
   ]
  },
  {
   "cell_type": "code",
   "execution_count": 72,
   "metadata": {},
   "outputs": [],
   "source": [
    "game = Game()\n",
    "agent = Agent(game)"
   ]
  },
  {
   "cell_type": "code",
   "execution_count": 73,
   "metadata": {},
   "outputs": [
    {
     "data": {
      "text/plain": [
       "[61, 10, 29]"
      ]
     },
     "execution_count": 73,
     "metadata": {},
     "output_type": "execute_result"
    }
   ],
   "source": [
    "agent.get_game_stats()"
   ]
  },
  {
   "cell_type": "code",
   "execution_count": 74,
   "metadata": {},
   "outputs": [],
   "source": [
    "algo = QLearning(game, eps=0.5)"
   ]
  },
  {
   "cell_type": "code",
   "execution_count": 75,
   "metadata": {},
   "outputs": [],
   "source": [
    "n_games = 1000\n",
    "for i in range(n_games):\n",
    "    algo.update_values()"
   ]
  },
  {
   "cell_type": "code",
   "execution_count": 76,
   "metadata": {},
   "outputs": [
    {
     "data": {
      "text/plain": [
       "2504"
      ]
     },
     "execution_count": 76,
     "metadata": {},
     "output_type": "execute_result"
    }
   ],
   "source": [
    "len(algo.get_states())"
   ]
  },
  {
   "cell_type": "code",
   "execution_count": 77,
   "metadata": {},
   "outputs": [],
   "source": [
    "policy = algo.get_policy()"
   ]
  },
  {
   "cell_type": "code",
   "execution_count": 78,
   "metadata": {},
   "outputs": [],
   "source": [
    "agent = Agent(game, policy)"
   ]
  },
  {
   "cell_type": "code",
   "execution_count": 79,
   "metadata": {},
   "outputs": [
    {
     "data": {
      "text/plain": [
       "[88, 1, 11]"
      ]
     },
     "execution_count": 79,
     "metadata": {},
     "output_type": "execute_result"
    }
   ],
   "source": [
    "agent.get_game_stats()"
   ]
  },
  {
   "cell_type": "code",
   "execution_count": 80,
   "metadata": {},
   "outputs": [],
   "source": [
    "# train the adversary\n",
    "game = Game(play_first=False, player=-1)"
   ]
  },
  {
   "cell_type": "code",
   "execution_count": 81,
   "metadata": {},
   "outputs": [],
   "source": [
    "algo = QLearning(game, player=-1, eps=0.5)"
   ]
  },
  {
   "cell_type": "code",
   "execution_count": 82,
   "metadata": {},
   "outputs": [],
   "source": [
    "n_games = 1000\n",
    "for i in range(n_games):\n",
    "    algo.update_values()"
   ]
  },
  {
   "cell_type": "code",
   "execution_count": 83,
   "metadata": {},
   "outputs": [],
   "source": [
    "adversary_policy = algo.get_policy()"
   ]
  },
  {
   "cell_type": "code",
   "execution_count": 84,
   "metadata": {},
   "outputs": [
    {
     "data": {
      "text/plain": [
       "[49, 11, 40]"
      ]
     },
     "execution_count": 84,
     "metadata": {},
     "output_type": "execute_result"
    }
   ],
   "source": [
    "# after training (you might need to further train your player)\n",
    "game = Game(adversary_policy=adversary_policy)\n",
    "agent = Agent(game)\n",
    "agent.get_game_stats()"
   ]
  },
  {
   "cell_type": "markdown",
   "metadata": {},
   "source": [
    "## To do\n",
    "\n",
    "* Compare with TD learning.\n",
    "* Try other games (Nim, Connect Four)"
   ]
  },
  {
   "cell_type": "code",
   "execution_count": 85,
   "metadata": {},
   "outputs": [],
   "source": [
    "Game = ConnectFour"
   ]
  },
  {
   "cell_type": "code",
   "execution_count": 86,
   "metadata": {},
   "outputs": [],
   "source": [
    "game = Game()\n",
    "agent = Agent(game)"
   ]
  },
  {
   "cell_type": "code",
   "execution_count": 87,
   "metadata": {},
   "outputs": [
    {
     "data": {
      "text/plain": [
       "[48, 1, 51]"
      ]
     },
     "execution_count": 87,
     "metadata": {},
     "output_type": "execute_result"
    }
   ],
   "source": [
    "agent.get_game_stats()"
   ]
  },
  {
   "cell_type": "code",
   "execution_count": 88,
   "metadata": {},
   "outputs": [],
   "source": [
    "algo = QLearning(game, eps=0.5)"
   ]
  },
  {
   "cell_type": "code",
   "execution_count": 89,
   "metadata": {},
   "outputs": [],
   "source": [
    "n_games = 1000\n",
    "for i in range(n_games):\n",
    "    algo.update_values()"
   ]
  },
  {
   "cell_type": "code",
   "execution_count": 90,
   "metadata": {},
   "outputs": [
    {
     "data": {
      "text/plain": [
       "16956"
      ]
     },
     "execution_count": 90,
     "metadata": {},
     "output_type": "execute_result"
    }
   ],
   "source": [
    "len(algo.get_states())"
   ]
  },
  {
   "cell_type": "code",
   "execution_count": 91,
   "metadata": {},
   "outputs": [],
   "source": [
    "policy = algo.get_policy()"
   ]
  },
  {
   "cell_type": "code",
   "execution_count": 92,
   "metadata": {},
   "outputs": [],
   "source": [
    "agent = Agent(game, policy)"
   ]
  },
  {
   "cell_type": "code",
   "execution_count": 93,
   "metadata": {},
   "outputs": [
    {
     "data": {
      "text/plain": [
       "[51, 1, 48]"
      ]
     },
     "execution_count": 93,
     "metadata": {},
     "output_type": "execute_result"
    }
   ],
   "source": [
    "agent.get_game_stats()"
   ]
  },
  {
   "cell_type": "code",
   "execution_count": 94,
   "metadata": {},
   "outputs": [],
   "source": [
    "# train the adversary\n",
    "game = Game(play_first=False, player=-1)"
   ]
  },
  {
   "cell_type": "code",
   "execution_count": 95,
   "metadata": {},
   "outputs": [],
   "source": [
    "algo = QLearning(game, player=-1, eps=0.5)"
   ]
  },
  {
   "cell_type": "code",
   "execution_count": 96,
   "metadata": {},
   "outputs": [],
   "source": [
    "n_games = 1000\n",
    "for i in range(n_games):\n",
    "    algo.update_values()"
   ]
  },
  {
   "cell_type": "code",
   "execution_count": 97,
   "metadata": {},
   "outputs": [],
   "source": [
    "adversary_policy = algo.get_policy()"
   ]
  },
  {
   "cell_type": "code",
   "execution_count": 98,
   "metadata": {},
   "outputs": [
    {
     "data": {
      "text/plain": [
       "[46, 0, 54]"
      ]
     },
     "execution_count": 98,
     "metadata": {},
     "output_type": "execute_result"
    }
   ],
   "source": [
    "# after training (you might need to further train your player)\n",
    "game = Game(adversary_policy=adversary_policy)\n",
    "agent = Agent(game)\n",
    "agent.get_game_stats()"
   ]
  },
  {
   "cell_type": "code",
   "execution_count": 99,
   "metadata": {},
   "outputs": [],
   "source": [
    "def one_step_policy(state):\n",
    "    game = Game()\n",
    "    player, board = state\n",
    "    actions = game.get_all_actions(state)\n",
    "    # win move\n",
    "    for action in actions:\n",
    "        probs, states, rewards = game.get_model(state, action)\n",
    "        if player in rewards:\n",
    "            return [1], [action]\n",
    "    # move to avoid defeat\n",
    "    for action in actions:\n",
    "        state = -player, board\n",
    "        probs, states, rewards = game.get_model(state, action)\n",
    "        if -player in rewards:\n",
    "            return [1], [action]\n",
    "    # random move\n",
    "    if len(actions):\n",
    "        probs = np.ones(len(actions)) / len(actions)\n",
    "        return probs, actions\n",
    "    return [1], [None]"
   ]
  },
  {
   "cell_type": "code",
   "execution_count": 100,
   "metadata": {},
   "outputs": [],
   "source": [
    "# a stronger adversary\n",
    "game = Game(adversary_policy=one_step_policy)"
   ]
  },
  {
   "cell_type": "code",
   "execution_count": 101,
   "metadata": {},
   "outputs": [],
   "source": [
    "agent = Agent(game, policy)"
   ]
  },
  {
   "cell_type": "code",
   "execution_count": 102,
   "metadata": {},
   "outputs": [
    {
     "data": {
      "text/plain": [
       "[3, 0, 97]"
      ]
     },
     "execution_count": 102,
     "metadata": {},
     "output_type": "execute_result"
    }
   ],
   "source": [
    "agent.get_game_stats()"
   ]
  },
  {
   "cell_type": "code",
   "execution_count": null,
   "metadata": {},
   "outputs": [],
   "source": []
  }
 ],
 "metadata": {
  "kernelspec": {
   "display_name": "Python 3",
   "language": "python",
   "name": "python3"
  },
  "language_info": {
   "codemirror_mode": {
    "name": "ipython",
    "version": 3
   },
   "file_extension": ".py",
   "mimetype": "text/x-python",
   "name": "python",
   "nbconvert_exporter": "python",
   "pygments_lexer": "ipython3",
   "version": "3.8.8"
  }
 },
 "nbformat": 4,
 "nbformat_minor": 4
}
