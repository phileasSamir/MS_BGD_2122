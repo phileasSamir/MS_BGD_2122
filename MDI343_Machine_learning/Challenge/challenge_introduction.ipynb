{
 "cells": [
  {
   "cell_type": "markdown",
   "id": "14106fbf",
   "metadata": {},
   "source": [
    "# Challenge Large Scale Machine Learning: Starting Kit\n",
    "\n",
    "### Authors: \n",
    "#### Pavlo Mozharovskyi (pavlo.mozharovskyi@telecom-paris.fr), Nathan Noiry (nathan.noiry@telecom-paris.fr)"
   ]
  },
  {
   "cell_type": "markdown",
   "id": "91188e54",
   "metadata": {},
   "source": [
    "### Presentation of the challenge : face recognition\n",
    "\n",
    "#### How does modern face recognition work?\n",
    "In the past few years, Face Recognition (FR) systems have reached extremely high levels of performance, paving the way to a broader range of applications, where the reliability levels were previously prohibitive to consider automation. This is mainly due to the adoption of deep learning techniques in computer vision. The most adopted paradigm consists in training a network $f: \\mathcal{X} \\rightarrow \\mathbb{R}^d$ which, from a given image $im \\in \\mathcal{X}$, extracts a feature vector $z \\in \\mathbb{R}^d$ which synthetizes the relevant caracteristics of $im$. The recognition phase then consists, from two images $im_1, im_2$, to predict wether they correspond to the same identity or not. This is done from the extracted features $z_1, z_2$. \n",
    "#### What you are ask to do\n",
    "In this data challenge, you are ask to train a machine learning model which, from a vector $[z_1, z_2]$ made of the concatenation of two templates $z_1$ and $z_2$, predict wether or not these two images correspond to the same identity.  "
   ]
  },
  {
   "cell_type": "markdown",
   "id": "61bc3e78",
   "metadata": {},
   "source": [
    "### Downloading the Data: \n",
    "\n",
    "You can download the Dataset from the below link: \n",
    "https://partage.imt.fr/index.php/s/B9sxJEm9fnYJAW3"
   ]
  },
  {
   "cell_type": "markdown",
   "id": "05cb5fe9",
   "metadata": {},
   "source": [
    "### Training data\n",
    "\n",
    "The training set consist of two files, **train_data.npy** and **train_labels.txt**.\n",
    "\n",
    "File **train_data.npy** contains one observation per row, which is made of the concatenation of two templates, each of dimension 48.\n",
    "\n",
    "File **train_labels.txt** contains one column with each entry corresponding to one observation in **xtrain_challenge.csv**, maintaining the order, and has '1' if a pair of images belong to the same person and '0' otherwise.\n",
    "\n",
    "In total, there are 267508 observations."
   ]
  },
  {
   "cell_type": "markdown",
   "id": "6c1f6cea",
   "metadata": {},
   "source": [
    "### Peformance criterion\n",
    "\n",
    "You are asked to minimize the sum of the False Positive Rate (FPR) and the False Negative Rate (FNR).\n",
    "Your score is calculated using below equation.\n",
    "\n",
    "score = 1 - (FPR + FNR)"
   ]
  },
  {
   "cell_type": "markdown",
   "id": "e9b96a67",
   "metadata": {},
   "source": [
    "# Example of submission"
   ]
  },
  {
   "cell_type": "code",
   "execution_count": 1,
   "id": "08f5e65b",
   "metadata": {},
   "outputs": [],
   "source": [
    "import numpy as np\n",
    "import matplotlib.pyplot as plt\n",
    "from sklearn.model_selection import train_test_split\n",
    "from sklearn.ensemble import RandomForestClassifier\n",
    "from sklearn.metrics import confusion_matrix, roc_curve\n",
    "\n",
    "np.random.seed(seed=42)"
   ]
  },
  {
   "cell_type": "code",
   "execution_count": 2,
   "id": "e3af0c6c",
   "metadata": {},
   "outputs": [],
   "source": [
    "def extract_labels(txt_file):\n",
    "    with open(txt_file) as file:\n",
    "        lines = file.readlines()\n",
    "    y = []\n",
    "    for elem in lines:\n",
    "        label = int(elem[0])\n",
    "        y.append(label)\n",
    "    y = np.array(y)\n",
    "    return y"
   ]
  },
  {
   "cell_type": "code",
   "execution_count": 3,
   "id": "b3d939d1",
   "metadata": {},
   "outputs": [],
   "source": [
    "X, y = np.load(\"data/train_data.npy\"), extract_labels(\"data/train_labels.txt\")\n",
    "X_train, X_valid, y_train, y_valid = train_test_split(X, y, test_size=0.1)"
   ]
  },
  {
   "cell_type": "code",
   "execution_count": 4,
   "id": "31823f30",
   "metadata": {},
   "outputs": [
    {
     "data": {
      "text/plain": [
       "RandomForestClassifier(n_estimators=10)"
      ]
     },
     "execution_count": 4,
     "metadata": {},
     "output_type": "execute_result"
    }
   ],
   "source": [
    "clf = RandomForestClassifier(n_estimators=10)\n",
    "clf.fit(X_train, y_train)   "
   ]
  },
  {
   "cell_type": "code",
   "execution_count": 5,
   "id": "93e15674",
   "metadata": {},
   "outputs": [],
   "source": [
    "def criterion(y_pred, y_true):\n",
    "    CM = confusion_matrix(y_true, y_pred)\n",
    "    TN, TP = CM[0, 0], CM[1, 1]\n",
    "    FP, FN = CM[0, 1], CM[1, 0]\n",
    "    return FP/(FP + TN) + FN/(FN + TP)"
   ]
  },
  {
   "cell_type": "code",
   "execution_count": 6,
   "id": "b5733071",
   "metadata": {},
   "outputs": [
    {
     "name": "stdout",
     "output_type": "stream",
     "text": [
      "FPR + FNR = 0.48587000403714176\n"
     ]
    }
   ],
   "source": [
    "y_pred = clf.predict(X_valid)\n",
    "valid_score = criterion(y_pred, y_valid)\n",
    "print('FPR + FNR = {}'.format(valid_score))"
   ]
  },
  {
   "cell_type": "code",
   "execution_count": 7,
   "id": "58dcbd5e",
   "metadata": {},
   "outputs": [
    {
     "name": "stdout",
     "output_type": "stream",
     "text": [
      "Confusion Matrix: \n",
      " [[12169  2693]\n",
      " [ 4528 10334]]\n",
      "Accuracy: 0.7570649979814291\n",
      "False Positive Rate: 0.18120037679989234\n",
      "False Negative Rate: 0.3046696272372494\n",
      "FPR + FNR = 0.48587000403714176\n"
     ]
    },
    {
     "data": {
      "image/png": "[encoded data removed]",
      "text/plain": [
       "<Figure size 432x288 with 1 Axes>"
      ]
     },
     "metadata": {
      "needs_background": "light"
     },
     "output_type": "display_data"
    }
   ],
   "source": [
    "# to further inspect the performance:\n",
    "CM = confusion_matrix(y_valid, y_pred)\n",
    "TN, TP = CM[0, 0], CM[1, 1]\n",
    "FP, FN = CM[0, 1], CM[1, 0]\n",
    "print('Confusion Matrix: \\n {}'.format(CM))\n",
    "print('Accuracy: {}'.format((TP + TN) / (TP + TN + FP + FN)))  \n",
    "print('False Positive Rate: {}'.format(FP / (FP + TN)))  \n",
    "print('False Negative Rate: {}'.format(FN / (FN + TP)))\n",
    "print('FPR + FNR = {}'.format(FP / (FP + TN) + FN / (FN + TP)))\n",
    "plt.figure(figsize=(6,4))\n",
    "plt.grid()\n",
    "y_prob = clf.predict_proba(X_valid)[:, 1]\n",
    "fpr, tpr, thresholds = roc_curve(y_valid, y_prob, pos_label=1)\n",
    "idx = np.argmin(fpr + (1-tpr))\n",
    "plt.plot(fpr, 1-tpr, label='RF')\n",
    "plt.plot(fpr[idx], (1-tpr)[idx], '+', color='k')\n",
    "plt.legend(loc='best')\n",
    "plt.xlabel('FPR')\n",
    "plt.ylabel('FNR')\n",
    "plt.show()"
   ]
  },
  {
   "cell_type": "markdown",
   "id": "f5395e45",
   "metadata": {},
   "source": [
    "### Prepare a file for submission"
   ]
  },
  {
   "cell_type": "code",
   "execution_count": 8,
   "id": "9c1c14a3",
   "metadata": {},
   "outputs": [],
   "source": [
    "# Load test data\n",
    "X_test = np.load(\"test_data.npy\")\n",
    "# Classify the provided test data\n",
    "y_test = clf.predict(X_test).astype(np.int8)\n",
    "np.savetxt('y_test_challenge_student.txt', y_test, fmt='%i' , delimiter=',')"
   ]
  },
  {
   "cell_type": "markdown",
   "id": "6ccadfc2",
   "metadata": {},
   "source": [
    "### Now it's your turn. Good luck !  :) "
   ]
  }
 ],
 "metadata": {
  "kernelspec": {
   "display_name": "Python 3",
   "language": "python",
   "name": "python3"
  },
  "language_info": {
   "codemirror_mode": {
    "name": "ipython",
    "version": 3
   },
   "file_extension": ".py",
   "mimetype": "text/x-python",
   "name": "python",
   "nbconvert_exporter": "python",
   "pygments_lexer": "ipython3",
   "version": "3.8.3"
  }
 },
 "nbformat": 4,
 "nbformat_minor": 5
}
