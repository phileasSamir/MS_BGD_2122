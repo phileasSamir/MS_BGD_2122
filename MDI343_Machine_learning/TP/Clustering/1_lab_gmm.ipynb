{
 "cells": [
  {
   "cell_type": "markdown",
   "metadata": {},
   "source": [
    "# Clustering\n",
    "\n",
    "## Algorithms and Metrics"
   ]
  },
  {
   "cell_type": "markdown",
   "metadata": {},
   "source": [
    "The objective of this lab is to compare the performance of two clustering algorithms, K-means and the Gaussian Mixture Model (GMM).\n",
    "\n",
    "We use the [Iris dataset](https://fr.wikipedia.org/wiki/Iris_de_Fisher).\n",
    "\n",
    "Learning is **unsupervised**: we use the labels only to test the quality of the clustering."
   ]
  },
  {
   "cell_type": "markdown",
   "metadata": {},
   "source": [
    "## Imports"
   ]
  },
  {
   "cell_type": "code",
   "execution_count": 1,
   "metadata": {},
   "outputs": [],
   "source": [
    "import numpy as np\n",
    "import matplotlib.pyplot as plt\n",
    "import pandas as pd\n",
    "import seaborn as sns"
   ]
  },
  {
   "cell_type": "code",
   "execution_count": 2,
   "metadata": {},
   "outputs": [],
   "source": [
    "from sklearn import datasets"
   ]
  },
  {
   "cell_type": "code",
   "execution_count": 3,
   "metadata": {},
   "outputs": [],
   "source": [
    "from sklearn.metrics import silhouette_samples, silhouette_score, davies_bouldin_score\n",
    "from sklearn.metrics import adjusted_rand_score, adjusted_mutual_info_score\n",
    "from sklearn.metrics.cluster import contingency_matrix"
   ]
  },
  {
   "cell_type": "markdown",
   "metadata": {},
   "source": [
    "## Data"
   ]
  },
  {
   "cell_type": "code",
   "execution_count": 4,
   "metadata": {},
   "outputs": [],
   "source": [
    "iris = datasets.load_iris()\n",
    "X = iris.data  \n",
    "y = iris.target\n",
    "feature_names = iris.feature_names\n",
    "label_names = list(iris.target_names)"
   ]
  },
  {
   "cell_type": "code",
   "execution_count": 5,
   "metadata": {},
   "outputs": [
    {
     "data": {
      "text/plain": [
       "['sepal length (cm)',\n",
       " 'sepal width (cm)',\n",
       " 'petal length (cm)',\n",
       " 'petal width (cm)']"
      ]
     },
     "execution_count": 5,
     "metadata": {},
     "output_type": "execute_result"
    }
   ],
   "source": [
    "feature_names"
   ]
  },
  {
   "cell_type": "code",
   "execution_count": 6,
   "metadata": {},
   "outputs": [
    {
     "data": {
      "text/plain": [
       "['setosa', 'versicolor', 'virginica']"
      ]
     },
     "execution_count": 6,
     "metadata": {},
     "output_type": "execute_result"
    }
   ],
   "source": [
    "label_names"
   ]
  },
  {
   "cell_type": "code",
   "execution_count": 7,
   "metadata": {},
   "outputs": [
    {
     "data": {
      "text/plain": [
       "array([5.84333333, 3.05733333, 3.758     , 1.19933333])"
      ]
     },
     "execution_count": 7,
     "metadata": {},
     "output_type": "execute_result"
    }
   ],
   "source": [
    "np.mean(X, axis=0)"
   ]
  },
  {
   "cell_type": "code",
   "execution_count": 8,
   "metadata": {},
   "outputs": [],
   "source": [
    "def show_data(X, y, features=[0, 1], feature_names=feature_names):\n",
    "    '''Display the samples in 2D'''\n",
    "    for label in set(y):\n",
    "        plt.scatter(X[y == label, features[0]], X[y == label, features[1]])\n",
    "    plt.xlabel(feature_names[features[0]])\n",
    "    plt.ylabel(feature_names[features[1]])\n",
    "    plt.axis('equal')\n",
    "    plt.show()"
   ]
  },
  {
   "cell_type": "code",
   "execution_count": 9,
   "metadata": {},
   "outputs": [
    {
     "data": {
      "image/png": "[encoded data removed]",
      "text/plain": [
       "<Figure size 432x288 with 1 Axes>"
      ]
     },
     "metadata": {
      "needs_background": "light"
     },
     "output_type": "display_data"
    }
   ],
   "source": [
    "show_data(X, y, [0, 1])"
   ]
  },
  {
   "cell_type": "code",
   "execution_count": 10,
   "metadata": {},
   "outputs": [
    {
     "data": {
      "image/png": "[encoded data removed]",
      "text/plain": [
       "<Figure size 432x288 with 1 Axes>"
      ]
     },
     "metadata": {
      "needs_background": "light"
     },
     "output_type": "display_data"
    }
   ],
   "source": [
    "show_data(X, y, [2, 3])"
   ]
  },
  {
   "cell_type": "markdown",
   "metadata": {},
   "source": [
    "## K-means"
   ]
  },
  {
   "cell_type": "code",
   "execution_count": 11,
   "metadata": {},
   "outputs": [],
   "source": [
    "class KMeans:\n",
    "    '''K-means algorithm\n",
    "    \n",
    "    Parameters\n",
    "    ----------\n",
    "    n_clusters: int, default: 8\n",
    "        Number of clusters.\n",
    "    \n",
    "    n_init: int, default: 10\n",
    "        Number of instances of k-means, each with different initial centers. \n",
    "        The output is that of the best instance.\n",
    "    \n",
    "    n_iter: int, default: 300\n",
    "        Number of iterations for each instance of k-means.\n",
    "        \n",
    "    algorithm: \"random\" or \"++\", default:\"++\"\n",
    "        Algorithm for initializing the centers; \"++\" corresponds to k-means++.\n",
    "    \n",
    "    seed: int, default: 0\n",
    "        Seed for the random generation of initial centers.\n",
    "        \n",
    "    verbose: boolean, optional\n",
    "        Verbose mode.\n",
    "    \n",
    "    Attributes\n",
    "    ----------\n",
    "    labels_: array, shape(n_samples,)\n",
    "        Label of each sample (cluster index).\n",
    "        \n",
    "    centers_: array, shape(n_clusters, n_features)\n",
    "        Cluster centers.\n",
    "        \n",
    "    inertias_: array, shape(n_clusters,)\n",
    "        Cluster inertias (sum of square distances).\n",
    "    '''\n",
    "\n",
    "    def __init__(self, n_clusters=8, n_init=10, n_iter=300, algorithm='++', seed=0, verbose=False):\n",
    "        self.n_clusters = n_clusters\n",
    "        self.n_init = n_init\n",
    "        self.n_iter = n_iter\n",
    "        self.algorithm = algorithm\n",
    "        self.seed = seed\n",
    "        self.verbose = verbose\n",
    "        self.labels_ = None\n",
    "        self.centers_ = None\n",
    "        self.inertias_ = None\n",
    "       \n",
    "    def fit(self, X):\n",
    "        '''Cluster data using K-Means\n",
    "    \n",
    "        Parameters\n",
    "        ----------\n",
    "        X: array, shape(n_samples, n_features)\n",
    "            Data to cluster.\n",
    "        '''        \n",
    "        n_samples = X.shape[0]\n",
    "        \n",
    "        def init_centers(self, X):\n",
    "            if self.algorithm == 'random':\n",
    "                # random centers \n",
    "                samples = np.random.choice(n_samples, size=self.n_clusters)\n",
    "                centers = X[samples]\n",
    "            else:\n",
    "                # k-means++\n",
    "                centers = []\n",
    "                centers.append(X[np.random.choice(n_samples)])\n",
    "                distances = np.full(n_samples, np.inf)\n",
    "                for j in range(1, self.n_clusters):\n",
    "                    distances = np.minimum(np.linalg.norm(X - centers[-1], axis=1), distances)\n",
    "                    # select new center in proportion to square distance\n",
    "                    p = np.square(distances) / np.sum(np.square(distances))\n",
    "                    sample = np.random.choice(n_samples, p=p)\n",
    "                    centers.append(X[sample])\n",
    "            return np.array(centers)\n",
    "        \n",
    "        def compute_centers(self, X, labels):\n",
    "            centers = []\n",
    "            for j in range(self.n_clusters):\n",
    "                index = np.argwhere(labels == j).ravel()\n",
    "                if len(index):\n",
    "                    centers.append(np.mean(X[index], axis=0))\n",
    "                else:\n",
    "                    # reinit center in case of empty cluster\n",
    "                    centers.append(X[np.random.choice(n_samples)])\n",
    "            return np.array(centers)\n",
    "\n",
    "        def compute_distances(self, X, centers):\n",
    "            distances = [np.linalg.norm(X - centers[j], axis=1) for j in range(self.n_clusters)]\n",
    "            return np.array(distances)\n",
    "            \n",
    "        def compute_inertias(self, X, labels, centers):\n",
    "            inertias = []\n",
    "            for j in range(self.n_clusters):\n",
    "                index = np.argwhere(labels == j).ravel()\n",
    "                inertias.append(np.sum(np.square(np.linalg.norm(X[index] - centers[j], axis=1))))\n",
    "            return np.array(inertias)\n",
    "        \n",
    "        def single_run(self, X):\n",
    "            centers = init_centers(self, X)\n",
    "            for i in range(self.n_iter):\n",
    "                centers_old = centers.copy()\n",
    "                distances = compute_distances(self, X, centers)\n",
    "                labels = np.argmin(distances, axis=0)  \n",
    "                centers = compute_centers(self, X, labels)\n",
    "                if np.array_equal(centers, centers_old):\n",
    "                    break\n",
    "            inertias = compute_inertias(self, X, centers, labels)\n",
    "            return labels, centers, inertias\n",
    "            \n",
    "        np.random.seed(self.seed)\n",
    "        best_inertia = None\n",
    "        # select the best instance of k-means\n",
    "        for i in range(self.n_init):\n",
    "            if self.verbose:\n",
    "                print(\"Instance \",i)\n",
    "            labels, centers, inertias = single_run(self, X)\n",
    "            inertia = np.sum(inertias)\n",
    "            if best_inertia is None or inertia < best_inertia:\n",
    "                best_labels = labels.copy()\n",
    "                best_centers = centers.copy()\n",
    "                best_inertias = inertias.copy()\n",
    "                best_inertia = inertia\n",
    "\n",
    "        self.labels_ = best_labels\n",
    "        self.centers_ = best_centers\n",
    "        self.inertias_ = best_inertias"
   ]
  },
  {
   "cell_type": "markdown",
   "metadata": {},
   "source": [
    "## To do"
   ]
  },
  {
   "cell_type": "markdown",
   "metadata": {},
   "source": [
    "* Apply KMeans for $k=3$ and display the clusters.\n",
    "* Display the silhouette distributions of the clusters.<br>\n",
    "What is the \"best\" cluster?\n",
    "* Display the contingency matrix of the clustering.<br>\n",
    "To what species corresponds the \"best\" cluster you have identified?\n",
    "* Compute the ARI and the AMI of the clustering.\n",
    "* Plot these metrics with $k$ increasing from 1 to 10.\n",
    "* Compare the results to those obtained with the KMeans of scikit-learn.<br>\n",
    "You might use ARI and AMI to check the consistency of both algorithms."
   ]
  },
  {
   "cell_type": "code",
   "execution_count": 12,
   "metadata": {},
   "outputs": [],
   "source": [
    "km = KMeans(n_clusters=3)"
   ]
  },
  {
   "cell_type": "code",
   "execution_count": 13,
   "metadata": {},
   "outputs": [],
   "source": [
    "km.fit(X)"
   ]
  },
  {
   "cell_type": "code",
   "execution_count": 14,
   "metadata": {},
   "outputs": [],
   "source": [
    "y_pred = km.labels_"
   ]
  },
  {
   "cell_type": "code",
   "execution_count": 15,
   "metadata": {},
   "outputs": [
    {
     "data": {
      "image/png": "[encoded data removed]",
      "text/plain": [
       "<Figure size 432x288 with 1 Axes>"
      ]
     },
     "metadata": {
      "needs_background": "light"
     },
     "output_type": "display_data"
    }
   ],
   "source": [
    "show_data(X, y, [0, 1])"
   ]
  },
  {
   "cell_type": "code",
   "execution_count": 16,
   "metadata": {},
   "outputs": [
    {
     "data": {
      "image/png": "[encoded data removed]",
      "text/plain": [
       "<Figure size 432x288 with 1 Axes>"
      ]
     },
     "metadata": {
      "needs_background": "light"
     },
     "output_type": "display_data"
    }
   ],
   "source": [
    "show_data(X, y_pred, [0, 1])"
   ]
  },
  {
   "cell_type": "code",
   "execution_count": 17,
   "metadata": {},
   "outputs": [],
   "source": [
    "silhouettes = silhouette_samples(X, y_pred)"
   ]
  },
  {
   "cell_type": "code",
   "execution_count": 18,
   "metadata": {},
   "outputs": [],
   "source": [
    "df_silhouettes = pd.DataFrame({\"Silhouette\": silhouettes, \"Cluster\": y_pred})"
   ]
  },
  {
   "cell_type": "code",
   "execution_count": 19,
   "metadata": {},
   "outputs": [
    {
     "data": {
      "image/png": "[encoded data removed]",
      "text/plain": [
       "<Figure size 432x288 with 1 Axes>"
      ]
     },
     "metadata": {
      "needs_background": "light"
     },
     "output_type": "display_data"
    }
   ],
   "source": [
    "sns.kdeplot(data=df_silhouettes, x=\"Silhouette\", hue=\"Cluster\", fill=True, palette=\"bright\");"
   ]
  },
  {
   "cell_type": "code",
   "execution_count": 20,
   "metadata": {},
   "outputs": [
    {
     "data": {
      "text/html": [
       "<div>\n",
       "<style scoped>\n",
       "    .dataframe tbody tr th:only-of-type {\n",
       "        vertical-align: middle;\n",
       "    }\n",
       "\n",
       "    .dataframe tbody tr th {\n",
       "        vertical-align: top;\n",
       "    }\n",
       "\n",
       "    .dataframe thead th {\n",
       "        text-align: right;\n",
       "    }\n",
       "</style>\n",
       "<table border=\"1\" class=\"dataframe\">\n",
       "  <thead>\n",
       "    <tr style=\"text-align: right;\">\n",
       "      <th></th>\n",
       "      <th>Silhouette</th>\n",
       "    </tr>\n",
       "    <tr>\n",
       "      <th>Cluster</th>\n",
       "      <th></th>\n",
       "    </tr>\n",
       "  </thead>\n",
       "  <tbody>\n",
       "    <tr>\n",
       "      <th>0</th>\n",
       "      <td>0.797604</td>\n",
       "    </tr>\n",
       "    <tr>\n",
       "      <th>1</th>\n",
       "      <td>0.436842</td>\n",
       "    </tr>\n",
       "    <tr>\n",
       "      <th>2</th>\n",
       "      <td>0.422323</td>\n",
       "    </tr>\n",
       "  </tbody>\n",
       "</table>\n",
       "</div>"
      ],
      "text/plain": [
       "         Silhouette\n",
       "Cluster            \n",
       "0          0.797604\n",
       "1          0.436842\n",
       "2          0.422323"
      ]
     },
     "execution_count": 20,
     "metadata": {},
     "output_type": "execute_result"
    }
   ],
   "source": [
    "df_silhouettes.groupby(\"Cluster\").mean()"
   ]
  },
  {
   "cell_type": "code",
   "execution_count": 21,
   "metadata": {},
   "outputs": [
    {
     "data": {
      "text/plain": [
       "0.551191604619592"
      ]
     },
     "execution_count": 21,
     "metadata": {},
     "output_type": "execute_result"
    }
   ],
   "source": [
    "np.mean(silhouettes)"
   ]
  },
  {
   "cell_type": "code",
   "execution_count": 22,
   "metadata": {},
   "outputs": [
    {
     "data": {
      "text/plain": [
       "0.551191604619592"
      ]
     },
     "execution_count": 22,
     "metadata": {},
     "output_type": "execute_result"
    }
   ],
   "source": [
    "# direct computation\n",
    "silhouette_score(X, y_pred)"
   ]
  },
  {
   "cell_type": "code",
   "execution_count": 23,
   "metadata": {},
   "outputs": [],
   "source": [
    "best_cluster = int(df_silhouettes.groupby(\"Cluster\").mean().idxmax())"
   ]
  },
  {
   "cell_type": "code",
   "execution_count": 24,
   "metadata": {},
   "outputs": [
    {
     "data": {
      "text/plain": [
       "0"
      ]
     },
     "execution_count": 24,
     "metadata": {},
     "output_type": "execute_result"
    }
   ],
   "source": [
    "best_cluster"
   ]
  },
  {
   "cell_type": "code",
   "execution_count": 25,
   "metadata": {},
   "outputs": [],
   "source": [
    "contingency = contingency_matrix(y, y_pred)"
   ]
  },
  {
   "cell_type": "code",
   "execution_count": 26,
   "metadata": {},
   "outputs": [
    {
     "data": {
      "image/png": "[encoded data removed]",
      "text/plain": [
       "<Figure size 432x288 with 2 Axes>"
      ]
     },
     "metadata": {
      "needs_background": "light"
     },
     "output_type": "display_data"
    }
   ],
   "source": [
    "sns.heatmap(contingency, annot=True);"
   ]
  },
  {
   "cell_type": "code",
   "execution_count": 27,
   "metadata": {},
   "outputs": [
    {
     "data": {
      "text/plain": [
       "'setosa'"
      ]
     },
     "execution_count": 27,
     "metadata": {},
     "output_type": "execute_result"
    }
   ],
   "source": [
    "label_names[np.argmax(contingency[:,best_cluster])]"
   ]
  },
  {
   "cell_type": "code",
   "execution_count": 37,
   "metadata": {},
   "outputs": [
    {
     "name": "stdout",
     "output_type": "stream",
     "text": [
      "ARI :\n",
      "0.9038742317748124\n",
      "AMI :\n",
      "0.8984361033676299\n"
     ]
    }
   ],
   "source": [
    "print(\"ARI :\")\n",
    "print(adjusted_rand_score(y, y_pred))\n",
    "print(\"AMI :\")\n",
    "print(adjusted_mutual_info_score(y, y_pred))"
   ]
  },
  {
   "cell_type": "code",
   "execution_count": 42,
   "metadata": {},
   "outputs": [
    {
     "name": "stderr",
     "output_type": "stream",
     "text": [
      "C:\\Users\\phile\\anaconda3\\lib\\site-packages\\sklearn\\cluster\\_kmeans.py:881: UserWarning: KMeans is known to have a memory leak on Windows with MKL, when there are less chunks than available threads. You can avoid it by setting the environment variable OMP_NUM_THREADS=1.\n",
      "  warnings.warn(\n"
     ]
    },
    {
     "data": {
      "image/png": "[encoded data removed]",
      "text/plain": [
       "<Figure size 864x360 with 1 Axes>"
      ]
     },
     "metadata": {
      "needs_background": "light"
     },
     "output_type": "display_data"
    }
   ],
   "source": [
    "from sklearn.cluster import KMeans as skmeans\n",
    "\n",
    "ARIs = []\n",
    "AMIs = []\n",
    "ARIsk = []\n",
    "AMIsk = []\n",
    "for k in range(10):\n",
    "    model = KMeans(k+1)\n",
    "    skmodel = skmeans(k+1)\n",
    "    model.fit(X)\n",
    "    skmodel.fit(X)\n",
    "    y_pred = model.labels_\n",
    "    y_sk = skmodel.labels_\n",
    "    ARIs.append(adjusted_rand_score(y,y_pred))\n",
    "    AMIs.append(adjusted_mutual_info_score(y,y_pred))\n",
    "    ARIsk.append(adjusted_rand_score(y,y_sk))\n",
    "    AMIsk.append(adjusted_mutual_info_score(y,y_sk))\n",
    "\n",
    "plt.figure(figsize=(12,5))\n",
    "plt.plot(range(1,11), ARIs, c=\"red\", label=\"ARI\")\n",
    "plt.plot(range(1,11), AMIs, c=\"orange\", label=\"AMI\")\n",
    "plt.plot(range(1,11), ARIsk, c=\"blue\", label=\"ARI sklearn\")\n",
    "plt.plot(range(1,11), AMIsk, c=\"lightblue\", label=\"AMI sklearn\")\n",
    "plt.xlabel(\"k\")\n",
    "plt.legend()\n",
    "plt.title(\"ARI and AMI by k parameter of KMeans\")\n",
    "plt.show()"
   ]
  },
  {
   "cell_type": "markdown",
   "metadata": {},
   "source": [
    "## Gaussian mixture"
   ]
  },
  {
   "cell_type": "code",
   "execution_count": 28,
   "metadata": {},
   "outputs": [],
   "source": [
    "class GMM:\n",
    "    '''EM algorithm for the Gaussian mixture model\n",
    "    \n",
    "    Parameters\n",
    "    ----------\n",
    "    n_clusters: int, default: 8\n",
    "        Number of clusters.\n",
    "    \n",
    "    n_init : int, default: 10\n",
    "        Number of instances of the algorithm, each with different initial cluster centers. \n",
    "        The output is that of the best instance (in terms of likelihood).\n",
    "    \n",
    "    n_iter: int, default: 300\n",
    "        Maximum number of iterations for each instance of the algorithm.\n",
    "        \n",
    "    algorithm: \"random\" or \"k-means++\", default:\"k-means++\"\n",
    "        Algorithm for initializing the means.\n",
    "    \n",
    "    seed: int, default: None\n",
    "        Seed for the random generation of cluster centers.\n",
    "        \n",
    "    verbose: boolean, default: True\n",
    "        Verbose mode.\n",
    "    \n",
    "    Attributes\n",
    "    ----------\n",
    "    labels_: array, shape(n_samples,)\n",
    "        Label of each sample (cluster index).\n",
    "\n",
    "    label_probs_: array, shape(n_samples,n_clusters)\n",
    "        Probability distribution of labels for each sample.\n",
    "        \n",
    "    centers_ : array, shape(n_clusters,n_features)\n",
    "        Cluster centers.\n",
    "    '''\n",
    "\n",
    "    def __init__(self, n_clusters=8, n_init=10, n_iter=300, algorithm='k-means++', seed=0, verbose=False):\n",
    "        self.n_clusters = n_clusters\n",
    "        self.n_init = n_init\n",
    "        self.n_iter = n_iter\n",
    "        self.algorithm = algorithm\n",
    "        self.seed = seed\n",
    "        self.verbose = verbose\n",
    "        self.labels_ = None\n",
    "        self.label_probs_ = None\n",
    "        self.centers_ = None\n",
    "       \n",
    "    def fit(self, X):\n",
    "        '''Cluster data X using EM for the Gaussian mixture model\n",
    "    \n",
    "        Parameters\n",
    "        ----------\n",
    "        X: array, shape(n_samples,n_features)\n",
    "            Data to cluster.\n",
    "        '''        \n",
    "        n_samples, n_features = X.shape\n",
    "        \n",
    "        def init_parameters(self, X):\n",
    "            # choose initial centers\n",
    "            if self.algorithm == 'random':\n",
    "                # random centers\n",
    "                samples = np.random.choice(n_samples, size = self.n_clusters)\n",
    "                centers = X[samples]\n",
    "            else:\n",
    "                # k-means++\n",
    "                centers = []\n",
    "                centers.append(X[np.random.choice(n_samples)])\n",
    "                distances = np.full(n_samples, np.inf)\n",
    "                for j in range(1,self.n_clusters):\n",
    "                    distances = np.minimum(np.linalg.norm(X - centers[-1], axis=1), distances)\n",
    "                    # select new center in proportion to square distance\n",
    "                    p = np.square(distances) / np.sum(np.square(distances))\n",
    "                    sample = np.random.choice(n_samples, p=p)\n",
    "                    centers.append(X[sample])\n",
    "                \n",
    "            # estimate the parameters from the induced clusters\n",
    "            distances = []\n",
    "            for j in range(self.n_clusters):\n",
    "                distances.append(np.linalg.norm(X - centers[j], axis=1))\n",
    "            labels = np.argmin(np.array(distances), axis=0)\n",
    "            means = []\n",
    "            covariances = []\n",
    "            cluster_weights = []\n",
    "            for j in range(self.n_clusters):\n",
    "                index = np.argwhere(labels == j).ravel()\n",
    "                cluster_weights.append(len(index))\n",
    "                if len(index):\n",
    "                    means.append(np.mean(X[index], axis=0))\n",
    "                    covariances.append(np.cov(X[index].T))    \n",
    "                else:\n",
    "                    # empty cluster\n",
    "                    means.append(centers[j])\n",
    "                    covariances.append(np.eye(n_features))\n",
    "            return np.array(means), np.array(covariances), np.array(cluster_weights)\n",
    "\n",
    "        def compute_label_probs(self, X, means, covariances, cluster_weights):\n",
    "            label_probs = np.zeros((n_samples,self.n_clusters))\n",
    "            for j in range(self.n_clusters):\n",
    "                cov = covariances[j]\n",
    "                try:\n",
    "                    inv_cov = np.linalg.inv(cov)\n",
    "                    square_distances = ((X - means[j]).dot(inv_cov) * (X - means[j])).sum(axis = 1) \n",
    "                    label_probs[:,j] = np.exp(-square_distances / 2) / np.sqrt(np.linalg.det(cov))\n",
    "                except:\n",
    "                    if self.verbose:\n",
    "                        print(\"Warning: Singular covariance matrix\")\n",
    "                    square_distances = np.square(X - means[j]).sum(axis = 1) \n",
    "                    label_probs[:,j] = np.exp(-square_distances / 2) \n",
    "            label_probs = label_probs * cluster_weights\n",
    "            label_probs = (label_probs.T / label_probs.sum(axis = 1)).T\n",
    "            return label_probs    \n",
    "                        \n",
    "        def compute_parameters(self, X, label_probs):\n",
    "            cluster_weights = label_probs.sum(axis=0)\n",
    "            means = (X.T.dot(label_probs) / cluster_weights).T\n",
    "            covariances = []\n",
    "            for j in range(self.n_clusters):\n",
    "                Y = (X - means[j]).T * label_probs[:,j]\n",
    "                covariances.append(Y.dot(X - means[j]) / cluster_weights[j])\n",
    "            return means, covariances, cluster_weights\n",
    "        \n",
    "        def compute_log_likelihood(self, X, means, covariances, cluster_weights):\n",
    "            likelihoods = np.zeros((X.shape[0], self.n_clusters))\n",
    "            cluster_probs = cluster_weights / cluster_weights.sum()\n",
    "            for j in range(self.n_clusters):\n",
    "                cov = covariances[j]\n",
    "                try:\n",
    "                    inv_cov = np.linalg.inv(cov)\n",
    "                    square_distances = ((X - means[j]).dot(inv_cov) * (X - means[j])).sum(axis = 1) \n",
    "                    likelihoods[:,j] = cluster_probs[j] * np.exp(-square_distances / 2) / np.sqrt(np.linalg.det(cov))\n",
    "                except:\n",
    "                    if self.verbose:\n",
    "                        print(\"Warning: Singular covariance matrix\")\n",
    "                    square_distances = np.square(X - means[j]).sum(axis = 1) \n",
    "                    likelihoods[:,j] = cluster_probs[j] * np.exp(-square_distances / 2) \n",
    "            return np.log(likelihoods.sum(axis = 1)).sum()\n",
    "    \n",
    "        def single_run(self, X):\n",
    "            means, covariances, cluster_weights = init_parameters(self, X)\n",
    "            labels = -np.ones(X.shape[0])\n",
    "            for i in range(self.n_iter):    \n",
    "                # Expectation\n",
    "                label_probs = compute_label_probs(self, X, means, covariances, cluster_weights)              \n",
    "                if np.array_equal(labels, label_probs.argmax(axis=1)):\n",
    "                    break\n",
    "                else:\n",
    "                # Maximization\n",
    "                    means, covariances, cluster_weights = compute_parameters(self, X, label_probs)\n",
    "                    labels = label_probs.argmax(axis = 1)\n",
    "            return label_probs, means, covariances, cluster_weights\n",
    "            \n",
    "        np.random.seed(self.seed)\n",
    "        best_loglikelihood = None\n",
    "        # select the best instance of EM\n",
    "        for i in range(self.n_init):\n",
    "            if self.verbose:\n",
    "                print(\"Instance \",i)               \n",
    "            label_probs, means, covariances, cluster_weights = single_run(self, X)\n",
    "            loglikelihood = compute_log_likelihood(self, X, means, covariances, cluster_weights)\n",
    "            if best_loglikelihood is None or loglikelihood > best_loglikelihood:\n",
    "                best_loglikelihood = loglikelihood\n",
    "                best_label_probs = label_probs\n",
    "                best_labels = label_probs.argmax(axis = 1)\n",
    "                best_centers = means\n",
    "        self.label_probs_ = best_label_probs\n",
    "        self.labels_ = best_labels\n",
    "        self.centers_ = best_centers"
   ]
  },
  {
   "cell_type": "markdown",
   "metadata": {},
   "source": [
    "## To do\n",
    "\n",
    "* Apply the GMM clustering for $k=3$ and display the clusters.\n",
    "* Compute the ARI and the AMI of the clustering.<br>\n",
    "Compare with the clustering obtained with $k$-means.\n",
    "* Plot these metrics with $k$ increasing from 1 to 10 and interpret the results.\n",
    "* Compare the results to those obtained with the Gaussian Mixture of scikit-learn.\n",
    "* Implement a new version of the algorithm with diagonal covariance matrices. Compare with previous results and conclude.<br>\n",
    "**Hint:** Replace the covariance matrices by vectors of variances!"
   ]
  },
  {
   "cell_type": "code",
   "execution_count": 47,
   "metadata": {},
   "outputs": [],
   "source": [
    "gmm = GMM(n_clusters=3)"
   ]
  },
  {
   "cell_type": "code",
   "execution_count": 48,
   "metadata": {},
   "outputs": [],
   "source": [
    "gmm.fit(X)"
   ]
  },
  {
   "cell_type": "code",
   "execution_count": 49,
   "metadata": {},
   "outputs": [],
   "source": [
    "y_pred = gmm.labels_"
   ]
  },
  {
   "cell_type": "code",
   "execution_count": 50,
   "metadata": {},
   "outputs": [
    {
     "data": {
      "image/png": "[encoded data removed]",
      "text/plain": [
       "<Figure size 432x288 with 1 Axes>"
      ]
     },
     "metadata": {
      "needs_background": "light"
     },
     "output_type": "display_data"
    }
   ],
   "source": [
    "show_data(X, y, [0, 1])"
   ]
  },
  {
   "cell_type": "code",
   "execution_count": 51,
   "metadata": {
    "scrolled": true
   },
   "outputs": [
    {
     "data": {
      "image/png": "[encoded data removed]",
      "text/plain": [
       "<Figure size 432x288 with 1 Axes>"
      ]
     },
     "metadata": {
      "needs_background": "light"
     },
     "output_type": "display_data"
    }
   ],
   "source": [
    "show_data(X, y_pred, [0, 1])"
   ]
  },
  {
   "cell_type": "code",
   "execution_count": 52,
   "metadata": {},
   "outputs": [
    {
     "name": "stdout",
     "output_type": "stream",
     "text": [
      "GMM :\n",
      "ARI :\n",
      "0.8984361033676299\n",
      "AMI :\n",
      "0.8984361033676299\n",
      "\n",
      "KMeans :\n",
      "ARI :\n",
      "0.7163421126838476\n",
      "AMI :\n",
      "0.7386548254402864\n"
     ]
    }
   ],
   "source": [
    "print(\"GMM :\")\n",
    "print(\"ARI :\")\n",
    "print(adjusted_mutual_info_score(y,y_pred))\n",
    "print(\"AMI :\")\n",
    "print(adjusted_mutual_info_score(y,y_pred))\n",
    "print()\n",
    "print(\"KMeans :\")\n",
    "skm = KMeans(3)\n",
    "skm.fit(X)\n",
    "print(\"ARI :\")\n",
    "print(adjusted_rand_score(y,skm.labels_))\n",
    "print(\"AMI :\")\n",
    "print(adjusted_mutual_info_score(y,skm.labels_))"
   ]
  },
  {
   "cell_type": "code",
   "execution_count": 53,
   "metadata": {},
   "outputs": [
    {
     "name": "stderr",
     "output_type": "stream",
     "text": [
      "<ipython-input-28-a743ab289d5a>:103: RuntimeWarning: overflow encountered in exp\n",
      "  label_probs[:,j] = np.exp(-square_distances / 2) / np.sqrt(np.linalg.det(cov))\n",
      "<ipython-input-28-a743ab289d5a>:103: RuntimeWarning: invalid value encountered in sqrt\n",
      "  label_probs[:,j] = np.exp(-square_distances / 2) / np.sqrt(np.linalg.det(cov))\n",
      "C:\\Users\\phile\\anaconda3\\lib\\site-packages\\numpy\\linalg\\linalg.py:2158: RuntimeWarning: invalid value encountered in det\n",
      "  r = _umath_linalg.det(a, signature=signature)\n",
      "<ipython-input-28-a743ab289d5a>:103: RuntimeWarning: overflow encountered in exp\n",
      "  label_probs[:,j] = np.exp(-square_distances / 2) / np.sqrt(np.linalg.det(cov))\n",
      "<ipython-input-28-a743ab289d5a>:103: RuntimeWarning: invalid value encountered in sqrt\n",
      "  label_probs[:,j] = np.exp(-square_distances / 2) / np.sqrt(np.linalg.det(cov))\n",
      "C:\\Users\\phile\\anaconda3\\lib\\site-packages\\numpy\\linalg\\linalg.py:2158: RuntimeWarning: invalid value encountered in det\n",
      "  r = _umath_linalg.det(a, signature=signature)\n",
      "<ipython-input-28-a743ab289d5a>:103: RuntimeWarning: overflow encountered in exp\n",
      "  label_probs[:,j] = np.exp(-square_distances / 2) / np.sqrt(np.linalg.det(cov))\n",
      "<ipython-input-28-a743ab289d5a>:103: RuntimeWarning: invalid value encountered in sqrt\n",
      "  label_probs[:,j] = np.exp(-square_distances / 2) / np.sqrt(np.linalg.det(cov))\n",
      "C:\\Users\\phile\\anaconda3\\lib\\site-packages\\numpy\\linalg\\linalg.py:2158: RuntimeWarning: invalid value encountered in det\n",
      "  r = _umath_linalg.det(a, signature=signature)\n",
      "<ipython-input-28-a743ab289d5a>:103: RuntimeWarning: overflow encountered in exp\n",
      "  label_probs[:,j] = np.exp(-square_distances / 2) / np.sqrt(np.linalg.det(cov))\n",
      "<ipython-input-28-a743ab289d5a>:103: RuntimeWarning: invalid value encountered in sqrt\n",
      "  label_probs[:,j] = np.exp(-square_distances / 2) / np.sqrt(np.linalg.det(cov))\n",
      "C:\\Users\\phile\\anaconda3\\lib\\site-packages\\numpy\\linalg\\linalg.py:2158: RuntimeWarning: invalid value encountered in det\n",
      "  r = _umath_linalg.det(a, signature=signature)\n",
      "<ipython-input-28-a743ab289d5a>:110: RuntimeWarning: invalid value encountered in true_divide\n",
      "  label_probs = (label_probs.T / label_probs.sum(axis = 1)).T\n",
      "<ipython-input-28-a743ab289d5a>:103: RuntimeWarning: overflow encountered in exp\n",
      "  label_probs[:,j] = np.exp(-square_distances / 2) / np.sqrt(np.linalg.det(cov))\n",
      "<ipython-input-28-a743ab289d5a>:103: RuntimeWarning: invalid value encountered in sqrt\n",
      "  label_probs[:,j] = np.exp(-square_distances / 2) / np.sqrt(np.linalg.det(cov))\n",
      "C:\\Users\\phile\\anaconda3\\lib\\site-packages\\numpy\\linalg\\linalg.py:2158: RuntimeWarning: invalid value encountered in det\n",
      "  r = _umath_linalg.det(a, signature=signature)\n",
      "<ipython-input-28-a743ab289d5a>:89: RuntimeWarning: Degrees of freedom <= 0 for slice\n",
      "  covariances.append(np.cov(X[index].T))\n",
      "C:\\Users\\phile\\anaconda3\\lib\\site-packages\\numpy\\lib\\function_base.py:2542: RuntimeWarning: divide by zero encountered in true_divide\n",
      "  c *= np.true_divide(1, fact)\n",
      "C:\\Users\\phile\\anaconda3\\lib\\site-packages\\numpy\\lib\\function_base.py:2542: RuntimeWarning: invalid value encountered in multiply\n",
      "  c *= np.true_divide(1, fact)\n",
      "<ipython-input-28-a743ab289d5a>:89: RuntimeWarning: Degrees of freedom <= 0 for slice\n",
      "  covariances.append(np.cov(X[index].T))\n",
      "C:\\Users\\phile\\anaconda3\\lib\\site-packages\\numpy\\lib\\function_base.py:2542: RuntimeWarning: divide by zero encountered in true_divide\n",
      "  c *= np.true_divide(1, fact)\n",
      "C:\\Users\\phile\\anaconda3\\lib\\site-packages\\numpy\\lib\\function_base.py:2542: RuntimeWarning: invalid value encountered in multiply\n",
      "  c *= np.true_divide(1, fact)\n",
      "C:\\Users\\phile\\anaconda3\\lib\\site-packages\\numpy\\linalg\\linalg.py:2158: RuntimeWarning: invalid value encountered in det\n",
      "  r = _umath_linalg.det(a, signature=signature)\n",
      "<ipython-input-28-a743ab289d5a>:103: RuntimeWarning: overflow encountered in exp\n",
      "  label_probs[:,j] = np.exp(-square_distances / 2) / np.sqrt(np.linalg.det(cov))\n",
      "<ipython-input-28-a743ab289d5a>:103: RuntimeWarning: invalid value encountered in sqrt\n",
      "  label_probs[:,j] = np.exp(-square_distances / 2) / np.sqrt(np.linalg.det(cov))\n",
      "<ipython-input-28-a743ab289d5a>:110: RuntimeWarning: invalid value encountered in true_divide\n",
      "  label_probs = (label_probs.T / label_probs.sum(axis = 1)).T\n",
      "<ipython-input-28-a743ab289d5a>:115: RuntimeWarning: invalid value encountered in true_divide\n",
      "  means = (X.T.dot(label_probs) / cluster_weights).T\n"
     ]
    },
    {
     "data": {
      "image/png": "[encoded data removed]",
      "text/plain": [
       "<Figure size 864x360 with 1 Axes>"
      ]
     },
     "metadata": {
      "needs_background": "light"
     },
     "output_type": "display_data"
    }
   ],
   "source": [
    "ARIs = []\n",
    "AMIs = []\n",
    "ARIsk = []\n",
    "AMIsk = []\n",
    "for k in range(10):\n",
    "    model = GMM(k+1)\n",
    "    km = KMeans(k+1)\n",
    "    model.fit(X)\n",
    "    km.fit(X)\n",
    "    y_pred = model.labels_\n",
    "    y_sk = km.labels_\n",
    "    ARIs.append(adjusted_rand_score(y,y_pred))\n",
    "    AMIs.append(adjusted_mutual_info_score(y,y_pred))\n",
    "    ARIsk.append(adjusted_rand_score(y,y_sk))\n",
    "    AMIsk.append(adjusted_mutual_info_score(y,y_sk))\n",
    "\n",
    "plt.figure(figsize=(12,5))\n",
    "plt.plot(range(1,11), ARIs, c=\"red\", label=\"ARI GMM\")\n",
    "plt.plot(range(1,11), AMIs, c=\"orange\", label=\"AMI GMM\")\n",
    "plt.plot(range(1,11), ARIsk, c=\"blue\", label=\"ARI KMeans\")\n",
    "plt.plot(range(1,11), AMIsk, c=\"lightblue\", label=\"AMI KMeans\")\n",
    "plt.xlabel(\"k\")\n",
    "plt.legend()\n",
    "plt.title(\"ARI and AMI of GMM and KMeans by number of clusters k\")\n",
    "plt.show()"
   ]
  },
  {
   "cell_type": "code",
   "execution_count": 56,
   "metadata": {},
   "outputs": [
    {
     "name": "stderr",
     "output_type": "stream",
     "text": [
      "C:\\Users\\phile\\anaconda3\\lib\\site-packages\\sklearn\\cluster\\_kmeans.py:881: UserWarning: KMeans is known to have a memory leak on Windows with MKL, when there are less chunks than available threads. You can avoid it by setting the environment variable OMP_NUM_THREADS=1.\n",
      "  warnings.warn(\n",
      "<ipython-input-28-a743ab289d5a>:103: RuntimeWarning: overflow encountered in exp\n",
      "  label_probs[:,j] = np.exp(-square_distances / 2) / np.sqrt(np.linalg.det(cov))\n",
      "<ipython-input-28-a743ab289d5a>:103: RuntimeWarning: invalid value encountered in sqrt\n",
      "  label_probs[:,j] = np.exp(-square_distances / 2) / np.sqrt(np.linalg.det(cov))\n",
      "C:\\Users\\phile\\anaconda3\\lib\\site-packages\\numpy\\linalg\\linalg.py:2158: RuntimeWarning: invalid value encountered in det\n",
      "  r = _umath_linalg.det(a, signature=signature)\n",
      "<ipython-input-28-a743ab289d5a>:103: RuntimeWarning: overflow encountered in exp\n",
      "  label_probs[:,j] = np.exp(-square_distances / 2) / np.sqrt(np.linalg.det(cov))\n",
      "<ipython-input-28-a743ab289d5a>:103: RuntimeWarning: invalid value encountered in sqrt\n",
      "  label_probs[:,j] = np.exp(-square_distances / 2) / np.sqrt(np.linalg.det(cov))\n",
      "C:\\Users\\phile\\anaconda3\\lib\\site-packages\\numpy\\linalg\\linalg.py:2158: RuntimeWarning: invalid value encountered in det\n",
      "  r = _umath_linalg.det(a, signature=signature)\n",
      "<ipython-input-28-a743ab289d5a>:103: RuntimeWarning: overflow encountered in exp\n",
      "  label_probs[:,j] = np.exp(-square_distances / 2) / np.sqrt(np.linalg.det(cov))\n",
      "<ipython-input-28-a743ab289d5a>:103: RuntimeWarning: invalid value encountered in sqrt\n",
      "  label_probs[:,j] = np.exp(-square_distances / 2) / np.sqrt(np.linalg.det(cov))\n",
      "C:\\Users\\phile\\anaconda3\\lib\\site-packages\\numpy\\linalg\\linalg.py:2158: RuntimeWarning: invalid value encountered in det\n",
      "  r = _umath_linalg.det(a, signature=signature)\n",
      "<ipython-input-28-a743ab289d5a>:103: RuntimeWarning: overflow encountered in exp\n",
      "  label_probs[:,j] = np.exp(-square_distances / 2) / np.sqrt(np.linalg.det(cov))\n",
      "<ipython-input-28-a743ab289d5a>:103: RuntimeWarning: invalid value encountered in sqrt\n",
      "  label_probs[:,j] = np.exp(-square_distances / 2) / np.sqrt(np.linalg.det(cov))\n",
      "C:\\Users\\phile\\anaconda3\\lib\\site-packages\\numpy\\linalg\\linalg.py:2158: RuntimeWarning: invalid value encountered in det\n",
      "  r = _umath_linalg.det(a, signature=signature)\n",
      "<ipython-input-28-a743ab289d5a>:110: RuntimeWarning: invalid value encountered in true_divide\n",
      "  label_probs = (label_probs.T / label_probs.sum(axis = 1)).T\n",
      "<ipython-input-28-a743ab289d5a>:103: RuntimeWarning: overflow encountered in exp\n",
      "  label_probs[:,j] = np.exp(-square_distances / 2) / np.sqrt(np.linalg.det(cov))\n",
      "<ipython-input-28-a743ab289d5a>:103: RuntimeWarning: invalid value encountered in sqrt\n",
      "  label_probs[:,j] = np.exp(-square_distances / 2) / np.sqrt(np.linalg.det(cov))\n",
      "C:\\Users\\phile\\anaconda3\\lib\\site-packages\\numpy\\linalg\\linalg.py:2158: RuntimeWarning: invalid value encountered in det\n",
      "  r = _umath_linalg.det(a, signature=signature)\n",
      "<ipython-input-28-a743ab289d5a>:89: RuntimeWarning: Degrees of freedom <= 0 for slice\n",
      "  covariances.append(np.cov(X[index].T))\n",
      "C:\\Users\\phile\\anaconda3\\lib\\site-packages\\numpy\\lib\\function_base.py:2542: RuntimeWarning: divide by zero encountered in true_divide\n",
      "  c *= np.true_divide(1, fact)\n",
      "C:\\Users\\phile\\anaconda3\\lib\\site-packages\\numpy\\lib\\function_base.py:2542: RuntimeWarning: invalid value encountered in multiply\n",
      "  c *= np.true_divide(1, fact)\n",
      "<ipython-input-28-a743ab289d5a>:89: RuntimeWarning: Degrees of freedom <= 0 for slice\n",
      "  covariances.append(np.cov(X[index].T))\n",
      "C:\\Users\\phile\\anaconda3\\lib\\site-packages\\numpy\\lib\\function_base.py:2542: RuntimeWarning: divide by zero encountered in true_divide\n",
      "  c *= np.true_divide(1, fact)\n",
      "C:\\Users\\phile\\anaconda3\\lib\\site-packages\\numpy\\lib\\function_base.py:2542: RuntimeWarning: invalid value encountered in multiply\n",
      "  c *= np.true_divide(1, fact)\n",
      "C:\\Users\\phile\\anaconda3\\lib\\site-packages\\numpy\\linalg\\linalg.py:2158: RuntimeWarning: invalid value encountered in det\n",
      "  r = _umath_linalg.det(a, signature=signature)\n",
      "<ipython-input-28-a743ab289d5a>:103: RuntimeWarning: overflow encountered in exp\n",
      "  label_probs[:,j] = np.exp(-square_distances / 2) / np.sqrt(np.linalg.det(cov))\n",
      "<ipython-input-28-a743ab289d5a>:103: RuntimeWarning: invalid value encountered in sqrt\n",
      "  label_probs[:,j] = np.exp(-square_distances / 2) / np.sqrt(np.linalg.det(cov))\n",
      "<ipython-input-28-a743ab289d5a>:110: RuntimeWarning: invalid value encountered in true_divide\n",
      "  label_probs = (label_probs.T / label_probs.sum(axis = 1)).T\n",
      "<ipython-input-28-a743ab289d5a>:115: RuntimeWarning: invalid value encountered in true_divide\n",
      "  means = (X.T.dot(label_probs) / cluster_weights).T\n"
     ]
    },
    {
     "data": {
      "image/png": "[encoded data removed]",
      "text/plain": [
       "<Figure size 864x360 with 1 Axes>"
      ]
     },
     "metadata": {
      "needs_background": "light"
     },
     "output_type": "display_data"
    }
   ],
   "source": [
    "from sklearn.mixture import GaussianMixture\n",
    "\n",
    "ARIs = []\n",
    "AMIs = []\n",
    "ARIsk = []\n",
    "AMIsk = []\n",
    "for k in range(10):\n",
    "    model = GMM(k+1)\n",
    "    skm = GaussianMixture(k+1)\n",
    "    model.fit(X)\n",
    "    skm.fit(X)\n",
    "    y_pred = model.labels_\n",
    "    y_sk = skm.predict(X)\n",
    "    ARIs.append(adjusted_rand_score(y,y_pred))\n",
    "    AMIs.append(adjusted_mutual_info_score(y,y_pred))\n",
    "    ARIsk.append(adjusted_rand_score(y,y_sk))\n",
    "    AMIsk.append(adjusted_mutual_info_score(y,y_sk))\n",
    "\n",
    "plt.figure(figsize=(12,5))\n",
    "plt.plot(range(1,11), ARIs, c=\"red\", label=\"ARI GMM\")\n",
    "plt.plot(range(1,11), AMIs, c=\"orange\", label=\"AMI GMM\")\n",
    "plt.plot(range(1,11), ARIsk, c=\"blue\", label=\"ARI Sklearn\")\n",
    "plt.plot(range(1,11), AMIsk, c=\"lightblue\", label=\"AMI Sklearn\")\n",
    "plt.xlabel(\"k\")\n",
    "plt.legend()\n",
    "plt.title(\"ARI and AMI by number of clusters k\")\n",
    "plt.show()"
   ]
  },
  {
   "cell_type": "code",
   "execution_count": 34,
   "metadata": {},
   "outputs": [],
   "source": [
    "class GMD:\n",
    "    '''EM algorithm for the Gaussian mixture model with diagonal covariance matrices.\n",
    "    \n",
    "    Parameters\n",
    "    ----------\n",
    "    n_clusters: int, default: 8\n",
    "        Number of clusters.\n",
    "    \n",
    "    n_init : int, default: 10\n",
    "        Number of instances of the algorithm, each with different initial cluster centers. \n",
    "        The output is that of the best instance (in terms of likelihood).\n",
    "    \n",
    "    n_iter: int, default: 300\n",
    "        Maximum number of iterations for each instance of the algorithm.\n",
    "        \n",
    "    algorithm: \"random\" or \"k-means++\", default:\"k-means++\"\n",
    "        Algorithm for initializing the means.\n",
    "    \n",
    "    seed: int, default: None\n",
    "        Seed for the random generation of cluster centers.\n",
    "        \n",
    "    verbose: boolean, default: True\n",
    "        Verbose mode.\n",
    "    \n",
    "    Attributes\n",
    "    ----------\n",
    "    labels_: array, shape(n_samples,)\n",
    "        Label of each sample (cluster index).\n",
    "\n",
    "    label_probs_: array, shape(n_samples,n_clusters)\n",
    "        Probability distribution of labels for each sample.\n",
    "        \n",
    "    centers_ : array, shape(n_clusters,n_features)\n",
    "        Cluster centers.\n",
    "    '''\n",
    "\n",
    "    def __init__(self, n_clusters=8, n_init=10, n_iter=300, algorithm='k-means++', seed=None, verbose=False):\n",
    "        self.n_clusters = n_clusters\n",
    "        self.n_init = n_init\n",
    "        self.n_iter = n_iter\n",
    "        self.algorithm = algorithm\n",
    "        self.seed = seed\n",
    "        self.verbose = verbose\n",
    "        self.labels_ = None\n",
    "        self.label_probs_ = None\n",
    "        self.centers_ = None\n",
    "       \n",
    "    def fit(self, X):\n",
    "        '''Cluster data X using EM for the Gaussian mixture model with diagonal covariance matrices.\n",
    "    \n",
    "        Parameters\n",
    "        ----------\n",
    "        X: array, shape(n_samples, n_features)\n",
    "            Data to cluster.\n",
    "        '''        \n",
    "        # to be completed\n"
   ]
  },
  {
   "cell_type": "code",
   "execution_count": null,
   "metadata": {},
   "outputs": [],
   "source": []
  },
  {
   "cell_type": "code",
   "execution_count": null,
   "metadata": {},
   "outputs": [],
   "source": []
  },
  {
   "cell_type": "code",
   "execution_count": null,
   "metadata": {},
   "outputs": [],
   "source": []
  }
 ],
 "metadata": {
  "hide_input": false,
  "kernelspec": {
   "display_name": "Python 3",
   "language": "python",
   "name": "python3"
  },
  "language_info": {
   "codemirror_mode": {
    "name": "ipython",
    "version": 3
   },
   "file_extension": ".py",
   "mimetype": "text/x-python",
   "name": "python",
   "nbconvert_exporter": "python",
   "pygments_lexer": "ipython3",
   "version": "3.8.8"
  }
 },
 "nbformat": 4,
 "nbformat_minor": 2
}
