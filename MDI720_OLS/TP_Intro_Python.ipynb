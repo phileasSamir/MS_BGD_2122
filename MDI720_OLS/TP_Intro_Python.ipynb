{
  "nbformat": 4,
  "nbformat_minor": 2,
  "metadata": {
    "colab": {
      "name": "TP_Intro_Python",
      "provenance": [],
      "collapsed_sections": []
    },
    "kernelspec": {
      "name": "python3",
      "display_name": "Python 3.8.8 64-bit ('base': conda)"
    },
    "language_info": {
      "name": "python",
      "version": "3.8.8",
      "mimetype": "text/x-python",
      "codemirror_mode": {
        "name": "ipython",
        "version": 3
      },
      "pygments_lexer": "ipython3",
      "nbconvert_exporter": "python",
      "file_extension": ".py"
    },
    "interpreter": {
      "hash": "d6b1dc52de474ed9407c5637da8eff2160d69f380cceccb94e4d3d90e466dd58"
    }
  },
  "cells": [
    {
      "cell_type": "code",
      "execution_count": 1,
      "source": [
        "import random\r\n",
        "import math\r\n",
        "import numpy as np\r\n",
        "import pandas as pd\r\n",
        "import sklearn\r\n",
        "import matplotlib.pyplot as plt"
      ],
      "outputs": [],
      "metadata": {
        "id": "52sNyungUd29"
      }
    },
    {
      "cell_type": "code",
      "execution_count": 2,
      "source": [
        "#log2\r\n",
        "\r\n",
        "def nextpower0(x):\r\n",
        "  y = x\r\n",
        "  i = 0\r\n",
        "  while y > 1:\r\n",
        "    y /= 2\r\n",
        "    i += 1\r\n",
        "  return int(2**i)\r\n",
        "\r\n",
        "def nextpower1(x):\r\n",
        "  i = 0\r\n",
        "  while 2**i < x:\r\n",
        "    i += 1 \r\n",
        "  return int(2**i)"
      ],
      "outputs": [],
      "metadata": {
        "id": "sb0WsTVSUo-W"
      }
    },
    {
      "cell_type": "code",
      "execution_count": 3,
      "source": [
        "x0 = 2**12\r\n",
        "x1 = 2**12 + 1"
      ],
      "outputs": [],
      "metadata": {
        "id": "13je-JoOVQB1"
      }
    },
    {
      "cell_type": "code",
      "execution_count": 4,
      "source": [
        "%time nextpower0(x0)"
      ],
      "outputs": [
        {
          "output_type": "stream",
          "name": "stdout",
          "text": [
            "Wall time: 0 ns\n"
          ]
        },
        {
          "output_type": "execute_result",
          "data": {
            "text/plain": [
              "4096"
            ]
          },
          "metadata": {},
          "execution_count": 4
        }
      ],
      "metadata": {
        "colab": {
          "base_uri": "https://localhost:8080/"
        },
        "id": "47MLYBCWVL_H",
        "outputId": "3c2fc227-f6d6-46c9-b553-a5abe6b84263"
      }
    },
    {
      "cell_type": "code",
      "execution_count": 5,
      "source": [
        "%time nextpower1(x0)"
      ],
      "outputs": [
        {
          "output_type": "stream",
          "name": "stdout",
          "text": [
            "Wall time: 0 ns\n"
          ]
        },
        {
          "output_type": "execute_result",
          "data": {
            "text/plain": [
              "4096"
            ]
          },
          "metadata": {},
          "execution_count": 5
        }
      ],
      "metadata": {
        "colab": {
          "base_uri": "https://localhost:8080/"
        },
        "id": "L0UO7PJOVbkc",
        "outputId": "ad497ab0-b1a3-4c54-ae35-deaf93b01b49"
      }
    },
    {
      "cell_type": "code",
      "execution_count": 6,
      "source": [
        "alphabet = \"abcdefghijklmnopqrstuvwxyz\"\r\n",
        "\r\n",
        "cfilorux = alphabet[2:-1:3]\r\n",
        "print(cfilorux)"
      ],
      "outputs": [
        {
          "output_type": "stream",
          "name": "stdout",
          "text": [
            "cfilorux\n"
          ]
        }
      ],
      "metadata": {
        "colab": {
          "base_uri": "https://localhost:8080/"
        },
        "id": "kx8V6zt0VdtX",
        "outputId": "4c60bafd-09a1-4cb5-c7ee-a84d3d871011"
      }
    },
    {
      "cell_type": "code",
      "execution_count": 7,
      "source": [
        "#On suppose un arrondi attendu plutôt qu'une troncature\r\n",
        "pi9 = np.round(np.pi, 9)\r\n",
        "print(pi9)"
      ],
      "outputs": [
        {
          "output_type": "stream",
          "name": "stdout",
          "text": [
            "3.141592654\n"
          ]
        }
      ],
      "metadata": {
        "colab": {
          "base_uri": "https://localhost:8080/"
        },
        "id": "O1xY1CxoWcmX",
        "outputId": "fb4ef804-df5f-4194-d219-402ee4cff99c"
      }
    },
    {
      "cell_type": "code",
      "execution_count": 8,
      "source": [
        "s = \"HelLo WorLd!!\"\r\n",
        "dict4 = {}\r\n",
        "for char in s:\r\n",
        "  if char in dict4.keys():\r\n",
        "    dict4[char] += 1\r\n",
        "  else:\r\n",
        "    dict4[char] = 1\r\n",
        "print(dict4)"
      ],
      "outputs": [
        {
          "output_type": "stream",
          "name": "stdout",
          "text": [
            "{'H': 1, 'e': 1, 'l': 1, 'L': 2, 'o': 2, ' ': 1, 'W': 1, 'r': 1, 'd': 1, '!': 2}\n"
          ]
        }
      ],
      "metadata": {
        "colab": {
          "base_uri": "https://localhost:8080/"
        },
        "id": "ZpnsDLrDW4Ow",
        "outputId": "07e528ae-017a-4c75-e67e-2303944f7373"
      }
    },
    {
      "cell_type": "code",
      "execution_count": 9,
      "source": [
        "alphabet_copy = list(alphabet)\r\n",
        "random.shuffle(alphabet_copy)\r\n",
        "dicodage = {k:v for k,v in zip(alphabet, alphabet_copy)}\r\n",
        "print(dicodage)"
      ],
      "outputs": [
        {
          "output_type": "stream",
          "name": "stdout",
          "text": [
            "{'a': 'y', 'b': 'l', 'c': 't', 'd': 'i', 'e': 'h', 'f': 'r', 'g': 'p', 'h': 's', 'i': 'u', 'j': 'm', 'k': 'w', 'l': 'e', 'm': 'c', 'n': 'a', 'o': 'g', 'p': 'v', 'q': 'j', 'r': 'n', 's': 'b', 't': 'f', 'u': 'x', 'v': 'k', 'w': 'o', 'x': 'q', 'y': 'd', 'z': 'z'}\n"
          ]
        }
      ],
      "metadata": {
        "colab": {
          "base_uri": "https://localhost:8080/"
        },
        "id": "_aJNtwZNYAqC",
        "outputId": "7a407ccd-86d8-4bfa-b888-bbc2b1c74a67"
      }
    },
    {
      "cell_type": "code",
      "execution_count": 54,
      "source": [
        "%%time\r\n",
        "newprod = 2\r\n",
        "prod = -1\r\n",
        "for i in range(1,10**6):\r\n",
        "    newprod *= (4*(i**2)/(4*(i**2)-1)) #éviter double calcul\r\n",
        "    if np.abs(newprod-prod)<10**-10:\r\n",
        "        prod = newprod\r\n",
        "        break\r\n",
        "    prod = newprod\r\n",
        "print(prod,i)"
      ],
      "outputs": [
        {
          "output_type": "stream",
          "name": "stdout",
          "text": [
            "3.1415837914137876 88623\n",
            "Wall time: 220 ms\n"
          ]
        }
      ],
      "metadata": {
        "id": "QhC8NSwuZLxq"
      }
    },
    {
      "cell_type": "code",
      "execution_count": 57,
      "source": [
        "#+ méthode récursive\r\n",
        "\r\n",
        "result = np.prod([(4*(i**2)/(4*(i**2)-1)) for i in range(1,10**5)])*2\r\n",
        "result"
      ],
      "outputs": [
        {
          "output_type": "execute_result",
          "data": {
            "text/plain": [
              "3.141584799578707"
            ]
          },
          "metadata": {},
          "execution_count": 57
        }
      ],
      "metadata": {}
    },
    {
      "cell_type": "code",
      "execution_count": 55,
      "source": [
        "%%time\r\n",
        "prod = 2\r\n",
        "i = 1\r\n",
        "while np.abs(prod-prod*(4*(i**2)/(4*(i**2)-1)))>10**-10:\r\n",
        "    prod *= (4*(i**2)/(4*(i**2)-1))\r\n",
        "    i += 1\r\n",
        "print(prod, i)"
      ],
      "outputs": [
        {
          "output_type": "stream",
          "name": "stdout",
          "text": [
            "3.1415837913137885 88623\n",
            "Wall time: 379 ms\n"
          ]
        }
      ],
      "metadata": {}
    },
    {
      "cell_type": "code",
      "execution_count": 12,
      "source": [
        "def quicksort(ll):\r\n",
        "  \"\"\" a sorting algorithm with a pivot value\"\"\"\r\n",
        "  if len(ll) <= 1:\r\n",
        "    return ll\r\n",
        "  else:\r\n",
        "    pivot = ll.pop(-1)\r\n",
        "    less = []\r\n",
        "    greater = []\r\n",
        "    for x in ll:\r\n",
        "      if x <= pivot:\r\n",
        "        less.append(x)\r\n",
        "      else:\r\n",
        "        greater.append(x)\r\n",
        "    return quicksort(less) + [pivot] + quicksort(greater)\r\n",
        "\r\n",
        "quicksort([-2, 3, 5, 1, 3])"
      ],
      "outputs": [
        {
          "output_type": "execute_result",
          "data": {
            "text/plain": [
              "[-2, 1, 3, 3, 5]"
            ]
          },
          "metadata": {},
          "execution_count": 12
        }
      ],
      "metadata": {
        "colab": {
          "base_uri": "https://localhost:8080/"
        },
        "id": "YELvKrQJYXmZ",
        "outputId": "dc1473c0-e201-458d-f5de-3e1ea34b00d9"
      }
    },
    {
      "cell_type": "code",
      "execution_count": 13,
      "source": [
        "M = np.random.uniform(-1,1,(5,6))\r\n",
        "M[:, 1:-1:2] = M[:, 1:-1:2] - 2*M[:, 2:-1:2]\r\n",
        "M[M<0] = 0\r\n",
        "M"
      ],
      "outputs": [
        {
          "output_type": "execute_result",
          "data": {
            "text/plain": [
              "array([[0.        , 0.        , 0.08546578, 0.        , 0.        ,\n",
              "        0.48772112],\n",
              "       [0.        , 0.        , 0.47425475, 0.1698037 , 0.11119635,\n",
              "        0.96430439],\n",
              "       [0.        , 0.64887724, 0.        , 2.22324902, 0.        ,\n",
              "        0.12161253],\n",
              "       [0.22994089, 0.        , 0.78668226, 0.        , 0.96607379,\n",
              "        0.78434607],\n",
              "       [0.47317446, 0.        , 0.75942524, 0.61921259, 0.        ,\n",
              "        0.75659469]])"
            ]
          },
          "metadata": {},
          "execution_count": 13
        }
      ],
      "metadata": {
        "colab": {
          "base_uri": "https://localhost:8080/"
        },
        "id": "lCBdP5kGZnoX",
        "outputId": "2973a80e-8fff-4c6b-bf8d-fe693a62c9db"
      }
    },
    {
      "cell_type": "code",
      "execution_count": 116,
      "source": [
        "M = np.random.uniform(-1,1,(5,20))\r\n",
        "G = M.T@M\r\n",
        "print(np.allclose(G,G.T))\r\n",
        "print(np.all(np.linalg.eigvals(G)>0))\r\n",
        "print(len(np.linalg.eigvals(G)[(~np.iscomplex(np.linalg.eigvals(G)) & (~np.isclose(0,np.linalg.eigvals(G))))])) #> python précision\r\n",
        "print(np.linalg.matrix_rank(G))"
      ],
      "outputs": [
        {
          "output_type": "stream",
          "name": "stdout",
          "text": [
            "True\n",
            "False\n",
            "5\n",
            "5\n"
          ]
        }
      ],
      "metadata": {
        "colab": {
          "base_uri": "https://localhost:8080/"
        },
        "id": "CFiQzGVYZp_d",
        "outputId": "fcc91f22-6e8b-4b18-e5e0-c9b28a0d7a2a"
      }
    },
    {
      "cell_type": "code",
      "execution_count": 69,
      "source": [
        "df = pd.read_csv(\"GaltonsHeightData.csv\")\r\n",
        "df[\"Height\"] = df[\"Height\"].apply(lambda x: np.round(x*2.54, 0))\r\n",
        "df[\"Father\"] = df[\"Father\"].apply(lambda x: np.round(x*2.54, 0))\r\n",
        "df[\"Mother\"] = df[\"Mother\"].apply(lambda x: np.round(x*2.54, 0))\r\n",
        "df.head()"
      ],
      "outputs": [
        {
          "output_type": "execute_result",
          "data": {
            "text/html": [
              "<div>\n",
              "<style scoped>\n",
              "    .dataframe tbody tr th:only-of-type {\n",
              "        vertical-align: middle;\n",
              "    }\n",
              "\n",
              "    .dataframe tbody tr th {\n",
              "        vertical-align: top;\n",
              "    }\n",
              "\n",
              "    .dataframe thead th {\n",
              "        text-align: right;\n",
              "    }\n",
              "</style>\n",
              "<table border=\"1\" class=\"dataframe\">\n",
              "  <thead>\n",
              "    <tr style=\"text-align: right;\">\n",
              "      <th></th>\n",
              "      <th>Family</th>\n",
              "      <th>Father</th>\n",
              "      <th>Mother</th>\n",
              "      <th>Gender</th>\n",
              "      <th>Height</th>\n",
              "      <th>Kids</th>\n",
              "    </tr>\n",
              "  </thead>\n",
              "  <tbody>\n",
              "    <tr>\n",
              "      <th>0</th>\n",
              "      <td>1</td>\n",
              "      <td>199.0</td>\n",
              "      <td>170.0</td>\n",
              "      <td>M</td>\n",
              "      <td>186.0</td>\n",
              "      <td>4</td>\n",
              "    </tr>\n",
              "    <tr>\n",
              "      <th>1</th>\n",
              "      <td>1</td>\n",
              "      <td>199.0</td>\n",
              "      <td>170.0</td>\n",
              "      <td>F</td>\n",
              "      <td>176.0</td>\n",
              "      <td>4</td>\n",
              "    </tr>\n",
              "    <tr>\n",
              "      <th>2</th>\n",
              "      <td>1</td>\n",
              "      <td>199.0</td>\n",
              "      <td>170.0</td>\n",
              "      <td>F</td>\n",
              "      <td>175.0</td>\n",
              "      <td>4</td>\n",
              "    </tr>\n",
              "    <tr>\n",
              "      <th>3</th>\n",
              "      <td>1</td>\n",
              "      <td>199.0</td>\n",
              "      <td>170.0</td>\n",
              "      <td>F</td>\n",
              "      <td>175.0</td>\n",
              "      <td>4</td>\n",
              "    </tr>\n",
              "    <tr>\n",
              "      <th>4</th>\n",
              "      <td>2</td>\n",
              "      <td>192.0</td>\n",
              "      <td>169.0</td>\n",
              "      <td>M</td>\n",
              "      <td>187.0</td>\n",
              "      <td>4</td>\n",
              "    </tr>\n",
              "  </tbody>\n",
              "</table>\n",
              "</div>"
            ],
            "text/plain": [
              "   Family  Father  Mother Gender  Height  Kids\n",
              "0       1   199.0   170.0      M   186.0     4\n",
              "1       1   199.0   170.0      F   176.0     4\n",
              "2       1   199.0   170.0      F   175.0     4\n",
              "3       1   199.0   170.0      F   175.0     4\n",
              "4       2   192.0   169.0      M   187.0     4"
            ]
          },
          "metadata": {},
          "execution_count": 69
        }
      ],
      "metadata": {
        "colab": {
          "base_uri": "https://localhost:8080/",
          "height": 203
        },
        "id": "EAKzx72Ha1HY",
        "outputId": "fb7c5689-b21b-48cc-c6b4-c6fa909ef500"
      }
    },
    {
      "cell_type": "code",
      "execution_count": 70,
      "source": [
        "df.isna().sum()"
      ],
      "outputs": [
        {
          "output_type": "execute_result",
          "data": {
            "text/plain": [
              "Family    0\n",
              "Father    0\n",
              "Mother    0\n",
              "Gender    0\n",
              "Height    0\n",
              "Kids      0\n",
              "dtype: int64"
            ]
          },
          "metadata": {},
          "execution_count": 70
        }
      ],
      "metadata": {
        "colab": {
          "base_uri": "https://localhost:8080/"
        },
        "id": "TjD8oZe6a4g0",
        "outputId": "eccd4a34-d963-4d27-b778-28e44518d46b"
      }
    },
    {
      "cell_type": "code",
      "execution_count": 71,
      "source": [
        "import seaborn as sns\r\n",
        "\r\n",
        "sns.kdeplot(df[\"Father\"], color=\"blue\")\r\n",
        "sns.kdeplot(df[\"Mother\"], color=\"orange\")"
      ],
      "outputs": [
        {
          "output_type": "execute_result",
          "data": {
            "text/plain": [
              "<AxesSubplot:xlabel='Father', ylabel='Density'>"
            ]
          },
          "metadata": {},
          "execution_count": 71
        },
        {
          "output_type": "display_data",
          "data": {
            "image/png": "[encoded data removed]",
            "text/plain": [
              "<Figure size 432x288 with 1 Axes>"
            ]
          },
          "metadata": {
            "needs_background": "light"
          }
        }
      ],
      "metadata": {
        "colab": {
          "base_uri": "https://localhost:8080/",
          "height": 296
        },
        "id": "A0-QEr69diCC",
        "outputId": "10d04454-c3a2-4424-c20a-339b83e926b9"
      }
    },
    {
      "cell_type": "code",
      "execution_count": 72,
      "source": [
        "sns.lmplot(\"Mother\",\"Father\",data=df,ci=None) #add R2"
      ],
      "outputs": [
        {
          "output_type": "stream",
          "name": "stderr",
          "text": [
            "C:\\Users\\phile\\anaconda3\\lib\\site-packages\\seaborn\\_decorators.py:36: FutureWarning: Pass the following variables as keyword args: x, y. From version 0.12, the only valid positional argument will be `data`, and passing other arguments without an explicit keyword will result in an error or misinterpretation.\n",
            "  warnings.warn(\n"
          ]
        },
        {
          "output_type": "execute_result",
          "data": {
            "text/plain": [
              "<seaborn.axisgrid.FacetGrid at 0x21691a5c6a0>"
            ]
          },
          "metadata": {},
          "execution_count": 72
        },
        {
          "output_type": "display_data",
          "data": {
            "image/png": "[encoded data removed]",
            "text/plain": [
              "<Figure size 360x360 with 1 Axes>"
            ]
          },
          "metadata": {
            "needs_background": "light"
          }
        }
      ],
      "metadata": {
        "colab": {
          "base_uri": "https://localhost:8080/",
          "height": 454
        },
        "id": "wOlfNggWeUg_",
        "outputId": "b019f5e5-370e-4e15-9209-3d81455b9732"
      }
    },
    {
      "cell_type": "code",
      "execution_count": 73,
      "source": [
        "sns.histplot(df[\"Kids\"])"
      ],
      "outputs": [
        {
          "output_type": "execute_result",
          "data": {
            "text/plain": [
              "<AxesSubplot:xlabel='Kids', ylabel='Count'>"
            ]
          },
          "metadata": {},
          "execution_count": 73
        },
        {
          "output_type": "display_data",
          "data": {
            "image/png": "[encoded data removed]",
            "text/plain": [
              "<Figure size 432x288 with 1 Axes>"
            ]
          },
          "metadata": {
            "needs_background": "light"
          }
        }
      ],
      "metadata": {
        "colab": {
          "base_uri": "https://localhost:8080/",
          "height": 296
        },
        "id": "4ctNc7Y7ef_6",
        "outputId": "e9e087ea-5734-4090-c7f6-a63bff3fa933"
      }
    },
    {
      "cell_type": "code",
      "execution_count": 74,
      "source": [
        "df[\"MidParents\"] = (df[\"Father\"] + 1.08 * df[\"Mother\"])/2"
      ],
      "outputs": [],
      "metadata": {
        "id": "A3rc3JMWe6O-"
      }
    },
    {
      "cell_type": "code",
      "execution_count": 75,
      "source": [
        "from sklearn.linear_model import LinearRegression\r\n",
        "\r\n",
        "model = LinearRegression()\r\n",
        "\r\n",
        "model.fit(df[\"MidParents\"].values.reshape(-1,1),df[\"Height\"])\r\n",
        "\r\n",
        "print(model.coef_[0], model.intercept_)"
      ],
      "outputs": [
        {
          "output_type": "stream",
          "name": "stdout",
          "text": [
            "0.6330937666628673 58.255916588003544\n"
          ]
        }
      ],
      "metadata": {
        "colab": {
          "base_uri": "https://localhost:8080/"
        },
        "id": "RV9RYOfUflRf",
        "outputId": "85667c1f-5148-4d72-9937-51d7f63e7720"
      }
    },
    {
      "cell_type": "code",
      "execution_count": 76,
      "source": [
        "x = df[\"MidParents\"].values\r\n",
        "y = df[\"Height\"].values\r\n",
        "xbar = x.mean()\r\n",
        "ybar = y.mean()\r\n",
        "\r\n",
        "theta1 = np.sum((x-xbar)*(y-ybar))/np.sum((x-xbar)**2)\r\n",
        "theta0 = ybar - theta1 * xbar\r\n",
        "\r\n",
        "print(theta1, theta0)"
      ],
      "outputs": [
        {
          "output_type": "stream",
          "name": "stdout",
          "text": [
            "0.6330937666628673 58.255916588003544\n"
          ]
        }
      ],
      "metadata": {
        "colab": {
          "base_uri": "https://localhost:8080/"
        },
        "id": "C68HtBFAgHOF",
        "outputId": "6d021a3c-cb27-447a-9b87-aad5db0bf6a5"
      }
    },
    {
      "cell_type": "code",
      "execution_count": 77,
      "source": [
        "df[\"Predictions\"] = model.predict(df[\"MidParents\"].values.reshape(-1,1))\r\n",
        "\r\n",
        "plt.figure(figsize = (15,10))\r\n",
        "sns.scatterplot(\"MidParents\", \"Height\", data=df, hue = \"Gender\")\r\n",
        "sns.scatterplot(\"MidParents\", \"Predictions\", data=df, color = \"red\", marker = \"X\", legend = None)"
      ],
      "outputs": [
        {
          "output_type": "stream",
          "name": "stderr",
          "text": [
            "C:\\Users\\phile\\anaconda3\\lib\\site-packages\\seaborn\\_decorators.py:36: FutureWarning: Pass the following variables as keyword args: x, y. From version 0.12, the only valid positional argument will be `data`, and passing other arguments without an explicit keyword will result in an error or misinterpretation.\n",
            "  warnings.warn(\n",
            "C:\\Users\\phile\\anaconda3\\lib\\site-packages\\seaborn\\_decorators.py:36: FutureWarning: Pass the following variables as keyword args: x, y. From version 0.12, the only valid positional argument will be `data`, and passing other arguments without an explicit keyword will result in an error or misinterpretation.\n",
            "  warnings.warn(\n"
          ]
        },
        {
          "output_type": "execute_result",
          "data": {
            "text/plain": [
              "<AxesSubplot:xlabel='MidParents', ylabel='Height'>"
            ]
          },
          "metadata": {},
          "execution_count": 77
        },
        {
          "output_type": "display_data",
          "data": {
            "image/png": "[encoded data removed]",
            "text/plain": [
              "<Figure size 1080x720 with 1 Axes>"
            ]
          },
          "metadata": {
            "needs_background": "light"
          }
        }
      ],
      "metadata": {
        "colab": {
          "base_uri": "https://localhost:8080/",
          "height": 710
        },
        "id": "EjNkHAwMhlDB",
        "outputId": "acca37bd-e7c6-4695-c2ea-98effec6dd56"
      }
    },
    {
      "cell_type": "code",
      "execution_count": 97,
      "source": [
        "import scipy.stats\r\n",
        "\r\n",
        "x = np.linspace(min(df[\"Residuals\"]),max(df[\"Residuals\"]),200)\r\n",
        "\r\n",
        "df[\"Residuals\"] = df[\"Height\"] - df[\"Predictions\"]\r\n",
        "plt.figure(figsize = (15,10))\r\n",
        "sns.lineplot(x=x,y=scipy.stats.gaussian_kde(df[\"Residuals\"])(x), color=\"orange\")\r\n",
        "sns.lineplot(x=x,y=scipy.stats.gaussian_kde(df[\"Residuals\"][df[\"Gender\"]==\"M\"])(x)*sum(df[\"Gender\"]==\"M\")/len(df), color=\"blue\")\r\n",
        "sns.lineplot(x=x,y=scipy.stats.gaussian_kde(df[\"Residuals\"][df[\"Gender\"]==\"F\"])(x)*sum(df[\"Gender\"]==\"F\")/len(df), color=\"pink\")"
      ],
      "outputs": [
        {
          "output_type": "execute_result",
          "data": {
            "text/plain": [
              "<AxesSubplot:>"
            ]
          },
          "metadata": {},
          "execution_count": 97
        },
        {
          "output_type": "display_data",
          "data": {
            "image/png": "[encoded data removed]",
            "text/plain": [
              "<Figure size 1080x720 with 1 Axes>"
            ]
          },
          "metadata": {
            "needs_background": "light"
          }
        }
      ],
      "metadata": {
        "id": "Nlw_3Jku069K"
      }
    },
    {
      "cell_type": "code",
      "execution_count": 63,
      "source": [
        "import ssl\r\n",
        "ssl._create_default_https_context = ssl._create_unverified_context\r\n",
        "\r\n",
        "df = pd.read_csv(\"https://perso.telecom-paristech.fr/sabourin/mdi720/household_power_consumption.txt\", sep = \";\", na_values=\"?\")\r\n",
        "df.head()"
      ],
      "outputs": [
        {
          "output_type": "execute_result",
          "data": {
            "text/html": [
              "<div>\n",
              "<style scoped>\n",
              "    .dataframe tbody tr th:only-of-type {\n",
              "        vertical-align: middle;\n",
              "    }\n",
              "\n",
              "    .dataframe tbody tr th {\n",
              "        vertical-align: top;\n",
              "    }\n",
              "\n",
              "    .dataframe thead th {\n",
              "        text-align: right;\n",
              "    }\n",
              "</style>\n",
              "<table border=\"1\" class=\"dataframe\">\n",
              "  <thead>\n",
              "    <tr style=\"text-align: right;\">\n",
              "      <th></th>\n",
              "      <th>Date</th>\n",
              "      <th>Time</th>\n",
              "      <th>Global_active_power</th>\n",
              "      <th>Global_reactive_power</th>\n",
              "      <th>Voltage</th>\n",
              "      <th>Global_intensity</th>\n",
              "      <th>Sub_metering_1</th>\n",
              "      <th>Sub_metering_2</th>\n",
              "      <th>Sub_metering_3</th>\n",
              "    </tr>\n",
              "  </thead>\n",
              "  <tbody>\n",
              "    <tr>\n",
              "      <th>0</th>\n",
              "      <td>16/12/2006</td>\n",
              "      <td>17:24:00</td>\n",
              "      <td>4.216</td>\n",
              "      <td>0.418</td>\n",
              "      <td>234.84</td>\n",
              "      <td>18.4</td>\n",
              "      <td>0.0</td>\n",
              "      <td>1.0</td>\n",
              "      <td>17.0</td>\n",
              "    </tr>\n",
              "    <tr>\n",
              "      <th>1</th>\n",
              "      <td>16/12/2006</td>\n",
              "      <td>17:25:00</td>\n",
              "      <td>5.360</td>\n",
              "      <td>0.436</td>\n",
              "      <td>233.63</td>\n",
              "      <td>23.0</td>\n",
              "      <td>0.0</td>\n",
              "      <td>1.0</td>\n",
              "      <td>16.0</td>\n",
              "    </tr>\n",
              "    <tr>\n",
              "      <th>2</th>\n",
              "      <td>16/12/2006</td>\n",
              "      <td>17:26:00</td>\n",
              "      <td>5.374</td>\n",
              "      <td>0.498</td>\n",
              "      <td>233.29</td>\n",
              "      <td>23.0</td>\n",
              "      <td>0.0</td>\n",
              "      <td>2.0</td>\n",
              "      <td>17.0</td>\n",
              "    </tr>\n",
              "    <tr>\n",
              "      <th>3</th>\n",
              "      <td>16/12/2006</td>\n",
              "      <td>17:27:00</td>\n",
              "      <td>5.388</td>\n",
              "      <td>0.502</td>\n",
              "      <td>233.74</td>\n",
              "      <td>23.0</td>\n",
              "      <td>0.0</td>\n",
              "      <td>1.0</td>\n",
              "      <td>17.0</td>\n",
              "    </tr>\n",
              "    <tr>\n",
              "      <th>4</th>\n",
              "      <td>16/12/2006</td>\n",
              "      <td>17:28:00</td>\n",
              "      <td>3.666</td>\n",
              "      <td>0.528</td>\n",
              "      <td>235.68</td>\n",
              "      <td>15.8</td>\n",
              "      <td>0.0</td>\n",
              "      <td>1.0</td>\n",
              "      <td>17.0</td>\n",
              "    </tr>\n",
              "  </tbody>\n",
              "</table>\n",
              "</div>"
            ],
            "text/plain": [
              "         Date      Time  Global_active_power  Global_reactive_power  Voltage  \\\n",
              "0  16/12/2006  17:24:00                4.216                  0.418   234.84   \n",
              "1  16/12/2006  17:25:00                5.360                  0.436   233.63   \n",
              "2  16/12/2006  17:26:00                5.374                  0.498   233.29   \n",
              "3  16/12/2006  17:27:00                5.388                  0.502   233.74   \n",
              "4  16/12/2006  17:28:00                3.666                  0.528   235.68   \n",
              "\n",
              "   Global_intensity  Sub_metering_1  Sub_metering_2  Sub_metering_3  \n",
              "0              18.4             0.0             1.0            17.0  \n",
              "1              23.0             0.0             1.0            16.0  \n",
              "2              23.0             0.0             2.0            17.0  \n",
              "3              23.0             0.0             1.0            17.0  \n",
              "4              15.8             0.0             1.0            17.0  "
            ]
          },
          "metadata": {},
          "execution_count": 63
        }
      ],
      "metadata": {
        "id": "OAvjcuVRiggo",
        "colab": {
          "base_uri": "https://localhost:8080/",
          "height": 237
        },
        "outputId": "592e66fe-21d7-4ac5-8952-01ab07e8822e"
      }
    },
    {
      "cell_type": "code",
      "execution_count": 64,
      "source": [
        "df = df[[\"Date\", \"Global_active_power\", \"Sub_metering_1\"]]\r\n",
        "df.isna().sum()"
      ],
      "outputs": [
        {
          "output_type": "execute_result",
          "data": {
            "text/plain": [
              "Date                       0\n",
              "Global_active_power    25979\n",
              "Sub_metering_1         25979\n",
              "dtype: int64"
            ]
          },
          "metadata": {},
          "execution_count": 64
        }
      ],
      "metadata": {
        "colab": {
          "base_uri": "https://localhost:8080/"
        },
        "id": "Q0DjMp3kuFfR",
        "outputId": "33a19275-2a56-4058-a5f3-5a8ff14a90b9"
      }
    },
    {
      "cell_type": "code",
      "execution_count": 65,
      "source": [
        "df[\"Global_active_power\"] = df[\"Global_active_power\"].astype(float)"
      ],
      "outputs": [],
      "metadata": {
        "id": "Amv9Xl4GvMUK"
      }
    },
    {
      "cell_type": "code",
      "execution_count": 66,
      "source": [
        "df[\"Sub_metering_1\"] = df[\"Sub_metering_1\"].astype(float) * 0.06\r\n",
        "df.head()"
      ],
      "outputs": [
        {
          "output_type": "execute_result",
          "data": {
            "text/html": [
              "<div>\n",
              "<style scoped>\n",
              "    .dataframe tbody tr th:only-of-type {\n",
              "        vertical-align: middle;\n",
              "    }\n",
              "\n",
              "    .dataframe tbody tr th {\n",
              "        vertical-align: top;\n",
              "    }\n",
              "\n",
              "    .dataframe thead th {\n",
              "        text-align: right;\n",
              "    }\n",
              "</style>\n",
              "<table border=\"1\" class=\"dataframe\">\n",
              "  <thead>\n",
              "    <tr style=\"text-align: right;\">\n",
              "      <th></th>\n",
              "      <th>Date</th>\n",
              "      <th>Global_active_power</th>\n",
              "      <th>Sub_metering_1</th>\n",
              "    </tr>\n",
              "  </thead>\n",
              "  <tbody>\n",
              "    <tr>\n",
              "      <th>0</th>\n",
              "      <td>16/12/2006</td>\n",
              "      <td>4.216</td>\n",
              "      <td>0.0</td>\n",
              "    </tr>\n",
              "    <tr>\n",
              "      <th>1</th>\n",
              "      <td>16/12/2006</td>\n",
              "      <td>5.360</td>\n",
              "      <td>0.0</td>\n",
              "    </tr>\n",
              "    <tr>\n",
              "      <th>2</th>\n",
              "      <td>16/12/2006</td>\n",
              "      <td>5.374</td>\n",
              "      <td>0.0</td>\n",
              "    </tr>\n",
              "    <tr>\n",
              "      <th>3</th>\n",
              "      <td>16/12/2006</td>\n",
              "      <td>5.388</td>\n",
              "      <td>0.0</td>\n",
              "    </tr>\n",
              "    <tr>\n",
              "      <th>4</th>\n",
              "      <td>16/12/2006</td>\n",
              "      <td>3.666</td>\n",
              "      <td>0.0</td>\n",
              "    </tr>\n",
              "  </tbody>\n",
              "</table>\n",
              "</div>"
            ],
            "text/plain": [
              "         Date  Global_active_power  Sub_metering_1\n",
              "0  16/12/2006                4.216             0.0\n",
              "1  16/12/2006                5.360             0.0\n",
              "2  16/12/2006                5.374             0.0\n",
              "3  16/12/2006                5.388             0.0\n",
              "4  16/12/2006                3.666             0.0"
            ]
          },
          "metadata": {},
          "execution_count": 66
        }
      ],
      "metadata": {
        "colab": {
          "base_uri": "https://localhost:8080/",
          "height": 203
        },
        "id": "hTuZKScruflD",
        "outputId": "04aa4c52-f917-4be0-c66a-2efe53f65638"
      }
    },
    {
      "cell_type": "code",
      "execution_count": 67,
      "source": [
        "df[\"Date\"] = pd.to_datetime(df[\"Date\"])\r\n",
        "df_mean = df.groupby(\"Date\").mean()\r\n",
        "df_mean"
      ],
      "outputs": [
        {
          "output_type": "execute_result",
          "data": {
            "text/html": [
              "<div>\n",
              "<style scoped>\n",
              "    .dataframe tbody tr th:only-of-type {\n",
              "        vertical-align: middle;\n",
              "    }\n",
              "\n",
              "    .dataframe tbody tr th {\n",
              "        vertical-align: top;\n",
              "    }\n",
              "\n",
              "    .dataframe thead th {\n",
              "        text-align: right;\n",
              "    }\n",
              "</style>\n",
              "<table border=\"1\" class=\"dataframe\">\n",
              "  <thead>\n",
              "    <tr style=\"text-align: right;\">\n",
              "      <th></th>\n",
              "      <th>Global_active_power</th>\n",
              "      <th>Sub_metering_1</th>\n",
              "    </tr>\n",
              "    <tr>\n",
              "      <th>Date</th>\n",
              "      <th></th>\n",
              "      <th></th>\n",
              "    </tr>\n",
              "  </thead>\n",
              "  <tbody>\n",
              "    <tr>\n",
              "      <th>2006-12-16</th>\n",
              "      <td>3.053475</td>\n",
              "      <td>0.000000</td>\n",
              "    </tr>\n",
              "    <tr>\n",
              "      <th>2006-12-17</th>\n",
              "      <td>2.354486</td>\n",
              "      <td>0.084708</td>\n",
              "    </tr>\n",
              "    <tr>\n",
              "      <th>2006-12-18</th>\n",
              "      <td>1.530435</td>\n",
              "      <td>0.044292</td>\n",
              "    </tr>\n",
              "    <tr>\n",
              "      <th>2006-12-19</th>\n",
              "      <td>1.157079</td>\n",
              "      <td>0.034958</td>\n",
              "    </tr>\n",
              "    <tr>\n",
              "      <th>2006-12-20</th>\n",
              "      <td>1.545658</td>\n",
              "      <td>0.000000</td>\n",
              "    </tr>\n",
              "    <tr>\n",
              "      <th>...</th>\n",
              "      <td>...</td>\n",
              "      <td>...</td>\n",
              "    </tr>\n",
              "    <tr>\n",
              "      <th>2010-12-07</th>\n",
              "      <td>0.770538</td>\n",
              "      <td>0.071833</td>\n",
              "    </tr>\n",
              "    <tr>\n",
              "      <th>2010-12-08</th>\n",
              "      <td>0.367846</td>\n",
              "      <td>0.000000</td>\n",
              "    </tr>\n",
              "    <tr>\n",
              "      <th>2010-12-09</th>\n",
              "      <td>1.119508</td>\n",
              "      <td>0.075208</td>\n",
              "    </tr>\n",
              "    <tr>\n",
              "      <th>2010-12-10</th>\n",
              "      <td>1.097008</td>\n",
              "      <td>0.046000</td>\n",
              "    </tr>\n",
              "    <tr>\n",
              "      <th>2010-12-11</th>\n",
              "      <td>1.275571</td>\n",
              "      <td>0.085583</td>\n",
              "    </tr>\n",
              "  </tbody>\n",
              "</table>\n",
              "<p>1442 rows × 2 columns</p>\n",
              "</div>"
            ],
            "text/plain": [
              "            Global_active_power  Sub_metering_1\n",
              "Date                                           \n",
              "2006-12-16             3.053475        0.000000\n",
              "2006-12-17             2.354486        0.084708\n",
              "2006-12-18             1.530435        0.044292\n",
              "2006-12-19             1.157079        0.034958\n",
              "2006-12-20             1.545658        0.000000\n",
              "...                         ...             ...\n",
              "2010-12-07             0.770538        0.071833\n",
              "2010-12-08             0.367846        0.000000\n",
              "2010-12-09             1.119508        0.075208\n",
              "2010-12-10             1.097008        0.046000\n",
              "2010-12-11             1.275571        0.085583\n",
              "\n",
              "[1442 rows x 2 columns]"
            ]
          },
          "metadata": {},
          "execution_count": 67
        }
      ],
      "metadata": {
        "colab": {
          "base_uri": "https://localhost:8080/",
          "height": 447
        },
        "id": "UTNHJMcfvC8d",
        "outputId": "fddd4b9a-69fe-43df-e815-a77516709e47"
      }
    },
    {
      "cell_type": "code",
      "execution_count": 30,
      "source": [
        "df_mean_r = df_mean[(df_mean.index < \"04-30-2007\") & (df_mean.index > \"01-01-2007\")]\r\n",
        "\r\n",
        "plt.figure(figsize = (15,10))\r\n",
        "sns.scatterplot(df_mean_r.index, df_mean_r[\"Global_active_power\"])"
      ],
      "outputs": [
        {
          "output_type": "stream",
          "name": "stderr",
          "text": [
            "C:\\Users\\phile\\anaconda3\\lib\\site-packages\\seaborn\\_decorators.py:36: FutureWarning: Pass the following variables as keyword args: x, y. From version 0.12, the only valid positional argument will be `data`, and passing other arguments without an explicit keyword will result in an error or misinterpretation.\n",
            "  warnings.warn(\n"
          ]
        },
        {
          "output_type": "execute_result",
          "data": {
            "text/plain": [
              "<AxesSubplot:xlabel='Date', ylabel='Global_active_power'>"
            ]
          },
          "metadata": {},
          "execution_count": 30
        },
        {
          "output_type": "display_data",
          "data": {
            "image/png": "[encoded data removed]",
            "text/plain": [
              "<Figure size 1080x720 with 1 Axes>"
            ]
          },
          "metadata": {
            "needs_background": "light"
          }
        }
      ],
      "metadata": {
        "colab": {
          "base_uri": "https://localhost:8080/",
          "height": 677
        },
        "id": "2Nq5MB30wVru",
        "outputId": "1989d7bb-af59-4b60-b6f2-9d445aae1da0"
      }
    },
    {
      "cell_type": "code",
      "execution_count": 31,
      "source": [
        "df_temp = pd.read_csv(\"https://perso.telecom-paristech.fr/sabourin/mdi720/TG_STAID011249.txt\", comment = \"#\")\r\n",
        "df_temp.columns = df_temp.columns.str.strip()\r\n",
        "df_temp = df_temp[[\"DATE\",\"TG\"]]\r\n",
        "df_temp.head()"
      ],
      "outputs": [
        {
          "output_type": "execute_result",
          "data": {
            "text/html": [
              "<div>\n",
              "<style scoped>\n",
              "    .dataframe tbody tr th:only-of-type {\n",
              "        vertical-align: middle;\n",
              "    }\n",
              "\n",
              "    .dataframe tbody tr th {\n",
              "        vertical-align: top;\n",
              "    }\n",
              "\n",
              "    .dataframe thead th {\n",
              "        text-align: right;\n",
              "    }\n",
              "</style>\n",
              "<table border=\"1\" class=\"dataframe\">\n",
              "  <thead>\n",
              "    <tr style=\"text-align: right;\">\n",
              "      <th></th>\n",
              "      <th>DATE</th>\n",
              "      <th>TG</th>\n",
              "    </tr>\n",
              "  </thead>\n",
              "  <tbody>\n",
              "    <tr>\n",
              "      <th>0</th>\n",
              "      <td>19210301</td>\n",
              "      <td>50</td>\n",
              "    </tr>\n",
              "    <tr>\n",
              "      <th>1</th>\n",
              "      <td>19210302</td>\n",
              "      <td>46</td>\n",
              "    </tr>\n",
              "    <tr>\n",
              "      <th>2</th>\n",
              "      <td>19210303</td>\n",
              "      <td>46</td>\n",
              "    </tr>\n",
              "    <tr>\n",
              "      <th>3</th>\n",
              "      <td>19210304</td>\n",
              "      <td>31</td>\n",
              "    </tr>\n",
              "    <tr>\n",
              "      <th>4</th>\n",
              "      <td>19210305</td>\n",
              "      <td>95</td>\n",
              "    </tr>\n",
              "  </tbody>\n",
              "</table>\n",
              "</div>"
            ],
            "text/plain": [
              "       DATE  TG\n",
              "0  19210301  50\n",
              "1  19210302  46\n",
              "2  19210303  46\n",
              "3  19210304  31\n",
              "4  19210305  95"
            ]
          },
          "metadata": {},
          "execution_count": 31
        }
      ],
      "metadata": {
        "colab": {
          "base_uri": "https://localhost:8080/",
          "height": 203
        },
        "id": "WH6XDjHqw3jZ",
        "outputId": "301e08cf-ec49-4ba6-eed1-709dabe329f9"
      }
    },
    {
      "cell_type": "code",
      "execution_count": 32,
      "source": [
        "df_temp[\"TG\"] = df_temp[\"TG\"]/10"
      ],
      "outputs": [],
      "metadata": {
        "id": "qsCxdxPBxbyZ"
      }
    },
    {
      "cell_type": "code",
      "execution_count": 33,
      "source": [
        "df_temp[\"DATE\"] = pd.to_datetime(df_temp[\"DATE\"], format=\"%Y%m%d\")\r\n",
        "df_temp.head()"
      ],
      "outputs": [
        {
          "output_type": "execute_result",
          "data": {
            "text/html": [
              "<div>\n",
              "<style scoped>\n",
              "    .dataframe tbody tr th:only-of-type {\n",
              "        vertical-align: middle;\n",
              "    }\n",
              "\n",
              "    .dataframe tbody tr th {\n",
              "        vertical-align: top;\n",
              "    }\n",
              "\n",
              "    .dataframe thead th {\n",
              "        text-align: right;\n",
              "    }\n",
              "</style>\n",
              "<table border=\"1\" class=\"dataframe\">\n",
              "  <thead>\n",
              "    <tr style=\"text-align: right;\">\n",
              "      <th></th>\n",
              "      <th>DATE</th>\n",
              "      <th>TG</th>\n",
              "    </tr>\n",
              "  </thead>\n",
              "  <tbody>\n",
              "    <tr>\n",
              "      <th>0</th>\n",
              "      <td>1921-03-01</td>\n",
              "      <td>5.0</td>\n",
              "    </tr>\n",
              "    <tr>\n",
              "      <th>1</th>\n",
              "      <td>1921-03-02</td>\n",
              "      <td>4.6</td>\n",
              "    </tr>\n",
              "    <tr>\n",
              "      <th>2</th>\n",
              "      <td>1921-03-03</td>\n",
              "      <td>4.6</td>\n",
              "    </tr>\n",
              "    <tr>\n",
              "      <th>3</th>\n",
              "      <td>1921-03-04</td>\n",
              "      <td>3.1</td>\n",
              "    </tr>\n",
              "    <tr>\n",
              "      <th>4</th>\n",
              "      <td>1921-03-05</td>\n",
              "      <td>9.5</td>\n",
              "    </tr>\n",
              "  </tbody>\n",
              "</table>\n",
              "</div>"
            ],
            "text/plain": [
              "        DATE   TG\n",
              "0 1921-03-01  5.0\n",
              "1 1921-03-02  4.6\n",
              "2 1921-03-03  4.6\n",
              "3 1921-03-04  3.1\n",
              "4 1921-03-05  9.5"
            ]
          },
          "metadata": {},
          "execution_count": 33
        }
      ],
      "metadata": {
        "colab": {
          "base_uri": "https://localhost:8080/",
          "height": 203
        },
        "id": "n0qMidS9yiA6",
        "outputId": "5a47aaa5-092e-437c-80c7-770ef716640e"
      }
    },
    {
      "cell_type": "code",
      "execution_count": 34,
      "source": [
        "df_temp_r = df_temp[(df_temp[\"DATE\"] < \"04-30-2007\") & (df_temp[\"DATE\"] > \"01-01-2007\")]\r\n",
        "\r\n",
        "plt.figure(figsize = (15,10))\r\n",
        "sns.scatterplot(df_mean_r.index, df_mean_r[\"Global_active_power\"])\r\n",
        "sns.scatterplot(df_temp_r[\"DATE\"], df_temp_r[\"TG\"])"
      ],
      "outputs": [
        {
          "output_type": "stream",
          "name": "stderr",
          "text": [
            "C:\\Users\\phile\\anaconda3\\lib\\site-packages\\seaborn\\_decorators.py:36: FutureWarning: Pass the following variables as keyword args: x, y. From version 0.12, the only valid positional argument will be `data`, and passing other arguments without an explicit keyword will result in an error or misinterpretation.\n",
            "  warnings.warn(\n",
            "C:\\Users\\phile\\anaconda3\\lib\\site-packages\\seaborn\\_decorators.py:36: FutureWarning: Pass the following variables as keyword args: x, y. From version 0.12, the only valid positional argument will be `data`, and passing other arguments without an explicit keyword will result in an error or misinterpretation.\n",
            "  warnings.warn(\n"
          ]
        },
        {
          "output_type": "execute_result",
          "data": {
            "text/plain": [
              "<AxesSubplot:xlabel='Date', ylabel='Global_active_power'>"
            ]
          },
          "metadata": {},
          "execution_count": 34
        },
        {
          "output_type": "display_data",
          "data": {
            "image/png": "[encoded data removed]",
            "text/plain": [
              "<Figure size 1080x720 with 1 Axes>"
            ]
          },
          "metadata": {
            "needs_background": "light"
          }
        }
      ],
      "metadata": {
        "colab": {
          "base_uri": "https://localhost:8080/",
          "height": 710
        },
        "id": "CvqOOiXsy-v3",
        "outputId": "18680c82-471d-442e-89c9-afc9922ce825"
      }
    },
    {
      "cell_type": "code",
      "execution_count": null,
      "source": [],
      "outputs": [],
      "metadata": {
        "id": "u--K3QHt0sl-"
      }
    }
  ]
}