{
 "cells": [
  {
   "cell_type": "markdown",
   "id": "76f77bfc",
   "metadata": {
    "id": "76f77bfc"
   },
   "source": [
    "# Projet d'économétrie\n",
    "### MS BGD - 2022\n",
    "#### Gwladys SANCHEZ et Philéas SAMIR"
   ]
  },
  {
   "cell_type": "markdown",
   "id": "2346fd3e",
   "metadata": {
    "id": "2346fd3e"
   },
   "source": [
    "## Partie 1 - Régression linéaire"
   ]
  },
  {
   "cell_type": "markdown",
   "id": "56198047",
   "metadata": {
    "id": "56198047"
   },
   "source": [
    "### Imports"
   ]
  },
  {
   "cell_type": "code",
   "execution_count": 1,
   "id": "0894fe3e",
   "metadata": {
    "id": "0894fe3e"
   },
   "outputs": [],
   "source": [
    "import pandas as pd\n",
    "import statsmodels.api as sm\n",
    "import numpy as np\n",
    "import matplotlib.pyplot as plt\n",
    "\n",
    "from scipy.stats import f, t"
   ]
  },
  {
   "cell_type": "markdown",
   "id": "91922cdb",
   "metadata": {
    "id": "91922cdb"
   },
   "source": [
    "### Question 1 - Lire le fichier mroz.raw. Ne sélectionner que les observations pour lesquelles la variable wage est strictement positive."
   ]
  },
  {
   "cell_type": "code",
   "execution_count": 2,
   "id": "c0a22ada",
   "metadata": {
    "id": "9a020d4b",
    "outputId": "971a72d0-223e-42a7-ea58-8c3b39c43543"
   },
   "outputs": [
    {
     "data": {
      "text/html": [
       "<div>\n",
       "<style scoped>\n",
       "    .dataframe tbody tr th:only-of-type {\n",
       "        vertical-align: middle;\n",
       "    }\n",
       "\n",
       "    .dataframe tbody tr th {\n",
       "        vertical-align: top;\n",
       "    }\n",
       "\n",
       "    .dataframe thead th {\n",
       "        text-align: right;\n",
       "    }\n",
       "</style>\n",
       "<table border=\"1\" class=\"dataframe\">\n",
       "  <thead>\n",
       "    <tr style=\"text-align: right;\">\n",
       "      <th></th>\n",
       "      <th>inlf</th>\n",
       "      <th>hours</th>\n",
       "      <th>kidslt6</th>\n",
       "      <th>kidsge6</th>\n",
       "      <th>age</th>\n",
       "      <th>educ</th>\n",
       "      <th>wage</th>\n",
       "      <th>repwage</th>\n",
       "      <th>hushrs</th>\n",
       "      <th>husage</th>\n",
       "      <th>...</th>\n",
       "      <th>faminc</th>\n",
       "      <th>mtr</th>\n",
       "      <th>motheduc</th>\n",
       "      <th>fatheduc</th>\n",
       "      <th>unem</th>\n",
       "      <th>city</th>\n",
       "      <th>exper</th>\n",
       "      <th>nwifeinc</th>\n",
       "      <th>lwage</th>\n",
       "      <th>expersq</th>\n",
       "    </tr>\n",
       "  </thead>\n",
       "  <tbody>\n",
       "    <tr>\n",
       "      <th>0</th>\n",
       "      <td>1</td>\n",
       "      <td>1610</td>\n",
       "      <td>1</td>\n",
       "      <td>0</td>\n",
       "      <td>32</td>\n",
       "      <td>12</td>\n",
       "      <td>3.3540</td>\n",
       "      <td>2.65</td>\n",
       "      <td>2708</td>\n",
       "      <td>34</td>\n",
       "      <td>...</td>\n",
       "      <td>16310</td>\n",
       "      <td>0.7215</td>\n",
       "      <td>12</td>\n",
       "      <td>7</td>\n",
       "      <td>5.0</td>\n",
       "      <td>0</td>\n",
       "      <td>14</td>\n",
       "      <td>10.910060</td>\n",
       "      <td>1.210154</td>\n",
       "      <td>196</td>\n",
       "    </tr>\n",
       "    <tr>\n",
       "      <th>1</th>\n",
       "      <td>1</td>\n",
       "      <td>1656</td>\n",
       "      <td>0</td>\n",
       "      <td>2</td>\n",
       "      <td>30</td>\n",
       "      <td>12</td>\n",
       "      <td>1.3889</td>\n",
       "      <td>2.65</td>\n",
       "      <td>2310</td>\n",
       "      <td>30</td>\n",
       "      <td>...</td>\n",
       "      <td>21800</td>\n",
       "      <td>0.6615</td>\n",
       "      <td>7</td>\n",
       "      <td>7</td>\n",
       "      <td>11.0</td>\n",
       "      <td>1</td>\n",
       "      <td>5</td>\n",
       "      <td>19.499980</td>\n",
       "      <td>.3285121</td>\n",
       "      <td>25</td>\n",
       "    </tr>\n",
       "    <tr>\n",
       "      <th>2</th>\n",
       "      <td>1</td>\n",
       "      <td>1980</td>\n",
       "      <td>1</td>\n",
       "      <td>3</td>\n",
       "      <td>35</td>\n",
       "      <td>12</td>\n",
       "      <td>4.5455</td>\n",
       "      <td>4.04</td>\n",
       "      <td>3072</td>\n",
       "      <td>40</td>\n",
       "      <td>...</td>\n",
       "      <td>21040</td>\n",
       "      <td>0.6915</td>\n",
       "      <td>12</td>\n",
       "      <td>7</td>\n",
       "      <td>5.0</td>\n",
       "      <td>0</td>\n",
       "      <td>15</td>\n",
       "      <td>12.039910</td>\n",
       "      <td>1.514138</td>\n",
       "      <td>225</td>\n",
       "    </tr>\n",
       "    <tr>\n",
       "      <th>3</th>\n",
       "      <td>1</td>\n",
       "      <td>456</td>\n",
       "      <td>0</td>\n",
       "      <td>3</td>\n",
       "      <td>34</td>\n",
       "      <td>12</td>\n",
       "      <td>1.0965</td>\n",
       "      <td>3.25</td>\n",
       "      <td>1920</td>\n",
       "      <td>53</td>\n",
       "      <td>...</td>\n",
       "      <td>7300</td>\n",
       "      <td>0.7815</td>\n",
       "      <td>7</td>\n",
       "      <td>7</td>\n",
       "      <td>5.0</td>\n",
       "      <td>0</td>\n",
       "      <td>6</td>\n",
       "      <td>6.799996</td>\n",
       "      <td>.0921233</td>\n",
       "      <td>36</td>\n",
       "    </tr>\n",
       "    <tr>\n",
       "      <th>4</th>\n",
       "      <td>1</td>\n",
       "      <td>1568</td>\n",
       "      <td>1</td>\n",
       "      <td>2</td>\n",
       "      <td>31</td>\n",
       "      <td>14</td>\n",
       "      <td>4.5918</td>\n",
       "      <td>3.60</td>\n",
       "      <td>2000</td>\n",
       "      <td>32</td>\n",
       "      <td>...</td>\n",
       "      <td>27300</td>\n",
       "      <td>0.6215</td>\n",
       "      <td>12</td>\n",
       "      <td>14</td>\n",
       "      <td>9.5</td>\n",
       "      <td>1</td>\n",
       "      <td>7</td>\n",
       "      <td>20.100060</td>\n",
       "      <td>1.524272</td>\n",
       "      <td>49</td>\n",
       "    </tr>\n",
       "  </tbody>\n",
       "</table>\n",
       "<p>5 rows × 22 columns</p>\n",
       "</div>"
      ],
      "text/plain": [
       "   inlf  hours  kidslt6  kidsge6  age  educ    wage  repwage  hushrs  husage  \\\n",
       "0     1   1610        1        0   32    12  3.3540     2.65    2708      34   \n",
       "1     1   1656        0        2   30    12  1.3889     2.65    2310      30   \n",
       "2     1   1980        1        3   35    12  4.5455     4.04    3072      40   \n",
       "3     1    456        0        3   34    12  1.0965     3.25    1920      53   \n",
       "4     1   1568        1        2   31    14  4.5918     3.60    2000      32   \n",
       "\n",
       "   ...  faminc     mtr  motheduc  fatheduc  unem  city  exper   nwifeinc  \\\n",
       "0  ...   16310  0.7215        12         7   5.0     0     14  10.910060   \n",
       "1  ...   21800  0.6615         7         7  11.0     1      5  19.499980   \n",
       "2  ...   21040  0.6915        12         7   5.0     0     15  12.039910   \n",
       "3  ...    7300  0.7815         7         7   5.0     0      6   6.799996   \n",
       "4  ...   27300  0.6215        12        14   9.5     1      7  20.100060   \n",
       "\n",
       "      lwage  expersq  \n",
       "0  1.210154      196  \n",
       "1  .3285121       25  \n",
       "2  1.514138      225  \n",
       "3  .0921233       36  \n",
       "4  1.524272       49  \n",
       "\n",
       "[5 rows x 22 columns]"
      ]
     },
     "execution_count": 2,
     "metadata": {},
     "output_type": "execute_result"
    }
   ],
   "source": [
    "# On charge les données\n",
    "df = pd.read_csv(\"MROZ.raw\", delim_whitespace=True, header=None)\n",
    "\n",
    "# On renomme les colonnes\n",
    "df.columns = [\"inlf\",\"hours\",\"kidslt6\",\"kidsge6\",\"age\",\"educ\",\"wage\",\"repwage\",\n",
    "              \"hushrs\",\"husage\",\"huseduc\",\"huswage\",\"faminc\",\"mtr\",\"motheduc\",\n",
    "              \"fatheduc\",\"unem\",\"city\",\"exper\",\"nwifeinc\",\"lwage\",\"expersq\"]\n",
    "\n",
    "# On filtre les lignes avec un salaire inférieur ou égal à 0\n",
    "    # On remplace les données manquantes \".\" par 0, on transforme les strings en floats\n",
    "df[\"wage\"] = df[\"wage\"].replace(\".\",0).astype(float) \n",
    "    # On filtre le dataset\n",
    "df = df[df[\"wage\"]>0] \n",
    "\n",
    "# On affiche les 5 premières lignes du dataset\n",
    "df.head()"
   ]
  },
  {
   "cell_type": "markdown",
   "id": "b3d6da35",
   "metadata": {
    "id": "b3d6da35"
   },
   "source": [
    "### Question 2 - Faire les statistiques descriptives du salaire, de l’age et de l’éducation pour l’ensemble des femmes puis, pour les femmes dont le salaire du mari est supérieur au 65ème percentile de l’échantillon, puis pour les femmes dont le salaire du mari est inférieur au 65ème percentile de l’échantillon. Commenter."
   ]
  },
  {
   "cell_type": "code",
   "execution_count": 3,
   "id": "58222491",
   "metadata": {
    "id": "58222491",
    "outputId": "b998b311-4865-4b96-d37f-706f4987d709"
   },
   "outputs": [
    {
     "name": "stdout",
     "output_type": "stream",
     "text": [
      "Pour l'ensemble des femmes :\n",
      "\n",
      "___* SALAIRE *___\n",
      "Moyenne : 4.1776815420560744\n",
      "Écart-type : 3.3064129736891403\n",
      "Min : 0.1282\n",
      "Max : 25.0\n",
      "\n",
      "___* AGE *___\n",
      "Moyenne : 41.97196261682243\n",
      "Écart-type : 7.7120587017451605\n",
      "Min : 30\n",
      "Max : 60\n",
      "\n",
      "___* EDUCATION *___\n",
      "Moyenne : 12.658878504672897\n",
      "Écart-type : 2.2827043017360173\n",
      "Min : 5\n",
      "Max : 17\n"
     ]
    }
   ],
   "source": [
    "# On utilise les fonctions fournies par numpy pour calculer les statistiques\n",
    "print(\"Pour l'ensemble des femmes :\")\n",
    "print()\n",
    "print(\"___* SALAIRE *___\")\n",
    "print(\"Moyenne :\", np.mean(df[\"wage\"]))\n",
    "print(\"Écart-type :\", np.std(df[\"wage\"]))\n",
    "print(\"Min :\", np.min(df[\"wage\"]))\n",
    "print(\"Max :\", np.max(df[\"wage\"]))\n",
    "print()\n",
    "print(\"___* AGE *___\")\n",
    "print(\"Moyenne :\", np.mean(df[\"age\"]))\n",
    "print(\"Écart-type :\", np.std(df[\"age\"]))\n",
    "print(\"Min :\", np.min(df[\"age\"]))\n",
    "print(\"Max :\", np.max(df[\"age\"]))\n",
    "print()\n",
    "print(\"___* EDUCATION *___\")\n",
    "print(\"Moyenne :\", np.mean(df[\"educ\"]))\n",
    "print(\"Écart-type :\", np.std(df[\"educ\"]))\n",
    "print(\"Min :\", np.min(df[\"educ\"]))\n",
    "print(\"Max :\", np.max(df[\"educ\"]))"
   ]
  },
  {
   "cell_type": "code",
   "execution_count": 4,
   "id": "19440c38",
   "metadata": {
    "id": "19440c38",
    "outputId": "77c5d86c-c5e8-4bae-acaa-242707f10fb3"
   },
   "outputs": [
    {
     "name": "stdout",
     "output_type": "stream",
     "text": [
      "Pour les femmes dont le mari a un salaire supérieur ou égal au 65e pourcentile :\n",
      "\n",
      "___* SALAIRE *___\n",
      "Moyenne : 5.12858552631579\n",
      "Écart-type : 4.281531833910676\n",
      "Min : 0.2137\n",
      "Max : 25.0\n",
      "\n",
      "___* AGE *___\n",
      "Moyenne : 42.67763157894737\n",
      "Écart-type : 7.313111849062443\n",
      "Min : 30\n",
      "Max : 59\n",
      "\n",
      "___* EDUCATION *___\n",
      "Moyenne : 13.453947368421053\n",
      "Écart-type : 2.347559807515348\n",
      "Min : 5\n",
      "Max : 17\n"
     ]
    }
   ],
   "source": [
    "print(\"Pour les femmes dont le mari a un salaire supérieur ou égal au 65e pourcentile :\")\n",
    "# On sélectionne les données qui nous intéressent\n",
    "df_perc = df[df[\"huswage\"]>=np.percentile(df[\"huswage\"], 65)]\n",
    "print()\n",
    "print(\"___* SALAIRE *___\")\n",
    "print(\"Moyenne :\", np.mean(df_perc[\"wage\"]))\n",
    "print(\"Écart-type :\", np.std(df_perc[\"wage\"]))\n",
    "print(\"Min :\", np.min(df_perc[\"wage\"]))\n",
    "print(\"Max :\", np.max(df_perc[\"wage\"]))\n",
    "print()\n",
    "print(\"___* AGE *___\")\n",
    "print(\"Moyenne :\", np.mean(df_perc[\"age\"]))\n",
    "print(\"Écart-type :\", np.std(df_perc[\"age\"]))\n",
    "print(\"Min :\", np.min(df_perc[\"age\"]))\n",
    "print(\"Max :\", np.max(df_perc[\"age\"]))\n",
    "print()\n",
    "print(\"___* EDUCATION *___\")\n",
    "print(\"Moyenne :\", np.mean(df_perc[\"educ\"]))\n",
    "print(\"Écart-type :\", np.std(df_perc[\"educ\"]))\n",
    "print(\"Min :\", np.min(df_perc[\"educ\"]))\n",
    "print(\"Max :\", np.max(df_perc[\"educ\"]))"
   ]
  },
  {
   "cell_type": "code",
   "execution_count": 5,
   "id": "20403409",
   "metadata": {
    "id": "20403409",
    "outputId": "3e328b0e-43af-4624-a502-45b5ed00b65d"
   },
   "outputs": [
    {
     "name": "stdout",
     "output_type": "stream",
     "text": [
      "Pour les femmes dont le mari a un salaire inférieur au 65e pourcentile :\n",
      "\n",
      "___* SALAIRE *___\n",
      "Moyenne : 3.6539952898550725\n",
      "Écart-type : 2.466830145324889\n",
      "Min : 0.1282\n",
      "Max : 22.5\n",
      "\n",
      "___* AGE *___\n",
      "Moyenne : 41.583333333333336\n",
      "Écart-type : 7.896312506969913\n",
      "Min : 30\n",
      "Max : 60\n",
      "\n",
      "___* EDUCATION *___\n",
      "Moyenne : 12.221014492753623\n",
      "Écart-type : 2.1226164090762643\n",
      "Min : 6\n",
      "Max : 17\n"
     ]
    }
   ],
   "source": [
    "print(\"Pour les femmes dont le mari a un salaire inférieur au 65e pourcentile :\")\n",
    "# On sélectionne les données qui nous intéressent\n",
    "df_perc = df[df[\"huswage\"]<np.percentile(df[\"huswage\"], 65)]\n",
    "print()\n",
    "print(\"___* SALAIRE *___\")\n",
    "print(\"Moyenne :\", np.mean(df_perc[\"wage\"]))\n",
    "print(\"Écart-type :\", np.std(df_perc[\"wage\"]))\n",
    "print(\"Min :\", np.min(df_perc[\"wage\"]))\n",
    "print(\"Max :\", np.max(df_perc[\"wage\"]))\n",
    "print()\n",
    "print(\"___* AGE *___\")\n",
    "print(\"Moyenne :\", np.mean(df_perc[\"age\"]))\n",
    "print(\"Écart-type :\", np.std(df_perc[\"age\"]))\n",
    "print(\"Min :\", np.min(df_perc[\"age\"]))\n",
    "print(\"Max :\", np.max(df_perc[\"age\"]))\n",
    "print()\n",
    "print(\"___* EDUCATION *___\")\n",
    "print(\"Moyenne :\", np.mean(df_perc[\"educ\"]))\n",
    "print(\"Écart-type :\", np.std(df_perc[\"educ\"]))\n",
    "print(\"Min :\", np.min(df_perc[\"educ\"]))\n",
    "print(\"Max :\", np.max(df_perc[\"educ\"]))"
   ]
  },
  {
   "cell_type": "markdown",
   "id": "d2f18ae5",
   "metadata": {
    "id": "d2f18ae5"
   },
   "source": [
    "**Commentaire :**  \n",
    "On remarque que les femmes dont le mari a un revenu élevé semblent avoir un niveau de salaire et d'éducation plus élevé. La seule façon de confirmer cette observation est d'effectuer un test statistique."
   ]
  },
  {
   "cell_type": "markdown",
   "id": "eb53b54a",
   "metadata": {
    "id": "eb53b54a"
   },
   "source": [
    "### Question 3 - Faire l'histogramme de la variable wage. Supprimer les observations qui sont à plus de 3 écart-types de la moyenne et refaire l’histogramme."
   ]
  },
  {
   "cell_type": "code",
   "execution_count": 6,
   "id": "028b992d",
   "metadata": {
    "id": "028b992d",
    "outputId": "3c9bee77-ae19-4f7e-ab5a-4df19a229027"
   },
   "outputs": [
    {
     "data": {
      "image/png": "[encoded data removed]",
      "text/plain": [
       "<Figure size 432x288 with 1 Axes>"
      ]
     },
     "metadata": {
      "needs_background": "light"
     },
     "output_type": "display_data"
    }
   ],
   "source": [
    "plt.hist(df[\"wage\"], edgecolor=\"black\")\n",
    "plt.title(\"Histogramme de wage avec outliers\")\n",
    "plt.show()"
   ]
  },
  {
   "cell_type": "code",
   "execution_count": 7,
   "id": "6b34db2b",
   "metadata": {
    "id": "6b34db2b",
    "outputId": "a7615153-9acf-4046-9a84-a6f698d372ba"
   },
   "outputs": [
    {
     "data": {
      "image/png": "[encoded data removed]",
      "text/plain": [
       "<Figure size 432x288 with 1 Axes>"
      ]
     },
     "metadata": {
      "needs_background": "light"
     },
     "output_type": "display_data"
    }
   ],
   "source": [
    "# On crée un dataframe qui exclut les observations à plus de trois écarts-types de la moyenne\n",
    "df = df[(df[\"wage\"]<df[\"wage\"].mean()+3*df[\"wage\"].std()) & (df[\"wage\"]>df[\"wage\"].mean()-3*df[\"wage\"].std())]\n",
    "plt.hist(df[\"wage\"], edgecolor=\"black\")\n",
    "plt.title(\"Histogramme de wage sans outliers\")\n",
    "plt.show()"
   ]
  },
  {
   "cell_type": "markdown",
   "id": "c9cdec91",
   "metadata": {
    "id": "c9cdec91"
   },
   "source": [
    "### Question 4 - Calculer les corrélations motheduc et fatheduc. Expliquer le problème de multi-collinéarité. Commenter."
   ]
  },
  {
   "cell_type": "code",
   "execution_count": 8,
   "id": "c38a7a02",
   "metadata": {
    "id": "c38a7a02",
    "outputId": "a5a0184a-e5e0-4cde-ca74-732b4ed2e21d"
   },
   "outputs": [
    {
     "name": "stdout",
     "output_type": "stream",
     "text": [
      "Coefficient de corrélation entre motheduc et fatheduc : 0.5487251154655967\n"
     ]
    }
   ],
   "source": [
    "# On utilise la fonction de calcul de corrélation de numpy\n",
    "print(\"Coefficient de corrélation entre motheduc et fatheduc :\", np.corrcoef(df[\"motheduc\"], df[\"fatheduc\"])[0,1])\n",
    "# On sélectionne la première ligne, deuxième colonne \n",
    "# car dans le cas où on n'a que deux variables, la matrice est de taille 2x2, symétrique et la diagonale vaut 1."
   ]
  },
  {
   "cell_type": "markdown",
   "id": "89216181",
   "metadata": {
    "id": "89216181"
   },
   "source": [
    "**Commentaire :**  \n",
    "Dans le cas où il y a de fortes dépendances linéaires entre les variables, le calcul de $(X^TX)^{-1}$ ne sera pas possible par la suite, lors de l'entraînement d'un modèle linéaire pour les tests d'hypothèses. On pourra alors choisir de retirer l'une de ces deux variables."
   ]
  },
  {
   "cell_type": "markdown",
   "id": "82778844",
   "metadata": {
    "id": "82778844"
   },
   "source": [
    "### Question 5 - Faites un graphique en nuage de point entre wage et educ. S'agit-il d'un effet \"toute chose étant égale par ailleurs ?\""
   ]
  },
  {
   "cell_type": "code",
   "execution_count": 9,
   "id": "73ae9397",
   "metadata": {
    "id": "73ae9397",
    "outputId": "a69fc1a5-0df8-4d85-9925-65ca1ef24f40"
   },
   "outputs": [
    {
     "data": {
      "image/png": "[encoded data removed]",
      "text/plain": [
       "<Figure size 432x288 with 1 Axes>"
      ]
     },
     "metadata": {
      "needs_background": "light"
     },
     "output_type": "display_data"
    }
   ],
   "source": [
    "plt.scatter(df[\"educ\"], df[\"wage\"])\n",
    "plt.xlabel(\"Éducation\")\n",
    "plt.ylabel(\"Salaire\")\n",
    "plt.title(\"Salaire en fonction du niveau d'éducation\")\n",
    "plt.show()"
   ]
  },
  {
   "cell_type": "markdown",
   "id": "fb591e79",
   "metadata": {
    "id": "fb591e79"
   },
   "source": [
    "**Commentaire :**  \n",
    "Il semble y avoir une relation linéaire positive entre le niveau d'éducation et le salaire. Sachant qu'on n'étudie ici que ces deux variables, on fait l'hypothèse *ceteris paribus sic stantibus*, soit toutes choses égales par ailleurs. Cependant, cette hypothèse induit potentiellement un *biais de variable omise*, c'est-à-dire qu'on aurait une ou plusieurs variables non prises en compte qui seraient corrélées aux variables étudiées ici. Par exemple : dans le cas de l'éducation et du salaire, la corrélation pourrait être expliquée par le niveau d'éducation et de salaire des parents."
   ]
  },
  {
   "cell_type": "markdown",
   "id": "f7fd3961",
   "metadata": {
    "id": "f7fd3961"
   },
   "source": [
    "### Question 6 - Quelle est l'hypothèse fondamentale qui garantit des estimateurs non biaisés ? Expliquer le biais de variable omise."
   ]
  },
  {
   "cell_type": "markdown",
   "id": "831e2424",
   "metadata": {
    "id": "831e2424"
   },
   "source": [
    "L'hypothèse fondamentale qui garantit des estimateurs non biaisés est l'hypothèse d'indépendance entre les variables, c'est-à-dire que la vraie covariance entre toutes les variables du modèle est nulle.  \n",
    "Le *biais de variable omise* propose qu'on aurait une ou plusieurs variables non prises en compte qui seraient corrélées aux variables étudiées. Ainsi la corrélation observée pourrait être la conséquence d'une corrélation cachée. Ce biais peut masquer une dépendance entre les variables et mettre à mal l'hypothèse fondamentale."
   ]
  },
  {
   "cell_type": "markdown",
   "id": "8ca9a3a1",
   "metadata": {
    "id": "8ca9a3a1"
   },
   "source": [
    "### Question 7 - Faire la régression du log de wage en utilisant comme variables explicatives une constante, city, educ, exper, nwifeinc, kidslt6, kidsge6. Commentez l'histogramme des résidus."
   ]
  },
  {
   "cell_type": "code",
   "execution_count": 10,
   "id": "00ce0c57",
   "metadata": {
    "id": "00ce0c57",
    "outputId": "94e7ffb8-2e60-4d56-9afc-16451e9bb877"
   },
   "outputs": [
    {
     "data": {
      "text/html": [
       "<table class=\"simpletable\">\n",
       "<caption>OLS Regression Results</caption>\n",
       "<tr>\n",
       "  <th>Dep. Variable:</th>          <td>wage</td>       <th>  R-squared:         </th> <td>   0.173</td>\n",
       "</tr>\n",
       "<tr>\n",
       "  <th>Model:</th>                   <td>OLS</td>       <th>  Adj. R-squared:    </th> <td>   0.161</td>\n",
       "</tr>\n",
       "<tr>\n",
       "  <th>Method:</th>             <td>Least Squares</td>  <th>  F-statistic:       </th> <td>   14.41</td>\n",
       "</tr>\n",
       "<tr>\n",
       "  <th>Date:</th>             <td>Wed, 11 May 2022</td> <th>  Prob (F-statistic):</th> <td>6.13e-15</td>\n",
       "</tr>\n",
       "<tr>\n",
       "  <th>Time:</th>                 <td>15:08:07</td>     <th>  Log-Likelihood:    </th> <td> -392.18</td>\n",
       "</tr>\n",
       "<tr>\n",
       "  <th>No. Observations:</th>      <td>   419</td>      <th>  AIC:               </th> <td>   798.4</td>\n",
       "</tr>\n",
       "<tr>\n",
       "  <th>Df Residuals:</th>          <td>   412</td>      <th>  BIC:               </th> <td>   826.6</td>\n",
       "</tr>\n",
       "<tr>\n",
       "  <th>Df Model:</th>              <td>     6</td>      <th>                     </th>     <td> </td>   \n",
       "</tr>\n",
       "<tr>\n",
       "  <th>Covariance Type:</th>      <td>nonrobust</td>    <th>                     </th>     <td> </td>   \n",
       "</tr>\n",
       "</table>\n",
       "<table class=\"simpletable\">\n",
       "<tr>\n",
       "    <td></td>       <th>coef</th>     <th>std err</th>      <th>t</th>      <th>P>|t|</th>  <th>[0.025</th>    <th>0.975]</th>  \n",
       "</tr>\n",
       "<tr>\n",
       "  <th>const</th> <td>   -0.4379</td> <td>    0.195</td> <td>   -2.243</td> <td> 0.025</td> <td>   -0.822</td> <td>   -0.054</td>\n",
       "</tr>\n",
       "<tr>\n",
       "  <th>x1</th>    <td>    0.0236</td> <td>    0.066</td> <td>    0.359</td> <td> 0.720</td> <td>   -0.106</td> <td>    0.153</td>\n",
       "</tr>\n",
       "<tr>\n",
       "  <th>x2</th>    <td>    0.0993</td> <td>    0.014</td> <td>    6.991</td> <td> 0.000</td> <td>    0.071</td> <td>    0.127</td>\n",
       "</tr>\n",
       "<tr>\n",
       "  <th>x3</th>    <td>    0.0189</td> <td>    0.004</td> <td>    4.493</td> <td> 0.000</td> <td>    0.011</td> <td>    0.027</td>\n",
       "</tr>\n",
       "<tr>\n",
       "  <th>x4</th>    <td>    0.0043</td> <td>    0.003</td> <td>    1.376</td> <td> 0.170</td> <td>   -0.002</td> <td>    0.010</td>\n",
       "</tr>\n",
       "<tr>\n",
       "  <th>x5</th>    <td>   -0.0613</td> <td>    0.080</td> <td>   -0.764</td> <td> 0.445</td> <td>   -0.219</td> <td>    0.096</td>\n",
       "</tr>\n",
       "<tr>\n",
       "  <th>x6</th>    <td>   -0.0002</td> <td>    0.025</td> <td>   -0.009</td> <td> 0.993</td> <td>   -0.050</td> <td>    0.049</td>\n",
       "</tr>\n",
       "</table>\n",
       "<table class=\"simpletable\">\n",
       "<tr>\n",
       "  <th>Omnibus:</th>       <td>124.505</td> <th>  Durbin-Watson:     </th> <td>   1.872</td>\n",
       "</tr>\n",
       "<tr>\n",
       "  <th>Prob(Omnibus):</th> <td> 0.000</td>  <th>  Jarque-Bera (JB):  </th> <td> 391.383</td>\n",
       "</tr>\n",
       "<tr>\n",
       "  <th>Skew:</th>          <td>-1.361</td>  <th>  Prob(JB):          </th> <td>1.03e-85</td>\n",
       "</tr>\n",
       "<tr>\n",
       "  <th>Kurtosis:</th>      <td> 6.874</td>  <th>  Cond. No.          </th> <td>    178.</td>\n",
       "</tr>\n",
       "</table><br/><br/>Notes:<br/>[1] Standard Errors assume that the covariance matrix of the errors is correctly specified."
      ],
      "text/plain": [
       "<class 'statsmodels.iolib.summary.Summary'>\n",
       "\"\"\"\n",
       "                            OLS Regression Results                            \n",
       "==============================================================================\n",
       "Dep. Variable:                   wage   R-squared:                       0.173\n",
       "Model:                            OLS   Adj. R-squared:                  0.161\n",
       "Method:                 Least Squares   F-statistic:                     14.41\n",
       "Date:                Wed, 11 May 2022   Prob (F-statistic):           6.13e-15\n",
       "Time:                        15:08:07   Log-Likelihood:                -392.18\n",
       "No. Observations:                 419   AIC:                             798.4\n",
       "Df Residuals:                     412   BIC:                             826.6\n",
       "Df Model:                           6                                         \n",
       "Covariance Type:            nonrobust                                         \n",
       "==============================================================================\n",
       "                 coef    std err          t      P>|t|      [0.025      0.975]\n",
       "------------------------------------------------------------------------------\n",
       "const         -0.4379      0.195     -2.243      0.025      -0.822      -0.054\n",
       "x1             0.0236      0.066      0.359      0.720      -0.106       0.153\n",
       "x2             0.0993      0.014      6.991      0.000       0.071       0.127\n",
       "x3             0.0189      0.004      4.493      0.000       0.011       0.027\n",
       "x4             0.0043      0.003      1.376      0.170      -0.002       0.010\n",
       "x5            -0.0613      0.080     -0.764      0.445      -0.219       0.096\n",
       "x6            -0.0002      0.025     -0.009      0.993      -0.050       0.049\n",
       "==============================================================================\n",
       "Omnibus:                      124.505   Durbin-Watson:                   1.872\n",
       "Prob(Omnibus):                  0.000   Jarque-Bera (JB):              391.383\n",
       "Skew:                          -1.361   Prob(JB):                     1.03e-85\n",
       "Kurtosis:                       6.874   Cond. No.                         178.\n",
       "==============================================================================\n",
       "\n",
       "Notes:\n",
       "[1] Standard Errors assume that the covariance matrix of the errors is correctly specified.\n",
       "\"\"\""
      ]
     },
     "metadata": {},
     "output_type": "display_data"
    }
   ],
   "source": [
    "# On crée notre y\n",
    "y = np.log(df[\"wage\"])\n",
    "\n",
    "# On crée notre vecteur constant\n",
    "s = np.shape(df[\"wage\"])\n",
    "const = np.ones(s)\n",
    "\n",
    "# On crée notre X avec les prédicteurs\n",
    "X = np.column_stack((const, df[\"city\"], df[\"educ\"], df[\"exper\"], df[\"nwifeinc\"], df[\"kidslt6\"], df[\"kidsge6\"]))\n",
    "\n",
    "# On instantie et on entraîne le modèle, on visualise les résultats\n",
    "model = sm.OLS(y, X)\n",
    "results = model.fit()\n",
    "display(results.summary())"
   ]
  },
  {
   "cell_type": "code",
   "execution_count": 11,
   "id": "e8ad687b",
   "metadata": {
    "id": "e8ad687b",
    "outputId": "9501a68e-0444-42dd-fe1f-6d715cb1680e"
   },
   "outputs": [
    {
     "data": {
      "image/png": "[encoded data removed]",
      "text/plain": [
       "<Figure size 432x288 with 1 Axes>"
      ]
     },
     "metadata": {
      "needs_background": "light"
     },
     "output_type": "display_data"
    }
   ],
   "source": [
    "# On imprime l'histogramme des résidus\n",
    "plt.hist(results.resid, edgecolor=\"black\")\n",
    "plt.title(\"Histogramme des résidus\")\n",
    "plt.show()"
   ]
  },
  {
   "cell_type": "code",
   "execution_count": 12,
   "id": "0dc43bf1",
   "metadata": {
    "id": "0dc43bf1",
    "outputId": "f7f1769b-80c8-46fb-c9b4-d00906aedeee"
   },
   "outputs": [
    {
     "name": "stdout",
     "output_type": "stream",
     "text": [
      "Espérance des résidus : -0.00\n"
     ]
    }
   ],
   "source": [
    "# On affiche l'espérance des résidus\n",
    "print(f\"Espérance des résidus : {np.mean(results.resid):.2f}\")"
   ]
  },
  {
   "cell_type": "markdown",
   "id": "1f50d205",
   "metadata": {
    "id": "1f50d205"
   },
   "source": [
    "**Commentaire :**  \n",
    "Nos résidus sont centrés autour de 0, ce qui confirme une des propriétés du modèle linéaire : l'espérance du bruit est nulle."
   ]
  },
  {
   "cell_type": "markdown",
   "id": "867a3517",
   "metadata": {
    "id": "867a3517"
   },
   "source": [
    "### Question 8 - Tester l'hypothèse de non significativité de nwifeinc avec un seuil de significativité de 1%, 5% et 10% (test alternatif des deux côtés). Commentez les p-values."
   ]
  },
  {
   "cell_type": "code",
   "execution_count": 13,
   "id": "b05fdd96",
   "metadata": {
    "id": "b05fdd96",
    "outputId": "aa7976a2-779a-42c1-a97f-257e17e72371"
   },
   "outputs": [
    {
     "name": "stdout",
     "output_type": "stream",
     "text": [
      "Seuils de rejet à droite :\n",
      "1% : 2.587814893143625\n",
      "5% : 1.9657385889937118\n",
      "10% : 1.6485604765618567\n",
      "\n",
      "Seuils de rejet à gauche :\n",
      "1% : -2.5878148931436256\n",
      "5% : -1.9657385889937122\n",
      "10% : -1.6485604765618573\n",
      "\n",
      "Statistique de test t : 1.3759848145287672\n",
      "p-valeur associée : 0.1695738179343154\n"
     ]
    }
   ],
   "source": [
    "# On calcule les betas\n",
    "beta = np.linalg.inv(X.T @ X)@X.T@y\n",
    "\n",
    "# On calcule les résidus\n",
    "u = y - X @ beta.T\n",
    "\n",
    "# On extrait les dimensions de la matrice des features\n",
    "n, k = np.shape(X)\n",
    "\n",
    "# On calcule la variance des résidus\n",
    "sig2 = u.T @ u / (n-k)\n",
    "SSR0 = u.T @ u\n",
    "\n",
    "# On calcule la variance et l'écart-type des coefficients\n",
    "Var = sig2 * np.linalg.inv(X.T @ X)\n",
    "std = np.sqrt(np.diag(Var))\n",
    "\n",
    "# On utilise une loi de Student à n-k-1 degrés de liberté\n",
    "# On a déjà inclus la constante dans les variables de notre matrice de features X\n",
    "# Donc on peut tout simplement écrire les degrés de liberté comme X.shape[0]-X.shape[1]\n",
    "print(\"Seuils de rejet à droite :\")\n",
    "print(\"1% :\", t.ppf(.995, X.shape[0]-X.shape[1]))\n",
    "print(\"5% :\", t.ppf(.975, X.shape[0]-X.shape[1]))\n",
    "print(\"10% :\", t.ppf(.95, X.shape[0]-X.shape[1]))\n",
    "print()\n",
    "print(\"Seuils de rejet à gauche :\")\n",
    "print(\"1% :\", t.ppf(.005, X.shape[0]-X.shape[1]))\n",
    "print(\"5% :\", t.ppf(.025, X.shape[0]-X.shape[1]))\n",
    "print(\"10% :\", t.ppf(.05, X.shape[0]-X.shape[1]))\n",
    "print()\n",
    "print(\"Statistique de test t :\", results.params[4]/std[4])\n",
    "print(\"p-valeur associée :\", t.sf(results.params[4]/std[4], X.shape[0]-X.shape[1])*2)"
   ]
  },
  {
   "cell_type": "markdown",
   "id": "d94aa530",
   "metadata": {},
   "source": [
    "La statistique de test est strictement inférieure à tous les seuils de droite et supérieure à tous les seuils de gauche.\n",
    "\n",
    "\n",
    "La p-valeur montre qu'on ne pourrait rejeter l'hypothèse qu'avec un niveau de confiance de 85%.\n",
    "\n",
    "\n",
    "Pour les seuils proposés, on ne peut pas rejeter l'hypothèse nulle."
   ]
  },
  {
   "cell_type": "markdown",
   "id": "a6cfaf12",
   "metadata": {
    "id": "a6cfaf12"
   },
   "source": [
    "**Commentaire :**  \n",
    "La statistique de test de x4 soit nwifeinc est inférieure au seuil de rejet à 10%, donc on ne peut pas rejeter $H_0$ pour les trois seuils proposés."
   ]
  },
  {
   "cell_type": "markdown",
   "id": "e63b69bc",
   "metadata": {
    "id": "e63b69bc"
   },
   "source": [
    "### Question 9 - Tester l’hypothèse que le coefficient associé à nwifeinc est égal à 0.01 avec un seuil de significativité de 5% (test à alternatif des deux côtés)"
   ]
  },
  {
   "cell_type": "code",
   "execution_count": 14,
   "id": "9ecbc70d",
   "metadata": {
    "id": "9ecbc70d",
    "outputId": "11a184cb-a4f4-4187-f876-9908eafee2f8"
   },
   "outputs": [
    {
     "name": "stdout",
     "output_type": "stream",
     "text": [
      "Statistique de test t : -1.8162055729215245\n",
      "p-valeur associée : 0.07006547327900882\n"
     ]
    }
   ],
   "source": [
    "print(\"Statistique de test t :\", (results.params[4]-.01)/std[4])\n",
    "print(\"p-valeur associée :\", t.sf(np.abs(results.params[4]-.01)/std[4], X.shape[0]-X.shape[1])*2)"
   ]
  },
  {
   "cell_type": "markdown",
   "id": "1845f267",
   "metadata": {
    "id": "1845f267"
   },
   "source": [
    "**Commentaire :**  \n",
    "La statistique de test pour $\\beta_{nwifeinc}=0.01$ est inférieure au seuil de rejet à 5% (calculé et affiché dans la question 8), donc on ne peut pas rejeter $H_0$."
   ]
  },
  {
   "cell_type": "markdown",
   "id": "8aad5401",
   "metadata": {
    "id": "8aad5401"
   },
   "source": [
    "### Question 10 - Tester l’hypothèse jointe que le coefficient de nwifeinc est égal à 0.01 et que celui de city est égal à 0.05."
   ]
  },
  {
   "cell_type": "markdown",
   "id": "3d07d6e8",
   "metadata": {
    "id": "3d07d6e8"
   },
   "source": [
    "On avait notre modèle :\n",
    "$$logwage = \\beta_0 + \\beta_{city}x_1 + \\beta_{educ}x_2 + \\beta_{exper}x_3 + \\beta_{nwifeinc}x_4 + \\beta_{kidslt6}x_5 + \\beta_{kidsge6}x_6$$\n",
    "\n",
    "Si :  \n",
    "$$\\theta_1 = 0.01 - \\beta_{nwifeinc}$$ \n",
    "et \n",
    "$$\\theta_2 = 0.05 - \\beta_{city}$$  \n",
    "Alors :  \n",
    "$$\\beta_{city} = 0.05 - \\theta_2$$\n",
    "et \n",
    "$$\\beta_{nwifeinc} = 0.01 - \\theta_1$$\n",
    "\n",
    "Donc :\n",
    "$$logwage - 0.05x_1 - 0.01x_4 = \\beta_0 - \\theta_2x_1 + \\beta_{educ}x_2 + \\beta_{exper}x_3 - \\theta_1x_4 + \\beta_{kidslt6}x_5 + \\beta_{kidsge6}x_6$$"
   ]
  },
  {
   "cell_type": "code",
   "execution_count": 15,
   "id": "75948cc7",
   "metadata": {
    "id": "75948cc7",
    "outputId": "2fe7fecd-ddab-43d5-ef76-553a45379dd5"
   },
   "outputs": [
    {
     "data": {
      "text/html": [
       "<table class=\"simpletable\">\n",
       "<caption>OLS Regression Results</caption>\n",
       "<tr>\n",
       "  <th>Dep. Variable:</th>            <td>y</td>        <th>  R-squared:         </th> <td>   0.151</td>\n",
       "</tr>\n",
       "<tr>\n",
       "  <th>Model:</th>                   <td>OLS</td>       <th>  Adj. R-squared:    </th> <td>   0.143</td>\n",
       "</tr>\n",
       "<tr>\n",
       "  <th>Method:</th>             <td>Least Squares</td>  <th>  F-statistic:       </th> <td>   18.41</td>\n",
       "</tr>\n",
       "<tr>\n",
       "  <th>Date:</th>             <td>Wed, 11 May 2022</td> <th>  Prob (F-statistic):</th> <td>6.16e-14</td>\n",
       "</tr>\n",
       "<tr>\n",
       "  <th>Time:</th>                 <td>15:08:08</td>     <th>  Log-Likelihood:    </th> <td> -394.19</td>\n",
       "</tr>\n",
       "<tr>\n",
       "  <th>No. Observations:</th>      <td>   419</td>      <th>  AIC:               </th> <td>   798.4</td>\n",
       "</tr>\n",
       "<tr>\n",
       "  <th>Df Residuals:</th>          <td>   414</td>      <th>  BIC:               </th> <td>   818.6</td>\n",
       "</tr>\n",
       "<tr>\n",
       "  <th>Df Model:</th>              <td>     4</td>      <th>                     </th>     <td> </td>   \n",
       "</tr>\n",
       "<tr>\n",
       "  <th>Covariance Type:</th>      <td>nonrobust</td>    <th>                     </th>     <td> </td>   \n",
       "</tr>\n",
       "</table>\n",
       "<table class=\"simpletable\">\n",
       "<tr>\n",
       "    <td></td>       <th>coef</th>     <th>std err</th>      <th>t</th>      <th>P>|t|</th>  <th>[0.025</th>    <th>0.975]</th>  \n",
       "</tr>\n",
       "<tr>\n",
       "  <th>const</th> <td>   -0.4785</td> <td>    0.194</td> <td>   -2.464</td> <td> 0.014</td> <td>   -0.860</td> <td>   -0.097</td>\n",
       "</tr>\n",
       "<tr>\n",
       "  <th>x1</th>    <td>    0.0203</td> <td>    0.004</td> <td>    4.878</td> <td> 0.000</td> <td>    0.012</td> <td>    0.028</td>\n",
       "</tr>\n",
       "<tr>\n",
       "  <th>x2</th>    <td>    0.0910</td> <td>    0.014</td> <td>    6.687</td> <td> 0.000</td> <td>    0.064</td> <td>    0.118</td>\n",
       "</tr>\n",
       "<tr>\n",
       "  <th>x3</th>    <td>   -0.0463</td> <td>    0.080</td> <td>   -0.579</td> <td> 0.563</td> <td>   -0.204</td> <td>    0.111</td>\n",
       "</tr>\n",
       "<tr>\n",
       "  <th>x4</th>    <td>    0.0007</td> <td>    0.025</td> <td>    0.028</td> <td> 0.978</td> <td>   -0.049</td> <td>    0.050</td>\n",
       "</tr>\n",
       "</table>\n",
       "<table class=\"simpletable\">\n",
       "<tr>\n",
       "  <th>Omnibus:</th>       <td>119.077</td> <th>  Durbin-Watson:     </th> <td>   1.869</td>\n",
       "</tr>\n",
       "<tr>\n",
       "  <th>Prob(Omnibus):</th> <td> 0.000</td>  <th>  Jarque-Bera (JB):  </th> <td> 352.623</td>\n",
       "</tr>\n",
       "<tr>\n",
       "  <th>Skew:</th>          <td>-1.323</td>  <th>  Prob(JB):          </th> <td>2.68e-77</td>\n",
       "</tr>\n",
       "<tr>\n",
       "  <th>Kurtosis:</th>      <td> 6.633</td>  <th>  Cond. No.          </th> <td>    123.</td>\n",
       "</tr>\n",
       "</table><br/><br/>Notes:<br/>[1] Standard Errors assume that the covariance matrix of the errors is correctly specified."
      ],
      "text/plain": [
       "<class 'statsmodels.iolib.summary.Summary'>\n",
       "\"\"\"\n",
       "                            OLS Regression Results                            \n",
       "==============================================================================\n",
       "Dep. Variable:                      y   R-squared:                       0.151\n",
       "Model:                            OLS   Adj. R-squared:                  0.143\n",
       "Method:                 Least Squares   F-statistic:                     18.41\n",
       "Date:                Wed, 11 May 2022   Prob (F-statistic):           6.16e-14\n",
       "Time:                        15:08:08   Log-Likelihood:                -394.19\n",
       "No. Observations:                 419   AIC:                             798.4\n",
       "Df Residuals:                     414   BIC:                             818.6\n",
       "Df Model:                           4                                         \n",
       "Covariance Type:            nonrobust                                         \n",
       "==============================================================================\n",
       "                 coef    std err          t      P>|t|      [0.025      0.975]\n",
       "------------------------------------------------------------------------------\n",
       "const         -0.4785      0.194     -2.464      0.014      -0.860      -0.097\n",
       "x1             0.0203      0.004      4.878      0.000       0.012       0.028\n",
       "x2             0.0910      0.014      6.687      0.000       0.064       0.118\n",
       "x3            -0.0463      0.080     -0.579      0.563      -0.204       0.111\n",
       "x4             0.0007      0.025      0.028      0.978      -0.049       0.050\n",
       "==============================================================================\n",
       "Omnibus:                      119.077   Durbin-Watson:                   1.869\n",
       "Prob(Omnibus):                  0.000   Jarque-Bera (JB):              352.623\n",
       "Skew:                          -1.323   Prob(JB):                     2.68e-77\n",
       "Kurtosis:                       6.633   Cond. No.                         123.\n",
       "==============================================================================\n",
       "\n",
       "Notes:\n",
       "[1] Standard Errors assume that the covariance matrix of the errors is correctly specified.\n",
       "\"\"\""
      ]
     },
     "metadata": {},
     "output_type": "display_data"
    },
    {
     "name": "stdout",
     "output_type": "stream",
     "text": [
      "\n",
      "SSR1 : 161.02777129880783\n",
      "\n",
      "F : 1.9832124372278208\n",
      "p-val : 0.1389380910856505\n"
     ]
    }
   ],
   "source": [
    "# Modèle contraint pour β_nwifeinc = 0.01, β_city = 0.05\n",
    "# Avec la réécriture ci-dessus, on suppose que les θ valent 0 :\n",
    "y10 = y - 0.01*df[\"nwifeinc\"] -0.05*df[\"city\"]\n",
    "X10 = np.column_stack((const, df[\"exper\"], df[\"educ\"], df[\"kidslt6\"], df[\"kidsge6\"]))\n",
    "\n",
    "model = sm.OLS(y10, X10)\n",
    "results = model.fit()\n",
    "display(results.summary())\n",
    "\n",
    "u = results.resid\n",
    "\n",
    "# Calcul des sum of squares residuals\n",
    "SSR1 = u.T@u\n",
    "print(\"\\nSSR1 :\", SSR1)\n",
    "print()\n",
    "\n",
    "# Calcul de la statistique de Fisher pour les θ = 0\n",
    "n, k = np.shape(X)\n",
    "\n",
    "# On a deux contraintes\n",
    "cont = 2\n",
    "\n",
    "# Calcul de la statistique de test F\n",
    "F = ((SSR1-SSR0)/cont)/(SSR0/(n-k))\n",
    "print(\"F :\", F)\n",
    "print(\"p-val :\", f.sf(F, cont, n-k))"
   ]
  },
  {
   "cell_type": "markdown",
   "id": "6a01026e",
   "metadata": {
    "id": "6a01026e"
   },
   "source": [
    "**Commentaire :**\n",
    "On ne peut pas rejeter l'hypothèse nulle pour un seuil de 5% (il nous faudrait un seuil de 14% pour rejeter l'hypothèse nulle), c'est-à-dire que l'hypothèse jointe que les coefficients de ces variables valent respectivement 0.01 pour nwifeinc et 0.05 pour city ne peut pas être invalidée."
   ]
  },
  {
   "cell_type": "markdown",
   "id": "e1444f8e",
   "metadata": {
    "id": "e1444f8e"
   },
   "source": [
    "### Question 11 - Tester l'hypothèse jointe que $\\beta_{nwifeinc} + \\beta_{city} = 0.1$ et $\\beta_{educ} + \\beta_{exper} = 0.1$"
   ]
  },
  {
   "cell_type": "markdown",
   "id": "f139ccac",
   "metadata": {
    "id": "f139ccac"
   },
   "source": [
    "On avait notre modèle :\n",
    "$$logwage = \\beta_0 + \\beta_{city}x_1 + \\beta_{educ}x_2 + \\beta_{exper}x_3 + \\beta_{nwifeinc}x_4 + \\beta_{kidslt6}x_5 + \\beta_{kidsge6}x_6$$\n",
    "\n",
    "Si :  \n",
    "$$\\theta_1 = 0.1 - \\beta_{nwifeinc} - \\beta_{city}$$ \n",
    "et \n",
    "$$\\theta_2 = 0.1 - \\beta_{educ} - \\beta_{exper}$$  \n",
    "Alors :  \n",
    "$$\\beta_{educ} = 0.1 - \\beta_{exper} - \\theta_2$$\n",
    "et \n",
    "$$\\beta_{nwifeinc} = 0.1 - \\beta_{city} - \\theta_1$$\n",
    "\n",
    "Donc :\n",
    "$$logwage = \\beta_0 + \\beta_{city}x_1 + (0.1 - \\theta_2 - \\beta_{exper})x_2 + \\beta_{exper}x_3 + (0.1 - \\theta_1 - \\beta_{city})x_4 + \\beta_{kidslt6}x_5 + \\beta_{kidsge6}x_6$$\n",
    "$$logwage - 0.1(x_4 + x_2) = \\beta_0 + \\beta_{city}(x_1-x_4) - \\theta_2x_2 + \\beta_{exper}(x_3-x_2) - \\theta_1x_4 + \\beta_{kidslt6}x_5 + \\beta_{kidsge6}x_6$$"
   ]
  },
  {
   "cell_type": "code",
   "execution_count": 16,
   "id": "512aed7d",
   "metadata": {
    "id": "512aed7d",
    "outputId": "c779b615-1fe2-4771-b747-638f308a45fe"
   },
   "outputs": [
    {
     "data": {
      "text/html": [
       "<table class=\"simpletable\">\n",
       "<caption>OLS Regression Results</caption>\n",
       "<tr>\n",
       "  <th>Dep. Variable:</th>            <td>y</td>        <th>  R-squared:         </th> <td>   0.739</td> \n",
       "</tr>\n",
       "<tr>\n",
       "  <th>Model:</th>                   <td>OLS</td>       <th>  Adj. R-squared:    </th> <td>   0.737</td> \n",
       "</tr>\n",
       "<tr>\n",
       "  <th>Method:</th>             <td>Least Squares</td>  <th>  F-statistic:       </th> <td>   293.6</td> \n",
       "</tr>\n",
       "<tr>\n",
       "  <th>Date:</th>             <td>Wed, 11 May 2022</td> <th>  Prob (F-statistic):</th> <td>2.03e-119</td>\n",
       "</tr>\n",
       "<tr>\n",
       "  <th>Time:</th>                 <td>15:08:08</td>     <th>  Log-Likelihood:    </th> <td> -393.46</td> \n",
       "</tr>\n",
       "<tr>\n",
       "  <th>No. Observations:</th>      <td>   419</td>      <th>  AIC:               </th> <td>   796.9</td> \n",
       "</tr>\n",
       "<tr>\n",
       "  <th>Df Residuals:</th>          <td>   414</td>      <th>  BIC:               </th> <td>   817.1</td> \n",
       "</tr>\n",
       "<tr>\n",
       "  <th>Df Model:</th>              <td>     4</td>      <th>                     </th>     <td> </td>    \n",
       "</tr>\n",
       "<tr>\n",
       "  <th>Covariance Type:</th>      <td>nonrobust</td>    <th>                     </th>     <td> </td>    \n",
       "</tr>\n",
       "</table>\n",
       "<table class=\"simpletable\">\n",
       "<tr>\n",
       "    <td></td>       <th>coef</th>     <th>std err</th>      <th>t</th>      <th>P>|t|</th>  <th>[0.025</th>    <th>0.975]</th>  \n",
       "</tr>\n",
       "<tr>\n",
       "  <th>const</th> <td>   -0.2531</td> <td>    0.074</td> <td>   -3.404</td> <td> 0.001</td> <td>   -0.399</td> <td>   -0.107</td>\n",
       "</tr>\n",
       "<tr>\n",
       "  <th>x1</th>    <td>    0.0955</td> <td>    0.003</td> <td>   31.711</td> <td> 0.000</td> <td>    0.090</td> <td>    0.101</td>\n",
       "</tr>\n",
       "<tr>\n",
       "  <th>x2</th>    <td>    0.0175</td> <td>    0.004</td> <td>    4.323</td> <td> 0.000</td> <td>    0.010</td> <td>    0.025</td>\n",
       "</tr>\n",
       "<tr>\n",
       "  <th>x3</th>    <td>   -0.0530</td> <td>    0.080</td> <td>   -0.664</td> <td> 0.507</td> <td>   -0.210</td> <td>    0.104</td>\n",
       "</tr>\n",
       "<tr>\n",
       "  <th>x4</th>    <td>   -0.0037</td> <td>    0.025</td> <td>   -0.151</td> <td> 0.880</td> <td>   -0.052</td> <td>    0.045</td>\n",
       "</tr>\n",
       "</table>\n",
       "<table class=\"simpletable\">\n",
       "<tr>\n",
       "  <th>Omnibus:</th>       <td>122.738</td> <th>  Durbin-Watson:     </th> <td>   1.872</td>\n",
       "</tr>\n",
       "<tr>\n",
       "  <th>Prob(Omnibus):</th> <td> 0.000</td>  <th>  Jarque-Bera (JB):  </th> <td> 374.424</td>\n",
       "</tr>\n",
       "<tr>\n",
       "  <th>Skew:</th>          <td>-1.353</td>  <th>  Prob(JB):          </th> <td>4.95e-82</td>\n",
       "</tr>\n",
       "<tr>\n",
       "  <th>Kurtosis:</th>      <td> 6.758</td>  <th>  Cond. No.          </th> <td>    59.1</td>\n",
       "</tr>\n",
       "</table><br/><br/>Notes:<br/>[1] Standard Errors assume that the covariance matrix of the errors is correctly specified."
      ],
      "text/plain": [
       "<class 'statsmodels.iolib.summary.Summary'>\n",
       "\"\"\"\n",
       "                            OLS Regression Results                            \n",
       "==============================================================================\n",
       "Dep. Variable:                      y   R-squared:                       0.739\n",
       "Model:                            OLS   Adj. R-squared:                  0.737\n",
       "Method:                 Least Squares   F-statistic:                     293.6\n",
       "Date:                Wed, 11 May 2022   Prob (F-statistic):          2.03e-119\n",
       "Time:                        15:08:08   Log-Likelihood:                -393.46\n",
       "No. Observations:                 419   AIC:                             796.9\n",
       "Df Residuals:                     414   BIC:                             817.1\n",
       "Df Model:                           4                                         \n",
       "Covariance Type:            nonrobust                                         \n",
       "==============================================================================\n",
       "                 coef    std err          t      P>|t|      [0.025      0.975]\n",
       "------------------------------------------------------------------------------\n",
       "const         -0.2531      0.074     -3.404      0.001      -0.399      -0.107\n",
       "x1             0.0955      0.003     31.711      0.000       0.090       0.101\n",
       "x2             0.0175      0.004      4.323      0.000       0.010       0.025\n",
       "x3            -0.0530      0.080     -0.664      0.507      -0.210       0.104\n",
       "x4            -0.0037      0.025     -0.151      0.880      -0.052       0.045\n",
       "==============================================================================\n",
       "Omnibus:                      122.738   Durbin-Watson:                   1.872\n",
       "Prob(Omnibus):                  0.000   Jarque-Bera (JB):              374.424\n",
       "Skew:                          -1.353   Prob(JB):                     4.95e-82\n",
       "Kurtosis:                       6.758   Cond. No.                         59.1\n",
       "==============================================================================\n",
       "\n",
       "Notes:\n",
       "[1] Standard Errors assume that the covariance matrix of the errors is correctly specified.\n",
       "\"\"\""
      ]
     },
     "metadata": {},
     "output_type": "display_data"
    },
    {
     "name": "stdout",
     "output_type": "stream",
     "text": [
      "\n",
      "SSR1 : 160.46518224103016\n",
      "\n",
      "F : 1.2565733079964547\n",
      "p-val : 0.28571617531985405\n"
     ]
    }
   ],
   "source": [
    "# Modèle contraint pour β_nwifeinc + β_city = 0.1, β_educ + β_exper = 0.1\n",
    "# Avec la réécriture ci-dessus, on suppose que les θ valent 0 :\n",
    "y11 = y - 0.1*(df[\"nwifeinc\"] + df[\"educ\"])\n",
    "X11 = np.column_stack((const, df[\"city\"]-df[\"nwifeinc\"], df[\"exper\"]-df[\"educ\"], df[\"kidslt6\"], df[\"kidsge6\"]))\n",
    "\n",
    "model = sm.OLS(y11,X11)\n",
    "results = model.fit()\n",
    "display(results.summary())\n",
    "print()\n",
    "u = results.resid\n",
    "\n",
    "# Calcul des sum of squares residuals\n",
    "SSR1 = u.T@u\n",
    "print(\"SSR1 :\", SSR1)\n",
    "print()\n",
    "\n",
    "# Calcul de la statistique de Fisher pour les θ = 0\n",
    "n, k = np.shape(X)\n",
    "\n",
    "# On a deux contraintes\n",
    "cont = 2\n",
    "\n",
    "# Calcul de la statistique de test F\n",
    "F = ((SSR1-SSR0)/cont)/(SSR0/(n-k))\n",
    "print(\"F :\", F)\n",
    "print(\"p-val :\", f.sf(F, cont, n-k))"
   ]
  },
  {
   "cell_type": "markdown",
   "id": "d934210c",
   "metadata": {
    "id": "d934210c"
   },
   "source": [
    "**Commentaire :**\n",
    "On ne peut pas rejeter l'hypothèse nulle pour un seuil de 5% (il nous faudrait un seuil de 29% pour rejeter l'hypothèse nulle), c'est-à-dire que l'hypothèse jointe que les coefficients de ces variables somment à 0.1 ne peut pas être invalidée."
   ]
  },
  {
   "cell_type": "markdown",
   "id": "c78f9eae",
   "metadata": {
    "id": "c78f9eae"
   },
   "source": [
    "### Question 12 - Faites une représentation graphique de la manière dont le salaire augmente avec l’éducation et l’expérience professionnelle. Commentez."
   ]
  },
  {
   "cell_type": "code",
   "execution_count": 17,
   "id": "dd525616",
   "metadata": {
    "id": "dd525616",
    "outputId": "4f5c334f-e9a6-4e60-8d58-3225d534cb6e"
   },
   "outputs": [
    {
     "data": {
      "image/png": "[encoded data removed]",
      "text/plain": [
       "<Figure size 1080x432 with 2 Axes>"
      ]
     },
     "metadata": {
      "needs_background": "light"
     },
     "output_type": "display_data"
    }
   ],
   "source": [
    "fig = plt.figure(figsize=(15,6))\n",
    "\n",
    "# Tracé du salaire en fonction de l'éducation\n",
    "ax = fig.add_subplot(1,2,1)\n",
    "ax.scatter(df[\"educ\"], df[\"wage\"])\n",
    "ax.set_xlabel(\"Éducation\")\n",
    "ax.set_ylabel(\"Salaire\")\n",
    "ax.set_title(\"Salaire en fonction du niveau d'éducation\")\n",
    "\n",
    "# Tracé du salaire en fonction de l'expérience\n",
    "ax = fig.add_subplot(1,2,2)\n",
    "ax.scatter(df[\"exper\"], df[\"wage\"])\n",
    "ax.set_xlabel(\"Expérience professionnelle\")\n",
    "ax.set_ylabel(\"Salaire\")\n",
    "ax.set_title(\"Salaire en fonction de l'expérience\")\n",
    "plt.show()"
   ]
  },
  {
   "cell_type": "code",
   "execution_count": 18,
   "id": "6793a500",
   "metadata": {
    "id": "6793a500",
    "outputId": "eeb412a7-7d73-4ce9-d147-5cb85953b1ee"
   },
   "outputs": [
    {
     "data": {
      "image/png": "[encoded data removed]",
      "text/plain": [
       "<Figure size 864x864 with 1 Axes>"
      ]
     },
     "metadata": {
      "needs_background": "light"
     },
     "output_type": "display_data"
    }
   ],
   "source": [
    "# Visualisation 3D du salaire en fonction de l'éducation et de l'expérience\n",
    "\n",
    "fig = plt.figure(figsize=(12,12))\n",
    "ax = fig.add_subplot(projection='3d')\n",
    "ax.scatter(df[\"educ\"], df[\"exper\"], df[\"wage\"])\n",
    "ax.set_xlabel(\"Éducation\")\n",
    "ax.set_ylabel(\"Expérience\")\n",
    "ax.set_zlabel(\"Salaire\")\n",
    "ax.view_init(20,20)\n",
    "plt.show()"
   ]
  },
  {
   "cell_type": "markdown",
   "id": "beda0b1b",
   "metadata": {
    "id": "beda0b1b"
   },
   "source": [
    "**Commentaire :**  \n",
    "On voit ce qui semble être une relation positive entre l'expérience et le salaire, ainsi qu'entre l'éducation et le salaire, cependant il existe des outliers (des observations pour lesquelles le salaire est élevé malgré une faible valeur d'expérience/éducation, en particulier pour l'expérience) qui rendent difficile l'interprétation visuelle."
   ]
  },
  {
   "cell_type": "markdown",
   "id": "5969216d",
   "metadata": {
    "id": "5969216d"
   },
   "source": [
    "### Question 13 - Tester l’égalité des coefficients associés aux variables kidsge6 et kidslt6. Interprétez."
   ]
  },
  {
   "cell_type": "markdown",
   "id": "0a3f7d13",
   "metadata": {
    "id": "0a3f7d13"
   },
   "source": [
    "On avait notre modèle :\n",
    "$$logwage = \\beta_0 + \\beta_{city}x_1 + \\beta_{educ}x_2 + \\beta_{exper}x_3 + \\beta_{nwifeinc}x_4 + \\beta_{kidslt6}x_5 + \\beta_{kidsge6}x_6$$\n",
    "\n",
    "Si :  \n",
    "$$\\theta = \\beta_{kidslt6} - \\beta_{kidsge6}$$ \n",
    "Alors :  \n",
    "$$\\beta_{kidslt6} = \\beta_{kidsge6} - \\theta$$\n",
    "\n",
    "Donc :\n",
    "$$logwage = \\beta_0 + \\beta_{city}x_1 + \\beta_{educ}x_2 + \\beta_{exper}x_3 + \\beta_{nwifeinc}x_4 + (\\beta_{kidsge6} - \\theta)x_5 + \\beta_{kidsge6}x_6$$\n",
    "$$logwage = \\beta_0 + \\beta_{city}x_1 + \\beta_{educ}x_2 + \\beta_{exper}x_3 + \\beta_{nwifeinc}x_4 + \\beta_{kidsge6}(x_5 + x_6) - \\theta x_6$$"
   ]
  },
  {
   "cell_type": "code",
   "execution_count": 19,
   "id": "ac0ce03a",
   "metadata": {
    "id": "ac0ce03a",
    "outputId": "059acbb5-0dfa-4876-8dcb-e2d63cab363e"
   },
   "outputs": [
    {
     "data": {
      "text/html": [
       "<table class=\"simpletable\">\n",
       "<caption>OLS Regression Results</caption>\n",
       "<tr>\n",
       "  <th>Dep. Variable:</th>          <td>wage</td>       <th>  R-squared:         </th> <td>   0.172</td>\n",
       "</tr>\n",
       "<tr>\n",
       "  <th>Model:</th>                   <td>OLS</td>       <th>  Adj. R-squared:    </th> <td>   0.162</td>\n",
       "</tr>\n",
       "<tr>\n",
       "  <th>Method:</th>             <td>Least Squares</td>  <th>  F-statistic:       </th> <td>   17.21</td>\n",
       "</tr>\n",
       "<tr>\n",
       "  <th>Date:</th>             <td>Wed, 11 May 2022</td> <th>  Prob (F-statistic):</th> <td>1.78e-15</td>\n",
       "</tr>\n",
       "<tr>\n",
       "  <th>Time:</th>                 <td>15:08:08</td>     <th>  Log-Likelihood:    </th> <td> -392.45</td>\n",
       "</tr>\n",
       "<tr>\n",
       "  <th>No. Observations:</th>      <td>   419</td>      <th>  AIC:               </th> <td>   796.9</td>\n",
       "</tr>\n",
       "<tr>\n",
       "  <th>Df Residuals:</th>          <td>   413</td>      <th>  BIC:               </th> <td>   821.1</td>\n",
       "</tr>\n",
       "<tr>\n",
       "  <th>Df Model:</th>              <td>     5</td>      <th>                     </th>     <td> </td>   \n",
       "</tr>\n",
       "<tr>\n",
       "  <th>Covariance Type:</th>      <td>nonrobust</td>    <th>                     </th>     <td> </td>   \n",
       "</tr>\n",
       "</table>\n",
       "<table class=\"simpletable\">\n",
       "<tr>\n",
       "    <td></td>       <th>coef</th>     <th>std err</th>      <th>t</th>      <th>P>|t|</th>  <th>[0.025</th>    <th>0.975]</th>  \n",
       "</tr>\n",
       "<tr>\n",
       "  <th>const</th> <td>   -0.4209</td> <td>    0.194</td> <td>   -2.173</td> <td> 0.030</td> <td>   -0.802</td> <td>   -0.040</td>\n",
       "</tr>\n",
       "<tr>\n",
       "  <th>x1</th>    <td>    0.0220</td> <td>    0.066</td> <td>    0.335</td> <td> 0.738</td> <td>   -0.107</td> <td>    0.151</td>\n",
       "</tr>\n",
       "<tr>\n",
       "  <th>x2</th>    <td>    0.0045</td> <td>    0.003</td> <td>    1.453</td> <td> 0.147</td> <td>   -0.002</td> <td>    0.011</td>\n",
       "</tr>\n",
       "<tr>\n",
       "  <th>x3</th>    <td>    0.0191</td> <td>    0.004</td> <td>    4.537</td> <td> 0.000</td> <td>    0.011</td> <td>    0.027</td>\n",
       "</tr>\n",
       "<tr>\n",
       "  <th>x4</th>    <td>    0.0976</td> <td>    0.014</td> <td>    6.973</td> <td> 0.000</td> <td>    0.070</td> <td>    0.125</td>\n",
       "</tr>\n",
       "<tr>\n",
       "  <th>x5</th>    <td>   -0.0061</td> <td>    0.024</td> <td>   -0.257</td> <td> 0.797</td> <td>   -0.053</td> <td>    0.041</td>\n",
       "</tr>\n",
       "</table>\n",
       "<table class=\"simpletable\">\n",
       "<tr>\n",
       "  <th>Omnibus:</th>       <td>124.653</td> <th>  Durbin-Watson:     </th> <td>   1.872</td>\n",
       "</tr>\n",
       "<tr>\n",
       "  <th>Prob(Omnibus):</th> <td> 0.000</td>  <th>  Jarque-Bera (JB):  </th> <td> 391.035</td>\n",
       "</tr>\n",
       "<tr>\n",
       "  <th>Skew:</th>          <td>-1.364</td>  <th>  Prob(JB):          </th> <td>1.22e-85</td>\n",
       "</tr>\n",
       "<tr>\n",
       "  <th>Kurtosis:</th>      <td> 6.868</td>  <th>  Cond. No.          </th> <td>    176.</td>\n",
       "</tr>\n",
       "</table><br/><br/>Notes:<br/>[1] Standard Errors assume that the covariance matrix of the errors is correctly specified."
      ],
      "text/plain": [
       "<class 'statsmodels.iolib.summary.Summary'>\n",
       "\"\"\"\n",
       "                            OLS Regression Results                            \n",
       "==============================================================================\n",
       "Dep. Variable:                   wage   R-squared:                       0.172\n",
       "Model:                            OLS   Adj. R-squared:                  0.162\n",
       "Method:                 Least Squares   F-statistic:                     17.21\n",
       "Date:                Wed, 11 May 2022   Prob (F-statistic):           1.78e-15\n",
       "Time:                        15:08:08   Log-Likelihood:                -392.45\n",
       "No. Observations:                 419   AIC:                             796.9\n",
       "Df Residuals:                     413   BIC:                             821.1\n",
       "Df Model:                           5                                         \n",
       "Covariance Type:            nonrobust                                         \n",
       "==============================================================================\n",
       "                 coef    std err          t      P>|t|      [0.025      0.975]\n",
       "------------------------------------------------------------------------------\n",
       "const         -0.4209      0.194     -2.173      0.030      -0.802      -0.040\n",
       "x1             0.0220      0.066      0.335      0.738      -0.107       0.151\n",
       "x2             0.0045      0.003      1.453      0.147      -0.002       0.011\n",
       "x3             0.0191      0.004      4.537      0.000       0.011       0.027\n",
       "x4             0.0976      0.014      6.973      0.000       0.070       0.125\n",
       "x5            -0.0061      0.024     -0.257      0.797      -0.053       0.041\n",
       "==============================================================================\n",
       "Omnibus:                      124.653   Durbin-Watson:                   1.872\n",
       "Prob(Omnibus):                  0.000   Jarque-Bera (JB):              391.035\n",
       "Skew:                          -1.364   Prob(JB):                     1.22e-85\n",
       "Kurtosis:                       6.868   Cond. No.                         176.\n",
       "==============================================================================\n",
       "\n",
       "Notes:\n",
       "[1] Standard Errors assume that the covariance matrix of the errors is correctly specified.\n",
       "\"\"\""
      ]
     },
     "metadata": {},
     "output_type": "display_data"
    },
    {
     "name": "stdout",
     "output_type": "stream",
     "text": [
      "\n",
      "SSR1 : 159.693225715759\n",
      "\n",
      "F : 0.5190309837291402\n",
      "p-val : 0.4716638705520644\n"
     ]
    }
   ],
   "source": [
    "# Modèle contraint pour β_kidslt6 = β_kidsge6\n",
    "# Avec la réécriture ci-dessus, on suppose que θ = 0 :\n",
    "y13 = y \n",
    "X13 = np.column_stack((const, df[\"city\"], df[\"nwifeinc\"], df[\"exper\"], df[\"educ\"], df[\"kidslt6\"] + df[\"kidsge6\"]))\n",
    "\n",
    "model = sm.OLS(y13,X13)\n",
    "results = model.fit()\n",
    "display(results.summary())\n",
    "print()\n",
    "u = results.resid\n",
    "\n",
    "# Calcul des sum of squares residuals\n",
    "SSR1 = u.T@u\n",
    "print(\"SSR1 :\", SSR1)\n",
    "print()\n",
    "\n",
    "# Calcul de la statistique de Fisher pour θ = 0\n",
    "n, k = np.shape(X)\n",
    "\n",
    "# On a une seule contrainte\n",
    "cont = 1\n",
    "\n",
    "# Calcul de la statistique de test F\n",
    "F = ((SSR1-SSR0)/cont)/(SSR0/(n-k))\n",
    "print(\"F :\", F)\n",
    "print(\"p-val :\", f.sf(F, cont, n-k))"
   ]
  },
  {
   "cell_type": "markdown",
   "id": "22cbef98",
   "metadata": {
    "id": "22cbef98"
   },
   "source": [
    "**Commentaire :**\n",
    "On ne peut pas rejeter l'hypothèse nulle pour un seuil de 5% (il nous faudrait un seuil de 48% pour rejeter l'hypothèse nulle), c'est-à-dire que l'hypothèse que les coefficients de ces variables sont égaux ne peut être invalidée."
   ]
  },
  {
   "cell_type": "markdown",
   "id": "58df6d8b",
   "metadata": {
    "id": "58df6d8b"
   },
   "source": [
    "### Question 14 - Faire le test d'hétéroscédasticité de forme linéaire en donnant la p-valeur. Déterminer la ou les sources d’hétéroscédasticité et corriger avec les méthodes vues en cours. Comparer les écarts-types des coefficients estimés avec ceux obtenus à la question 7. Commenter."
   ]
  },
  {
   "cell_type": "markdown",
   "id": "2eda1718",
   "metadata": {},
   "source": [
    "On commence par faire la régression linéaire du carré des résidus :"
   ]
  },
  {
   "cell_type": "code",
   "execution_count": 20,
   "id": "450d1116",
   "metadata": {
    "id": "450d1116",
    "outputId": "0f28929b-9688-47db-828c-e8318997e08d"
   },
   "outputs": [
    {
     "data": {
      "text/html": [
       "<table class=\"simpletable\">\n",
       "<caption>OLS Regression Results</caption>\n",
       "<tr>\n",
       "  <th>Dep. Variable:</th>            <td>y</td>        <th>  R-squared:         </th> <td>   0.020</td>\n",
       "</tr>\n",
       "<tr>\n",
       "  <th>Model:</th>                   <td>OLS</td>       <th>  Adj. R-squared:    </th> <td>   0.006</td>\n",
       "</tr>\n",
       "<tr>\n",
       "  <th>Method:</th>             <td>Least Squares</td>  <th>  F-statistic:       </th> <td>   1.413</td>\n",
       "</tr>\n",
       "<tr>\n",
       "  <th>Date:</th>             <td>Wed, 11 May 2022</td> <th>  Prob (F-statistic):</th>  <td> 0.208</td> \n",
       "</tr>\n",
       "<tr>\n",
       "  <th>Time:</th>                 <td>15:08:08</td>     <th>  Log-Likelihood:    </th> <td> -556.50</td>\n",
       "</tr>\n",
       "<tr>\n",
       "  <th>No. Observations:</th>      <td>   419</td>      <th>  AIC:               </th> <td>   1127.</td>\n",
       "</tr>\n",
       "<tr>\n",
       "  <th>Df Residuals:</th>          <td>   412</td>      <th>  BIC:               </th> <td>   1155.</td>\n",
       "</tr>\n",
       "<tr>\n",
       "  <th>Df Model:</th>              <td>     6</td>      <th>                     </th>     <td> </td>   \n",
       "</tr>\n",
       "<tr>\n",
       "  <th>Covariance Type:</th>      <td>nonrobust</td>    <th>                     </th>     <td> </td>   \n",
       "</tr>\n",
       "</table>\n",
       "<table class=\"simpletable\">\n",
       "<tr>\n",
       "    <td></td>       <th>coef</th>     <th>std err</th>      <th>t</th>      <th>P>|t|</th>  <th>[0.025</th>    <th>0.975]</th>  \n",
       "</tr>\n",
       "<tr>\n",
       "  <th>const</th> <td>    0.2711</td> <td>    0.289</td> <td>    0.938</td> <td> 0.349</td> <td>   -0.297</td> <td>    0.839</td>\n",
       "</tr>\n",
       "<tr>\n",
       "  <th>x1</th>    <td>    0.0679</td> <td>    0.097</td> <td>    0.697</td> <td> 0.486</td> <td>   -0.123</td> <td>    0.259</td>\n",
       "</tr>\n",
       "<tr>\n",
       "  <th>x2</th>    <td>    0.0158</td> <td>    0.021</td> <td>    0.751</td> <td> 0.453</td> <td>   -0.026</td> <td>    0.057</td>\n",
       "</tr>\n",
       "<tr>\n",
       "  <th>x3</th>    <td>   -0.0098</td> <td>    0.006</td> <td>   -1.569</td> <td> 0.117</td> <td>   -0.022</td> <td>    0.002</td>\n",
       "</tr>\n",
       "<tr>\n",
       "  <th>x4</th>    <td>   -0.0041</td> <td>    0.005</td> <td>   -0.880</td> <td> 0.379</td> <td>   -0.013</td> <td>    0.005</td>\n",
       "</tr>\n",
       "<tr>\n",
       "  <th>x5</th>    <td>    0.0949</td> <td>    0.119</td> <td>    0.799</td> <td> 0.424</td> <td>   -0.138</td> <td>    0.328</td>\n",
       "</tr>\n",
       "<tr>\n",
       "  <th>x6</th>    <td>    0.0433</td> <td>    0.037</td> <td>    1.159</td> <td> 0.247</td> <td>   -0.030</td> <td>    0.117</td>\n",
       "</tr>\n",
       "</table>\n",
       "<table class=\"simpletable\">\n",
       "<tr>\n",
       "  <th>Omnibus:</th>       <td>515.107</td> <th>  Durbin-Watson:     </th> <td>   1.739</td> \n",
       "</tr>\n",
       "<tr>\n",
       "  <th>Prob(Omnibus):</th> <td> 0.000</td>  <th>  Jarque-Bera (JB):  </th> <td>35331.114</td>\n",
       "</tr>\n",
       "<tr>\n",
       "  <th>Skew:</th>          <td> 5.931</td>  <th>  Prob(JB):          </th> <td>    0.00</td> \n",
       "</tr>\n",
       "<tr>\n",
       "  <th>Kurtosis:</th>      <td>46.394</td>  <th>  Cond. No.          </th> <td>    178.</td> \n",
       "</tr>\n",
       "</table><br/><br/>Notes:<br/>[1] Standard Errors assume that the covariance matrix of the errors is correctly specified."
      ],
      "text/plain": [
       "<class 'statsmodels.iolib.summary.Summary'>\n",
       "\"\"\"\n",
       "                            OLS Regression Results                            \n",
       "==============================================================================\n",
       "Dep. Variable:                      y   R-squared:                       0.020\n",
       "Model:                            OLS   Adj. R-squared:                  0.006\n",
       "Method:                 Least Squares   F-statistic:                     1.413\n",
       "Date:                Wed, 11 May 2022   Prob (F-statistic):              0.208\n",
       "Time:                        15:08:08   Log-Likelihood:                -556.50\n",
       "No. Observations:                 419   AIC:                             1127.\n",
       "Df Residuals:                     412   BIC:                             1155.\n",
       "Df Model:                           6                                         \n",
       "Covariance Type:            nonrobust                                         \n",
       "==============================================================================\n",
       "                 coef    std err          t      P>|t|      [0.025      0.975]\n",
       "------------------------------------------------------------------------------\n",
       "const          0.2711      0.289      0.938      0.349      -0.297       0.839\n",
       "x1             0.0679      0.097      0.697      0.486      -0.123       0.259\n",
       "x2             0.0158      0.021      0.751      0.453      -0.026       0.057\n",
       "x3            -0.0098      0.006     -1.569      0.117      -0.022       0.002\n",
       "x4            -0.0041      0.005     -0.880      0.379      -0.013       0.005\n",
       "x5             0.0949      0.119      0.799      0.424      -0.138       0.328\n",
       "x6             0.0433      0.037      1.159      0.247      -0.030       0.117\n",
       "==============================================================================\n",
       "Omnibus:                      515.107   Durbin-Watson:                   1.739\n",
       "Prob(Omnibus):                  0.000   Jarque-Bera (JB):            35331.114\n",
       "Skew:                           5.931   Prob(JB):                         0.00\n",
       "Kurtosis:                      46.394   Cond. No.                         178.\n",
       "==============================================================================\n",
       "\n",
       "Notes:\n",
       "[1] Standard Errors assume that the covariance matrix of the errors is correctly specified.\n",
       "\"\"\""
      ]
     },
     "metadata": {},
     "output_type": "display_data"
    }
   ],
   "source": [
    "model = sm.OLS(y, X)\n",
    "results = model.fit()\n",
    "u = results.resid\n",
    "model = sm.OLS(u**2, X)\n",
    "results = model.fit()\n",
    "display(results.summary())"
   ]
  },
  {
   "cell_type": "markdown",
   "id": "64e0cc68",
   "metadata": {
    "id": "64e0cc68"
   },
   "source": [
    "**Commentaire :**\n",
    "On a F = 1.413 et la p-valeur associée 0.208.  \n",
    "On ne peut pas rejeter $H_0$ avec un seuil de 5%.  \n",
    "Ici, on constate que l'hypothèse $\\beta_{exper} = 0$ est rejetée avec un seuil de confiance inférieur à 12%. On suppose que cette variable est responsable de l'hétéroscédasticité.  \n",
    "D'après le cours, on peut corriger l'hétéroscédasticité en travaillant sur les variables pour lesquelles le coefficient est corrélé avec un fort niveau de confiance aux résidus. "
   ]
  },
  {
   "cell_type": "markdown",
   "id": "9f9a04ff",
   "metadata": {},
   "source": [
    "On procède alors à une régression pondérée par les valeurs de cette variable, puis on refait la régression des résidus au carré.  \n",
    "NB : Certaines valeurs de exper sont nulles. Afin de conserver toutes nos données, mais d'éviter de diviser par 0, on ajoute 1 à toutes les valeurs dans les poids. On aurait pu ajouter un epsilon proche de 0, mais cette approche aurait donné un poids énorme aux données d'expérience nulle, ajouter 1 nous semblait donc moins biaisé."
   ]
  },
  {
   "cell_type": "code",
   "execution_count": 21,
   "id": "348e8e43",
   "metadata": {
    "id": "348e8e43",
    "outputId": "7823bfe5-9b76-4c9d-efef-9c16aa44816d"
   },
   "outputs": [
    {
     "data": {
      "text/html": [
       "<table class=\"simpletable\">\n",
       "<caption>WLS Regression Results</caption>\n",
       "<tr>\n",
       "  <th>Dep. Variable:</th>          <td>wage</td>       <th>  R-squared:         </th> <td>   0.194</td>\n",
       "</tr>\n",
       "<tr>\n",
       "  <th>Model:</th>                   <td>WLS</td>       <th>  Adj. R-squared:    </th> <td>   0.183</td>\n",
       "</tr>\n",
       "<tr>\n",
       "  <th>Method:</th>             <td>Least Squares</td>  <th>  F-statistic:       </th> <td>   16.56</td>\n",
       "</tr>\n",
       "<tr>\n",
       "  <th>Date:</th>             <td>Wed, 11 May 2022</td> <th>  Prob (F-statistic):</th> <td>4.01e-17</td>\n",
       "</tr>\n",
       "<tr>\n",
       "  <th>Time:</th>                 <td>15:08:08</td>     <th>  Log-Likelihood:    </th> <td> -505.73</td>\n",
       "</tr>\n",
       "<tr>\n",
       "  <th>No. Observations:</th>      <td>   419</td>      <th>  AIC:               </th> <td>   1025.</td>\n",
       "</tr>\n",
       "<tr>\n",
       "  <th>Df Residuals:</th>          <td>   412</td>      <th>  BIC:               </th> <td>   1054.</td>\n",
       "</tr>\n",
       "<tr>\n",
       "  <th>Df Model:</th>              <td>     6</td>      <th>                     </th>     <td> </td>   \n",
       "</tr>\n",
       "<tr>\n",
       "  <th>Covariance Type:</th>      <td>nonrobust</td>    <th>                     </th>     <td> </td>   \n",
       "</tr>\n",
       "</table>\n",
       "<table class=\"simpletable\">\n",
       "<tr>\n",
       "    <td></td>       <th>coef</th>     <th>std err</th>      <th>t</th>      <th>P>|t|</th>  <th>[0.025</th>    <th>0.975]</th>  \n",
       "</tr>\n",
       "<tr>\n",
       "  <th>const</th> <td>   -0.5842</td> <td>    0.215</td> <td>   -2.715</td> <td> 0.007</td> <td>   -1.007</td> <td>   -0.161</td>\n",
       "</tr>\n",
       "<tr>\n",
       "  <th>x1</th>    <td>   -0.1439</td> <td>    0.074</td> <td>   -1.944</td> <td> 0.053</td> <td>   -0.289</td> <td>    0.002</td>\n",
       "</tr>\n",
       "<tr>\n",
       "  <th>x2</th>    <td>    0.1039</td> <td>    0.017</td> <td>    6.082</td> <td> 0.000</td> <td>    0.070</td> <td>    0.138</td>\n",
       "</tr>\n",
       "<tr>\n",
       "  <th>x3</th>    <td>    0.0329</td> <td>    0.005</td> <td>    6.118</td> <td> 0.000</td> <td>    0.022</td> <td>    0.043</td>\n",
       "</tr>\n",
       "<tr>\n",
       "  <th>x4</th>    <td>    0.0047</td> <td>    0.003</td> <td>    1.515</td> <td> 0.130</td> <td>   -0.001</td> <td>    0.011</td>\n",
       "</tr>\n",
       "<tr>\n",
       "  <th>x5</th>    <td>   -0.1683</td> <td>    0.082</td> <td>   -2.054</td> <td> 0.041</td> <td>   -0.329</td> <td>   -0.007</td>\n",
       "</tr>\n",
       "<tr>\n",
       "  <th>x6</th>    <td>    0.0129</td> <td>    0.028</td> <td>    0.463</td> <td> 0.643</td> <td>   -0.042</td> <td>    0.068</td>\n",
       "</tr>\n",
       "</table>\n",
       "<table class=\"simpletable\">\n",
       "<tr>\n",
       "  <th>Omnibus:</th>       <td>239.436</td> <th>  Durbin-Watson:     </th> <td>   1.911</td>\n",
       "</tr>\n",
       "<tr>\n",
       "  <th>Prob(Omnibus):</th> <td> 0.000</td>  <th>  Jarque-Bera (JB):  </th> <td>3166.989</td>\n",
       "</tr>\n",
       "<tr>\n",
       "  <th>Skew:</th>          <td>-2.153</td>  <th>  Prob(JB):          </th> <td>    0.00</td>\n",
       "</tr>\n",
       "<tr>\n",
       "  <th>Kurtosis:</th>      <td>15.762</td>  <th>  Cond. No.          </th> <td>    169.</td>\n",
       "</tr>\n",
       "</table><br/><br/>Notes:<br/>[1] Standard Errors assume that the covariance matrix of the errors is correctly specified."
      ],
      "text/plain": [
       "<class 'statsmodels.iolib.summary.Summary'>\n",
       "\"\"\"\n",
       "                            WLS Regression Results                            \n",
       "==============================================================================\n",
       "Dep. Variable:                   wage   R-squared:                       0.194\n",
       "Model:                            WLS   Adj. R-squared:                  0.183\n",
       "Method:                 Least Squares   F-statistic:                     16.56\n",
       "Date:                Wed, 11 May 2022   Prob (F-statistic):           4.01e-17\n",
       "Time:                        15:08:08   Log-Likelihood:                -505.73\n",
       "No. Observations:                 419   AIC:                             1025.\n",
       "Df Residuals:                     412   BIC:                             1054.\n",
       "Df Model:                           6                                         \n",
       "Covariance Type:            nonrobust                                         \n",
       "==============================================================================\n",
       "                 coef    std err          t      P>|t|      [0.025      0.975]\n",
       "------------------------------------------------------------------------------\n",
       "const         -0.5842      0.215     -2.715      0.007      -1.007      -0.161\n",
       "x1            -0.1439      0.074     -1.944      0.053      -0.289       0.002\n",
       "x2             0.1039      0.017      6.082      0.000       0.070       0.138\n",
       "x3             0.0329      0.005      6.118      0.000       0.022       0.043\n",
       "x4             0.0047      0.003      1.515      0.130      -0.001       0.011\n",
       "x5            -0.1683      0.082     -2.054      0.041      -0.329      -0.007\n",
       "x6             0.0129      0.028      0.463      0.643      -0.042       0.068\n",
       "==============================================================================\n",
       "Omnibus:                      239.436   Durbin-Watson:                   1.911\n",
       "Prob(Omnibus):                  0.000   Jarque-Bera (JB):             3166.989\n",
       "Skew:                          -2.153   Prob(JB):                         0.00\n",
       "Kurtosis:                      15.762   Cond. No.                         169.\n",
       "==============================================================================\n",
       "\n",
       "Notes:\n",
       "[1] Standard Errors assume that the covariance matrix of the errors is correctly specified.\n",
       "\"\"\""
      ]
     },
     "metadata": {},
     "output_type": "display_data"
    },
    {
     "data": {
      "text/html": [
       "<table class=\"simpletable\">\n",
       "<caption>OLS Regression Results</caption>\n",
       "<tr>\n",
       "  <th>Dep. Variable:</th>            <td>y</td>        <th>  R-squared:         </th> <td>   0.015</td>\n",
       "</tr>\n",
       "<tr>\n",
       "  <th>Model:</th>                   <td>OLS</td>       <th>  Adj. R-squared:    </th> <td>   0.001</td>\n",
       "</tr>\n",
       "<tr>\n",
       "  <th>Method:</th>             <td>Least Squares</td>  <th>  F-statistic:       </th> <td>   1.039</td>\n",
       "</tr>\n",
       "<tr>\n",
       "  <th>Date:</th>             <td>Wed, 11 May 2022</td> <th>  Prob (F-statistic):</th>  <td> 0.399</td> \n",
       "</tr>\n",
       "<tr>\n",
       "  <th>Time:</th>                 <td>15:08:08</td>     <th>  Log-Likelihood:    </th> <td> -554.87</td>\n",
       "</tr>\n",
       "<tr>\n",
       "  <th>No. Observations:</th>      <td>   419</td>      <th>  AIC:               </th> <td>   1124.</td>\n",
       "</tr>\n",
       "<tr>\n",
       "  <th>Df Residuals:</th>          <td>   412</td>      <th>  BIC:               </th> <td>   1152.</td>\n",
       "</tr>\n",
       "<tr>\n",
       "  <th>Df Model:</th>              <td>     6</td>      <th>                     </th>     <td> </td>   \n",
       "</tr>\n",
       "<tr>\n",
       "  <th>Covariance Type:</th>      <td>nonrobust</td>    <th>                     </th>     <td> </td>   \n",
       "</tr>\n",
       "</table>\n",
       "<table class=\"simpletable\">\n",
       "<tr>\n",
       "    <td></td>       <th>coef</th>     <th>std err</th>      <th>t</th>      <th>P>|t|</th>  <th>[0.025</th>    <th>0.975]</th>  \n",
       "</tr>\n",
       "<tr>\n",
       "  <th>const</th> <td>    0.2285</td> <td>    0.288</td> <td>    0.794</td> <td> 0.428</td> <td>   -0.337</td> <td>    0.794</td>\n",
       "</tr>\n",
       "<tr>\n",
       "  <th>x1</th>    <td>    0.0407</td> <td>    0.097</td> <td>    0.420</td> <td> 0.675</td> <td>   -0.150</td> <td>    0.231</td>\n",
       "</tr>\n",
       "<tr>\n",
       "  <th>x2</th>    <td>    0.0150</td> <td>    0.021</td> <td>    0.719</td> <td> 0.473</td> <td>   -0.026</td> <td>    0.056</td>\n",
       "</tr>\n",
       "<tr>\n",
       "  <th>x3</th>    <td>   -0.0041</td> <td>    0.006</td> <td>   -0.665</td> <td> 0.507</td> <td>   -0.016</td> <td>    0.008</td>\n",
       "</tr>\n",
       "<tr>\n",
       "  <th>x4</th>    <td>   -0.0041</td> <td>    0.005</td> <td>   -0.892</td> <td> 0.373</td> <td>   -0.013</td> <td>    0.005</td>\n",
       "</tr>\n",
       "<tr>\n",
       "  <th>x5</th>    <td>    0.1146</td> <td>    0.118</td> <td>    0.969</td> <td> 0.333</td> <td>   -0.118</td> <td>    0.347</td>\n",
       "</tr>\n",
       "<tr>\n",
       "  <th>x6</th>    <td>    0.0535</td> <td>    0.037</td> <td>    1.438</td> <td> 0.151</td> <td>   -0.020</td> <td>    0.127</td>\n",
       "</tr>\n",
       "</table>\n",
       "<table class=\"simpletable\">\n",
       "<tr>\n",
       "  <th>Omnibus:</th>       <td>518.298</td> <th>  Durbin-Watson:     </th> <td>   1.727</td> \n",
       "</tr>\n",
       "<tr>\n",
       "  <th>Prob(Omnibus):</th> <td> 0.000</td>  <th>  Jarque-Bera (JB):  </th> <td>40542.462</td>\n",
       "</tr>\n",
       "<tr>\n",
       "  <th>Skew:</th>          <td> 5.927</td>  <th>  Prob(JB):          </th> <td>    0.00</td> \n",
       "</tr>\n",
       "<tr>\n",
       "  <th>Kurtosis:</th>      <td>49.709</td>  <th>  Cond. No.          </th> <td>    178.</td> \n",
       "</tr>\n",
       "</table><br/><br/>Notes:<br/>[1] Standard Errors assume that the covariance matrix of the errors is correctly specified."
      ],
      "text/plain": [
       "<class 'statsmodels.iolib.summary.Summary'>\n",
       "\"\"\"\n",
       "                            OLS Regression Results                            \n",
       "==============================================================================\n",
       "Dep. Variable:                      y   R-squared:                       0.015\n",
       "Model:                            OLS   Adj. R-squared:                  0.001\n",
       "Method:                 Least Squares   F-statistic:                     1.039\n",
       "Date:                Wed, 11 May 2022   Prob (F-statistic):              0.399\n",
       "Time:                        15:08:08   Log-Likelihood:                -554.87\n",
       "No. Observations:                 419   AIC:                             1124.\n",
       "Df Residuals:                     412   BIC:                             1152.\n",
       "Df Model:                           6                                         \n",
       "Covariance Type:            nonrobust                                         \n",
       "==============================================================================\n",
       "                 coef    std err          t      P>|t|      [0.025      0.975]\n",
       "------------------------------------------------------------------------------\n",
       "const          0.2285      0.288      0.794      0.428      -0.337       0.794\n",
       "x1             0.0407      0.097      0.420      0.675      -0.150       0.231\n",
       "x2             0.0150      0.021      0.719      0.473      -0.026       0.056\n",
       "x3            -0.0041      0.006     -0.665      0.507      -0.016       0.008\n",
       "x4            -0.0041      0.005     -0.892      0.373      -0.013       0.005\n",
       "x5             0.1146      0.118      0.969      0.333      -0.118       0.347\n",
       "x6             0.0535      0.037      1.438      0.151      -0.020       0.127\n",
       "==============================================================================\n",
       "Omnibus:                      518.298   Durbin-Watson:                   1.727\n",
       "Prob(Omnibus):                  0.000   Jarque-Bera (JB):            40542.462\n",
       "Skew:                           5.927   Prob(JB):                         0.00\n",
       "Kurtosis:                      49.709   Cond. No.                         178.\n",
       "==============================================================================\n",
       "\n",
       "Notes:\n",
       "[1] Standard Errors assume that the covariance matrix of the errors is correctly specified.\n",
       "\"\"\""
      ]
     },
     "metadata": {},
     "output_type": "display_data"
    }
   ],
   "source": [
    "# Régression pondérée\n",
    "model = sm.WLS(y, X, weights=1/(df[\"exper\"]+1))\n",
    "results = model.fit()\n",
    "display(results.summary())\n",
    "\n",
    "# Régression du carré des résidus\n",
    "u = results.resid\n",
    "model = sm.OLS(u**2, X)\n",
    "results = model.fit()\n",
    "display(results.summary())"
   ]
  },
  {
   "cell_type": "markdown",
   "id": "c73076aa",
   "metadata": {
    "id": "c73076aa"
   },
   "source": [
    "**Commentaire :**  \n",
    "On passe d'une p-valeur (pour notre statistique de test F) de 0.208 à une p-valeur de 0.399. On a donc corrigé l'hétéroscédasticité grâce à la méthode de pondération (Weighted Least Squares).\n",
    "\n",
    "On regarde maintenant les écarts-types des coefficients obtenus :"
   ]
  },
  {
   "cell_type": "code",
   "execution_count": 22,
   "id": "29868134",
   "metadata": {
    "id": "29868134",
    "outputId": "a2367589-ad6d-4a04-c960-340356b402c3"
   },
   "outputs": [
    {
     "name": "stdout",
     "output_type": "stream",
     "text": [
      "Coefficients du modèle de la question 7 :\n",
      "const    0.195239\n",
      "x1       0.065747\n",
      "x2       0.014201\n",
      "x3       0.004208\n",
      "x4       0.003133\n",
      "x5       0.080164\n",
      "x6       0.025232\n",
      "dtype: float64\n",
      "\n",
      "Coefficients du modèle corrigeant l'hétéroscédasticité :\n",
      "const    0.215167\n",
      "x1       0.074005\n",
      "x2       0.017089\n",
      "x3       0.005381\n",
      "x4       0.003096\n",
      "x5       0.081946\n",
      "x6       0.027935\n",
      "dtype: float64\n"
     ]
    }
   ],
   "source": [
    "model = sm.OLS(y, X)\n",
    "results = model.fit()\n",
    "print(\"Coefficients du modèle de la question 7 :\")\n",
    "print(results.bse)\n",
    "print()\n",
    "model = sm.WLS(y, X, weights=1/(df[\"exper\"]+1))\n",
    "results = model.fit()\n",
    "print(\"Coefficients du modèle corrigeant l'hétéroscédasticité :\")\n",
    "print(results.bse)"
   ]
  },
  {
   "cell_type": "markdown",
   "id": "a41384a8",
   "metadata": {
    "id": "a41384a8"
   },
   "source": [
    "**Commentaire :**  \n",
    "On augmente légèrement les écarts-types de nos coefficients en corrigeant l'hétéroscédasticité par la pondération."
   ]
  },
  {
   "cell_type": "markdown",
   "id": "c50c11f1",
   "metadata": {
    "id": "c50c11f1"
   },
   "source": [
    "### Question 15 - Tester le changement de structure de la question 8 entre les femmes qui ont plus de 43 ans et les autres : test sur l'ensemble des coefficients. Donnez les p-valeurs."
   ]
  },
  {
   "cell_type": "markdown",
   "id": "5ff4fb04",
   "metadata": {},
   "source": [
    "On calcule les différents indicateurs statistiques pour le cas des femmes âgées de moins de 43 ans :"
   ]
  },
  {
   "cell_type": "code",
   "execution_count": 23,
   "id": "05bf0493",
   "metadata": {
    "id": "05bf0493",
    "outputId": "3bf8654c-642c-42b7-a596-660caf59d245"
   },
   "outputs": [
    {
     "name": "stdout",
     "output_type": "stream",
     "text": [
      "Statistique de test t : 0.9929703589010751\n",
      "p-valeur associée : 0.3219007258344175\n",
      "\n",
      "La p-valeur montre qu'on ne pourrait rejeter l'hypothèse qu'avec un niveau de confiance de 57%.\n",
      "Pour le seuil de 5%, on ne peut pas rejeter l'hypothèse nulle.\n"
     ]
    }
   ],
   "source": [
    "dflt43 = df[df[\"age\"]<43]\n",
    "Xlt43 = np.column_stack((np.ones(len(dflt43)), dflt43[\"city\"], dflt43[\"educ\"], dflt43[\"exper\"], dflt43[\"nwifeinc\"], dflt43[\"kidslt6\"], dflt43[\"kidsge6\"]))\n",
    "ylt43 = y[df[\"age\"]<43]\n",
    "\n",
    "# On calcule les betas\n",
    "beta = np.linalg.inv(Xlt43.T @ Xlt43)@Xlt43.T@ylt43\n",
    "\n",
    "# On calcule les résidus\n",
    "u = ylt43 - Xlt43 @ beta.T\n",
    "\n",
    "# On extrait les dimensions de la matrice des features\n",
    "n, k = np.shape(Xlt43)\n",
    "\n",
    "# On calcule la variance des résidus\n",
    "sig2 = u.T @ u / (n-k)\n",
    "SSR0 = u.T @ u\n",
    "\n",
    "# On calcule la variance et l'écart-type des coefficients\n",
    "Var = sig2 * np.linalg.inv(Xlt43.T @ Xlt43)\n",
    "std = np.sqrt(np.diag(Var))\n",
    "\n",
    "# On utilise une loi de Student à n-k-1 degrés de liberté\n",
    "# On a déjà inclus la constante dans les variables de notre matrice de features Xlt43\n",
    "# Donc on peut tout simplement écrire les degrés de liberté comme Xlt43.shape[0]-Xlt43.shape[1]\n",
    "print(\"Statistique de test t :\", results.params[4]/std[4])\n",
    "print(\"p-valeur associée :\", t.sf(results.params[4]/std[4], Xlt43.shape[0]-Xlt43.shape[1])*2)\n",
    "print()\n",
    "print(\"La p-valeur montre qu'on ne pourrait rejeter l'hypothèse qu'avec un niveau de confiance de 57%.\")\n",
    "print(\"Pour le seuil de 5%, on ne peut pas rejeter l'hypothèse nulle.\")"
   ]
  },
  {
   "cell_type": "markdown",
   "id": "f46599ab",
   "metadata": {},
   "source": [
    "On calcule maintenant les différents indicateurs statistiques pour le cas des femmes âgées de 43 ans et plus :"
   ]
  },
  {
   "cell_type": "code",
   "execution_count": 24,
   "id": "470c4878",
   "metadata": {
    "id": "470c4878",
    "outputId": "5ec12353-1efa-44da-c1f1-dae7f0eefa25"
   },
   "outputs": [
    {
     "name": "stdout",
     "output_type": "stream",
     "text": [
      "Statistique de test t : 1.093576438892071\n",
      "p-valeur associée : 0.275449638464324\n",
      "\n",
      "La p-valeur montre qu'on ne pourrait rejeter l'hypothèse qu'avec un niveau de confiance de 72%.\n",
      "Pour le seuil de 5%, on ne peut pas rejeter l'hypothèse nulle.\n"
     ]
    }
   ],
   "source": [
    "dfge43 = df[df[\"age\"]>=43]\n",
    "Xge43 = np.column_stack((np.ones(len(dfge43)), dfge43[\"city\"], dfge43[\"educ\"], dfge43[\"exper\"], dfge43[\"nwifeinc\"], dfge43[\"kidslt6\"], dfge43[\"kidsge6\"]))\n",
    "yge43 = y[df[\"age\"]>=43]\n",
    "\n",
    "# On calcule les betas\n",
    "beta = np.linalg.inv(Xge43.T @ Xge43)@Xge43.T@yge43\n",
    "\n",
    "# On calcule les résidus\n",
    "u = yge43 - Xge43 @ beta.T\n",
    "\n",
    "# On extrait les dimensions de la matrice des features\n",
    "n, k = np.shape(Xge43)\n",
    "\n",
    "# On calcule la variance des résidus\n",
    "sig2 = u.T @ u / (n-k)\n",
    "SSR0 = u.T @ u\n",
    "\n",
    "# On calcule la variance et l'écart-type des coefficients\n",
    "Var = sig2 * np.linalg.inv(Xge43.T @ Xge43)\n",
    "std = np.sqrt(np.diag(Var))\n",
    "\n",
    "# On utilise une loi de Student à n-k-1 degrés de liberté\n",
    "# On a déjà inclus la constante dans les variables de notre matrice de features Xge43\n",
    "# Donc on peut tout simplement écrire les degrés de liberté comme Xge43.shape[0]-Xge43.shape[1]\n",
    "print(\"Statistique de test t :\", results.params[4]/std[4])\n",
    "print(\"p-valeur associée :\", t.sf(results.params[4]/std[4], Xge43.shape[0]-Xge43.shape[1])*2)\n",
    "print()\n",
    "print(\"La p-valeur montre qu'on ne pourrait rejeter l'hypothèse qu'avec un niveau de confiance de 72%.\")\n",
    "print(\"Pour le seuil de 5%, on ne peut pas rejeter l'hypothèse nulle.\")"
   ]
  },
  {
   "cell_type": "markdown",
   "id": "9bd206f6",
   "metadata": {
    "id": "9bd206f6"
   },
   "source": [
    "### Question 16 - Ajouter au modèle de la question 7 la variable huseduc. Faire ensuite la même régression en décomposant la variable huseduc en 4 variables binaires construites selon votre choix. Faire le test de non significativité de l’ensemble des variables binaires. Donnez les p-valeurs et commentez."
   ]
  },
  {
   "cell_type": "code",
   "execution_count": 25,
   "id": "445610a7",
   "metadata": {
    "id": "445610a7",
    "outputId": "c6c8c0a0-fa8a-4efd-c0e0-564227a52325"
   },
   "outputs": [
    {
     "data": {
      "text/html": [
       "<table class=\"simpletable\">\n",
       "<caption>OLS Regression Results</caption>\n",
       "<tr>\n",
       "  <th>Dep. Variable:</th>          <td>wage</td>       <th>  R-squared:         </th> <td>   0.175</td>\n",
       "</tr>\n",
       "<tr>\n",
       "  <th>Model:</th>                   <td>OLS</td>       <th>  Adj. R-squared:    </th> <td>   0.161</td>\n",
       "</tr>\n",
       "<tr>\n",
       "  <th>Method:</th>             <td>Least Squares</td>  <th>  F-statistic:       </th> <td>   12.50</td>\n",
       "</tr>\n",
       "<tr>\n",
       "  <th>Date:</th>             <td>Wed, 11 May 2022</td> <th>  Prob (F-statistic):</th> <td>1.53e-14</td>\n",
       "</tr>\n",
       "<tr>\n",
       "  <th>Time:</th>                 <td>15:08:08</td>     <th>  Log-Likelihood:    </th> <td> -391.67</td>\n",
       "</tr>\n",
       "<tr>\n",
       "  <th>No. Observations:</th>      <td>   419</td>      <th>  AIC:               </th> <td>   799.3</td>\n",
       "</tr>\n",
       "<tr>\n",
       "  <th>Df Residuals:</th>          <td>   411</td>      <th>  BIC:               </th> <td>   831.7</td>\n",
       "</tr>\n",
       "<tr>\n",
       "  <th>Df Model:</th>              <td>     7</td>      <th>                     </th>     <td> </td>   \n",
       "</tr>\n",
       "<tr>\n",
       "  <th>Covariance Type:</th>      <td>nonrobust</td>    <th>                     </th>     <td> </td>   \n",
       "</tr>\n",
       "</table>\n",
       "<table class=\"simpletable\">\n",
       "<tr>\n",
       "    <td></td>       <th>coef</th>     <th>std err</th>      <th>t</th>      <th>P>|t|</th>  <th>[0.025</th>    <th>0.975]</th>  \n",
       "</tr>\n",
       "<tr>\n",
       "  <th>const</th> <td>   -0.4025</td> <td>    0.198</td> <td>   -2.029</td> <td> 0.043</td> <td>   -0.793</td> <td>   -0.012</td>\n",
       "</tr>\n",
       "<tr>\n",
       "  <th>x1</th>    <td>    0.0326</td> <td>    0.066</td> <td>    0.491</td> <td> 0.624</td> <td>   -0.098</td> <td>    0.163</td>\n",
       "</tr>\n",
       "<tr>\n",
       "  <th>x2</th>    <td>    0.1082</td> <td>    0.017</td> <td>    6.451</td> <td> 0.000</td> <td>    0.075</td> <td>    0.141</td>\n",
       "</tr>\n",
       "<tr>\n",
       "  <th>x3</th>    <td>    0.0187</td> <td>    0.004</td> <td>    4.429</td> <td> 0.000</td> <td>    0.010</td> <td>    0.027</td>\n",
       "</tr>\n",
       "<tr>\n",
       "  <th>x4</th>    <td>    0.0049</td> <td>    0.003</td> <td>    1.548</td> <td> 0.123</td> <td>   -0.001</td> <td>    0.011</td>\n",
       "</tr>\n",
       "<tr>\n",
       "  <th>x5</th>    <td>   -0.0582</td> <td>    0.080</td> <td>   -0.725</td> <td> 0.469</td> <td>   -0.216</td> <td>    0.100</td>\n",
       "</tr>\n",
       "<tr>\n",
       "  <th>x6</th>    <td>   -0.0002</td> <td>    0.025</td> <td>   -0.009</td> <td> 0.993</td> <td>   -0.050</td> <td>    0.049</td>\n",
       "</tr>\n",
       "<tr>\n",
       "  <th>x7</th>    <td>   -0.0130</td> <td>    0.013</td> <td>   -1.001</td> <td> 0.317</td> <td>   -0.038</td> <td>    0.012</td>\n",
       "</tr>\n",
       "</table>\n",
       "<table class=\"simpletable\">\n",
       "<tr>\n",
       "  <th>Omnibus:</th>       <td>125.212</td> <th>  Durbin-Watson:     </th> <td>   1.876</td>\n",
       "</tr>\n",
       "<tr>\n",
       "  <th>Prob(Omnibus):</th> <td> 0.000</td>  <th>  Jarque-Bera (JB):  </th> <td> 399.472</td>\n",
       "</tr>\n",
       "<tr>\n",
       "  <th>Skew:</th>          <td>-1.363</td>  <th>  Prob(JB):          </th> <td>1.80e-87</td>\n",
       "</tr>\n",
       "<tr>\n",
       "  <th>Kurtosis:</th>      <td> 6.931</td>  <th>  Cond. No.          </th> <td>    198.</td>\n",
       "</tr>\n",
       "</table><br/><br/>Notes:<br/>[1] Standard Errors assume that the covariance matrix of the errors is correctly specified."
      ],
      "text/plain": [
       "<class 'statsmodels.iolib.summary.Summary'>\n",
       "\"\"\"\n",
       "                            OLS Regression Results                            \n",
       "==============================================================================\n",
       "Dep. Variable:                   wage   R-squared:                       0.175\n",
       "Model:                            OLS   Adj. R-squared:                  0.161\n",
       "Method:                 Least Squares   F-statistic:                     12.50\n",
       "Date:                Wed, 11 May 2022   Prob (F-statistic):           1.53e-14\n",
       "Time:                        15:08:08   Log-Likelihood:                -391.67\n",
       "No. Observations:                 419   AIC:                             799.3\n",
       "Df Residuals:                     411   BIC:                             831.7\n",
       "Df Model:                           7                                         \n",
       "Covariance Type:            nonrobust                                         \n",
       "==============================================================================\n",
       "                 coef    std err          t      P>|t|      [0.025      0.975]\n",
       "------------------------------------------------------------------------------\n",
       "const         -0.4025      0.198     -2.029      0.043      -0.793      -0.012\n",
       "x1             0.0326      0.066      0.491      0.624      -0.098       0.163\n",
       "x2             0.1082      0.017      6.451      0.000       0.075       0.141\n",
       "x3             0.0187      0.004      4.429      0.000       0.010       0.027\n",
       "x4             0.0049      0.003      1.548      0.123      -0.001       0.011\n",
       "x5            -0.0582      0.080     -0.725      0.469      -0.216       0.100\n",
       "x6            -0.0002      0.025     -0.009      0.993      -0.050       0.049\n",
       "x7            -0.0130      0.013     -1.001      0.317      -0.038       0.012\n",
       "==============================================================================\n",
       "Omnibus:                      125.212   Durbin-Watson:                   1.876\n",
       "Prob(Omnibus):                  0.000   Jarque-Bera (JB):              399.472\n",
       "Skew:                          -1.363   Prob(JB):                     1.80e-87\n",
       "Kurtosis:                       6.931   Cond. No.                         198.\n",
       "==============================================================================\n",
       "\n",
       "Notes:\n",
       "[1] Standard Errors assume that the covariance matrix of the errors is correctly specified.\n",
       "\"\"\""
      ]
     },
     "execution_count": 25,
     "metadata": {},
     "output_type": "execute_result"
    }
   ],
   "source": [
    "# On crée notre y\n",
    "y = np.log(df[\"wage\"])\n",
    "\n",
    "# On crée notre vecteur constant\n",
    "s = np.shape(df[\"wage\"])\n",
    "const = np.ones(s)\n",
    "\n",
    "# On crée notre X avec les prédicteurs\n",
    "X = np.column_stack((const, df[\"city\"], df[\"educ\"], df[\"exper\"], df[\"nwifeinc\"], df[\"kidslt6\"], df[\"kidsge6\"], df[\"huseduc\"]))\n",
    "\n",
    "# On instantie et on entraîne le modèle, on visualise les résultats\n",
    "model = sm.OLS(y, X)\n",
    "results = model.fit()\n",
    "results.summary()"
   ]
  },
  {
   "cell_type": "markdown",
   "id": "8936e613",
   "metadata": {},
   "source": [
    "On choisit de décomposer la variable huseduc en rangeant les valeurs dans 4 tranches de taille égale, c'est-à-dire en découpant sur les quantiles."
   ]
  },
  {
   "cell_type": "code",
   "execution_count": 26,
   "id": "97ccf131",
   "metadata": {
    "id": "97ccf131",
    "outputId": "9b642232-165f-4461-841c-a5b133d0a96c"
   },
   "outputs": [
    {
     "data": {
      "text/html": [
       "<div>\n",
       "<style scoped>\n",
       "    .dataframe tbody tr th:only-of-type {\n",
       "        vertical-align: middle;\n",
       "    }\n",
       "\n",
       "    .dataframe tbody tr th {\n",
       "        vertical-align: top;\n",
       "    }\n",
       "\n",
       "    .dataframe thead th {\n",
       "        text-align: right;\n",
       "    }\n",
       "</style>\n",
       "<table border=\"1\" class=\"dataframe\">\n",
       "  <thead>\n",
       "    <tr style=\"text-align: right;\">\n",
       "      <th></th>\n",
       "      <th>inlf</th>\n",
       "      <th>hours</th>\n",
       "      <th>kidslt6</th>\n",
       "      <th>kidsge6</th>\n",
       "      <th>age</th>\n",
       "      <th>educ</th>\n",
       "      <th>wage</th>\n",
       "      <th>repwage</th>\n",
       "      <th>hushrs</th>\n",
       "      <th>husage</th>\n",
       "      <th>...</th>\n",
       "      <th>unem</th>\n",
       "      <th>city</th>\n",
       "      <th>exper</th>\n",
       "      <th>nwifeinc</th>\n",
       "      <th>lwage</th>\n",
       "      <th>expersq</th>\n",
       "      <th>huseduc_disc_(3.999, 11.0]</th>\n",
       "      <th>huseduc_disc_(11.0, 12.0]</th>\n",
       "      <th>huseduc_disc_(12.0, 16.0]</th>\n",
       "      <th>huseduc_disc_(16.0, 17.0]</th>\n",
       "    </tr>\n",
       "  </thead>\n",
       "  <tbody>\n",
       "    <tr>\n",
       "      <th>0</th>\n",
       "      <td>1</td>\n",
       "      <td>1610</td>\n",
       "      <td>1</td>\n",
       "      <td>0</td>\n",
       "      <td>32</td>\n",
       "      <td>12</td>\n",
       "      <td>3.3540</td>\n",
       "      <td>2.65</td>\n",
       "      <td>2708</td>\n",
       "      <td>34</td>\n",
       "      <td>...</td>\n",
       "      <td>5.0</td>\n",
       "      <td>0</td>\n",
       "      <td>14</td>\n",
       "      <td>10.910060</td>\n",
       "      <td>1.210154</td>\n",
       "      <td>196</td>\n",
       "      <td>0</td>\n",
       "      <td>1</td>\n",
       "      <td>0</td>\n",
       "      <td>0</td>\n",
       "    </tr>\n",
       "    <tr>\n",
       "      <th>1</th>\n",
       "      <td>1</td>\n",
       "      <td>1656</td>\n",
       "      <td>0</td>\n",
       "      <td>2</td>\n",
       "      <td>30</td>\n",
       "      <td>12</td>\n",
       "      <td>1.3889</td>\n",
       "      <td>2.65</td>\n",
       "      <td>2310</td>\n",
       "      <td>30</td>\n",
       "      <td>...</td>\n",
       "      <td>11.0</td>\n",
       "      <td>1</td>\n",
       "      <td>5</td>\n",
       "      <td>19.499980</td>\n",
       "      <td>.3285121</td>\n",
       "      <td>25</td>\n",
       "      <td>1</td>\n",
       "      <td>0</td>\n",
       "      <td>0</td>\n",
       "      <td>0</td>\n",
       "    </tr>\n",
       "    <tr>\n",
       "      <th>2</th>\n",
       "      <td>1</td>\n",
       "      <td>1980</td>\n",
       "      <td>1</td>\n",
       "      <td>3</td>\n",
       "      <td>35</td>\n",
       "      <td>12</td>\n",
       "      <td>4.5455</td>\n",
       "      <td>4.04</td>\n",
       "      <td>3072</td>\n",
       "      <td>40</td>\n",
       "      <td>...</td>\n",
       "      <td>5.0</td>\n",
       "      <td>0</td>\n",
       "      <td>15</td>\n",
       "      <td>12.039910</td>\n",
       "      <td>1.514138</td>\n",
       "      <td>225</td>\n",
       "      <td>0</td>\n",
       "      <td>1</td>\n",
       "      <td>0</td>\n",
       "      <td>0</td>\n",
       "    </tr>\n",
       "    <tr>\n",
       "      <th>3</th>\n",
       "      <td>1</td>\n",
       "      <td>456</td>\n",
       "      <td>0</td>\n",
       "      <td>3</td>\n",
       "      <td>34</td>\n",
       "      <td>12</td>\n",
       "      <td>1.0965</td>\n",
       "      <td>3.25</td>\n",
       "      <td>1920</td>\n",
       "      <td>53</td>\n",
       "      <td>...</td>\n",
       "      <td>5.0</td>\n",
       "      <td>0</td>\n",
       "      <td>6</td>\n",
       "      <td>6.799996</td>\n",
       "      <td>.0921233</td>\n",
       "      <td>36</td>\n",
       "      <td>1</td>\n",
       "      <td>0</td>\n",
       "      <td>0</td>\n",
       "      <td>0</td>\n",
       "    </tr>\n",
       "    <tr>\n",
       "      <th>4</th>\n",
       "      <td>1</td>\n",
       "      <td>1568</td>\n",
       "      <td>1</td>\n",
       "      <td>2</td>\n",
       "      <td>31</td>\n",
       "      <td>14</td>\n",
       "      <td>4.5918</td>\n",
       "      <td>3.60</td>\n",
       "      <td>2000</td>\n",
       "      <td>32</td>\n",
       "      <td>...</td>\n",
       "      <td>9.5</td>\n",
       "      <td>1</td>\n",
       "      <td>7</td>\n",
       "      <td>20.100060</td>\n",
       "      <td>1.524272</td>\n",
       "      <td>49</td>\n",
       "      <td>0</td>\n",
       "      <td>1</td>\n",
       "      <td>0</td>\n",
       "      <td>0</td>\n",
       "    </tr>\n",
       "    <tr>\n",
       "      <th>...</th>\n",
       "      <td>...</td>\n",
       "      <td>...</td>\n",
       "      <td>...</td>\n",
       "      <td>...</td>\n",
       "      <td>...</td>\n",
       "      <td>...</td>\n",
       "      <td>...</td>\n",
       "      <td>...</td>\n",
       "      <td>...</td>\n",
       "      <td>...</td>\n",
       "      <td>...</td>\n",
       "      <td>...</td>\n",
       "      <td>...</td>\n",
       "      <td>...</td>\n",
       "      <td>...</td>\n",
       "      <td>...</td>\n",
       "      <td>...</td>\n",
       "      <td>...</td>\n",
       "      <td>...</td>\n",
       "      <td>...</td>\n",
       "      <td>...</td>\n",
       "    </tr>\n",
       "    <tr>\n",
       "      <th>423</th>\n",
       "      <td>1</td>\n",
       "      <td>680</td>\n",
       "      <td>0</td>\n",
       "      <td>5</td>\n",
       "      <td>36</td>\n",
       "      <td>10</td>\n",
       "      <td>2.3118</td>\n",
       "      <td>0.00</td>\n",
       "      <td>3430</td>\n",
       "      <td>43</td>\n",
       "      <td>...</td>\n",
       "      <td>7.5</td>\n",
       "      <td>0</td>\n",
       "      <td>2</td>\n",
       "      <td>18.199980</td>\n",
       "      <td>.8380265</td>\n",
       "      <td>4</td>\n",
       "      <td>0</td>\n",
       "      <td>1</td>\n",
       "      <td>0</td>\n",
       "      <td>0</td>\n",
       "    </tr>\n",
       "    <tr>\n",
       "      <th>424</th>\n",
       "      <td>1</td>\n",
       "      <td>2450</td>\n",
       "      <td>0</td>\n",
       "      <td>1</td>\n",
       "      <td>40</td>\n",
       "      <td>12</td>\n",
       "      <td>5.3061</td>\n",
       "      <td>6.50</td>\n",
       "      <td>2008</td>\n",
       "      <td>40</td>\n",
       "      <td>...</td>\n",
       "      <td>5.0</td>\n",
       "      <td>1</td>\n",
       "      <td>21</td>\n",
       "      <td>22.641060</td>\n",
       "      <td>1.668857</td>\n",
       "      <td>441</td>\n",
       "      <td>1</td>\n",
       "      <td>0</td>\n",
       "      <td>0</td>\n",
       "      <td>0</td>\n",
       "    </tr>\n",
       "    <tr>\n",
       "      <th>425</th>\n",
       "      <td>1</td>\n",
       "      <td>2144</td>\n",
       "      <td>0</td>\n",
       "      <td>2</td>\n",
       "      <td>43</td>\n",
       "      <td>13</td>\n",
       "      <td>5.8675</td>\n",
       "      <td>0.00</td>\n",
       "      <td>2140</td>\n",
       "      <td>43</td>\n",
       "      <td>...</td>\n",
       "      <td>7.5</td>\n",
       "      <td>1</td>\n",
       "      <td>22</td>\n",
       "      <td>21.640080</td>\n",
       "      <td>1.769429</td>\n",
       "      <td>484</td>\n",
       "      <td>1</td>\n",
       "      <td>0</td>\n",
       "      <td>0</td>\n",
       "      <td>0</td>\n",
       "    </tr>\n",
       "    <tr>\n",
       "      <th>426</th>\n",
       "      <td>1</td>\n",
       "      <td>1760</td>\n",
       "      <td>0</td>\n",
       "      <td>1</td>\n",
       "      <td>33</td>\n",
       "      <td>12</td>\n",
       "      <td>3.4091</td>\n",
       "      <td>3.21</td>\n",
       "      <td>3380</td>\n",
       "      <td>34</td>\n",
       "      <td>...</td>\n",
       "      <td>11.0</td>\n",
       "      <td>1</td>\n",
       "      <td>14</td>\n",
       "      <td>23.999980</td>\n",
       "      <td>1.226448</td>\n",
       "      <td>196</td>\n",
       "      <td>0</td>\n",
       "      <td>1</td>\n",
       "      <td>0</td>\n",
       "      <td>0</td>\n",
       "    </tr>\n",
       "    <tr>\n",
       "      <th>427</th>\n",
       "      <td>1</td>\n",
       "      <td>490</td>\n",
       "      <td>0</td>\n",
       "      <td>1</td>\n",
       "      <td>30</td>\n",
       "      <td>12</td>\n",
       "      <td>4.0816</td>\n",
       "      <td>2.46</td>\n",
       "      <td>2430</td>\n",
       "      <td>33</td>\n",
       "      <td>...</td>\n",
       "      <td>7.5</td>\n",
       "      <td>1</td>\n",
       "      <td>7</td>\n",
       "      <td>16.000020</td>\n",
       "      <td>1.406489</td>\n",
       "      <td>49</td>\n",
       "      <td>1</td>\n",
       "      <td>0</td>\n",
       "      <td>0</td>\n",
       "      <td>0</td>\n",
       "    </tr>\n",
       "  </tbody>\n",
       "</table>\n",
       "<p>419 rows × 26 columns</p>\n",
       "</div>"
      ],
      "text/plain": [
       "     inlf  hours  kidslt6  kidsge6  age  educ    wage  repwage  hushrs  \\\n",
       "0       1   1610        1        0   32    12  3.3540     2.65    2708   \n",
       "1       1   1656        0        2   30    12  1.3889     2.65    2310   \n",
       "2       1   1980        1        3   35    12  4.5455     4.04    3072   \n",
       "3       1    456        0        3   34    12  1.0965     3.25    1920   \n",
       "4       1   1568        1        2   31    14  4.5918     3.60    2000   \n",
       "..    ...    ...      ...      ...  ...   ...     ...      ...     ...   \n",
       "423     1    680        0        5   36    10  2.3118     0.00    3430   \n",
       "424     1   2450        0        1   40    12  5.3061     6.50    2008   \n",
       "425     1   2144        0        2   43    13  5.8675     0.00    2140   \n",
       "426     1   1760        0        1   33    12  3.4091     3.21    3380   \n",
       "427     1    490        0        1   30    12  4.0816     2.46    2430   \n",
       "\n",
       "     husage  ...  unem  city  exper   nwifeinc     lwage  expersq  \\\n",
       "0        34  ...   5.0     0     14  10.910060  1.210154      196   \n",
       "1        30  ...  11.0     1      5  19.499980  .3285121       25   \n",
       "2        40  ...   5.0     0     15  12.039910  1.514138      225   \n",
       "3        53  ...   5.0     0      6   6.799996  .0921233       36   \n",
       "4        32  ...   9.5     1      7  20.100060  1.524272       49   \n",
       "..      ...  ...   ...   ...    ...        ...       ...      ...   \n",
       "423      43  ...   7.5     0      2  18.199980  .8380265        4   \n",
       "424      40  ...   5.0     1     21  22.641060  1.668857      441   \n",
       "425      43  ...   7.5     1     22  21.640080  1.769429      484   \n",
       "426      34  ...  11.0     1     14  23.999980  1.226448      196   \n",
       "427      33  ...   7.5     1      7  16.000020  1.406489       49   \n",
       "\n",
       "     huseduc_disc_(3.999, 11.0]  huseduc_disc_(11.0, 12.0]  \\\n",
       "0                             0                          1   \n",
       "1                             1                          0   \n",
       "2                             0                          1   \n",
       "3                             1                          0   \n",
       "4                             0                          1   \n",
       "..                          ...                        ...   \n",
       "423                           0                          1   \n",
       "424                           1                          0   \n",
       "425                           1                          0   \n",
       "426                           0                          1   \n",
       "427                           1                          0   \n",
       "\n",
       "     huseduc_disc_(12.0, 16.0]  huseduc_disc_(16.0, 17.0]  \n",
       "0                            0                          0  \n",
       "1                            0                          0  \n",
       "2                            0                          0  \n",
       "3                            0                          0  \n",
       "4                            0                          0  \n",
       "..                         ...                        ...  \n",
       "423                          0                          0  \n",
       "424                          0                          0  \n",
       "425                          0                          0  \n",
       "426                          0                          0  \n",
       "427                          0                          0  \n",
       "\n",
       "[419 rows x 26 columns]"
      ]
     },
     "execution_count": 26,
     "metadata": {},
     "output_type": "execute_result"
    }
   ],
   "source": [
    "# On remplace les valeurs continues par l'information sur la tranche\n",
    "df[\"huseduc_disc\"] = pd.qcut(df[\"huseduc\"], 4)\n",
    "\n",
    "# On encode cette variable en \"one-hot-vector\", avec une colonne par tranche\n",
    "df = pd.get_dummies(df, columns=[\"huseduc_disc\"])\n",
    "df"
   ]
  },
  {
   "cell_type": "code",
   "execution_count": 27,
   "id": "c07e76df",
   "metadata": {
    "id": "c07e76df"
   },
   "outputs": [],
   "source": [
    "# on renomme les colonnes ainsi créées pour simplifier les en-têtes\n",
    "df.columns = df.columns[:-4].to_list()+['bin1', 'bin2', 'bin3', 'bin4']"
   ]
  },
  {
   "cell_type": "code",
   "execution_count": 28,
   "id": "242544c1",
   "metadata": {
    "id": "242544c1",
    "outputId": "7a3c6425-ad8d-42a8-d5e1-47dc2dc01b6c"
   },
   "outputs": [
    {
     "data": {
      "text/html": [
       "<table class=\"simpletable\">\n",
       "<caption>OLS Regression Results</caption>\n",
       "<tr>\n",
       "  <th>Dep. Variable:</th>          <td>wage</td>       <th>  R-squared:         </th> <td>   0.181</td>\n",
       "</tr>\n",
       "<tr>\n",
       "  <th>Model:</th>                   <td>OLS</td>       <th>  Adj. R-squared:    </th> <td>   0.163</td>\n",
       "</tr>\n",
       "<tr>\n",
       "  <th>Method:</th>             <td>Least Squares</td>  <th>  F-statistic:       </th> <td>   10.07</td>\n",
       "</tr>\n",
       "<tr>\n",
       "  <th>Date:</th>             <td>Wed, 11 May 2022</td> <th>  Prob (F-statistic):</th> <td>5.01e-14</td>\n",
       "</tr>\n",
       "<tr>\n",
       "  <th>Time:</th>                 <td>15:08:08</td>     <th>  Log-Likelihood:    </th> <td> -390.16</td>\n",
       "</tr>\n",
       "<tr>\n",
       "  <th>No. Observations:</th>      <td>   419</td>      <th>  AIC:               </th> <td>   800.3</td>\n",
       "</tr>\n",
       "<tr>\n",
       "  <th>Df Residuals:</th>          <td>   409</td>      <th>  BIC:               </th> <td>   840.7</td>\n",
       "</tr>\n",
       "<tr>\n",
       "  <th>Df Model:</th>              <td>     9</td>      <th>                     </th>     <td> </td>   \n",
       "</tr>\n",
       "<tr>\n",
       "  <th>Covariance Type:</th>      <td>nonrobust</td>    <th>                     </th>     <td> </td>   \n",
       "</tr>\n",
       "</table>\n",
       "<table class=\"simpletable\">\n",
       "<tr>\n",
       "    <td></td>       <th>coef</th>     <th>std err</th>      <th>t</th>      <th>P>|t|</th>  <th>[0.025</th>    <th>0.975]</th>  \n",
       "</tr>\n",
       "<tr>\n",
       "  <th>const</th> <td>   -0.7201</td> <td>    0.279</td> <td>   -2.582</td> <td> 0.010</td> <td>   -1.268</td> <td>   -0.172</td>\n",
       "</tr>\n",
       "<tr>\n",
       "  <th>x1</th>    <td>    0.0346</td> <td>    0.066</td> <td>    0.523</td> <td> 0.601</td> <td>   -0.095</td> <td>    0.164</td>\n",
       "</tr>\n",
       "<tr>\n",
       "  <th>x2</th>    <td>    0.1105</td> <td>    0.017</td> <td>    6.648</td> <td> 0.000</td> <td>    0.078</td> <td>    0.143</td>\n",
       "</tr>\n",
       "<tr>\n",
       "  <th>x3</th>    <td>    0.0194</td> <td>    0.004</td> <td>    4.594</td> <td> 0.000</td> <td>    0.011</td> <td>    0.028</td>\n",
       "</tr>\n",
       "<tr>\n",
       "  <th>x4</th>    <td>    0.0057</td> <td>    0.003</td> <td>    1.766</td> <td> 0.078</td> <td>   -0.001</td> <td>    0.012</td>\n",
       "</tr>\n",
       "<tr>\n",
       "  <th>x5</th>    <td>   -0.0476</td> <td>    0.080</td> <td>   -0.591</td> <td> 0.555</td> <td>   -0.206</td> <td>    0.110</td>\n",
       "</tr>\n",
       "<tr>\n",
       "  <th>x6</th>    <td>    0.0020</td> <td>    0.025</td> <td>    0.081</td> <td> 0.935</td> <td>   -0.048</td> <td>    0.052</td>\n",
       "</tr>\n",
       "<tr>\n",
       "  <th>x7</th>    <td>    0.1105</td> <td>    0.120</td> <td>    0.918</td> <td> 0.359</td> <td>   -0.126</td> <td>    0.347</td>\n",
       "</tr>\n",
       "<tr>\n",
       "  <th>x8</th>    <td>    0.1819</td> <td>    0.110</td> <td>    1.651</td> <td> 0.100</td> <td>   -0.035</td> <td>    0.399</td>\n",
       "</tr>\n",
       "<tr>\n",
       "  <th>x9</th>    <td>    0.0289</td> <td>    0.102</td> <td>    0.283</td> <td> 0.777</td> <td>   -0.172</td> <td>    0.229</td>\n",
       "</tr>\n",
       "</table>\n",
       "<table class=\"simpletable\">\n",
       "<tr>\n",
       "  <th>Omnibus:</th>       <td>127.802</td> <th>  Durbin-Watson:     </th> <td>   1.858</td>\n",
       "</tr>\n",
       "<tr>\n",
       "  <th>Prob(Omnibus):</th> <td> 0.000</td>  <th>  Jarque-Bera (JB):  </th> <td> 419.853</td>\n",
       "</tr>\n",
       "<tr>\n",
       "  <th>Skew:</th>          <td>-1.381</td>  <th>  Prob(JB):          </th> <td>6.76e-92</td>\n",
       "</tr>\n",
       "<tr>\n",
       "  <th>Kurtosis:</th>      <td> 7.052</td>  <th>  Cond. No.          </th> <td>    278.</td>\n",
       "</tr>\n",
       "</table><br/><br/>Notes:<br/>[1] Standard Errors assume that the covariance matrix of the errors is correctly specified."
      ],
      "text/plain": [
       "<class 'statsmodels.iolib.summary.Summary'>\n",
       "\"\"\"\n",
       "                            OLS Regression Results                            \n",
       "==============================================================================\n",
       "Dep. Variable:                   wage   R-squared:                       0.181\n",
       "Model:                            OLS   Adj. R-squared:                  0.163\n",
       "Method:                 Least Squares   F-statistic:                     10.07\n",
       "Date:                Wed, 11 May 2022   Prob (F-statistic):           5.01e-14\n",
       "Time:                        15:08:08   Log-Likelihood:                -390.16\n",
       "No. Observations:                 419   AIC:                             800.3\n",
       "Df Residuals:                     409   BIC:                             840.7\n",
       "Df Model:                           9                                         \n",
       "Covariance Type:            nonrobust                                         \n",
       "==============================================================================\n",
       "                 coef    std err          t      P>|t|      [0.025      0.975]\n",
       "------------------------------------------------------------------------------\n",
       "const         -0.7201      0.279     -2.582      0.010      -1.268      -0.172\n",
       "x1             0.0346      0.066      0.523      0.601      -0.095       0.164\n",
       "x2             0.1105      0.017      6.648      0.000       0.078       0.143\n",
       "x3             0.0194      0.004      4.594      0.000       0.011       0.028\n",
       "x4             0.0057      0.003      1.766      0.078      -0.001       0.012\n",
       "x5            -0.0476      0.080     -0.591      0.555      -0.206       0.110\n",
       "x6             0.0020      0.025      0.081      0.935      -0.048       0.052\n",
       "x7             0.1105      0.120      0.918      0.359      -0.126       0.347\n",
       "x8             0.1819      0.110      1.651      0.100      -0.035       0.399\n",
       "x9             0.0289      0.102      0.283      0.777      -0.172       0.229\n",
       "==============================================================================\n",
       "Omnibus:                      127.802   Durbin-Watson:                   1.858\n",
       "Prob(Omnibus):                  0.000   Jarque-Bera (JB):              419.853\n",
       "Skew:                          -1.381   Prob(JB):                     6.76e-92\n",
       "Kurtosis:                       7.052   Cond. No.                         278.\n",
       "==============================================================================\n",
       "\n",
       "Notes:\n",
       "[1] Standard Errors assume that the covariance matrix of the errors is correctly specified.\n",
       "\"\"\""
      ]
     },
     "metadata": {},
     "output_type": "display_data"
    }
   ],
   "source": [
    "# On crée notre X avec les prédicteurs, on exclut la quatrième variable binaire qui dépend linéairement des autres\n",
    "X = np.column_stack((const, df[\"city\"], df[\"educ\"], df[\"exper\"], df[\"nwifeinc\"], df[\"kidslt6\"], df[\"kidsge6\"], df[\"bin1\"], df[\"bin2\"], df[\"bin3\"]))\n",
    "\n",
    "# On instantie et on entraîne le modèle, on visualise les résultats\n",
    "model = sm.OLS(y, X)\n",
    "results = model.fit()\n",
    "display(results.summary())"
   ]
  },
  {
   "cell_type": "markdown",
   "id": "898909fe",
   "metadata": {
    "id": "898909fe"
   },
   "source": [
    "On teste désormais que l'ensemble des coefficients des variables binaires sont nuls en même temps, sous la forme d'une hypothèse jointe :\n",
    "$$\\beta_{bin1} = \\beta_{bin2} = \\beta_{bin3} = 0$$"
   ]
  },
  {
   "cell_type": "code",
   "execution_count": 29,
   "id": "4e33852b",
   "metadata": {
    "id": "4e33852b",
    "outputId": "90875f32-4b59-484a-f42a-847870207cce"
   },
   "outputs": [
    {
     "data": {
      "text/html": [
       "<table class=\"simpletable\">\n",
       "<caption>OLS Regression Results</caption>\n",
       "<tr>\n",
       "  <th>Dep. Variable:</th>          <td>wage</td>       <th>  R-squared:         </th> <td>   0.173</td>\n",
       "</tr>\n",
       "<tr>\n",
       "  <th>Model:</th>                   <td>OLS</td>       <th>  Adj. R-squared:    </th> <td>   0.161</td>\n",
       "</tr>\n",
       "<tr>\n",
       "  <th>Method:</th>             <td>Least Squares</td>  <th>  F-statistic:       </th> <td>   14.41</td>\n",
       "</tr>\n",
       "<tr>\n",
       "  <th>Date:</th>             <td>Wed, 11 May 2022</td> <th>  Prob (F-statistic):</th> <td>6.13e-15</td>\n",
       "</tr>\n",
       "<tr>\n",
       "  <th>Time:</th>                 <td>15:08:08</td>     <th>  Log-Likelihood:    </th> <td> -392.18</td>\n",
       "</tr>\n",
       "<tr>\n",
       "  <th>No. Observations:</th>      <td>   419</td>      <th>  AIC:               </th> <td>   798.4</td>\n",
       "</tr>\n",
       "<tr>\n",
       "  <th>Df Residuals:</th>          <td>   412</td>      <th>  BIC:               </th> <td>   826.6</td>\n",
       "</tr>\n",
       "<tr>\n",
       "  <th>Df Model:</th>              <td>     6</td>      <th>                     </th>     <td> </td>   \n",
       "</tr>\n",
       "<tr>\n",
       "  <th>Covariance Type:</th>      <td>nonrobust</td>    <th>                     </th>     <td> </td>   \n",
       "</tr>\n",
       "</table>\n",
       "<table class=\"simpletable\">\n",
       "<tr>\n",
       "    <td></td>       <th>coef</th>     <th>std err</th>      <th>t</th>      <th>P>|t|</th>  <th>[0.025</th>    <th>0.975]</th>  \n",
       "</tr>\n",
       "<tr>\n",
       "  <th>const</th> <td>   -0.4379</td> <td>    0.195</td> <td>   -2.243</td> <td> 0.025</td> <td>   -0.822</td> <td>   -0.054</td>\n",
       "</tr>\n",
       "<tr>\n",
       "  <th>x1</th>    <td>    0.0236</td> <td>    0.066</td> <td>    0.359</td> <td> 0.720</td> <td>   -0.106</td> <td>    0.153</td>\n",
       "</tr>\n",
       "<tr>\n",
       "  <th>x2</th>    <td>    0.0043</td> <td>    0.003</td> <td>    1.376</td> <td> 0.170</td> <td>   -0.002</td> <td>    0.010</td>\n",
       "</tr>\n",
       "<tr>\n",
       "  <th>x3</th>    <td>    0.0189</td> <td>    0.004</td> <td>    4.493</td> <td> 0.000</td> <td>    0.011</td> <td>    0.027</td>\n",
       "</tr>\n",
       "<tr>\n",
       "  <th>x4</th>    <td>    0.0993</td> <td>    0.014</td> <td>    6.991</td> <td> 0.000</td> <td>    0.071</td> <td>    0.127</td>\n",
       "</tr>\n",
       "<tr>\n",
       "  <th>x5</th>    <td>   -0.0613</td> <td>    0.080</td> <td>   -0.764</td> <td> 0.445</td> <td>   -0.219</td> <td>    0.096</td>\n",
       "</tr>\n",
       "<tr>\n",
       "  <th>x6</th>    <td>   -0.0002</td> <td>    0.025</td> <td>   -0.009</td> <td> 0.993</td> <td>   -0.050</td> <td>    0.049</td>\n",
       "</tr>\n",
       "</table>\n",
       "<table class=\"simpletable\">\n",
       "<tr>\n",
       "  <th>Omnibus:</th>       <td>124.505</td> <th>  Durbin-Watson:     </th> <td>   1.872</td>\n",
       "</tr>\n",
       "<tr>\n",
       "  <th>Prob(Omnibus):</th> <td> 0.000</td>  <th>  Jarque-Bera (JB):  </th> <td> 391.383</td>\n",
       "</tr>\n",
       "<tr>\n",
       "  <th>Skew:</th>          <td>-1.361</td>  <th>  Prob(JB):          </th> <td>1.03e-85</td>\n",
       "</tr>\n",
       "<tr>\n",
       "  <th>Kurtosis:</th>      <td> 6.874</td>  <th>  Cond. No.          </th> <td>    178.</td>\n",
       "</tr>\n",
       "</table><br/><br/>Notes:<br/>[1] Standard Errors assume that the covariance matrix of the errors is correctly specified."
      ],
      "text/plain": [
       "<class 'statsmodels.iolib.summary.Summary'>\n",
       "\"\"\"\n",
       "                            OLS Regression Results                            \n",
       "==============================================================================\n",
       "Dep. Variable:                   wage   R-squared:                       0.173\n",
       "Model:                            OLS   Adj. R-squared:                  0.161\n",
       "Method:                 Least Squares   F-statistic:                     14.41\n",
       "Date:                Wed, 11 May 2022   Prob (F-statistic):           6.13e-15\n",
       "Time:                        15:08:08   Log-Likelihood:                -392.18\n",
       "No. Observations:                 419   AIC:                             798.4\n",
       "Df Residuals:                     412   BIC:                             826.6\n",
       "Df Model:                           6                                         \n",
       "Covariance Type:            nonrobust                                         \n",
       "==============================================================================\n",
       "                 coef    std err          t      P>|t|      [0.025      0.975]\n",
       "------------------------------------------------------------------------------\n",
       "const         -0.4379      0.195     -2.243      0.025      -0.822      -0.054\n",
       "x1             0.0236      0.066      0.359      0.720      -0.106       0.153\n",
       "x2             0.0043      0.003      1.376      0.170      -0.002       0.010\n",
       "x3             0.0189      0.004      4.493      0.000       0.011       0.027\n",
       "x4             0.0993      0.014      6.991      0.000       0.071       0.127\n",
       "x5            -0.0613      0.080     -0.764      0.445      -0.219       0.096\n",
       "x6            -0.0002      0.025     -0.009      0.993      -0.050       0.049\n",
       "==============================================================================\n",
       "Omnibus:                      124.505   Durbin-Watson:                   1.872\n",
       "Prob(Omnibus):                  0.000   Jarque-Bera (JB):              391.383\n",
       "Skew:                          -1.361   Prob(JB):                     1.03e-85\n",
       "Kurtosis:                       6.874   Cond. No.                         178.\n",
       "==============================================================================\n",
       "\n",
       "Notes:\n",
       "[1] Standard Errors assume that the covariance matrix of the errors is correctly specified.\n",
       "\"\"\""
      ]
     },
     "metadata": {},
     "output_type": "display_data"
    },
    {
     "name": "stdout",
     "output_type": "stream",
     "text": [
      "\n",
      "SSR1 : 159.49229987764568\n",
      "\n",
      "F : 1.323040243067618\n",
      "p-val : 0.26638586762724287\n"
     ]
    }
   ],
   "source": [
    "# On calcule la sum of squares residuals pour le modèle non contraint\n",
    "SSR0 = results.resid.T@results.resid\n",
    "\n",
    "# Modèle contraint pour β_bin1 = β_bin2 = β_bin3 = 0\n",
    "# On suppose que les β considérés valent 0 :\n",
    "y16 = y \n",
    "X16 = np.column_stack((const, df[\"city\"], df[\"nwifeinc\"], df[\"exper\"], df[\"educ\"], df[\"kidslt6\"], df[\"kidsge6\"]))\n",
    "\n",
    "model = sm.OLS(y16,X16)\n",
    "results = model.fit()\n",
    "display(results.summary())\n",
    "print()\n",
    "u = results.resid\n",
    "\n",
    "# Calcul des sum of squares residuals\n",
    "SSR1 = u.T@u\n",
    "print(\"SSR1 :\", SSR1)\n",
    "print()\n",
    "\n",
    "# Calcul de la statistique de Fisher pour les β considérés à 0\n",
    "n, k = np.shape(X)\n",
    "\n",
    "# On a une seule contrainte\n",
    "cont = 3\n",
    "\n",
    "# Calcul de la statistique de test F\n",
    "F = ((SSR1-SSR0)/cont)/(SSR0/(n-k))\n",
    "print(\"F :\", F)\n",
    "print(\"p-val :\", f.sf(F, cont, n-k))"
   ]
  },
  {
   "cell_type": "markdown",
   "id": "a365cc17",
   "metadata": {
    "id": "a365cc17"
   },
   "source": [
    "**Commentaire :**  \n",
    "Pris individuellement, on ne peut pas rejeter l'hypothèse que les coefficients sont nuls pour un seuil de 5% (p-valeurs : 0.359, 0.100, 0.777).  \n",
    "Pour l'hypothèse jointe, on a une p-valeur de 0.266. On ne peut donc toujours pas rejeter l'hypothèse nulle pour un seuil de 5%. "
   ]
  },
  {
   "cell_type": "markdown",
   "id": "EWvN_wbwSCfQ",
   "metadata": {
    "id": "EWvN_wbwSCfQ"
   },
   "source": [
    "## Partie 2 - Séries temporelles"
   ]
  },
  {
   "cell_type": "code",
   "execution_count": 30,
   "id": "80b5a568",
   "metadata": {
    "id": "80b5a568"
   },
   "outputs": [],
   "source": [
    "import pandas as pd\n",
    "import numpy as np\n",
    "from matplotlib import pyplot as plt\n",
    "\n",
    "from sklearn.linear_model import LinearRegression\n",
    "import statsmodels.api as sm\n",
    "\n",
    "from statsmodels.tsa.stattools import adfuller\n",
    "from statsmodels.tsa.stattools import acf\n",
    "from statsmodels.tsa.stattools import pacf\n",
    "from statsmodels.graphics.tsaplots import plot_acf\n",
    "from statsmodels.graphics.tsaplots import plot_pacf\n",
    "\n",
    "from statsmodels.tsa.ar_model import AutoReg as AR\n",
    "\n",
    "from scipy.stats import t, f\n",
    "\n",
    "import warnings\n",
    "warnings.filterwarnings(\"ignore\")"
   ]
  },
  {
   "cell_type": "markdown",
   "id": "64cd0373",
   "metadata": {
    "id": "64cd0373"
   },
   "source": [
    "### Question 1 - Importer les données du fichier quarterly.xls (corriger le problème éventuel d’observations manquantes)"
   ]
  },
  {
   "cell_type": "code",
   "execution_count": 31,
   "id": "24bc67ca",
   "metadata": {
    "id": "24bc67ca",
    "outputId": "c757e70f-9f48-401d-a290-97d78fa765c8"
   },
   "outputs": [
    {
     "data": {
      "text/html": [
       "<div>\n",
       "<style scoped>\n",
       "    .dataframe tbody tr th:only-of-type {\n",
       "        vertical-align: middle;\n",
       "    }\n",
       "\n",
       "    .dataframe tbody tr th {\n",
       "        vertical-align: top;\n",
       "    }\n",
       "\n",
       "    .dataframe thead th {\n",
       "        text-align: right;\n",
       "    }\n",
       "</style>\n",
       "<table border=\"1\" class=\"dataframe\">\n",
       "  <thead>\n",
       "    <tr style=\"text-align: right;\">\n",
       "      <th></th>\n",
       "      <th>DATE</th>\n",
       "      <th>FFR</th>\n",
       "      <th>Tbill</th>\n",
       "      <th>Tb1yr</th>\n",
       "      <th>r5</th>\n",
       "      <th>r10</th>\n",
       "      <th>PPINSA</th>\n",
       "      <th>Finished</th>\n",
       "      <th>CPI</th>\n",
       "      <th>CPICORE</th>\n",
       "      <th>M1NSA</th>\n",
       "      <th>M2SA</th>\n",
       "      <th>M2NSA</th>\n",
       "      <th>Unemp</th>\n",
       "      <th>IndProd</th>\n",
       "      <th>RGDP</th>\n",
       "      <th>Potent</th>\n",
       "      <th>Deflator</th>\n",
       "      <th>Curr</th>\n",
       "    </tr>\n",
       "  </thead>\n",
       "  <tbody>\n",
       "    <tr>\n",
       "      <th>0</th>\n",
       "      <td>1960Q1</td>\n",
       "      <td>3.93</td>\n",
       "      <td>3.87</td>\n",
       "      <td>4.57</td>\n",
       "      <td>4.64</td>\n",
       "      <td>4.49</td>\n",
       "      <td>31.67</td>\n",
       "      <td>33.20</td>\n",
       "      <td>29.40</td>\n",
       "      <td>18.92</td>\n",
       "      <td>140.53</td>\n",
       "      <td>896.1</td>\n",
       "      <td>299.40</td>\n",
       "      <td>5.13</td>\n",
       "      <td>23.93</td>\n",
       "      <td>2845.3</td>\n",
       "      <td>2824.2</td>\n",
       "      <td>18.521</td>\n",
       "      <td>31.830</td>\n",
       "    </tr>\n",
       "    <tr>\n",
       "      <th>1</th>\n",
       "      <td>1960Q2</td>\n",
       "      <td>3.70</td>\n",
       "      <td>2.99</td>\n",
       "      <td>3.87</td>\n",
       "      <td>4.30</td>\n",
       "      <td>4.26</td>\n",
       "      <td>31.73</td>\n",
       "      <td>33.40</td>\n",
       "      <td>29.57</td>\n",
       "      <td>19.00</td>\n",
       "      <td>138.40</td>\n",
       "      <td>903.3</td>\n",
       "      <td>300.03</td>\n",
       "      <td>5.23</td>\n",
       "      <td>23.41</td>\n",
       "      <td>2832.0</td>\n",
       "      <td>2851.2</td>\n",
       "      <td>18.579</td>\n",
       "      <td>31.862</td>\n",
       "    </tr>\n",
       "    <tr>\n",
       "      <th>2</th>\n",
       "      <td>1960Q3</td>\n",
       "      <td>2.94</td>\n",
       "      <td>2.36</td>\n",
       "      <td>3.07</td>\n",
       "      <td>3.67</td>\n",
       "      <td>3.83</td>\n",
       "      <td>31.63</td>\n",
       "      <td>33.43</td>\n",
       "      <td>29.59</td>\n",
       "      <td>19.07</td>\n",
       "      <td>139.60</td>\n",
       "      <td>919.4</td>\n",
       "      <td>305.50</td>\n",
       "      <td>5.53</td>\n",
       "      <td>23.02</td>\n",
       "      <td>2836.6</td>\n",
       "      <td>2878.7</td>\n",
       "      <td>18.648</td>\n",
       "      <td>32.217</td>\n",
       "    </tr>\n",
       "    <tr>\n",
       "      <th>3</th>\n",
       "      <td>1960Q4</td>\n",
       "      <td>2.30</td>\n",
       "      <td>2.31</td>\n",
       "      <td>2.99</td>\n",
       "      <td>3.75</td>\n",
       "      <td>3.89</td>\n",
       "      <td>31.70</td>\n",
       "      <td>33.67</td>\n",
       "      <td>29.78</td>\n",
       "      <td>19.14</td>\n",
       "      <td>142.67</td>\n",
       "      <td>932.8</td>\n",
       "      <td>312.30</td>\n",
       "      <td>6.27</td>\n",
       "      <td>22.47</td>\n",
       "      <td>2800.2</td>\n",
       "      <td>2906.7</td>\n",
       "      <td>18.700</td>\n",
       "      <td>32.624</td>\n",
       "    </tr>\n",
       "    <tr>\n",
       "      <th>4</th>\n",
       "      <td>1961Q1</td>\n",
       "      <td>2.00</td>\n",
       "      <td>2.35</td>\n",
       "      <td>2.87</td>\n",
       "      <td>3.64</td>\n",
       "      <td>3.79</td>\n",
       "      <td>31.80</td>\n",
       "      <td>33.63</td>\n",
       "      <td>29.84</td>\n",
       "      <td>19.17</td>\n",
       "      <td>142.23</td>\n",
       "      <td>948.9</td>\n",
       "      <td>317.10</td>\n",
       "      <td>6.80</td>\n",
       "      <td>22.13</td>\n",
       "      <td>2816.9</td>\n",
       "      <td>2934.8</td>\n",
       "      <td>18.743</td>\n",
       "      <td>32.073</td>\n",
       "    </tr>\n",
       "    <tr>\n",
       "      <th>...</th>\n",
       "      <td>...</td>\n",
       "      <td>...</td>\n",
       "      <td>...</td>\n",
       "      <td>...</td>\n",
       "      <td>...</td>\n",
       "      <td>...</td>\n",
       "      <td>...</td>\n",
       "      <td>...</td>\n",
       "      <td>...</td>\n",
       "      <td>...</td>\n",
       "      <td>...</td>\n",
       "      <td>...</td>\n",
       "      <td>...</td>\n",
       "      <td>...</td>\n",
       "      <td>...</td>\n",
       "      <td>...</td>\n",
       "      <td>...</td>\n",
       "      <td>...</td>\n",
       "      <td>...</td>\n",
       "    </tr>\n",
       "    <tr>\n",
       "      <th>207</th>\n",
       "      <td>2011Q4</td>\n",
       "      <td>0.07</td>\n",
       "      <td>0.01</td>\n",
       "      <td>0.11</td>\n",
       "      <td>0.95</td>\n",
       "      <td>2.05</td>\n",
       "      <td>200.77</td>\n",
       "      <td>192.97</td>\n",
       "      <td>226.97</td>\n",
       "      <td>112.50</td>\n",
       "      <td>2165.77</td>\n",
       "      <td>28787.3</td>\n",
       "      <td>9599.47</td>\n",
       "      <td>8.67</td>\n",
       "      <td>95.33</td>\n",
       "      <td>13441.0</td>\n",
       "      <td>14255.9</td>\n",
       "      <td>113.987</td>\n",
       "      <td>1055.496</td>\n",
       "    </tr>\n",
       "    <tr>\n",
       "      <th>208</th>\n",
       "      <td>2012Q1</td>\n",
       "      <td>0.10</td>\n",
       "      <td>0.07</td>\n",
       "      <td>0.16</td>\n",
       "      <td>0.90</td>\n",
       "      <td>2.04</td>\n",
       "      <td>202.17</td>\n",
       "      <td>193.73</td>\n",
       "      <td>228.27</td>\n",
       "      <td>113.12</td>\n",
       "      <td>2213.97</td>\n",
       "      <td>29238.6</td>\n",
       "      <td>9777.03</td>\n",
       "      <td>8.27</td>\n",
       "      <td>96.70</td>\n",
       "      <td>13506.4</td>\n",
       "      <td>14317.4</td>\n",
       "      <td>114.599</td>\n",
       "      <td>1082.519</td>\n",
       "    </tr>\n",
       "    <tr>\n",
       "      <th>209</th>\n",
       "      <td>2012Q2</td>\n",
       "      <td>0.15</td>\n",
       "      <td>0.09</td>\n",
       "      <td>0.19</td>\n",
       "      <td>0.79</td>\n",
       "      <td>1.82</td>\n",
       "      <td>201.80</td>\n",
       "      <td>192.83</td>\n",
       "      <td>228.84</td>\n",
       "      <td>113.60</td>\n",
       "      <td>2258.30</td>\n",
       "      <td>29611.6</td>\n",
       "      <td>9888.97</td>\n",
       "      <td>8.17</td>\n",
       "      <td>97.27</td>\n",
       "      <td>13548.5</td>\n",
       "      <td>14379.3</td>\n",
       "      <td>115.035</td>\n",
       "      <td>1104.500</td>\n",
       "    </tr>\n",
       "    <tr>\n",
       "      <th>210</th>\n",
       "      <td>2012Q3</td>\n",
       "      <td>0.14</td>\n",
       "      <td>0.10</td>\n",
       "      <td>0.18</td>\n",
       "      <td>0.67</td>\n",
       "      <td>1.64</td>\n",
       "      <td>202.40</td>\n",
       "      <td>195.20</td>\n",
       "      <td>230.03</td>\n",
       "      <td>113.91</td>\n",
       "      <td>2326.47</td>\n",
       "      <td>30251.4</td>\n",
       "      <td>10029.87</td>\n",
       "      <td>8.03</td>\n",
       "      <td>97.39</td>\n",
       "      <td>13652.5</td>\n",
       "      <td>14441.9</td>\n",
       "      <td>115.810</td>\n",
       "      <td>1119.187</td>\n",
       "    </tr>\n",
       "    <tr>\n",
       "      <th>211</th>\n",
       "      <td>2012Q4</td>\n",
       "      <td>0.16</td>\n",
       "      <td>0.09</td>\n",
       "      <td>0.17</td>\n",
       "      <td>0.69</td>\n",
       "      <td>1.71</td>\n",
       "      <td>202.27</td>\n",
       "      <td>196.20</td>\n",
       "      <td>231.28</td>\n",
       "      <td>114.18</td>\n",
       "      <td>2436.73</td>\n",
       "      <td>30938.8</td>\n",
       "      <td>10319.60</td>\n",
       "      <td>7.83</td>\n",
       "      <td>98.01</td>\n",
       "      <td>13665.4</td>\n",
       "      <td>14505.4</td>\n",
       "      <td>116.089</td>\n",
       "      <td>1147.623</td>\n",
       "    </tr>\n",
       "  </tbody>\n",
       "</table>\n",
       "<p>212 rows × 19 columns</p>\n",
       "</div>"
      ],
      "text/plain": [
       "       DATE   FFR  Tbill  Tb1yr    r5   r10  PPINSA  Finished     CPI  \\\n",
       "0    1960Q1  3.93   3.87   4.57  4.64  4.49   31.67     33.20   29.40   \n",
       "1    1960Q2  3.70   2.99   3.87  4.30  4.26   31.73     33.40   29.57   \n",
       "2    1960Q3  2.94   2.36   3.07  3.67  3.83   31.63     33.43   29.59   \n",
       "3    1960Q4  2.30   2.31   2.99  3.75  3.89   31.70     33.67   29.78   \n",
       "4    1961Q1  2.00   2.35   2.87  3.64  3.79   31.80     33.63   29.84   \n",
       "..      ...   ...    ...    ...   ...   ...     ...       ...     ...   \n",
       "207  2011Q4  0.07   0.01   0.11  0.95  2.05  200.77    192.97  226.97   \n",
       "208  2012Q1  0.10   0.07   0.16  0.90  2.04  202.17    193.73  228.27   \n",
       "209  2012Q2  0.15   0.09   0.19  0.79  1.82  201.80    192.83  228.84   \n",
       "210  2012Q3  0.14   0.10   0.18  0.67  1.64  202.40    195.20  230.03   \n",
       "211  2012Q4  0.16   0.09   0.17  0.69  1.71  202.27    196.20  231.28   \n",
       "\n",
       "     CPICORE    M1NSA     M2SA     M2NSA  Unemp  IndProd     RGDP   Potent  \\\n",
       "0      18.92   140.53    896.1    299.40   5.13    23.93   2845.3   2824.2   \n",
       "1      19.00   138.40    903.3    300.03   5.23    23.41   2832.0   2851.2   \n",
       "2      19.07   139.60    919.4    305.50   5.53    23.02   2836.6   2878.7   \n",
       "3      19.14   142.67    932.8    312.30   6.27    22.47   2800.2   2906.7   \n",
       "4      19.17   142.23    948.9    317.10   6.80    22.13   2816.9   2934.8   \n",
       "..       ...      ...      ...       ...    ...      ...      ...      ...   \n",
       "207   112.50  2165.77  28787.3   9599.47   8.67    95.33  13441.0  14255.9   \n",
       "208   113.12  2213.97  29238.6   9777.03   8.27    96.70  13506.4  14317.4   \n",
       "209   113.60  2258.30  29611.6   9888.97   8.17    97.27  13548.5  14379.3   \n",
       "210   113.91  2326.47  30251.4  10029.87   8.03    97.39  13652.5  14441.9   \n",
       "211   114.18  2436.73  30938.8  10319.60   7.83    98.01  13665.4  14505.4   \n",
       "\n",
       "     Deflator      Curr  \n",
       "0      18.521    31.830  \n",
       "1      18.579    31.862  \n",
       "2      18.648    32.217  \n",
       "3      18.700    32.624  \n",
       "4      18.743    32.073  \n",
       "..        ...       ...  \n",
       "207   113.987  1055.496  \n",
       "208   114.599  1082.519  \n",
       "209   115.035  1104.500  \n",
       "210   115.810  1119.187  \n",
       "211   116.089  1147.623  \n",
       "\n",
       "[212 rows x 19 columns]"
      ]
     },
     "execution_count": 31,
     "metadata": {},
     "output_type": "execute_result"
    }
   ],
   "source": [
    "df = pd.read_excel(\"quarterly.xls\")\n",
    "df"
   ]
  },
  {
   "cell_type": "markdown",
   "id": "1af5affe",
   "metadata": {
    "id": "1af5affe"
   },
   "source": [
    "On vérifie qu'il n'y a pas de valeur manquante dans le jeu de données, en recherchant les \"NaN\", une fois le dataframe converti en \"float\". Cette approche permet de s'assurer qu'il n'y a pas de string vide par exemple."
   ]
  },
  {
   "cell_type": "code",
   "execution_count": 32,
   "id": "4597f33d",
   "metadata": {},
   "outputs": [
    {
     "data": {
      "text/html": [
       "<div>\n",
       "<style scoped>\n",
       "    .dataframe tbody tr th:only-of-type {\n",
       "        vertical-align: middle;\n",
       "    }\n",
       "\n",
       "    .dataframe tbody tr th {\n",
       "        vertical-align: top;\n",
       "    }\n",
       "\n",
       "    .dataframe thead th {\n",
       "        text-align: right;\n",
       "    }\n",
       "</style>\n",
       "<table border=\"1\" class=\"dataframe\">\n",
       "  <thead>\n",
       "    <tr style=\"text-align: right;\">\n",
       "      <th></th>\n",
       "      <th>DATE</th>\n",
       "      <th>FFR</th>\n",
       "      <th>Tbill</th>\n",
       "      <th>Tb1yr</th>\n",
       "      <th>r5</th>\n",
       "      <th>r10</th>\n",
       "      <th>PPINSA</th>\n",
       "      <th>Finished</th>\n",
       "      <th>CPI</th>\n",
       "      <th>CPICORE</th>\n",
       "      <th>M1NSA</th>\n",
       "      <th>M2SA</th>\n",
       "      <th>M2NSA</th>\n",
       "      <th>Unemp</th>\n",
       "      <th>IndProd</th>\n",
       "      <th>RGDP</th>\n",
       "      <th>Potent</th>\n",
       "      <th>Deflator</th>\n",
       "      <th>Curr</th>\n",
       "    </tr>\n",
       "  </thead>\n",
       "  <tbody>\n",
       "    <tr>\n",
       "      <th>0</th>\n",
       "      <td>1960.1</td>\n",
       "      <td>3.93</td>\n",
       "      <td>3.87</td>\n",
       "      <td>4.57</td>\n",
       "      <td>4.64</td>\n",
       "      <td>4.49</td>\n",
       "      <td>31.67</td>\n",
       "      <td>33.20</td>\n",
       "      <td>29.40</td>\n",
       "      <td>18.92</td>\n",
       "      <td>140.53</td>\n",
       "      <td>896.1</td>\n",
       "      <td>299.40</td>\n",
       "      <td>5.13</td>\n",
       "      <td>23.93</td>\n",
       "      <td>2845.3</td>\n",
       "      <td>2824.2</td>\n",
       "      <td>18.521</td>\n",
       "      <td>31.830</td>\n",
       "    </tr>\n",
       "    <tr>\n",
       "      <th>1</th>\n",
       "      <td>1960.2</td>\n",
       "      <td>3.70</td>\n",
       "      <td>2.99</td>\n",
       "      <td>3.87</td>\n",
       "      <td>4.30</td>\n",
       "      <td>4.26</td>\n",
       "      <td>31.73</td>\n",
       "      <td>33.40</td>\n",
       "      <td>29.57</td>\n",
       "      <td>19.00</td>\n",
       "      <td>138.40</td>\n",
       "      <td>903.3</td>\n",
       "      <td>300.03</td>\n",
       "      <td>5.23</td>\n",
       "      <td>23.41</td>\n",
       "      <td>2832.0</td>\n",
       "      <td>2851.2</td>\n",
       "      <td>18.579</td>\n",
       "      <td>31.862</td>\n",
       "    </tr>\n",
       "    <tr>\n",
       "      <th>2</th>\n",
       "      <td>1960.3</td>\n",
       "      <td>2.94</td>\n",
       "      <td>2.36</td>\n",
       "      <td>3.07</td>\n",
       "      <td>3.67</td>\n",
       "      <td>3.83</td>\n",
       "      <td>31.63</td>\n",
       "      <td>33.43</td>\n",
       "      <td>29.59</td>\n",
       "      <td>19.07</td>\n",
       "      <td>139.60</td>\n",
       "      <td>919.4</td>\n",
       "      <td>305.50</td>\n",
       "      <td>5.53</td>\n",
       "      <td>23.02</td>\n",
       "      <td>2836.6</td>\n",
       "      <td>2878.7</td>\n",
       "      <td>18.648</td>\n",
       "      <td>32.217</td>\n",
       "    </tr>\n",
       "    <tr>\n",
       "      <th>3</th>\n",
       "      <td>1960.4</td>\n",
       "      <td>2.30</td>\n",
       "      <td>2.31</td>\n",
       "      <td>2.99</td>\n",
       "      <td>3.75</td>\n",
       "      <td>3.89</td>\n",
       "      <td>31.70</td>\n",
       "      <td>33.67</td>\n",
       "      <td>29.78</td>\n",
       "      <td>19.14</td>\n",
       "      <td>142.67</td>\n",
       "      <td>932.8</td>\n",
       "      <td>312.30</td>\n",
       "      <td>6.27</td>\n",
       "      <td>22.47</td>\n",
       "      <td>2800.2</td>\n",
       "      <td>2906.7</td>\n",
       "      <td>18.700</td>\n",
       "      <td>32.624</td>\n",
       "    </tr>\n",
       "    <tr>\n",
       "      <th>4</th>\n",
       "      <td>1961.1</td>\n",
       "      <td>2.00</td>\n",
       "      <td>2.35</td>\n",
       "      <td>2.87</td>\n",
       "      <td>3.64</td>\n",
       "      <td>3.79</td>\n",
       "      <td>31.80</td>\n",
       "      <td>33.63</td>\n",
       "      <td>29.84</td>\n",
       "      <td>19.17</td>\n",
       "      <td>142.23</td>\n",
       "      <td>948.9</td>\n",
       "      <td>317.10</td>\n",
       "      <td>6.80</td>\n",
       "      <td>22.13</td>\n",
       "      <td>2816.9</td>\n",
       "      <td>2934.8</td>\n",
       "      <td>18.743</td>\n",
       "      <td>32.073</td>\n",
       "    </tr>\n",
       "  </tbody>\n",
       "</table>\n",
       "</div>"
      ],
      "text/plain": [
       "     DATE   FFR  Tbill  Tb1yr    r5   r10  PPINSA  Finished    CPI  CPICORE  \\\n",
       "0  1960.1  3.93   3.87   4.57  4.64  4.49   31.67     33.20  29.40    18.92   \n",
       "1  1960.2  3.70   2.99   3.87  4.30  4.26   31.73     33.40  29.57    19.00   \n",
       "2  1960.3  2.94   2.36   3.07  3.67  3.83   31.63     33.43  29.59    19.07   \n",
       "3  1960.4  2.30   2.31   2.99  3.75  3.89   31.70     33.67  29.78    19.14   \n",
       "4  1961.1  2.00   2.35   2.87  3.64  3.79   31.80     33.63  29.84    19.17   \n",
       "\n",
       "    M1NSA   M2SA   M2NSA  Unemp  IndProd    RGDP  Potent  Deflator    Curr  \n",
       "0  140.53  896.1  299.40   5.13    23.93  2845.3  2824.2    18.521  31.830  \n",
       "1  138.40  903.3  300.03   5.23    23.41  2832.0  2851.2    18.579  31.862  \n",
       "2  139.60  919.4  305.50   5.53    23.02  2836.6  2878.7    18.648  32.217  \n",
       "3  142.67  932.8  312.30   6.27    22.47  2800.2  2906.7    18.700  32.624  \n",
       "4  142.23  948.9  317.10   6.80    22.13  2816.9  2934.8    18.743  32.073  "
      ]
     },
     "execution_count": 32,
     "metadata": {},
     "output_type": "execute_result"
    }
   ],
   "source": [
    "# On modifie la date pour pouvoir convertir en float\n",
    "df.DATE = df.DATE.str.replace(\"Q\",\".\")\n",
    "df.head()"
   ]
  },
  {
   "cell_type": "code",
   "execution_count": 33,
   "id": "1119001e",
   "metadata": {},
   "outputs": [
    {
     "data": {
      "text/plain": [
       "DATE        0\n",
       "FFR         0\n",
       "Tbill       0\n",
       "Tb1yr       0\n",
       "r5          0\n",
       "r10         0\n",
       "PPINSA      0\n",
       "Finished    0\n",
       "CPI         0\n",
       "CPICORE     0\n",
       "M1NSA       0\n",
       "M2SA        0\n",
       "M2NSA       0\n",
       "Unemp       0\n",
       "IndProd     0\n",
       "RGDP        0\n",
       "Potent      0\n",
       "Deflator    0\n",
       "Curr        0\n",
       "dtype: int64"
      ]
     },
     "execution_count": 33,
     "metadata": {},
     "output_type": "execute_result"
    }
   ],
   "source": [
    "df.astype(float).isna().sum()"
   ]
  },
  {
   "cell_type": "markdown",
   "id": "77bce8dc",
   "metadata": {
    "id": "77bce8dc"
   },
   "source": [
    "Il n'y a donc pas de valeurs manquantes."
   ]
  },
  {
   "cell_type": "markdown",
   "id": "45bd14ba",
   "metadata": {
    "id": "45bd14ba"
   },
   "source": [
    "### Question 2 - Stationnariser la série de CPI en utilisant la méthode de régression qui inclut un terme de tendance dont la forme fonctionnelle est à choisir (linéaire, quadratique, log, exponentielle, …)"
   ]
  },
  {
   "cell_type": "markdown",
   "id": "4e45ab90",
   "metadata": {
    "id": "4e45ab90"
   },
   "source": [
    "On regarde l'allure générale de la série de CPI :"
   ]
  },
  {
   "cell_type": "code",
   "execution_count": 34,
   "id": "2783dd1a",
   "metadata": {
    "id": "2783dd1a",
    "outputId": "c62639cd-f518-47bc-a98f-4be0b94bf01a"
   },
   "outputs": [
    {
     "data": {
      "image/png": "[encoded data removed]",
      "text/plain": [
       "<Figure size 432x288 with 1 Axes>"
      ]
     },
     "metadata": {
      "needs_background": "light"
     },
     "output_type": "display_data"
    }
   ],
   "source": [
    "df.CPI.plot();"
   ]
  },
  {
   "cell_type": "markdown",
   "id": "6c237732",
   "metadata": {
    "id": "6c237732"
   },
   "source": [
    "On constate que la courbe a une dépendance dans le temps, qui semble linéaire au delà d'un certain indice de temps, ou éventuellement quadratique en tenant compte de la courbure pour les valeurs faibles, mais ça ne semble pas correspondre aux valeurs de temps plus élevées.\n",
    "\n",
    "On élimine d'emblée les régressions logarithmiques et exponentielles : on voit graphiquement qu'elles ne correspondraient pas à l'allure de notre série.\n",
    "\n",
    "On teste donc dans un premier temps les modélisations    \n",
    "$ CPI = cst + \\alpha t$   \n",
    "puis  \n",
    "$ CPI = cst + \\alpha_1 t + \\alpha_2 t²$    \n",
    "où $cst$ représente une constante, et les $\\alpha_i$ désignent des coefficients de régression à ajuster."
   ]
  },
  {
   "cell_type": "code",
   "execution_count": 35,
   "id": "943a679b",
   "metadata": {
    "id": "943a679b",
    "outputId": "90000fe5-08b4-4f53-9790-6575368c8692"
   },
   "outputs": [
    {
     "name": "stdout",
     "output_type": "stream",
     "text": [
      "Score : 0.9828376652371925\n"
     ]
    },
    {
     "data": {
      "image/png": "[encoded data removed]",
      "text/plain": [
       "<Figure size 432x288 with 1 Axes>"
      ]
     },
     "metadata": {
      "needs_background": "light"
     },
     "output_type": "display_data"
    }
   ],
   "source": [
    "# On calcule le terme de tendance par régression linéaire\n",
    "\n",
    "reg = LinearRegression().fit(np.array(df.index).reshape(-1, 1),df.CPI)\n",
    "α = reg.coef_\n",
    "cst = reg.intercept_\n",
    "\n",
    "print(\"Score :\",reg.score(np.array(df.index).reshape(-1, 1),df.CPI))\n",
    "plt.plot(df.index, df.CPI, label=\"CPI\")\n",
    "plt.plot(df.index, cst + α*df.index, label=\"Régression linéaire\")\n",
    "plt.legend()\n",
    "plt.xlabel(\"t\")\n",
    "plt.ylabel(\"CPI\");"
   ]
  },
  {
   "cell_type": "code",
   "execution_count": 36,
   "id": "bf582670",
   "metadata": {
    "id": "bf582670",
    "outputId": "e492f62e-0792-4b7e-a333-8dbc457bf391"
   },
   "outputs": [
    {
     "data": {
      "image/png": "[encoded data removed]",
      "text/plain": [
       "<Figure size 432x288 with 1 Axes>"
      ]
     },
     "metadata": {
      "needs_background": "light"
     },
     "output_type": "display_data"
    }
   ],
   "source": [
    "# Avec la méthode sm.OLS -> on obtient le même résultat\n",
    "\n",
    "df.reset_index(inplace=True)\n",
    "df.rename(columns={\"index\": \"t\"}, inplace=True)\n",
    "df[\"const\"]=1\n",
    "\n",
    "X = df[[\"const\", \"t\"]]\n",
    "y = df.CPI\n",
    "\n",
    "model = sm.OLS(y,X)\n",
    "results = model.fit()\n",
    "#print(results.summary())\n",
    "o1=results.resid\n",
    "plt.plot(o1)\n",
    "plt.title(\"résidus obtenus par régression linéaire\");"
   ]
  },
  {
   "cell_type": "code",
   "execution_count": 37,
   "id": "cec988f5",
   "metadata": {
    "id": "cec988f5",
    "outputId": "81a73940-0dad-468f-adac-520620e66e81"
   },
   "outputs": [
    {
     "name": "stdout",
     "output_type": "stream",
     "text": [
      "Score : 0.9904534599108377\n"
     ]
    },
    {
     "data": {
      "image/png": "[encoded data removed]",
      "text/plain": [
       "<Figure size 432x288 with 1 Axes>"
      ]
     },
     "metadata": {
      "needs_background": "light"
     },
     "output_type": "display_data"
    }
   ],
   "source": [
    "# On calcule le terme de tendance par régression quadratique en t\n",
    "\n",
    "x = np.concatenate((np.array(df.index).reshape(-1,1), np.array(df.index).reshape(-1,1)**2), 1)\n",
    "reg = LinearRegression().fit(x,df.CPI)\n",
    "α1, α2 = reg.coef_\n",
    "cst2 = reg.intercept_\n",
    "\n",
    "print(\"Score :\",reg.score(x,df.CPI))\n",
    "plt.plot(df.index, df.CPI, label=\"CPI\")\n",
    "plt.plot(df.index, cst2 + α1*df.index + α2*df.index**2, label=\"Regression sur t²\")\n",
    "plt.xlabel(\"t\")\n",
    "plt.ylabel(\"CPI\")\n",
    "plt.legend();"
   ]
  },
  {
   "cell_type": "code",
   "execution_count": 38,
   "id": "9c407cc8",
   "metadata": {
    "id": "9c407cc8",
    "outputId": "72be59a2-26c5-41a2-fd52-badb2697b314"
   },
   "outputs": [
    {
     "data": {
      "image/png": "[encoded data removed]",
      "text/plain": [
       "<Figure size 432x288 with 1 Axes>"
      ]
     },
     "metadata": {
      "needs_background": "light"
     },
     "output_type": "display_data"
    }
   ],
   "source": [
    "# On crée une variable CPI_stat1 \"stationnarisée\" \n",
    "# en retranchant cette tendance\n",
    "y1 = cst2 + α1*df.index + α2*df.index**2\n",
    "df[\"CPI_stat1\"] = df.CPI - y1\n",
    "\n",
    "plt.plot(df.index, df.CPI_stat1, label=\"CPI stationnarisée\")\n",
    "plt.xlabel(\"t\")\n",
    "plt.ylabel(\"CPI\")\n",
    "plt.legend()\n",
    "plt.title(\"résidus obtenus par régression quadratique\");"
   ]
  },
  {
   "cell_type": "markdown",
   "id": "38aba401",
   "metadata": {
    "id": "38aba401"
   },
   "source": [
    "La régression quadratique semble mieux correspondre à la tendance observée du point de vue du score de régression. \n",
    "\n",
    "A ce stade, on choisirait donc cette méthode pour stationnariser la série."
   ]
  },
  {
   "cell_type": "markdown",
   "id": "5b4bfd0b",
   "metadata": {
    "id": "5b4bfd0b"
   },
   "source": [
    "### Question 3 - Stationnariser la série de CPI en utilisant un moyenne mobile centrée 5x5."
   ]
  },
  {
   "cell_type": "markdown",
   "id": "2be6cc49",
   "metadata": {
    "id": "2be6cc49"
   },
   "source": [
    "On procède au calcul de la moyenne mobile 5x5. \n",
    "\n",
    "Il s'agit de faire la moyenne de toutes les valeurs obtenues en faisant une moyenne sur 5 indices de temps successifs, pris sur toutes les fenêtres possibles incluant le temps $t$.\n",
    "\n",
    "Ainsi, il s'agit de faire la moyenne des valeurs suivantes :\n",
    "* $\\frac{1}{5} * ( t_{t-4} + t_{t-3} + t_{t-2} + t_{t-1} + t_{t})$\n",
    "* $\\frac{1}{5} * ( t_{t-3} + t_{t-2} + t_{t-1} + t_{t} +  t_{t+1})$\n",
    "* $\\frac{1}{5} * ( t_{t-2} + t_{t-1} + t_{t} + t_{t+1} + t_{t+2})$\n",
    "* $\\frac{1}{5} * ( t_{t-1} + t_{t} + t_{t+1} + t_{t+2} + t_{t+3})$\n",
    "* $\\frac{1}{5} * ( t_{t} + t_{t+1} + t_{t+2} + t_{t+3} + t_{t+4})$\n",
    "\n",
    "C'est-à-dire \n",
    "$$  \\frac{1}{25} * [ (t_{t-4} + t_{t+4}) + 2* (t_{t-3}+t_{t+3})  + 3 * (t_{t-2} + t_{t+2}) + 4*(t_{t-1}+t_{t+1}) + 5*t_{t} ]\n",
    "$$\n",
    "\n",
    "En pratique, on calcule donc ces 5 moyennes, de centrage différent sur t, puis on les moyenne.\n",
    "\n",
    "Il faut noter que la série obtenue sera donc plus courte, puisqu'on perdra quatre éléments au début et à la fin."
   ]
  },
  {
   "cell_type": "code",
   "execution_count": 39,
   "id": "7f71e507",
   "metadata": {
    "id": "7f71e507"
   },
   "outputs": [],
   "source": [
    "# Calcul des 5 moyennes de centrages différents\n",
    "\n",
    "moy5_1 = df.CPI.rolling(5, center=True).mean().shift(2)\n",
    "moy5_2 = df.CPI.rolling(5, center=True).mean().shift(1)\n",
    "moy5_3 = df.CPI.rolling(5, center=True).mean()\n",
    "moy5_4 = df.CPI.rolling(5, center=True).mean().shift(-1)\n",
    "moy5_5 = df.CPI.rolling(5, center=True).mean().shift(-2)\n",
    "\n",
    "df3 = pd.concat([moy5_1, moy5_2, moy5_3, moy5_4, moy5_5], axis=1)\n",
    "\n",
    "moy_5x5 = df3.mean(axis=1, skipna=False)\n",
    "\n",
    "df[\"CPI_stat2\"] = df.CPI - moy_5x5"
   ]
  },
  {
   "cell_type": "markdown",
   "id": "0d4da905",
   "metadata": {
    "id": "0d4da905"
   },
   "source": [
    "Tracé de CPI et de la moyenne flottante :"
   ]
  },
  {
   "cell_type": "code",
   "execution_count": 40,
   "id": "f74c77b1",
   "metadata": {
    "id": "f74c77b1",
    "outputId": "1c237e5d-d7f5-494b-b683-786b150e1417"
   },
   "outputs": [
    {
     "data": {
      "image/png": "[encoded data removed]",
      "text/plain": [
       "<Figure size 432x288 with 1 Axes>"
      ]
     },
     "metadata": {
      "needs_background": "light"
     },
     "output_type": "display_data"
    }
   ],
   "source": [
    "moy_5x5.plot(xlabel=\"t\", label=\"CPI\", legend=True)\n",
    "df.CPI.plot(label=\"Moyenne mobile\", legend=True);"
   ]
  },
  {
   "cell_type": "code",
   "execution_count": 41,
   "id": "8ff33273",
   "metadata": {
    "id": "8ff33273",
    "outputId": "21d594c3-c61d-4491-fa97-84e86b91c196"
   },
   "outputs": [
    {
     "data": {
      "image/png": "[encoded data removed]",
      "text/plain": [
       "<Figure size 432x288 with 1 Axes>"
      ]
     },
     "metadata": {
      "needs_background": "light"
     },
     "output_type": "display_data"
    }
   ],
   "source": [
    "# Tracé du résidu (CPI - moyenne glissante)\n",
    "df[\"CPI_stat2\"].plot(title=\"CPI stationnarisé par soustraction de la moyenne mobile centrée 5x5\",\n",
    "                    xlabel=\"t\", ylabel=\"CPI stationnarisé\");"
   ]
  },
  {
   "cell_type": "markdown",
   "id": "ad2df5c2",
   "metadata": {
    "id": "ad2df5c2"
   },
   "source": [
    "**Commentaire :**  \n",
    "On observe que l'indice des prix à la consommation (PCI) suit un pic plus brutal que la tendance, légèrement lissé par la moyenne mobile, qui pourrait correspondre à la crise financière de 2008.\n",
    "\n",
    "La stationnarisation par la moyenne mobile fonctionne mieux que celle par régression, car l'espérance des résidus obtenus est localement plus proche de 0, tandis que dans le cas précédent, elle se moyennait à zéro mais s'éloignait toujours de l'horizontale."
   ]
  },
  {
   "cell_type": "markdown",
   "id": "8369c917",
   "metadata": {
    "id": "8369c917"
   },
   "source": [
    "### Question 4 - Calculer inf, le taux d’inflation à partir de la variable CPI. Faire un graphique dans le temps de inf. Commentez."
   ]
  },
  {
   "cell_type": "markdown",
   "id": "859dba20",
   "metadata": {
    "id": "859dba20"
   },
   "source": [
    "Le taux d'inflation correspond à :  \n",
    "\n",
    "$$ inf(t) = \\frac{CPI(t)-CPI(t-1)}{CPI(t-1)}*100 $$\n",
    "\n",
    "Dans notre cas, les valeurs sont données pour chaque trimestre. On calcule donc le taux d'inflation trimestriel, en comparant la valeur de CPI pour chaque trimestre à celle de la période immédiatement précédente.\n",
    "\n",
    "Pour calculer le taux d'inflation, nous utilisons les valeurs de CPI, c'est-à-dire la série d'origine, non stationnarisée."
   ]
  },
  {
   "cell_type": "code",
   "execution_count": 42,
   "id": "02cd08d2",
   "metadata": {
    "id": "02cd08d2"
   },
   "outputs": [],
   "source": [
    "# Calcul du taux d'inflation trimestriel\n",
    "df[\"inf\"] = 100 * df.CPI.diff() / df.CPI.shift()"
   ]
  },
  {
   "cell_type": "code",
   "execution_count": 43,
   "id": "aa4492e4",
   "metadata": {
    "id": "aa4492e4",
    "outputId": "bdf751b5-7579-4f0b-bb8d-a3d0a607ae41"
   },
   "outputs": [
    {
     "data": {
      "image/png": "[encoded data removed]",
      "text/plain": [
       "<Figure size 432x288 with 1 Axes>"
      ]
     },
     "metadata": {
      "needs_background": "light"
     },
     "output_type": "display_data"
    }
   ],
   "source": [
    "# Tracé\n",
    "df.inf.plot(xlabel=\"t\", ylabel=\"inflation\");"
   ]
  },
  {
   "cell_type": "markdown",
   "id": "fc96c5cd",
   "metadata": {
    "id": "fc96c5cd"
   },
   "source": [
    "**Commentaire :**  \n",
    "On constate que le taux d'inflation évolue par \"pics\". Ceux-ci correspondent aux crises financières des dernières décennies : crise de 1973 et 1979 (premier et second choc pétrolier, inflationnistes puisque pic dans les valeurs positives), et crise de 2008 (crise des subprimes, déflationniste, puisqu'on constate un pic descendant). \n",
    "\n",
    "\n",
    "En dehors de ces périodes de crise, il semblerait que l'inflation soit relativement stationnaire (pas de tendance à la hausse ou à la baisse particulière). "
   ]
  },
  {
   "cell_type": "markdown",
   "id": "3453f6cc",
   "metadata": {
    "id": "3453f6cc"
   },
   "source": [
    "### Question 5 - Interpréter l'autocorrélogramme et l'autocorrélogramme partiel de inf. Quelle est la différence entre ces deux graphiques ?"
   ]
  },
  {
   "cell_type": "markdown",
   "id": "c1ebf248",
   "metadata": {
    "id": "c1ebf248"
   },
   "source": [
    "On commence par calculer et tracer l'autocorrélogramme, en suivant la définition, c'est-à-dire à partir de l'autocovariance empirique pour un délai $h$ variant dans une fourchette arbitraire autour de $0$ (ici on teste pour $-10 \\le h \\le 10$)."
   ]
  },
  {
   "cell_type": "code",
   "execution_count": 44,
   "id": "b129b749",
   "metadata": {
    "id": "b129b749",
    "outputId": "25f65c25-c314-410a-c388-5c96d30c5d56"
   },
   "outputs": [
    {
     "data": {
      "image/png": "[encoded data removed]",
      "text/plain": [
       "<Figure size 432x288 with 1 Axes>"
      ]
     },
     "metadata": {
      "needs_background": "light"
     },
     "output_type": "display_data"
    }
   ],
   "source": [
    "# Autocovariance empirique γ(h)\n",
    "inf_moy = df.inf.mean()\n",
    "def γ(h):\n",
    "     return ((df.inf-inf_moy)*(df.inf.shift(h)-inf_moy)).sum()\n",
    "\n",
    "# Autocorrélogramme de inf\n",
    "γ0 = γ(0)\n",
    "ρ = [γ(h)/γ0 for h in range(-10,11)]\n",
    "\n",
    "plt.plot(range(-10,11), ρ, \"o\")\n",
    "plt.vlines(range(-10,11), 0, ρ)\n",
    "plt.xticks(range(-10,11,2));"
   ]
  },
  {
   "cell_type": "markdown",
   "id": "2732e3d5",
   "metadata": {
    "id": "2732e3d5"
   },
   "source": [
    "On vérifie que l'allure est la même en utilisant la fonction de statsmodels, qui au vu de la symétrie, ne trace que pour des valeurs positives de $h$ :"
   ]
  },
  {
   "cell_type": "code",
   "execution_count": 45,
   "id": "093c859a",
   "metadata": {
    "id": "093c859a",
    "outputId": "83c23d10-1725-49a7-b9d0-6dde14212f1f"
   },
   "outputs": [
    {
     "data": {
      "image/png": "[encoded data removed]",
      "text/plain": [
       "<Figure size 432x288 with 1 Axes>"
      ]
     },
     "metadata": {
      "needs_background": "light"
     },
     "output_type": "display_data"
    }
   ],
   "source": [
    "# Avec la fonction de statsmodels\n",
    "    # même allure\n",
    "plot_acf(df.inf.dropna())\n",
    "plt.show()"
   ]
  },
  {
   "cell_type": "markdown",
   "id": "c39c97f6",
   "metadata": {
    "id": "c39c97f6"
   },
   "source": [
    "On procède ensuite au calcul et au tracé de l'autocorrélogramme partiel, dans les mêmes conditions :"
   ]
  },
  {
   "cell_type": "code",
   "execution_count": 46,
   "id": "7f9c9c5b",
   "metadata": {
    "id": "7f9c9c5b",
    "outputId": "029f6c55-ef6d-4cc1-ad2c-10b8e0c1326f"
   },
   "outputs": [
    {
     "data": {
      "image/png": "[encoded data removed]",
      "text/plain": [
       "<Figure size 432x288 with 1 Axes>"
      ]
     },
     "metadata": {
      "needs_background": "light"
     },
     "output_type": "display_data"
    }
   ],
   "source": [
    "# Autocorrélogramme partiel de inf, pour 10 délais\n",
    "for h in range(1,11):\n",
    "    df[\"inf-\"+str(h)] = df.inf.shift(h)\n",
    "    \n",
    "idx = df[\"inf-10\"].dropna().index\n",
    "coeff = []\n",
    "\n",
    "for h in range(1,11):\n",
    "    col = [\"inf-\"+str(i) for i in range (1,h+1)]\n",
    "    X = df[col].iloc[idx]\n",
    "    reg = LinearRegression(fit_intercept=False).fit(X, df.inf.iloc[idx])\n",
    "    coeff.append(reg.coef_[-1])\n",
    "    \n",
    "plt.plot(range(1,11), coeff, \"o\")\n",
    "plt.vlines(range(1,11),0, coeff)\n",
    "plt.hlines(0,0,10, \"k\", linestyles=\"dotted\")\n",
    "plt.xticks(range(0,11))\n",
    "plt.xlim(0,10.5);"
   ]
  },
  {
   "cell_type": "code",
   "execution_count": 47,
   "id": "59fe60ce",
   "metadata": {
    "id": "59fe60ce",
    "outputId": "68d599a6-69ff-48db-968b-6ba60d4a9b0c"
   },
   "outputs": [
    {
     "data": {
      "image/png": "[encoded data removed]",
      "text/plain": [
       "<Figure size 432x288 with 1 Axes>"
      ]
     },
     "metadata": {
      "needs_background": "light"
     },
     "output_type": "display_data"
    }
   ],
   "source": [
    "# Avec la fonction de statsmodels\n",
    "    # On obtient le même résultat\n",
    "plot_pacf(df.inf.dropna())\n",
    "plt.show()"
   ]
  },
  {
   "cell_type": "markdown",
   "id": "4b946934",
   "metadata": {
    "id": "4b946934"
   },
   "source": [
    "**Commentaire :**  \n",
    "Le premier graphique, symétrique, montre la corrélation des données du temps $t$ avec les temps $t \\pm h$. La corrélation est alors toujours positive ou nulle, et se contente de montrer à quel point les variables sont corrélées.\n",
    "\n",
    "Dans notre cas, cela montre que l'inflation au temps $t$ est de moins en moins corrélée aux valeurs de l'inflation plus anciennes. Cela semble indiquer que l'inflation est un processus ergodique.\n",
    "\n",
    "\n",
    "Le second graphique quant à lui, est obtenu en faisant une régression linéaire de la valeur au temps $t$ sur les valeurs de $t-1$ à $t-h$, et montre donc l'impact partiel des valeurs précédentes dans ce modèle (en tenant compte, et en corrigeant, les dépendances intermédiaires). Les valeurs peuvent donc être négatives ou positives sans contrainte.\n",
    "\n",
    "\n",
    "On constate que dans les deux cas l'influence est toujours d'autant plus forte que la valeur est \"proche\" (la plus grande corrélation, partielle ou non, est atteinte pour $t-1$)."
   ]
  },
  {
   "cell_type": "markdown",
   "id": "0381ca91",
   "metadata": {
    "id": "0381ca91"
   },
   "source": [
    "### Question 6 - Quelle est la différence entre la stationnarité et l'ergodicité ? Pourquoi a-t-on besoin de ces deux conditions. Expliquez le terme \"spurious regression\".\n",
    "\n",
    "La stationnarité qualifie une série telle que la distribution jointe de $y_{t+1}$,  $y_{t+2}$, ...,  $y_{t+h}$ ne dépend pas de t. Par conséquent, l'espérance de $y_t$ est constante, et le comportement est similaire dans le passé ou dans l'avenir.\n",
    "\n",
    "\n",
    "L'ergodicité qualifie le fait que l'auto-corrélation d'ordre $k$ tende vers 0 quand $k \\rightarrow \\infty $. Cela peut s'interpréter comme une série qui ne dépend que du passé \"proche\". Contrairement au cas précédent, le comportement actuel n'a donc aucune garantie d'être similaire au comportement du passé.\n",
    "\n",
    "On a besoin de la première condition afin de pouvoir expliquer la variable d'intérêt en fonction des autres variables, sans avoir de dépendance au temps, et donc sans biaiser les résultats. \n",
    "\n",
    "La seconde condition, quant à elle, permet de généraliser les résultats obtenus à d'autres fenêtres temporelles, car elle assure l'indépendance à long terme des observations.\n",
    "\n",
    "\n",
    "Les *spurrious regressions* consistent à mettre en avant des corrélations sans causalité, c'est-à-dire d'expliquer une variable par une autre, de façon visuellement et mathématiquement convaincante, mais sans fondement \"réel\". C'est par exemple le cas quand l'évolution de deux variables est en réalité la cause d'une troisième variable \"cachée\", ou encore, dans les cas les plus absurdes, quand deux variables ont simplement la même allure, mais que cette corrélation est due au hasard.\n",
    "\n",
    "\n",
    "### Question 7 - Faire le test Augmented Dickey Fuller pour inf en utilisant utilisant le critère AIC pour déterminer le nombre de lags à inclure. Commenter."
   ]
  },
  {
   "cell_type": "code",
   "execution_count": 48,
   "id": "76d370c2",
   "metadata": {
    "id": "76d370c2",
    "outputId": "7f883bd3-92bc-4c93-d982-86e32784427a"
   },
   "outputs": [
    {
     "name": "stdout",
     "output_type": "stream",
     "text": [
      "(-2.919055814337223, 0.04317651687154817, 2, 208, {'1%': -3.4621857592784546, '5%': -2.875537986778846, '10%': -2.574231080806213}, 276.75830697408816)\n"
     ]
    }
   ],
   "source": [
    "# Test Augmented Dickey Fuller sur inf\n",
    "\n",
    "adf_inf_aic=adfuller(df.inf.dropna(), autolag='AIC')\n",
    "print(adf_inf_aic)"
   ]
  },
  {
   "cell_type": "markdown",
   "id": "351aefce",
   "metadata": {
    "id": "351aefce"
   },
   "source": [
    "**Commentaire :**  \n",
    "L'AIC détermine que le nombre de lags à inclure est de 2, et dans ces conditions, on obtient une p-valeur inférieure à 5%. On peut donc rejeter (à 95%) l'hyothèse nulle associée au test d'Augmented Dickey Fuller, c'est-à-dire l'hypothèse selon laquelle la série a été générée selon un processus avec racine unitaire et n'est pas stationnaire. \n",
    "\n",
    "On en déduit donc que la série relative au taux d'inflation est stationnaire."
   ]
  },
  {
   "cell_type": "markdown",
   "id": "b4645982",
   "metadata": {
    "id": "b4645982"
   },
   "source": [
    "### Exercice 8 - Proposer une modélisation AR(p) de inf, en utilisant tous les outils vus au cours."
   ]
  },
  {
   "cell_type": "markdown",
   "id": "9f7806e3",
   "metadata": {
    "id": "9f7806e3"
   },
   "source": [
    "On cherche la valeur de p telle que les autocorrélations partielles soient nulles ou significativement proches de $0$ pour $h>p$."
   ]
  },
  {
   "cell_type": "code",
   "execution_count": 49,
   "id": "b349d586",
   "metadata": {
    "id": "b349d586",
    "outputId": "a3f5775c-e905-4c2a-bd0f-2678b0c373a4",
    "scrolled": true
   },
   "outputs": [
    {
     "data": {
      "image/png": "[encoded data removed]",
      "text/plain": [
       "<Figure size 432x288 with 1 Axes>"
      ]
     },
     "metadata": {
      "needs_background": "light"
     },
     "output_type": "display_data"
    }
   ],
   "source": [
    "plot_pacf(df.inf.dropna(), lags=50)\n",
    "plt.show()"
   ]
  },
  {
   "cell_type": "markdown",
   "id": "58f6dc27",
   "metadata": {
    "id": "58f6dc27"
   },
   "source": [
    "D'après le tracé ci-dessus, en considérant qu'on ne garde que les premiers lags pour lesquels l'autocorrélation partielle est au dessus du seuil de significativité, on pourrait s'arrêter à $h = 3$. On utilise d'autres méthodes afin d'affiner ce choix, en calculant l'AIC et le BIC."
   ]
  },
  {
   "cell_type": "code",
   "execution_count": 50,
   "id": "7d3948bb",
   "metadata": {
    "id": "7d3948bb",
    "outputId": "de7146a8-9bd0-471a-cf67-b1d75376d883"
   },
   "outputs": [],
   "source": [
    "params = []\n",
    "aic = []\n",
    "bic = []\n",
    "for h in range(1,30):\n",
    "    mdl = AR(df.inf.dropna(), lags=[i for i in range(1,h+1)]).fit()\n",
    "    aic.append(mdl.aic)\n",
    "    bic.append(mdl.bic)"
   ]
  },
  {
   "cell_type": "code",
   "execution_count": 51,
   "id": "bcb34d21",
   "metadata": {
    "id": "bcb34d21",
    "outputId": "f221b6fb-eb39-48da-df7e-ebcd411ce4ae"
   },
   "outputs": [
    {
     "data": {
      "image/png": "[encoded data removed]",
      "text/plain": [
       "<Figure size 432x288 with 1 Axes>"
      ]
     },
     "metadata": {
      "needs_background": "light"
     },
     "output_type": "display_data"
    }
   ],
   "source": [
    "plt.plot(aic, \"r\", label=\"aic\")\n",
    "plt.plot(bic, \"b\", label=\"bic\")\n",
    "plt.legend();"
   ]
  },
  {
   "cell_type": "markdown",
   "id": "821021a3",
   "metadata": {
    "id": "821021a3"
   },
   "source": [
    "On cherche les valeurs de h pour lesquelles l'AIC et le BIC sont minimaux :\n"
   ]
  },
  {
   "cell_type": "code",
   "execution_count": 52,
   "id": "583d070e",
   "metadata": {
    "id": "583d070e",
    "outputId": "826815ae-66f1-4b28-bd2c-14734d54a187"
   },
   "outputs": [
    {
     "data": {
      "text/plain": [
       "5"
      ]
     },
     "execution_count": 52,
     "metadata": {},
     "output_type": "execute_result"
    }
   ],
   "source": [
    "np.argmin(aic)+1"
   ]
  },
  {
   "cell_type": "code",
   "execution_count": 53,
   "id": "622620ed",
   "metadata": {
    "id": "622620ed",
    "outputId": "acbe9502-fbca-4012-d94b-33aff5b5e55b"
   },
   "outputs": [
    {
     "data": {
      "text/plain": [
       "3"
      ]
     },
     "execution_count": 53,
     "metadata": {},
     "output_type": "execute_result"
    }
   ],
   "source": [
    "np.argmin(bic)+1"
   ]
  },
  {
   "cell_type": "markdown",
   "id": "395bad1c",
   "metadata": {
    "id": "395bad1c"
   },
   "source": [
    "**Commentaire :**  \n",
    "On en déduit que le taux d'inflation peut être modélisé par un processus Auto-Régressif d'ordre 3 (AR(3)), en faisant un consensus entre les valeurs d'AIC et de BIC. En effet, la première admet un minimum pour $h=5$, tandis que la seconde est minimisée pour $h=3$. On choisit donc, d'après les allures tracées ci-dessus, plutôt le délai $h=3$ car l'AIC varie peu entre 3 et 5 tandis que le BIC remonte plus fortement."
   ]
  },
  {
   "cell_type": "markdown",
   "id": "3300e154",
   "metadata": {
    "id": "3300e154"
   },
   "source": [
    "### Exercice 9 - Estimer le modèle de la courbe de Phillips qui explique le taux de chômage (Unemp) en fonction du taux d’inflation courant et une constante."
   ]
  },
  {
   "cell_type": "code",
   "execution_count": 54,
   "id": "a14fe0c7",
   "metadata": {
    "id": "a14fe0c7",
    "outputId": "e1b0f32c-42b1-436e-9144-465ea949fbee"
   },
   "outputs": [
    {
     "data": {
      "image/png": "[encoded data removed]",
      "text/plain": [
       "<Figure size 432x288 with 1 Axes>"
      ]
     },
     "metadata": {
      "needs_background": "light"
     },
     "output_type": "display_data"
    }
   ],
   "source": [
    "plt.plot(df.inf, df.Unemp, \"k.\")\n",
    "plt.xlabel(\"inflation\")\n",
    "plt.ylabel(\"Chômage\");"
   ]
  },
  {
   "cell_type": "code",
   "execution_count": 55,
   "id": "b989d25b",
   "metadata": {
    "id": "b989d25b",
    "outputId": "7476cb44-5947-44c8-fc74-15dd83966690"
   },
   "outputs": [
    {
     "data": {
      "text/html": [
       "<table class=\"simpletable\">\n",
       "<caption>OLS Regression Results</caption>\n",
       "<tr>\n",
       "  <th>Dep. Variable:</th>          <td>Unemp</td>      <th>  R-squared:         </th> <td>   0.000</td>\n",
       "</tr>\n",
       "<tr>\n",
       "  <th>Model:</th>                   <td>OLS</td>       <th>  Adj. R-squared:    </th> <td>  -0.005</td>\n",
       "</tr>\n",
       "<tr>\n",
       "  <th>Method:</th>             <td>Least Squares</td>  <th>  F-statistic:       </th> <td> 0.01214</td>\n",
       "</tr>\n",
       "<tr>\n",
       "  <th>Date:</th>             <td>Wed, 11 May 2022</td> <th>  Prob (F-statistic):</th>  <td> 0.912</td> \n",
       "</tr>\n",
       "<tr>\n",
       "  <th>Time:</th>                 <td>15:08:10</td>     <th>  Log-Likelihood:    </th> <td> -400.28</td>\n",
       "</tr>\n",
       "<tr>\n",
       "  <th>No. Observations:</th>      <td>   211</td>      <th>  AIC:               </th> <td>   804.6</td>\n",
       "</tr>\n",
       "<tr>\n",
       "  <th>Df Residuals:</th>          <td>   209</td>      <th>  BIC:               </th> <td>   811.3</td>\n",
       "</tr>\n",
       "<tr>\n",
       "  <th>Df Model:</th>              <td>     1</td>      <th>                     </th>     <td> </td>   \n",
       "</tr>\n",
       "<tr>\n",
       "  <th>Covariance Type:</th>      <td>nonrobust</td>    <th>                     </th>     <td> </td>   \n",
       "</tr>\n",
       "</table>\n",
       "<table class=\"simpletable\">\n",
       "<tr>\n",
       "    <td></td>       <th>coef</th>     <th>std err</th>      <th>t</th>      <th>P>|t|</th>  <th>[0.025</th>    <th>0.975]</th>  \n",
       "</tr>\n",
       "<tr>\n",
       "  <th>const</th> <td>    6.0708</td> <td>    0.181</td> <td>   33.576</td> <td> 0.000</td> <td>    5.714</td> <td>    6.427</td>\n",
       "</tr>\n",
       "<tr>\n",
       "  <th>inf</th>   <td>    0.0159</td> <td>    0.144</td> <td>    0.110</td> <td> 0.912</td> <td>   -0.269</td> <td>    0.301</td>\n",
       "</tr>\n",
       "</table>\n",
       "<table class=\"simpletable\">\n",
       "<tr>\n",
       "  <th>Omnibus:</th>       <td>13.872</td> <th>  Durbin-Watson:     </th> <td>   0.044</td>\n",
       "</tr>\n",
       "<tr>\n",
       "  <th>Prob(Omnibus):</th> <td> 0.001</td> <th>  Jarque-Bera (JB):  </th> <td>  15.356</td>\n",
       "</tr>\n",
       "<tr>\n",
       "  <th>Skew:</th>          <td> 0.660</td> <th>  Prob(JB):          </th> <td>0.000463</td>\n",
       "</tr>\n",
       "<tr>\n",
       "  <th>Kurtosis:</th>      <td> 2.937</td> <th>  Cond. No.          </th> <td>    2.99</td>\n",
       "</tr>\n",
       "</table><br/><br/>Notes:<br/>[1] Standard Errors assume that the covariance matrix of the errors is correctly specified."
      ],
      "text/plain": [
       "<class 'statsmodels.iolib.summary.Summary'>\n",
       "\"\"\"\n",
       "                            OLS Regression Results                            \n",
       "==============================================================================\n",
       "Dep. Variable:                  Unemp   R-squared:                       0.000\n",
       "Model:                            OLS   Adj. R-squared:                 -0.005\n",
       "Method:                 Least Squares   F-statistic:                   0.01214\n",
       "Date:                Wed, 11 May 2022   Prob (F-statistic):              0.912\n",
       "Time:                        15:08:10   Log-Likelihood:                -400.28\n",
       "No. Observations:                 211   AIC:                             804.6\n",
       "Df Residuals:                     209   BIC:                             811.3\n",
       "Df Model:                           1                                         \n",
       "Covariance Type:            nonrobust                                         \n",
       "==============================================================================\n",
       "                 coef    std err          t      P>|t|      [0.025      0.975]\n",
       "------------------------------------------------------------------------------\n",
       "const          6.0708      0.181     33.576      0.000       5.714       6.427\n",
       "inf            0.0159      0.144      0.110      0.912      -0.269       0.301\n",
       "==============================================================================\n",
       "Omnibus:                       13.872   Durbin-Watson:                   0.044\n",
       "Prob(Omnibus):                  0.001   Jarque-Bera (JB):               15.356\n",
       "Skew:                           0.660   Prob(JB):                     0.000463\n",
       "Kurtosis:                       2.937   Cond. No.                         2.99\n",
       "==============================================================================\n",
       "\n",
       "Notes:\n",
       "[1] Standard Errors assume that the covariance matrix of the errors is correctly specified.\n",
       "\"\"\""
      ]
     },
     "metadata": {},
     "output_type": "display_data"
    },
    {
     "data": {
      "image/png": "[encoded data removed]",
      "text/plain": [
       "<Figure size 432x288 with 1 Axes>"
      ]
     },
     "metadata": {
      "needs_background": "light"
     },
     "output_type": "display_data"
    }
   ],
   "source": [
    "# Régression linéaire de Unemp sur inf et une constante\n",
    "\n",
    "X = df[[\"const\", \"inf\"]].loc[df.inf.notna()]\n",
    "y = df.Unemp.loc[df.inf.notna()]\n",
    "\n",
    "model = sm.OLS(y,X)\n",
    "results = model.fit()\n",
    "display(results.summary())\n",
    "o1=results.resid\n",
    "plt.plot(o1);"
   ]
  },
  {
   "cell_type": "code",
   "execution_count": 56,
   "id": "7d51bcb9",
   "metadata": {
    "id": "7d51bcb9",
    "outputId": "aea3de7a-8ad3-4de5-dbb6-f12c6579d4b1"
   },
   "outputs": [
    {
     "data": {
      "image/png": "[encoded data removed]",
      "text/plain": [
       "<Figure size 432x288 with 1 Axes>"
      ]
     },
     "metadata": {
      "needs_background": "light"
     },
     "output_type": "display_data"
    }
   ],
   "source": [
    "plt.plot(df.inf, df.Unemp, \"k.\")\n",
    "x = np.linspace(min(df.inf.dropna()), max(df.inf.dropna()), 100)\n",
    "plt.plot(x, results.params[0] + results.params[1]*x, label=\"Régression linéaire\")\n",
    "plt.xlabel(\"inflation\")\n",
    "plt.ylabel(\"Chômage\");"
   ]
  },
  {
   "cell_type": "markdown",
   "id": "a76b20bc",
   "metadata": {
    "id": "a76b20bc"
   },
   "source": [
    "**Commentaire :**  \n",
    "Le modèle de Phillips ne s'applique pas de façon concluante sur nos données. En effet la p-valeur obtenue en faisant la régression linéaire du chômage sur l'inflation (avec intercept) est de 0.912, et on ne peut pas rejeter l'hypothèse que le coefficient pour l'inflation soit nul (cette hypothèse est même très loin d'être rejetée)."
   ]
  },
  {
   "cell_type": "markdown",
   "id": "912824d0",
   "metadata": {
    "id": "912824d0"
   },
   "source": [
    "### Question 10 - Tester l’autocorrélation des erreurs."
   ]
  },
  {
   "cell_type": "code",
   "execution_count": 57,
   "id": "b4eadea5",
   "metadata": {
    "id": "b4eadea5",
    "outputId": "f4fb8d41-05aa-4efe-8e07-2f88a1a8249b"
   },
   "outputs": [
    {
     "data": {
      "image/png": "[encoded data removed]",
      "text/plain": [
       "<Figure size 432x288 with 1 Axes>"
      ]
     },
     "metadata": {
      "needs_background": "light"
     },
     "output_type": "display_data"
    }
   ],
   "source": [
    "# Tracé de l'autocorrélation des résidus \n",
    "plot_acf(o1)\n",
    "plt.show()"
   ]
  },
  {
   "cell_type": "code",
   "execution_count": 58,
   "id": "933a8e93",
   "metadata": {
    "id": "933a8e93"
   },
   "outputs": [],
   "source": [
    "# On veut tester l'hypothèse H0 selon laquelle  \n",
    "#l'autocorrélation ρ est nulle\n",
    "DW = 0.044"
   ]
  },
  {
   "cell_type": "markdown",
   "id": "c8fa2861",
   "metadata": {
    "id": "c8fa2861"
   },
   "source": [
    "On récupère la statistique du test de Durbin-Watson dans le summary obtenu Question 9 : on obtient une valeur de DW = 0.475.\n",
    "\n",
    "D'après le cours, cette valeur doit être approximativement égale à $2(1-\\rho)$. On est bien plus proche de 0 que de 2, on en déduit qu'il y a une forte corrélation positive des résidus. \n",
    "\n",
    "Cela témoigne de l'existence potentielle d'une saisonnalité dans la variable à expliquer (en l'occurrence le chômage), qui n'a pas pu être captée par la régression linéiare faite ci-dessus, mais qui subsiste donc dans les résidus."
   ]
  },
  {
   "cell_type": "code",
   "execution_count": 59,
   "id": "837ee603",
   "metadata": {
    "id": "837ee603",
    "outputId": "31e6b518-5e3b-49d7-d938-9cab1d614e97"
   },
   "outputs": [
    {
     "data": {
      "image/png": "[encoded data removed]",
      "text/plain": [
       "<Figure size 432x288 with 1 Axes>"
      ]
     },
     "metadata": {
      "needs_background": "light"
     },
     "output_type": "display_data"
    }
   ],
   "source": [
    "df.inf.plot()\n",
    "df.Unemp.plot()\n",
    "plt.legend();"
   ]
  },
  {
   "cell_type": "markdown",
   "id": "8ffc45ce",
   "metadata": {
    "id": "8ffc45ce"
   },
   "source": [
    "### Question 11 - Corriger l’autocorrélation des erreurs par la méthode vue en cours."
   ]
  },
  {
   "cell_type": "code",
   "execution_count": 60,
   "id": "ac286ffb",
   "metadata": {
    "id": "ac286ffb",
    "outputId": "4e11b5aa-adc1-4bda-ef47-bbdd32ecf142"
   },
   "outputs": [
    {
     "data": {
      "text/plain": [
       "0.978"
      ]
     },
     "execution_count": 60,
     "metadata": {},
     "output_type": "execute_result"
    }
   ],
   "source": [
    "# on extrait ρ à partir de la valeur du dest de Durbin-Watson\n",
    "ρ = 1 - DW/2\n",
    "ρ"
   ]
  },
  {
   "cell_type": "code",
   "execution_count": 61,
   "id": "e1ae6762",
   "metadata": {
    "id": "e1ae6762",
    "outputId": "fde484e0-7d75-42d6-8a55-6c8f898ffe61"
   },
   "outputs": [
    {
     "data": {
      "text/html": [
       "<table class=\"simpletable\">\n",
       "<caption>OLS Regression Results</caption>\n",
       "<tr>\n",
       "  <th>Dep. Variable:</th>       <td>unemp_tilde</td>   <th>  R-squared:         </th> <td>   0.024</td>\n",
       "</tr>\n",
       "<tr>\n",
       "  <th>Model:</th>                   <td>OLS</td>       <th>  Adj. R-squared:    </th> <td>   0.020</td>\n",
       "</tr>\n",
       "<tr>\n",
       "  <th>Method:</th>             <td>Least Squares</td>  <th>  F-statistic:       </th> <td>   5.195</td>\n",
       "</tr>\n",
       "<tr>\n",
       "  <th>Date:</th>             <td>Wed, 11 May 2022</td> <th>  Prob (F-statistic):</th>  <td>0.0237</td> \n",
       "</tr>\n",
       "<tr>\n",
       "  <th>Time:</th>                 <td>15:08:11</td>     <th>  Log-Likelihood:    </th> <td> -66.812</td>\n",
       "</tr>\n",
       "<tr>\n",
       "  <th>No. Observations:</th>      <td>   210</td>      <th>  AIC:               </th> <td>   137.6</td>\n",
       "</tr>\n",
       "<tr>\n",
       "  <th>Df Residuals:</th>          <td>   208</td>      <th>  BIC:               </th> <td>   144.3</td>\n",
       "</tr>\n",
       "<tr>\n",
       "  <th>Df Model:</th>              <td>     1</td>      <th>                     </th>     <td> </td>   \n",
       "</tr>\n",
       "<tr>\n",
       "  <th>Covariance Type:</th>      <td>nonrobust</td>    <th>                     </th>     <td> </td>   \n",
       "</tr>\n",
       "</table>\n",
       "<table class=\"simpletable\">\n",
       "<tr>\n",
       "      <td></td>         <th>coef</th>     <th>std err</th>      <th>t</th>      <th>P>|t|</th>  <th>[0.025</th>    <th>0.975]</th>  \n",
       "</tr>\n",
       "<tr>\n",
       "  <th>const</th>     <td>    0.1482</td> <td>    0.023</td> <td>    6.423</td> <td> 0.000</td> <td>    0.103</td> <td>    0.194</td>\n",
       "</tr>\n",
       "<tr>\n",
       "  <th>inf_tilde</th> <td>   -0.0996</td> <td>    0.044</td> <td>   -2.279</td> <td> 0.024</td> <td>   -0.186</td> <td>   -0.013</td>\n",
       "</tr>\n",
       "</table>\n",
       "<table class=\"simpletable\">\n",
       "<tr>\n",
       "  <th>Omnibus:</th>       <td>82.629</td> <th>  Durbin-Watson:     </th> <td>   0.723</td>\n",
       "</tr>\n",
       "<tr>\n",
       "  <th>Prob(Omnibus):</th> <td> 0.000</td> <th>  Jarque-Bera (JB):  </th> <td> 286.245</td>\n",
       "</tr>\n",
       "<tr>\n",
       "  <th>Skew:</th>          <td> 1.612</td> <th>  Prob(JB):          </th> <td>6.96e-63</td>\n",
       "</tr>\n",
       "<tr>\n",
       "  <th>Kurtosis:</th>      <td> 7.724</td> <th>  Cond. No.          </th> <td>    1.90</td>\n",
       "</tr>\n",
       "</table><br/><br/>Notes:<br/>[1] Standard Errors assume that the covariance matrix of the errors is correctly specified."
      ],
      "text/plain": [
       "<class 'statsmodels.iolib.summary.Summary'>\n",
       "\"\"\"\n",
       "                            OLS Regression Results                            \n",
       "==============================================================================\n",
       "Dep. Variable:            unemp_tilde   R-squared:                       0.024\n",
       "Model:                            OLS   Adj. R-squared:                  0.020\n",
       "Method:                 Least Squares   F-statistic:                     5.195\n",
       "Date:                Wed, 11 May 2022   Prob (F-statistic):             0.0237\n",
       "Time:                        15:08:11   Log-Likelihood:                -66.812\n",
       "No. Observations:                 210   AIC:                             137.6\n",
       "Df Residuals:                     208   BIC:                             144.3\n",
       "Df Model:                           1                                         \n",
       "Covariance Type:            nonrobust                                         \n",
       "==============================================================================\n",
       "                 coef    std err          t      P>|t|      [0.025      0.975]\n",
       "------------------------------------------------------------------------------\n",
       "const          0.1482      0.023      6.423      0.000       0.103       0.194\n",
       "inf_tilde     -0.0996      0.044     -2.279      0.024      -0.186      -0.013\n",
       "==============================================================================\n",
       "Omnibus:                       82.629   Durbin-Watson:                   0.723\n",
       "Prob(Omnibus):                  0.000   Jarque-Bera (JB):              286.245\n",
       "Skew:                           1.612   Prob(JB):                     6.96e-63\n",
       "Kurtosis:                       7.724   Cond. No.                         1.90\n",
       "==============================================================================\n",
       "\n",
       "Notes:\n",
       "[1] Standard Errors assume that the covariance matrix of the errors is correctly specified.\n",
       "\"\"\""
      ]
     },
     "metadata": {},
     "output_type": "display_data"
    },
    {
     "data": {
      "image/png": "[encoded data removed]",
      "text/plain": [
       "<Figure size 432x288 with 1 Axes>"
      ]
     },
     "metadata": {
      "needs_background": "light"
     },
     "output_type": "display_data"
    }
   ],
   "source": [
    "#on définit y tilde et les variables explicatives x tilde :\n",
    "\n",
    "df[\"inf_tilde\"] = (df.inf - ρ * df.inf.shift())\n",
    "df[\"unemp_tilde\"] = (df.Unemp - ρ * df.Unemp.shift())\n",
    "\n",
    "# Régression linéaire de Unemp tilde sur inf tilde et une constante\n",
    "X = df[[\"const\", \"inf_tilde\"]].loc[df.inf_tilde.notna()]\n",
    "y = df.unemp_tilde.loc[df.inf_tilde.notna()]\n",
    "\n",
    "model = sm.OLS(y,X)\n",
    "results = model.fit()\n",
    "display(results.summary())\n",
    "o1=results.resid\n",
    "plt.plot(o1);"
   ]
  },
  {
   "cell_type": "code",
   "execution_count": 62,
   "id": "eda30eb1",
   "metadata": {
    "id": "eda30eb1",
    "outputId": "f0ba7df1-3125-48fc-8bae-3e0259253073"
   },
   "outputs": [
    {
     "data": {
      "image/png": "[encoded data removed]",
      "text/plain": [
       "<Figure size 432x288 with 1 Axes>"
      ]
     },
     "metadata": {
      "needs_background": "light"
     },
     "output_type": "display_data"
    }
   ],
   "source": [
    "# Tracé de l'autocorrélation des résidus \n",
    "plot_acf(o1)\n",
    "plt.show()"
   ]
  },
  {
   "cell_type": "markdown",
   "id": "0089d865",
   "metadata": {
    "id": "0089d865"
   },
   "source": [
    "**Commentaire :**  \n",
    "On obtient, après correction, une diminution de l'autocorrélation des résidus, comme en témoignent l'allure de l'autocorrélogramme ci-dessus, ainsi que la valeur de la statistique du test de Durbin-Watson, qui passe de 0.044 à 0.723."
   ]
  },
  {
   "cell_type": "markdown",
   "id": "a84b56b9",
   "metadata": {
    "id": "a84b56b9"
   },
   "source": [
    "### Question 12 - Tester la stabilité de la relation chômage-inflation sur deux sous-périodes de taille identique."
   ]
  },
  {
   "cell_type": "markdown",
   "id": "2a65df7a",
   "metadata": {
    "id": "2a65df7a"
   },
   "source": [
    "On découpe les données en deux jeux de taille identique, afin d'effectuer le test de Chow et d'évaluer s'il existe un point de rupture dans la structure des données."
   ]
  },
  {
   "cell_type": "code",
   "execution_count": 63,
   "id": "e7700336",
   "metadata": {
    "id": "e7700336"
   },
   "outputs": [],
   "source": [
    "def chow_test(idx_start, idx_break, idx_stop):\n",
    "    # Découpage du jeu de données\n",
    "    p1 = list(range(idx_start,idx_break))\n",
    "    p2 = list(range(idx_break,idx_stop))\n",
    "\n",
    "    # On vérifie que la taille est identique\n",
    "    if len(p1)==len(p2):\n",
    "        \n",
    "        X = df[[\"const\", \"inf\"]].loc[df.inf.notna()].loc[idx_start:idx_stop-1]\n",
    "        y = df.Unemp.loc[df.inf.notna()].loc[idx_start:idx_stop-1]\n",
    "        \n",
    "        # Sur l'ensemble des données\n",
    "        model = sm.OLS(y,X)\n",
    "        results = model.fit()\n",
    "        #print(results.summary())\n",
    "        u = results.resid\n",
    "        SSR = u.T@u\n",
    "        \n",
    "        # Sur la période 1\n",
    "        model = sm.OLS(y.loc[p1],X.loc[p1])\n",
    "        results = model.fit()\n",
    "        #print(results.summary())\n",
    "        u = results.resid\n",
    "        SSR1 = u.T@u\n",
    "\n",
    "        # Sur la période 2\n",
    "        model = sm.OLS(y.loc[p2],X.loc[p2])\n",
    "        results = model.fit()\n",
    "        #print(results.summary())\n",
    "        u = results.resid\n",
    "        SSR2 = u.T@u\n",
    "        \n",
    "        # Calcul de la statistique de test\n",
    "        k = 2 # Nb de variables explicatives\n",
    "        n = len(X)\n",
    "        F = ((SSR-(SSR1+SSR2))/(SSR1+SSR2))*(n-2*k)/k\n",
    "        print(\"F =\", F)\n",
    "        print(\"p-valeur :\", f.sf(F,k,n-k))"
   ]
  },
  {
   "cell_type": "code",
   "execution_count": 64,
   "id": "9c92f92b",
   "metadata": {
    "id": "9c92f92b",
    "outputId": "566bbb56-5926-4913-c6f7-1164f3cb7791"
   },
   "outputs": [
    {
     "name": "stdout",
     "output_type": "stream",
     "text": [
      "F = 1.9109836314220963\n",
      "p-valeur : 0.15052309216846294\n"
     ]
    }
   ],
   "source": [
    "# Coupure à la moitié\n",
    "chow_test(1, 106, 211)"
   ]
  },
  {
   "cell_type": "code",
   "execution_count": 65,
   "id": "46aa8c52",
   "metadata": {
    "id": "46aa8c52",
    "outputId": "2046d2e5-d477-4f7c-d4d9-9ec8b0b14998"
   },
   "outputs": [
    {
     "name": "stdout",
     "output_type": "stream",
     "text": [
      "F = 79.23341540632757\n",
      "p-valeur : 3.369369603162395e-21\n"
     ]
    }
   ],
   "source": [
    "# Coupure au 50ème indice de temps\n",
    "chow_test(1, 51, 101)"
   ]
  },
  {
   "cell_type": "code",
   "execution_count": 66,
   "id": "f554add1",
   "metadata": {
    "id": "f554add1",
    "outputId": "07f535cd-2500-4da0-b9ee-9009290f22c5"
   },
   "outputs": [
    {
     "name": "stdout",
     "output_type": "stream",
     "text": [
      "F = 6.46929049282479\n",
      "p-valeur : 0.0022963072097109604\n"
     ]
    }
   ],
   "source": [
    "# Coupure au 150ème indice de temps\n",
    "chow_test(101, 151, 201)"
   ]
  },
  {
   "cell_type": "markdown",
   "id": "7a4e3d80",
   "metadata": {
    "id": "7a4e3d80"
   },
   "source": [
    "**Commentaire :**  \n",
    "Le test indique le niveau de confiance quant à l'existence d'un point de rupture sur les périodes considérées.\n",
    "\n",
    "Nous testons différentes périodes :\n",
    "* En découpant la période en deux parts égales, on obtient une p-valeur de 0.15, qui ne permet pas de rejeter l'hypothèse de l'absence d'un changement de structure, et donc l'hypothèse de stabilité.\n",
    "* En découpant à d'autres endroits, sur des périodes plus petites pour permettre d'avoir des pétiodes de taille égale à gauche et à droite, on obtient cette fois-ci des p-valeurs très inférieures à 5%, qui permettent de rejeter l'hypothèse de stabilité de la série.\n",
    "\n",
    "On en déduit donc que la relation chômage - inflation n'est pas stable dans le temps, et qu'il existe au moins un point de rupture strcturel. "
   ]
  },
  {
   "cell_type": "markdown",
   "id": "358d4921",
   "metadata": {
    "id": "358d4921"
   },
   "source": [
    "### Question 13 - Estimer la courbe de Philips en supprimant l'inflation courante des variables explicatives mais en ajoutant les délais d’ordre 1, 2, 3 et 4 de l’inflation et du chômage. Faire le test de Granger de non causalité de l’inflation sur le chômage. Donnez la p-valeur."
   ]
  },
  {
   "cell_type": "code",
   "execution_count": 67,
   "id": "2603a352",
   "metadata": {
    "id": "2603a352"
   },
   "outputs": [],
   "source": [
    "for h in range(1,5):\n",
    "    df[\"Unemp-\"+str(h)] = df.Unemp.shift(h)"
   ]
  },
  {
   "cell_type": "code",
   "execution_count": 68,
   "id": "eff12069",
   "metadata": {
    "id": "eff12069"
   },
   "outputs": [],
   "source": [
    "X = df[['const','inf-1', 'inf-2', 'inf-3', 'inf-4',\n",
    "        'Unemp-1', 'Unemp-2','Unemp-3', 'Unemp-4']].dropna()\n",
    "y = df.Unemp.iloc[X.index]\n",
    "\n",
    "n,k = X.shape"
   ]
  },
  {
   "cell_type": "code",
   "execution_count": 69,
   "id": "05b86a4e",
   "metadata": {
    "id": "05b86a4e"
   },
   "outputs": [],
   "source": [
    "# Modèle non contraint\n",
    "model = sm.OLS(y,X)\n",
    "results = model.fit()\n",
    "u = results.resid\n",
    "SSR0 = u.T@u"
   ]
  },
  {
   "cell_type": "code",
   "execution_count": 70,
   "id": "2d788be0",
   "metadata": {
    "id": "2d788be0"
   },
   "outputs": [],
   "source": [
    "# Modèle contraint\n",
    "X = df[['const','Unemp-1', 'Unemp-2','Unemp-3', 'Unemp-4']].dropna()\n",
    "y = df.Unemp.iloc[X.index]\n",
    "\n",
    "model = sm.OLS(y,X)\n",
    "results = model.fit()\n",
    "u = results.resid\n",
    "SSR1 = u.T@u"
   ]
  },
  {
   "cell_type": "code",
   "execution_count": 71,
   "id": "90fd357d",
   "metadata": {
    "id": "90fd357d",
    "outputId": "12708ac9-27ec-40f1-f7b1-c4744967ea3a"
   },
   "outputs": [
    {
     "name": "stdout",
     "output_type": "stream",
     "text": [
      "SSR0 = 11.587384278415227\n",
      "SSR1 = 12.47748104192872\n",
      "F = 3.898413107128594\n",
      "p-val = 0.004503988457462041\n"
     ]
    }
   ],
   "source": [
    "n,k = np.shape(X)\n",
    "contr = 4 #nb de contraintes\n",
    "F = ((SSR1-SSR0)/contr)/(SSR0/(n-k))\n",
    "\n",
    "print(\"SSR0 =\", SSR0)\n",
    "print(\"SSR1 =\", SSR1)\n",
    "print(\"F =\", F)\n",
    "print(\"p-val =\", f.sf(F,contr,n-k))"
   ]
  },
  {
   "cell_type": "markdown",
   "id": "9fc2b660",
   "metadata": {
    "id": "9fc2b660"
   },
   "source": [
    "On obtient une p-valeur inférieure à 5e-3, on en déduit donc qu'on peut rejeter à 5% l'hypothèse de non causalité de l'inflation sur le chômage."
   ]
  },
  {
   "cell_type": "markdown",
   "id": "ef4d967d",
   "metadata": {
    "id": "ef4d967d"
   },
   "source": [
    "### Question 14. Représentez graphiquement les délais distribués et commentez. Calculer l’impact à long de terme de l’inflation sur le chômage."
   ]
  },
  {
   "cell_type": "code",
   "execution_count": 72,
   "id": "26d436c1",
   "metadata": {
    "id": "26d436c1",
    "outputId": "a2c6d630-ab98-43c4-fefa-a3446cb9b3a9"
   },
   "outputs": [
    {
     "data": {
      "image/png": "[encoded data removed]",
      "text/plain": [
       "<Figure size 432x288 with 1 Axes>"
      ]
     },
     "metadata": {
      "needs_background": "light"
     },
     "output_type": "display_data"
    }
   ],
   "source": [
    "X = df[['const','inf-1', 'inf-2', 'inf-3', 'inf-4',\n",
    "        'Unemp-1', 'Unemp-2','Unemp-3', 'Unemp-4']].dropna()\n",
    "y = df.Unemp.iloc[X.index]\n",
    "\n",
    "# Modèle non contraint\n",
    "model = sm.OLS(y,X)\n",
    "results = model.fit()\n",
    "u = results.resid\n",
    "plt.stem(range(1,5), results.params[1:5])\n",
    "plt.xticks(range(1,5));"
   ]
  },
  {
   "cell_type": "code",
   "execution_count": 73,
   "id": "05276a47",
   "metadata": {
    "id": "be76872d",
    "outputId": "acd6c081-36e7-4187-aefa-a21acf52c22d"
   },
   "outputs": [
    {
     "data": {
      "image/png": "[encoded data removed]",
      "text/plain": [
       "<Figure size 432x288 with 1 Axes>"
      ]
     },
     "metadata": {
      "needs_background": "light"
     },
     "output_type": "display_data"
    }
   ],
   "source": [
    "# Comparaison des valeurs des coefficients des délais distribués pour Unemp et inf\n",
    "plt.bar(np.arange(.9,4.9,1), results.params[1:5], width=.2, label=\"inf\")\n",
    "plt.bar(np.arange(1.1,5.1,1), results.params[5:], width=.2, label='Unemp')\n",
    "plt.legend();"
   ]
  },
  {
   "cell_type": "markdown",
   "id": "c7a80ab9",
   "metadata": {
    "id": "c7a80ab9"
   },
   "source": [
    "On constate que l'effet des délais distribués de la variable Unemp est nettement plus fort que celui de inf. \n",
    "\n",
    "NB : C'est également vrai quand on normalise les données (voir cellules ci-dessous). On en déduit que c'est bien l'effet des délais distribués de Unemp qui est plus fort que celui de inf, et que ce n'est pas juste une conséquence des différences d'échelle entre les valeurs de inf et Unemp (un à deux ordres de grandeur d'écart en général, avec une inflation qui varie entre -1 et 1 la plupart du temps, et un taux de chômage plutôt de l'ordre de 10 car il est indiqué en pourcentage)."
   ]
  },
  {
   "cell_type": "code",
   "execution_count": 74,
   "id": "a77b8f54",
   "metadata": {},
   "outputs": [
    {
     "data": {
      "image/png": "[encoded data removed]",
      "text/plain": [
       "<Figure size 432x288 with 1 Axes>"
      ]
     },
     "metadata": {
      "needs_background": "light"
     },
     "output_type": "display_data"
    }
   ],
   "source": [
    "from sklearn.preprocessing import StandardScaler\n",
    "scaler = StandardScaler()\n",
    "\n",
    "# On normalise toutes les colonnes\n",
    "X2 = pd.DataFrame(scaler.fit_transform(X)) \n",
    "# On remet la constante à 1 (car une fois normalisée elle vaut 0)\n",
    "X2[0] = 1 \n",
    "\n",
    "y2 = pd.DataFrame(scaler.fit_transform(df.Unemp.values.reshape(-1,1))).iloc[X2.index]\n",
    "\n",
    "# Modèle non contraint\n",
    "model = sm.OLS(y2,X2)\n",
    "results2 = model.fit()\n",
    "u = results2.resid\n",
    "plt.stem(range(1,5), results2.params[1:5])\n",
    "plt.xticks(range(1,5));"
   ]
  },
  {
   "cell_type": "code",
   "execution_count": 75,
   "id": "17b21e60",
   "metadata": {},
   "outputs": [
    {
     "data": {
      "image/png": "[encoded data removed]",
      "text/plain": [
       "<Figure size 432x288 with 1 Axes>"
      ]
     },
     "metadata": {
      "needs_background": "light"
     },
     "output_type": "display_data"
    }
   ],
   "source": [
    "# Comparaison des valeurs des coefficients des délais distribués pour Unemp et inf\n",
    "plt.bar(np.arange(.9,4.9,1), results2.params[1:5], width=.2, label=\"inf\")\n",
    "plt.bar(np.arange(1.1,5.1,1), results2.params[5:], width=.2, label='Unemp')\n",
    "plt.legend();"
   ]
  },
  {
   "cell_type": "markdown",
   "id": "71584a63",
   "metadata": {},
   "source": [
    "On calcule l'impact à long terme de l'inflation, en sommant les coefficients obtenus précédemment (sans normalisation)."
   ]
  },
  {
   "cell_type": "code",
   "execution_count": 76,
   "id": "c2e2a0ba",
   "metadata": {
    "id": "c2e2a0ba",
    "outputId": "84a408a6-039b-4113-b73e-8af00e5af731"
   },
   "outputs": [
    {
     "name": "stdout",
     "output_type": "stream",
     "text": [
      "Impact à long terme de l'inflation : 0.093\n"
     ]
    }
   ],
   "source": [
    "# Somme des coefficients des délais distribus pour inf sur ce modèle\n",
    "print(f\"Impact à long terme de l'inflation : {results.params[1:5].sum():.3f}\")"
   ]
  }
 ],
 "metadata": {
  "colab": {
   "name": "econometrie_reg.ipynb",
   "provenance": []
  },
  "interpreter": {
   "hash": "d6b1dc52de474ed9407c5637da8eff2160d69f380cceccb94e4d3d90e466dd58"
  },
  "kernelspec": {
   "display_name": "Python 3 (ipykernel)",
   "language": "python",
   "name": "python3"
  },
  "language_info": {
   "codemirror_mode": {
    "name": "ipython",
    "version": 3
   },
   "file_extension": ".py",
   "mimetype": "text/x-python",
   "name": "python",
   "nbconvert_exporter": "python",
   "pygments_lexer": "ipython3",
   "version": "3.9.7"
  }
 },
 "nbformat": 4,
 "nbformat_minor": 5
}
